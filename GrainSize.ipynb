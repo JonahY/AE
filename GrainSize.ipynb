{
 "cells": [
  {
   "cell_type": "code",
   "execution_count": 32,
   "metadata": {
    "ExecuteTime": {
     "end_time": "2021-01-18T08:53:33.524626Z",
     "start_time": "2021-01-18T08:53:33.486661Z"
    }
   },
   "outputs": [],
   "source": [
    "import os\n",
    "import pandas as pd\n",
    "import matplotlib.pyplot as plt\n",
    "from matplotlib.pylab import mpl\n",
    "from matplotlib import ticker, cm\n",
    "import warnings\n",
    "\n",
    "%matplotlib qt\n",
    "warnings.filterwarnings(\"ignore\")\n",
    "plt.rcParams['xtick.direction'] = 'in'\n",
    "plt.rcParams['ytick.direction'] = 'in'\n",
    "mpl.rcParams['axes.unicode_minus'] = False  #显示负号"
   ]
  },
  {
   "cell_type": "code",
   "execution_count": 30,
   "metadata": {
    "ExecuteTime": {
     "end_time": "2021-01-18T08:53:14.134552Z",
     "start_time": "2021-01-18T08:53:14.109550Z"
    },
    "code_folding": [
     0
    ]
   },
   "outputs": [],
   "source": [
    "def plot_norm(ax, xlabel=None, ylabel=None, zlabel=None, title=None, x_lim=[], y_lim=[], z_lim=[], legend=True, grid=False, \n",
    "              legend_loc='upper left', font_color='black', legendsize=11, labelsize=14, titlesize=15, ticksize=13, linewidth=2):\n",
    "    ax.spines['bottom'].set_linewidth(linewidth)\n",
    "    ax.spines['left'].set_linewidth(linewidth)\n",
    "    ax.spines['right'].set_linewidth(linewidth)\n",
    "    ax.spines['top'].set_linewidth(linewidth)\n",
    "\n",
    "    # 设置坐标刻度值的大小以及刻度值的字体 Arial\n",
    "    ax.tick_params(which='both', width=linewidth, labelsize=ticksize, colors=font_color)\n",
    "    labels = ax.get_xticklabels() + ax.get_yticklabels()\n",
    "    [label.set_fontname('Arial') for label in labels]\n",
    "\n",
    "    font_legend = {'family': 'Arial', 'weight': 'normal', 'size': legendsize}\n",
    "    font_label = {'family': 'Arial', 'weight': 'bold', 'size': labelsize, 'color':font_color}\n",
    "    font_title = {'family': 'Arial', 'weight': 'bold', 'size': titlesize, 'color':font_color}\n",
    "\n",
    "    if x_lim:\n",
    "        ax.set_xlim(x_lim[0], x_lim[1])\n",
    "    if y_lim:\n",
    "        ax.set_ylim(y_lim[0], y_lim[1])\n",
    "    if z_lim:\n",
    "        ax.set_zlim(z_lim[0], z_lim[1])\n",
    "    if legend:\n",
    "        plt.legend(loc=legend_loc, prop=font_legend)\n",
    "    if grid:\n",
    "        ax.grid(ls='-.')\n",
    "    if xlabel:\n",
    "        ax.set_xlabel(xlabel, font_label)\n",
    "    if ylabel:\n",
    "        ax.set_ylabel(ylabel, font_label)\n",
    "    if zlabel:\n",
    "        ax.set_zlabel(zlabel, font_label)\n",
    "    if title:\n",
    "        ax.set_title(title, font_title)\n",
    "    plt.tight_layout()"
   ]
  },
  {
   "cell_type": "code",
   "execution_count": 86,
   "metadata": {
    "ExecuteTime": {
     "end_time": "2021-01-22T08:41:05.972275Z",
     "start_time": "2021-01-22T08:41:05.962277Z"
    }
   },
   "outputs": [],
   "source": [
    "path = r'C:\\Users\\Yuan\\Desktop\\期末汇报'\n",
    "file = 'Ni-electrolysis.txt'\n",
    "status = 'Ni electrolysis'\n",
    "os.chdir(path)\n",
    "with open(file, 'r') as f:\n",
    "    data = f.readlines()\n",
    "data = data[np.where(np.array(data) == 'Distr./um\\tMean/um\\tAmount\\tFreq.\\n')[0][0]:-2]\n",
    "Distr = [i.split()[0] for i in data[1:]]\n",
    "Mean = [float(i.split()[1]) for i in data[1:]]\n",
    "Amount = [int(i.split()[2]) for i in data[1:]]\n",
    "Freq = [i/sum(Amount) * 100 for i in Amount]\n",
    "distr = []\n",
    "for i in Distr:\n",
    "    distr.append(float(i.split('-')[0]))\n",
    "    distr.append(float(i.split('-')[1]))\n",
    "distr = sorted(list(set(distr)))\n",
    "width = distr[1] - distr[0]"
   ]
  },
  {
   "cell_type": "code",
   "execution_count": 77,
   "metadata": {
    "ExecuteTime": {
     "end_time": "2021-01-18T09:12:12.712111Z",
     "start_time": "2021-01-18T09:12:12.703118Z"
    }
   },
   "outputs": [
    {
     "data": {
      "text/plain": [
       "([7.0, 28.1, 49.2, 70.3, 91.4, 112.5, 133.6, 154.7, 175.8, 196.9, 218.0],\n",
       " [17.55,\n",
       "  38.65,\n",
       "  59.75,\n",
       "  80.85001,\n",
       "  101.95,\n",
       "  123.05,\n",
       "  144.15,\n",
       "  165.25,\n",
       "  186.35,\n",
       "  207.45],\n",
       " [2, 20, 31, 18, 11, 8, 5, 1, 0, 3],\n",
       " [2.0202020202020203,\n",
       "  20.2020202020202,\n",
       "  31.313131313131315,\n",
       "  18.181818181818183,\n",
       "  11.11111111111111,\n",
       "  8.080808080808081,\n",
       "  5.05050505050505,\n",
       "  1.0101010101010102,\n",
       "  0.0,\n",
       "  3.0303030303030303])"
      ]
     },
     "execution_count": 77,
     "metadata": {},
     "output_type": "execute_result"
    }
   ],
   "source": [
    "distr, Mean, Amount, Freq"
   ]
  },
  {
   "cell_type": "code",
   "execution_count": 87,
   "metadata": {
    "ExecuteTime": {
     "end_time": "2021-01-22T08:41:07.342276Z",
     "start_time": "2021-01-22T08:41:07.207300Z"
    }
   },
   "outputs": [],
   "source": [
    "fig = plt.figure(figsize=[6, 2.5])\n",
    "ax = plt.subplot()\n",
    "ax.bar(Mean, Freq, width=width, label=status, color=\"red\", edgecolor='b')\n",
    "ax.set_xticks(list(set(distr)))\n",
    "plot_norm(ax, 'Grain size (μm)', 'Frequency (%)', legend_loc='upper right')"
   ]
  }
 ],
 "metadata": {
  "kernelspec": {
   "display_name": "Python 3",
   "language": "python",
   "name": "python3"
  },
  "language_info": {
   "codemirror_mode": {
    "name": "ipython",
    "version": 3
   },
   "file_extension": ".py",
   "mimetype": "text/x-python",
   "name": "python",
   "nbconvert_exporter": "python",
   "pygments_lexer": "ipython3",
   "version": "3.8.5"
  },
  "toc": {
   "base_numbering": 1,
   "nav_menu": {},
   "number_sections": true,
   "sideBar": true,
   "skip_h1_title": false,
   "title_cell": "Table of Contents",
   "title_sidebar": "Contents",
   "toc_cell": false,
   "toc_position": {},
   "toc_section_display": true,
   "toc_window_display": false
  },
  "varInspector": {
   "cols": {
    "lenName": 16,
    "lenType": 16,
    "lenVar": 40
   },
   "kernels_config": {
    "python": {
     "delete_cmd_postfix": "",
     "delete_cmd_prefix": "del ",
     "library": "var_list.py",
     "varRefreshCmd": "print(var_dic_list())"
    },
    "r": {
     "delete_cmd_postfix": ") ",
     "delete_cmd_prefix": "rm(",
     "library": "var_list.r",
     "varRefreshCmd": "cat(var_dic_list()) "
    }
   },
   "types_to_exclude": [
    "module",
    "function",
    "builtin_function_or_method",
    "instance",
    "_Feature"
   ],
   "window_display": false
  }
 },
 "nbformat": 4,
 "nbformat_minor": 4
}
