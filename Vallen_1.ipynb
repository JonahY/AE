{
 "cells": [
  {
   "cell_type": "code",
   "execution_count": 1,
   "metadata": {
    "ExecuteTime": {
     "end_time": "2020-11-30T03:22:23.574198Z",
     "start_time": "2020-11-30T03:22:17.342141Z"
    }
   },
   "outputs": [],
   "source": [
    "# -*- coding: UTF-8 -*-\n",
    "import os\n",
    "import pandas as pd\n",
    "import numpy as np\n",
    "import matplotlib.pyplot as plt\n",
    "import math\n",
    "import time\n",
    "from tqdm import tqdm\n",
    "from scipy.fftpack import fft\n",
    "from matplotlib.pylab import mpl\n",
    "import csv\n",
    "import array\n",
    "import sqlite3\n",
    "import pprint\n",
    "from matplotlib.ticker import FuncFormatter\n",
    "from matplotlib import ticker, cm\n",
    "from collections import Counter\n",
    "from mpl_toolkits.mplot3d import Axes3D\n",
    "\n",
    "\n",
    "%matplotlib qt\n",
    "plt.rcParams['xtick.direction'] = 'in'\n",
    "plt.rcParams['ytick.direction'] = 'in'\n",
    "mpl.rcParams['axes.unicode_minus'] = False  #显示负号"
   ]
  },
  {
   "cell_type": "code",
   "execution_count": 28,
   "metadata": {
    "ExecuteTime": {
     "end_time": "2020-12-01T02:35:57.504867Z",
     "start_time": "2020-12-01T02:35:57.480864Z"
    }
   },
   "outputs": [],
   "source": [
    "os.chdir(r'E:\\data\\vallen\\Ni-tension test-electrolysis-1-0.01-AE-20201031')\n",
    "path_pri = r'Ni-tension test-electrolysis-1-0.01-AE-20201031.pridb'\n",
    "path_tra = r'Ni-tension test-electrolysis-1-0.01-AE-20201031.tradb'\n",
    "# 6016_CR_1\n",
    "# 316L-1.5-z3-AE-3 sensor-20200530\n",
    "# Ni-tension test-electrolysis-1-0.01-AE-20201031\n",
    "# Ni-tension test-pure-1-0.01-AE-20201030\n",
    "# 2020.11.10-PM-self"
   ]
  },
  {
   "cell_type": "markdown",
   "metadata": {},
   "source": [
    "### Convert"
   ]
  },
  {
   "cell_type": "code",
   "execution_count": 29,
   "metadata": {
    "ExecuteTime": {
     "end_time": "2020-12-01T02:36:00.135705Z",
     "start_time": "2020-12-01T02:36:00.119709Z"
    },
    "code_folding": [
     0,
     21
    ]
   },
   "outputs": [],
   "source": [
    "def sqlite_read(path):\n",
    "    \"\"\"\n",
    "    python读取sqlite数据库文件\n",
    "    \"\"\"\n",
    "    mydb = sqlite3.connect(path)  # 链接数据库\n",
    "    mydb.text_factory = lambda x: str(x, 'gbk', 'ignore')\n",
    "    cur = mydb.cursor()  # 创建游标cur来执行SQL语句\n",
    "\n",
    "    # 获取表名\n",
    "    cur.execute(\"SELECT name FROM sqlite_master WHERE type='table'\")\n",
    "    Tables = cur.fetchall()  # Tables 为元组列表\n",
    "\n",
    "    # 获取表结构的所有信息\n",
    "    if path[-5:] == 'pridb':\n",
    "        cur.execute(\"SELECT * FROM {}\".format(Tables[3][0]))\n",
    "        res = cur.fetchall()[-2][1]\n",
    "    elif path[-5:] == 'tradb':\n",
    "        cur.execute(\"SELECT * FROM {}\".format(Tables[1][0]))\n",
    "        res = cur.fetchall()[-3][1]\n",
    "    return int(res)\n",
    "\n",
    "def read_data(path_pri, path_tra, lower=2):\n",
    "    conn_tra = sqlite3.connect(path_tra)\n",
    "    conn_pri = sqlite3.connect(path_pri)\n",
    "    result_tra = conn_tra.execute(\"Select Time, Chan, Thr, SampleRate, Samples, TR_mV, Data, TRAI FROM view_tr_data\")\n",
    "    result_pri = conn_pri.execute(\"Select SetID, Time, Chan, Thr, Amp, RiseT, Dur, Eny, RMS, Counts, TRAI FROM view_ae_data\")\n",
    "    data_tra, data_pri, chan_1, chan_2, chan_3, chan_4 = [], [], [], [], [], []\n",
    "    N_pri = sqlite_read(path_pri)\n",
    "    N_tra = sqlite_read(path_tra)\n",
    "    for _ in tqdm(range(N_tra), ncols=80):\n",
    "        i = result_tra.fetchone()\n",
    "        data_tra.append(i)\n",
    "    for _ in tqdm(range(N_pri), ncols=80):\n",
    "        i = result_pri.fetchone()\n",
    "        if i[-2] is not None and i[-2] > lower and i[-1] > 0:\n",
    "            data_pri.append(i)\n",
    "            if i[2] == 1:\n",
    "                chan_1.append(i)\n",
    "            if i[2] == 2:\n",
    "                chan_2.append(i)\n",
    "            elif i[2] == 3:\n",
    "                chan_3.append(i)\n",
    "            elif i[2] == 4:\n",
    "                chan_4.append(i)\n",
    "    data_tra = sorted(data_tra, key=lambda x: x[-1])\n",
    "    data_pri = np.array(data_pri)\n",
    "    chan_1 = np.array(chan_1)\n",
    "    chan_2 = np.array(chan_2)\n",
    "    chan_3 = np.array(chan_3)\n",
    "    chan_4 = np.array(chan_4)\n",
    "    return data_tra, data_pri, chan_1, chan_2, chan_3, chan_4"
   ]
  },
  {
   "cell_type": "code",
   "execution_count": 30,
   "metadata": {
    "ExecuteTime": {
     "end_time": "2020-12-01T02:36:02.728182Z",
     "start_time": "2020-12-01T02:36:00.805348Z"
    }
   },
   "outputs": [
    {
     "name": "stderr",
     "output_type": "stream",
     "text": [
      "100%|██████████████████████████████████| 64482/64482 [00:00<00:00, 85976.08it/s]\n",
      "100%|███████████████████████████████| 180639/180639 [00:00<00:00, 197191.91it/s]\n"
     ]
    }
   ],
   "source": [
    "data_tra, data_pri, chan_1, chan_2, chan_3, chan_4 = read_data(path_pri, path_tra)"
   ]
  },
  {
   "cell_type": "markdown",
   "metadata": {},
   "source": [
    "### Plot format"
   ]
  },
  {
   "cell_type": "code",
   "execution_count": 31,
   "metadata": {
    "ExecuteTime": {
     "end_time": "2020-12-01T02:36:06.793580Z",
     "start_time": "2020-12-01T02:36:06.774582Z"
    },
    "code_folding": [
     3,
     6
    ]
   },
   "outputs": [],
   "source": [
    "color_1 = [255/255, 0/255, 102/255] # red\n",
    "color_2 = [0/255, 136/255, 204/255] # blue\n",
    "\n",
    "def formatnum(x, pos):\n",
    "    return '$10^{}$'.format(int(x))\n",
    "\n",
    "def plot_norm(ax, xlabel=None, ylabel=None, zlabel=None, title=None, x_lim=[], y_lim=[], legend=True, grid=False,\n",
    "              legend_loc='upper left', legendsize=13, labelsize=14, titlesize=15, ticksize=13, linewidth=2):\n",
    "    ax.spines['bottom'].set_linewidth(linewidth)\n",
    "    ax.spines['left'].set_linewidth(linewidth)\n",
    "    ax.spines['right'].set_linewidth(linewidth)\n",
    "    ax.spines['top'].set_linewidth(linewidth)\n",
    "\n",
    "    # 设置坐标刻度值的大小以及刻度值的字体\n",
    "    plt.tick_params(which='both', width=linewidth, labelsize=ticksize)\n",
    "    labels = ax.get_xticklabels() + ax.get_yticklabels()\n",
    "    [label.set_fontname('Arial') for label in labels]\n",
    "\n",
    "    font_legend = {'family': 'Arial', 'weight': 'normal', 'size': legendsize}\n",
    "    font_label = {'family': 'Arial', 'weight': 'bold', 'size': labelsize}\n",
    "    font_title = {'family': 'Arial', 'weight': 'bold', 'size': titlesize}\n",
    "\n",
    "    if x_lim:\n",
    "        plt.xlim(x_lim[0], x_lim[1])\n",
    "    if y_lim:\n",
    "        plt.ylim(y_lim[0], y_lim[1])\n",
    "    if legend:\n",
    "        plt.legend(loc=legend_loc, prop=font_legend)\n",
    "    if grid:\n",
    "        ax.grid(ls='-.')\n",
    "    if xlabel:\n",
    "        ax.set_xlabel(xlabel, font_label)\n",
    "    if ylabel:\n",
    "        ax.set_ylabel(ylabel, font_label)\n",
    "    if zlabel:\n",
    "        ax.set_zlabel(zlabel, font_label)\n",
    "    if title:\n",
    "        ax.set_title(title, font_title)\n",
    "    plt.tight_layout()"
   ]
  },
  {
   "cell_type": "markdown",
   "metadata": {},
   "source": [
    "### Features extract"
   ]
  },
  {
   "cell_type": "code",
   "execution_count": 32,
   "metadata": {
    "ExecuteTime": {
     "end_time": "2020-12-01T02:36:08.849590Z",
     "start_time": "2020-12-01T02:36:08.826700Z"
    }
   },
   "outputs": [
    {
     "data": {
      "text/plain": [
       "((1282, 11), (0,), (515, 11), (578, 11), (189, 11))"
      ]
     },
     "execution_count": 32,
     "metadata": {},
     "output_type": "execute_result"
    }
   ],
   "source": [
    "data_pri.shape, chan_1.shape, chan_2.shape, chan_3.shape, chan_4.shape"
   ]
  },
  {
   "cell_type": "code",
   "execution_count": 33,
   "metadata": {
    "ExecuteTime": {
     "end_time": "2020-12-01T02:36:10.943064Z",
     "start_time": "2020-12-01T02:36:10.931065Z"
    },
    "scrolled": true
   },
   "outputs": [],
   "source": [
    "# SetID, Time, Chan, Thr, Amp, RiseT, Dur, Eny, RMS, Counts, TRAI\n",
    "chan = chan_2\n",
    "Time = chan[:, 1]\n",
    "Amp = chan[:, 4]\n",
    "RiseT = chan[:, 5]\n",
    "Dur = chan[:, 6]\n",
    "Eny = chan[:, 7]\n",
    "RMS = chan[:, 8]\n",
    "Counts = chan[:, 9]"
   ]
  },
  {
   "cell_type": "markdown",
   "metadata": {},
   "source": [
    "### Energy-Time Curve"
   ]
  },
  {
   "cell_type": "code",
   "execution_count": 12,
   "metadata": {
    "ExecuteTime": {
     "end_time": "2020-11-28T08:23:06.162365Z",
     "start_time": "2020-11-28T08:23:06.152365Z"
    }
   },
   "outputs": [
    {
     "data": {
      "text/plain": [
       "'E:\\\\data\\\\vallen\\\\Ni-tension test-electrolysis-1-0.01-AE-20201031'"
      ]
     },
     "execution_count": 12,
     "metadata": {},
     "output_type": "execute_result"
    }
   ],
   "source": [
    "os.getcwd()"
   ]
  },
  {
   "cell_type": "code",
   "execution_count": null,
   "metadata": {
    "ExecuteTime": {
     "end_time": "2020-11-28T09:52:44.443899Z",
     "start_time": "2020-11-28T09:52:44.414897Z"
    },
    "scrolled": true
   },
   "outputs": [],
   "source": [
    "df_1 = pd.DataFrame({'time':Time[cls_1_KKM], 'energy':Eny[cls_1_KKM]})\n",
    "df_2 = pd.DataFrame({'time':Time[cls_2_KKM], 'energy':Eny[cls_2_KKM]})\n",
    "df_1.to_csv('E-T_electrolysis_pop1.csv')\n",
    "df_2.to_csv('E-T_electrolysis_pop2.csv')"
   ]
  },
  {
   "cell_type": "code",
   "execution_count": 34,
   "metadata": {
    "ExecuteTime": {
     "end_time": "2020-12-01T02:36:17.449563Z",
     "start_time": "2020-12-01T02:36:14.213045Z"
    },
    "scrolled": true
   },
   "outputs": [
    {
     "name": "stderr",
     "output_type": "stream",
     "text": [
      "<ipython-input-34-714803fb87ed>:3: MatplotlibDeprecationWarning: The 'nonposy' parameter of __init__() has been renamed 'nonpositive' since Matplotlib 3.3; support for the old name will be dropped two minor releases later.\n",
      "  ax.set_yscale(\"log\", nonposy='clip')\n"
     ]
    }
   ],
   "source": [
    "fig = plt.figure(figsize=[6, 4.5])\n",
    "ax = plt.subplot()\n",
    "ax.set_yscale(\"log\", nonposy='clip')\n",
    "ax.scatter(Time, Eny)\n",
    "ax.set_xticks(np.linspace(0, 40000, 9))\n",
    "plot_norm(ax, 'Time(s)', 'Energy(aJ)', legend=False)"
   ]
  },
  {
   "cell_type": "markdown",
   "metadata": {},
   "source": [
    "###  Validate features"
   ]
  },
  {
   "cell_type": "code",
   "execution_count": 9,
   "metadata": {
    "ExecuteTime": {
     "end_time": "2020-11-24T08:17:21.058214Z",
     "start_time": "2020-11-24T08:17:21.044181Z"
    },
    "code_folding": [
     1
    ],
    "scrolled": false
   },
   "outputs": [],
   "source": [
    "# Time, Amp, RiseTime, Dur, Eny, Counts, TRAI\n",
    "def validation(k):\n",
    "    i = data_tra[k]\n",
    "    sig = np.multiply(array.array('h', bytes(i[-2])), i[-3] * 1000)\n",
    "    time = np.linspace(i[0], i[0] + pow(i[-5], -1) * (i[-4] - 1), i[-4])\n",
    "\n",
    "    thr = i[2]\n",
    "    valid_wave_idx = np.where(abs(sig) >= thr)[0]\n",
    "    valid_time = time[valid_wave_idx[0]:(valid_wave_idx[-1] + 1)]\n",
    "    start = time[valid_wave_idx[0]]\n",
    "    end = time[valid_wave_idx[-1]]\n",
    "    duration = (end - start) * pow(10, 6)\n",
    "    max_idx = np.argmax(abs(sig))\n",
    "    amplitude = max(abs(sig))\n",
    "    rise_time = (time[max_idx] - start) * pow(10, 6)\n",
    "    valid_data = sig[valid_wave_idx[0]:(valid_wave_idx[-1] + 1)]\n",
    "    energy = np.sum(np.multiply(pow(valid_data, 2), pow(10, 6) / i[3]))\n",
    "    RMS = math.sqrt(energy / duration)\n",
    "    count, idx = 0, 1\n",
    "    N = len(valid_data)\n",
    "    for idx in range(1, N):\n",
    "        if valid_data[idx - 1] >= thr > valid_data[idx]:\n",
    "            count += 1\n",
    "    # while idx < N:\n",
    "    #     if min(valid_data[idx - 1], valid_data[idx]) <= thr < max((valid_data[idx - 1], valid_data[idx])):\n",
    "    #         count += 1\n",
    "    #         idx += 2\n",
    "    #         continue\n",
    "    #     idx += 1\n",
    "    print(i[0], amplitude, rise_time, duration, energy / pow(10, 4), count, i[-1])"
   ]
  },
  {
   "cell_type": "markdown",
   "metadata": {},
   "source": [
    "### Energy-Amplitude with different channel"
   ]
  },
  {
   "cell_type": "code",
   "execution_count": 926,
   "metadata": {
    "ExecuteTime": {
     "end_time": "2020-11-26T10:50:35.746117Z",
     "start_time": "2020-11-26T10:50:35.738118Z"
    }
   },
   "outputs": [
    {
     "data": {
      "text/plain": [
       "'E:\\\\data\\\\vallen\\\\Ni-tension test-electrolysis-1-0.01-AE-20201031'"
      ]
     },
     "execution_count": 926,
     "metadata": {},
     "output_type": "execute_result"
    }
   ],
   "source": [
    "os.chdir('E:\\\\data\\\\vallen\\\\Ni-tension test-electrolysis-1-0.01-AE-20201031')"
   ]
  },
  {
   "cell_type": "markdown",
   "metadata": {},
   "source": [
    "#### GIF"
   ]
  },
  {
   "cell_type": "code",
   "execution_count": 1169,
   "metadata": {
    "ExecuteTime": {
     "end_time": "2020-11-27T03:31:11.361395Z",
     "start_time": "2020-11-27T03:29:50.136283Z"
    },
    "code_folding": [
     3
    ]
   },
   "outputs": [],
   "source": [
    "azim = -135\n",
    "elev = 20\n",
    "plt.ion()\n",
    "for i in range(360):\n",
    "    plt.clf()\n",
    "    fig = plt.gcf()\n",
    "    ax = fig.gca(projection='3d')\n",
    "    ax.view_init(elev, azim)\n",
    "#     ax.scatter3D(S_[:, 0], S_[:, 1], S_[:, 2], cmap='Blues')\n",
    "#     ax.scatter3D(S_[cls_1_KKM, 0], S_[cls_1_KKM, 1], S_[cls_1_KKM, 2], s=15, c='blue', label='Class 2')\n",
    "#     ax.scatter3D(S_[cls_2_KKM, 0], S_[cls_2_KKM, 1], S_[cls_2_KKM, 2], s=15, c='red', label='Class 1')\n",
    "    ax.scatter3D(np.log10(Amp)[cls_2_KKM], np.log10(Eny)[cls_2_KKM], np.log10(Dur)[cls_2_KKM], s=15, c='blue', label='Class 2')\n",
    "    ax.scatter3D(np.log10(Amp)[cls_1_KKM], np.log10(Eny)[cls_1_KKM], np.log10(Dur)[cls_1_KKM], s=15, c='red', label='Class 1')\n",
    "    plot_norm(ax, 'Amplitude(μV)', 'Energy(aJ)', 'Duration(μs)', 'Chan 2', legend=False)\n",
    "    # 'Amplitude(μV)', 'Energy(aJ)', 'Duration(μs)'\n",
    "    # 'Component 1', 'Component 2', 'Component 3'\n",
    "#     plt.pause(0.001)\n",
    "    elev, azim = ax.elev, ax.azim - 1\n",
    "    try:\n",
    "        plt.savefig('./gif/res_E-A-D-C_2dim/' + str(i))\n",
    "    except FileNotFoundError:\n",
    "        os.mkdir('./gif/res_E-A-D-C_2dim/')\n",
    "        plt.savefig('./gif/res_E-A-D-C_2dim/' + str(i))\n",
    "    plt.ioff()"
   ]
  },
  {
   "cell_type": "markdown",
   "metadata": {},
   "source": [
    "#### 3D scatter"
   ]
  },
  {
   "cell_type": "code",
   "execution_count": 184,
   "metadata": {
    "ExecuteTime": {
     "end_time": "2020-11-28T10:01:05.728419Z",
     "start_time": "2020-11-28T10:01:05.581424Z"
    }
   },
   "outputs": [],
   "source": [
    "fig = plt.figure(figsize=[6, 4.5])\n",
    "# ax = plt.subplot()\n",
    "ax = fig.add_subplot(projection='3d')\n",
    "\n",
    "# ax.scatter3D(np.log10(Amp), np.log10(Eny), np.log10(Dur), cmap='Blues')\n",
    "# ax.scatter3D(S_[:, 0], S_[:, 1], S_[:, 2], cmap='Blues')\n",
    "ax.scatter3D(S_[cls_1_KKM, 0], S_[cls_1_KKM, 1], S_[cls_1_KKM, 2], cmap='Reds')\n",
    "ax.scatter3D(S_[cls_2_KKM, 0], S_[cls_2_KKM, 1], S_[cls_2_KKM, 2], cmap='Blues')\n",
    "# ax.scatter3D(np.log10(Amp)[cls_2_KKM], np.log10(Eny)[cls_2_KKM], np.log10(Dur)[cls_2_KKM], s=15, c='blue', label='Class 2')\n",
    "# ax.scatter3D(np.log10(Amp)[cls_1_KKM], np.log10(Eny)[cls_1_KKM], np.log10(Dur)[cls_1_KKM], s=15, c='red', label='Class 1')\n",
    "# ax.scatter3D(np.log10(Amp)[cls_2_KKM][points_2_3], np.log10(Eny)[cls_2_KKM][points_2_3], np.log10(Dur)[cls_2_KKM][points_2_3], s=75, c='green', label='Class 2')\n",
    "# ax.scatter3D(np.log10(Amp)[cls_1_KKM][points_1_3], np.log10(Eny)[cls_1_KKM][points_1_3], np.log10(Dur)[cls_1_KKM][points_1_3], s=75, c='black', label='Class 1')\n",
    "\n",
    "# ax.scatter(np.log10(chan_2[:, 4]), np.log10(chan_2[:, 7]), s=35, c=color_2, label='Original data')\n",
    "# ax.set_xticks([1.3, 2, 3], ('', 2, 3))\n",
    "# ax.set_yticks([-1.5, -1, 0, 1, 2, 3], ('', -1, 0, 1, 2, 3))\n",
    "# ax.set_zlabel('1')\n",
    "plot_norm(ax, 'Component 1', 'Component 2', 'Component 3', 'Chan 2', legend=False)"
   ]
  },
  {
   "cell_type": "markdown",
   "metadata": {},
   "source": [
    "#### 2D scatter"
   ]
  },
  {
   "cell_type": "code",
   "execution_count": 262,
   "metadata": {
    "ExecuteTime": {
     "end_time": "2020-11-28T10:25:13.914838Z",
     "start_time": "2020-11-28T10:25:13.442840Z"
    },
    "scrolled": true
   },
   "outputs": [
    {
     "name": "stderr",
     "output_type": "stream",
     "text": [
      "<ipython-input-262-1b75e861c2c6>:12: MatplotlibDeprecationWarning: Case-insensitive properties were deprecated in 3.3 and support will be removed two minor releases later\n",
      "  ax.loglog(Amp[cls_1_KKM], Eny[cls_1_KKM], '.', Marker='.', markersize=8, color=color_1, label='population 1')\n",
      "<ipython-input-262-1b75e861c2c6>:13: MatplotlibDeprecationWarning: Case-insensitive properties were deprecated in 3.3 and support will be removed two minor releases later\n",
      "  ax.loglog(Amp[cls_2_KKM], Eny[cls_2_KKM], '.', Marker='.', markersize=8, color=color_2, label='population 2')\n",
      "<ipython-input-262-1b75e861c2c6>:15: MatplotlibDeprecationWarning: Case-insensitive properties were deprecated in 3.3 and support will be removed two minor releases later\n",
      "  ax.loglog(Amp[cls_1_KKM][idx_select_1], Eny[cls_1_KKM][idx_select_1], '.', markersize=8, Marker='.', color='black')\n",
      "<ipython-input-262-1b75e861c2c6>:16: MatplotlibDeprecationWarning: Case-insensitive properties were deprecated in 3.3 and support will be removed two minor releases later\n",
      "  ax.loglog(Amp[cls_2_KKM][idx_select_2], Eny[cls_2_KKM][idx_select_2], '.', markersize=8, Marker='.', color='black')\n"
     ]
    }
   ],
   "source": [
    "fig = plt.figure(figsize=[6, 3.9])\n",
    "ax = plt.subplot()\n",
    "\n",
    "# ax.loglog(Amp, Eny, '.', Marker='.', color=color_2)\n",
    "\n",
    "# ax.scatter(S_[cls_1_KKM, 0], S_[cls_1_KKM, 1], s=15, c=color_1)\n",
    "# ax.scatter(S_[cls_2_KKM, 0], S_[cls_2_KKM, 1], s=15, c=color_2)\n",
    "# ax.scatter(S_[:, 0], S_[:, 1], s=15, c=color_2)\n",
    "# ax.scatter(np.log10(Amp)[cls_2_KKM], np.log10(Eny)[cls_2_KKM], s=15, c='blue', label='Class 2')\n",
    "# ax.scatter(np.log10(Amp)[cls_1_KKM], np.log10(Eny)[cls_1_KKM], s=15, c='red', label='Class 1')\n",
    "\n",
    "ax.loglog(Amp[cls_1_KKM], Eny[cls_1_KKM], '.', Marker='.', markersize=8, color=color_1, label='population 1')\n",
    "ax.loglog(Amp[cls_2_KKM], Eny[cls_2_KKM], '.', Marker='.', markersize=8, color=color_2, label='population 2')\n",
    "\n",
    "ax.loglog(Amp[cls_1_KKM][idx_select_1], Eny[cls_1_KKM][idx_select_1], '.', markersize=8, Marker='.', color='black')\n",
    "ax.loglog(Amp[cls_2_KKM][idx_select_2], Eny[cls_2_KKM][idx_select_2], '.', markersize=8, Marker='.', color='black')\n",
    "\n",
    "plot_norm(ax, 'Amplitude(μV)', 'Energy(aJ)')\n",
    "# 'Duration(μs)', 'Amplitude(μV)', 'Energy(aJ)', 'Component 1', 'Component 2'"
   ]
  },
  {
   "cell_type": "markdown",
   "metadata": {},
   "source": [
    "### Find Wave"
   ]
  },
  {
   "cell_type": "code",
   "execution_count": 1089,
   "metadata": {
    "ExecuteTime": {
     "end_time": "2020-11-27T02:21:28.569073Z",
     "start_time": "2020-11-27T02:21:28.549073Z"
    },
    "code_folding": []
   },
   "outputs": [],
   "source": [
    "# 1.263, 1.395, 1.538, 1.728, 1.832, 2.233, 2.450, 2.573, 2.702, 3.079\n",
    "idx_1 = [5, 70, 3, 9, 0, 20, 136, 42, 54, 108]\n",
    "TRAI_1 = [735, 3218, 593, 1138, 323, 2001, 6585, 2614, 2832, 4619]\n",
    "\n",
    "# 1.365, 1.495, 1.773, 1.839, 1.95, 2.258, 2.390, 2.507, 2.680, 2.875\n",
    "idx_2 = [0, 172, 1, 3, 5, 112, 7, 144, 2, 137]\n",
    "TRAI_2 = [323, 9776, 383, 593, 735, 4694, 909, 7445, 405, 6695]"
   ]
  },
  {
   "cell_type": "code",
   "execution_count": 1108,
   "metadata": {
    "ExecuteTime": {
     "end_time": "2020-11-27T02:44:28.293382Z",
     "start_time": "2020-11-27T02:44:28.279366Z"
    }
   },
   "outputs": [],
   "source": [
    "# 0.115, 0.275, 0.297, 0.601, 1.024\n",
    "idx_select_1 = [50, 148, 51, 252, 10]\n",
    "TRAI_select_1 = [3067, 11644, 3079, 28583, 1501]\n",
    "\n",
    "# 0.303, 0.409, 0.534, 0.759, 1.026\n",
    "idx_select_2 = [13, 75, 79, 72, 71]\n",
    "TRAI_select_2 = [2949, 14166, 14815, 14140, 14090]"
   ]
  },
  {
   "cell_type": "code",
   "execution_count": 1183,
   "metadata": {
    "ExecuteTime": {
     "end_time": "2020-11-27T07:09:52.312771Z",
     "start_time": "2020-11-27T07:09:52.302770Z"
    }
   },
   "outputs": [],
   "source": [
    "# Misclassified point\n",
    "idx_select_2 = [18, 69, 5, 12, 53, 202]\n",
    "TRAI_select_2 = [4816, 13486, 2226, 3067, 11644, 37244]"
   ]
  },
  {
   "cell_type": "code",
   "execution_count": 15,
   "metadata": {
    "ExecuteTime": {
     "end_time": "2020-11-28T08:23:35.120683Z",
     "start_time": "2020-11-28T08:23:35.112652Z"
    },
    "code_folding": []
   },
   "outputs": [],
   "source": [
    "# Comparied with same energy\n",
    "idx_select_2 = [79, 229, 117, 285, 59]\n",
    "TRAI_select_2 = [4012, 22499, 7445, 34436, 3282]\n",
    "\n",
    "idx_select_1 = [160, 141, 57, 37, 70]\n",
    "TRAI_select_1 = [26465, 23930, 11974, 9379, 13667]"
   ]
  },
  {
   "cell_type": "code",
   "execution_count": 204,
   "metadata": {
    "ExecuteTime": {
     "end_time": "2020-11-28T10:03:49.806915Z",
     "start_time": "2020-11-28T10:03:49.787917Z"
    }
   },
   "outputs": [],
   "source": [
    "# Comparied with same amplitude\n",
    "idx_select_2 = [90, 23, 48, 50, 184]\n",
    "TRAI_select_2 = [4619, 2229, 2977, 3014, 18224]\n",
    "\n",
    "idx_select_1 = [16, 26, 87, 34, 128]\n",
    "TRAI_select_1 = [3932, 7412, 16349, 9001, 22112]"
   ]
  },
  {
   "cell_type": "code",
   "execution_count": 263,
   "metadata": {
    "ExecuteTime": {
     "end_time": "2020-11-28T10:26:47.770900Z",
     "start_time": "2020-11-28T10:26:47.756867Z"
    }
   },
   "outputs": [],
   "source": [
    "# 6016_CR_1\n",
    "# Comparied with same amplitude\n",
    "idx_select_2 = [32, 39, 156, 17, 20]\n",
    "TRAI_select_2 = [8381, 8961, 15592, 7295, 7402]\n",
    "\n",
    "idx_select_1 = [51, 72, 71, 9, 66]\n",
    "TRAI_select_1 = [5350, 7987, 7963, 785, 7819]"
   ]
  },
  {
   "cell_type": "code",
   "execution_count": 40,
   "metadata": {
    "ExecuteTime": {
     "end_time": "2020-11-28T08:29:50.887573Z",
     "start_time": "2020-11-28T08:29:50.875572Z"
    },
    "scrolled": true
   },
   "outputs": [
    {
     "data": {
      "text/plain": [
       "(1.2096113308921483, 3.07903863472096)"
      ]
     },
     "execution_count": 40,
     "metadata": {},
     "output_type": "execute_result"
    }
   ],
   "source": [
    "min(np.log10(Amp)[cls_1_KKM]), max(np.log10(Amp)[cls_1_KKM])"
   ]
  },
  {
   "cell_type": "code",
   "execution_count": 249,
   "metadata": {
    "ExecuteTime": {
     "end_time": "2020-11-28T10:20:16.961814Z",
     "start_time": "2020-11-28T10:20:16.940097Z"
    },
    "code_folding": [],
    "scrolled": true
   },
   "outputs": [
    {
     "name": "stdout",
     "output_type": "stream",
     "text": [
      "20 2.337795122313595 1.4134627561597521 7402\n",
      "--------------------------------------------------\n",
      "25 2.3030330160543833 1.9434466765605836 2908\n",
      "61 2.334550067500448 1.961649366954107 7706\n",
      "66 2.336716129256956 1.9625180504420787 7819\n",
      "75 2.323554683198985 1.9645303831549608 8409\n"
     ]
    }
   ],
   "source": [
    "for i in np.where((np.log10(Amp)[cls_1_KKM] > 2.29) & (np.log10(Amp)[cls_1_KKM] < 2.34))[0]:\n",
    "    # Idx, Dur, Eny, TRAI\n",
    "    print(i, np.log10(Amp)[cls_1_KKM][i], np.log10(Eny)[cls_1_KKM][i], '{:.0f}'.format(chan[cls_1_KKM][i][-1]))\n",
    "print('-'*50)\n",
    "for i in np.where((np.log10(Amp)[cls_2_KKM] > 2.29) & (np.log10(Amp)[cls_2_KKM] < 2.34))[0]:\n",
    "    # Idx, Dur, Eny, TRAI\n",
    "#     if i == 234:\n",
    "#         print(np.log10(Amp)[cls_2_KKM][i])\n",
    "    print(i, np.log10(Amp)[cls_2_KKM][i], np.log10(Eny)[cls_2_KKM][i], '{:.0f}'.format(chan[cls_2_KKM][i][-1]))"
   ]
  },
  {
   "cell_type": "code",
   "execution_count": 1082,
   "metadata": {
    "ExecuteTime": {
     "end_time": "2020-11-27T02:18:25.707731Z",
     "start_time": "2020-11-27T02:18:25.685704Z"
    },
    "scrolled": true
   },
   "outputs": [
    {
     "name": "stdout",
     "output_type": "stream",
     "text": [
      "13\n"
     ]
    }
   ],
   "source": [
    "for i in np.where((np.log10(Amp)[cls_2_KKM] > 1.2) & (np.log10(Amp)[cls_2_KKM] < 1.75) & (np.log10(Eny)[cls_2_KKM] < 0.4))[0]:\n",
    "    # Idx, Dur, Eny, TRAI\n",
    "    if chan_2[cls_2_KKM][i][-1] == 2949:\n",
    "        print(i)\n",
    "#     print(i, np.log10(Amp)[cls_2_KKM][i], np.log10(Eny)[cls_2_KKM][i], '{:.0f}'.format(chan_2[cls_2_KKM][i][-1]))"
   ]
  },
  {
   "cell_type": "markdown",
   "metadata": {},
   "source": [
    "### Decomposition-FastICA"
   ]
  },
  {
   "cell_type": "code",
   "execution_count": 21,
   "metadata": {
    "ExecuteTime": {
     "end_time": "2020-11-28T08:23:57.035595Z",
     "start_time": "2020-11-28T08:23:51.452063Z"
    }
   },
   "outputs": [],
   "source": [
    "from sklearn.decomposition import PCA, FastICA\n",
    "from sklearn.cluster import KMeans"
   ]
  },
  {
   "cell_type": "code",
   "execution_count": 276,
   "metadata": {
    "ExecuteTime": {
     "end_time": "2020-11-29T09:16:26.372702Z",
     "start_time": "2020-11-29T09:16:26.362718Z"
    }
   },
   "outputs": [],
   "source": [
    "# x = np.zeros([Amp.shape[0], 2])\n",
    "# x[:, 0], x[:, 1] = np.log10(Amp), np.log10(Eny)\n",
    "x = np.zeros([Amp.shape[0], 3])\n",
    "x[:, 0], x[:, 1], x[:, 2] = np.log10(Amp), np.log10(Eny), np.log10(Dur)\n",
    "\n",
    "x_mean = np.mean(x, axis=0)\n",
    "x_std = np.std(x, axis=0)\n",
    "x_nor = (x - x_mean) / x_std"
   ]
  },
  {
   "cell_type": "code",
   "execution_count": 277,
   "metadata": {
    "ExecuteTime": {
     "end_time": "2020-11-29T09:16:27.649325Z",
     "start_time": "2020-11-29T09:16:27.593325Z"
    }
   },
   "outputs": [],
   "source": [
    "ica = FastICA(n_components=2)\n",
    "S_ = ica.fit_transform(x_nor) # 重构信号\n",
    "A_ = ica.mixing_ # 获得估计混合后的矩阵"
   ]
  },
  {
   "cell_type": "markdown",
   "metadata": {},
   "source": [
    "### Cluster-Kmeans"
   ]
  },
  {
   "cell_type": "code",
   "execution_count": 258,
   "metadata": {
    "ExecuteTime": {
     "end_time": "2020-11-28T10:24:44.710989Z",
     "start_time": "2020-11-28T10:24:44.589424Z"
    }
   },
   "outputs": [],
   "source": [
    "kmeans = KMeans(n_clusters=2, random_state=69)\n",
    "kmeans.fit(S_)\n",
    "y_pre = kmeans.labels_\n",
    "cls_2_KM = y_pre == 0\n",
    "cls_1_KM = y_pre == 1"
   ]
  },
  {
   "cell_type": "markdown",
   "metadata": {},
   "source": [
    "### Cluster-Kernel Kmeans"
   ]
  },
  {
   "cell_type": "code",
   "execution_count": 23,
   "metadata": {
    "ExecuteTime": {
     "end_time": "2020-11-28T08:24:00.365616Z",
     "start_time": "2020-11-28T08:24:00.360586Z"
    }
   },
   "outputs": [],
   "source": [
    "from sklearn.base import BaseEstimator, ClusterMixin\n",
    "from sklearn.metrics.pairwise import pairwise_kernels\n",
    "from sklearn.utils import check_random_state"
   ]
  },
  {
   "cell_type": "code",
   "execution_count": 24,
   "metadata": {
    "ExecuteTime": {
     "end_time": "2020-11-28T08:24:01.656087Z",
     "start_time": "2020-11-28T08:24:01.628114Z"
    },
    "code_folding": [
     0
    ]
   },
   "outputs": [],
   "source": [
    "class KernelKMeans(BaseEstimator, ClusterMixin):\n",
    "    \"\"\"\n",
    "    Kernel K-means\n",
    "    \n",
    "    Reference\n",
    "    ---------\n",
    "    Kernel k-means, Spectral Clustering and Normalized Cuts.\n",
    "    Inderjit S. Dhillon, Yuqiang Guan, Brian Kulis.\n",
    "    KDD 2004.\n",
    "    \"\"\"\n",
    "\n",
    "    def __init__(self, n_clusters=3, max_iter=50, tol=1e-3, random_state=None,\n",
    "                 kernel=\"rbf\", gamma=None, degree=3, coef0=1,\n",
    "                 kernel_params=None, verbose=0):\n",
    "        self.n_clusters = n_clusters\n",
    "        self.max_iter = max_iter\n",
    "        self.tol = tol\n",
    "        self.random_state = random_state\n",
    "        self.kernel = kernel\n",
    "        self.gamma = gamma\n",
    "        self.degree = degree\n",
    "        self.coef0 = coef0\n",
    "        self.kernel_params = kernel_params\n",
    "        self.verbose = verbose\n",
    "        \n",
    "    @property\n",
    "    def _pairwise(self):\n",
    "        return self.kernel == \"precomputed\"\n",
    "\n",
    "    def _get_kernel(self, X, Y=None):\n",
    "        if callable(self.kernel):\n",
    "            params = self.kernel_params or {}\n",
    "        else:\n",
    "            params = {\"gamma\": self.gamma,\n",
    "                      \"degree\": self.degree,\n",
    "                      \"coef0\": self.coef0}\n",
    "        return pairwise_kernels(X, Y, metric=self.kernel,\n",
    "                                filter_params=True, **params)\n",
    "\n",
    "    def fit(self, X, y=None, sample_weight=None):\n",
    "        n_samples = X.shape[0]\n",
    "\n",
    "        K = self._get_kernel(X)\n",
    "\n",
    "        sw = sample_weight if sample_weight else np.ones(n_samples)\n",
    "        self.sample_weight_ = sw\n",
    "\n",
    "        rs = check_random_state(self.random_state)\n",
    "        self.labels_ = rs.randint(self.n_clusters, size=n_samples)\n",
    "\n",
    "        dist = np.zeros((n_samples, self.n_clusters))\n",
    "        self.within_distances_ = np.zeros(self.n_clusters)\n",
    "\n",
    "        for it in range(self.max_iter):\n",
    "            dist.fill(0)\n",
    "            self._compute_dist(K, dist, self.within_distances_,\n",
    "                               update_within=True)\n",
    "            labels_old = self.labels_\n",
    "            self.labels_ = dist.argmin(axis=1)\n",
    "\n",
    "            # Compute the number of samples whose cluster did not change \n",
    "            # since last iteration.\n",
    "            n_same = np.sum((self.labels_ - labels_old) == 0)\n",
    "            if 1 - float(n_same) / n_samples < self.tol:\n",
    "                if self.verbose:\n",
    "                    print(\"Converged at iteration\", it + 1)\n",
    "                break\n",
    "\n",
    "        self.X_fit_ = X\n",
    "\n",
    "        return self\n",
    "\n",
    "    def _compute_dist(self, K, dist, within_distances, update_within):\n",
    "        \"\"\"Compute a n_samples x n_clusters distance matrix using the \n",
    "        kernel trick.\"\"\"\n",
    "        sw = self.sample_weight_\n",
    "\n",
    "        for j in range(self.n_clusters):\n",
    "            mask = self.labels_ == j\n",
    "\n",
    "            if np.sum(mask) == 0:\n",
    "                raise ValueError(\"Empty cluster found, try smaller n_cluster.\")\n",
    "\n",
    "            denom = sw[mask].sum()\n",
    "            denomsq = denom * denom\n",
    "\n",
    "            if update_within:\n",
    "                KK = K[mask][:, mask]  # K[mask, mask] does not work.\n",
    "                dist_j = np.sum(np.outer(sw[mask], sw[mask]) * KK / denomsq)\n",
    "                within_distances[j] = dist_j\n",
    "                dist[:, j] += dist_j\n",
    "            else:\n",
    "                dist[:, j] += within_distances[j]\n",
    "\n",
    "            dist[:, j] -= 2 * np.sum(sw[mask] * K[:, mask], axis=1) / denom\n",
    "\n",
    "    def predict(self, X):\n",
    "        K = self._get_kernel(X, self.X_fit_)\n",
    "        n_samples = X.shape[0]\n",
    "        dist = np.zeros((n_samples, self.n_clusters))\n",
    "        self._compute_dist(K, dist, self.within_distances_,\n",
    "                           update_within=False)\n",
    "        return dist.argmin(axis=1)"
   ]
  },
  {
   "cell_type": "code",
   "execution_count": 279,
   "metadata": {
    "ExecuteTime": {
     "end_time": "2020-11-29T09:16:34.128518Z",
     "start_time": "2020-11-29T09:16:34.072557Z"
    }
   },
   "outputs": [
    {
     "name": "stdout",
     "output_type": "stream",
     "text": [
      "Converged at iteration 7\n"
     ]
    }
   ],
   "source": [
    "km = KernelKMeans(n_clusters=2, max_iter=100, random_state=100, verbose=1, kernel=\"rbf\")\n",
    "# print(km.fit_predict(x)[:10])\n",
    "# print(km.predict(x[:10]))\n",
    "# pred_1 = km.fit_predict(S_[:30000])\n",
    "# pred_2 = km.fit_predict(S_[30000:])\n",
    "pred = km.fit_predict(S_)\n",
    "cls_1_KKM = pred == 1\n",
    "cls_2_KKM = pred == 0\n",
    "# cls_3_KKM = pred == 2"
   ]
  },
  {
   "cell_type": "markdown",
   "metadata": {},
   "source": [
    "### PDF & CCDF & ML Curve"
   ]
  },
  {
   "cell_type": "code",
   "execution_count": 94,
   "metadata": {
    "ExecuteTime": {
     "end_time": "2020-11-28T09:02:06.609274Z",
     "start_time": "2020-11-28T09:02:06.560284Z"
    },
    "code_folding": [
     0,
     54,
     73,
     98,
     134,
     163
    ]
   },
   "outputs": [],
   "source": [
    "def cal_linear(tmp, inter, mid, interval_num, idx = 0):\n",
    "    # 初始化横坐标\n",
    "    x = np.array([])\n",
    "    for i in inter:\n",
    "        if i != 0:\n",
    "            x = np.append(x, np.linspace(i, i * 10, interval_num, endpoint=False))\n",
    "        else:\n",
    "            x = np.append(x, np.linspace(i, 1, interval_num, endpoint=False))\n",
    "    \n",
    "    # 初始化纵坐标\n",
    "    y = np.zeros(x.shape[0])\n",
    "    for i, n in Counter(tmp).items():\n",
    "        while True:\n",
    "            try:\n",
    "                if x[idx] <= i < x[idx + 1]:\n",
    "                    y[idx] += n\n",
    "                    break\n",
    "            except IndexError:\n",
    "                if x[idx] <= i:\n",
    "                    y[idx] += n\n",
    "                    break\n",
    "            idx += 1\n",
    "    \n",
    "    # 对横坐标作进一步筛选，计算概率分布值\n",
    "    x, y = x[y != 0], y[y != 0]\n",
    "    xx = np.zeros(x.shape[0])\n",
    "    yy = y / sum(y)\n",
    "    \n",
    "    # 取区间终点作为该段的横坐标\n",
    "    for idx in range(len(x) - 1):\n",
    "        xx[idx] = (x[idx] + x[idx + 1]) / 2\n",
    "    xx[-1] = x[-1]\n",
    "    \n",
    "    # 计算分段区间长度，从而求得概率密度值\n",
    "    interval = []\n",
    "    for i, j in enumerate(mid):\n",
    "        try:\n",
    "            num = len(np.intersect1d(np.where(inter[i] <= xx)[0], \n",
    "                                     np.where(xx < inter[i + 1])[0]))\n",
    "            interval.extend([j] * num)\n",
    "        except IndexError:\n",
    "            num = len(np.where(inter[i] <= xx)[0])\n",
    "            interval.extend([j] * num)\n",
    "    yy = yy / np.array(interval)\n",
    "#     # 取对数变换为线性关系\n",
    "#     log_xx = np.log10(xx)\n",
    "#     log_yy = np.log10(yy)\n",
    "#     fit = np.polyfit(log_xx, log_yy, 1)\n",
    "#     alpha = abs(fit[0])\n",
    "#     fit_x = np.linspace(min(log_xx), max(log_xx), 100)\n",
    "#     fit_y = np.polyval(fit, fit_x)\n",
    "    return xx, yy\n",
    "\n",
    "\n",
    "def cal_PDF(tmp_origin, features_path, inter, mid, interval_num, cls_1, cls_2, xlabel, ylabel):\n",
    "    tmp_origin, tmp_1, tmp_2 = sorted(tmp_origin), sorted(tmp_origin[cls_1]), sorted(tmp_origin[cls_2])\n",
    "    xx_origin, yy_origin = cal_linear(tmp_origin, inter, mid, interval_num)\n",
    "    xx_1, yy_1 = cal_linear(tmp_1, inter, mid, interval_num)\n",
    "    xx_2, yy_2 = cal_linear(tmp_2, inter, mid, interval_num)\n",
    "    \n",
    "    for idx, [xx, yy] in enumerate(zip([xx_origin, xx_1, xx_2], [yy_origin, yy_1, yy_2])):\n",
    "        with open(features_path[:-4] + '_%d '%(idx) + ylabel + '.txt', 'w') as f:\n",
    "            f.write('{}, {}\\n'.format(xlabel, ylabel))\n",
    "            for j in range(len(xx)):\n",
    "                f.write('{}, {}\\n'.format(xx[j], yy[j]))\n",
    "    \n",
    "    ax = plt.subplot()\n",
    "    for [xx, yy, color, label] in zip([xx_origin, xx_1, xx_2], [yy_origin, yy_1, yy_2], \n",
    "                                      ['y', color_1, color_2], ['Origin', 'Class 1', 'Class 2']):\n",
    "        ax.scatter(np.log10(xx), np.log10(yy), s=25, c=color, label=label)\n",
    "    plot_norm(ax, xlabel, ylabel, legend_loc='upper right')\n",
    "    \n",
    "\n",
    "def cal_CCDF(tmp_origin, features_path, cls_1, cls_2, xlabel, ylabel):\n",
    "    tmp_origin, tmp_1, tmp_2 = sorted(tmp_origin), sorted(tmp_origin[cls_1]), sorted(tmp_origin[cls_2])\n",
    "    N_origin, N1, N2 = len(tmp_origin), len(tmp_1), len(tmp_2)\n",
    "    xx_origin, xx_1, xx_2 = [], [], []\n",
    "    yy_origin, yy_1, yy_2 = [], [], []\n",
    "    \n",
    "    for idx, [tmp, N, xx, yy] in enumerate(zip([tmp_origin, tmp_1, tmp_2], [N_origin, N1, N2], \n",
    "                                               [xx_origin, xx_1, xx_2], [yy_origin, yy_1, yy_2])):\n",
    "        for i in range(N - 1):\n",
    "            xx.append(np.mean([tmp[i], tmp[i+1]]))\n",
    "            yy.append((N - i + 1) / N)\n",
    "    \n",
    "    for idx, [xx, yy] in enumerate(zip([xx_origin, xx_1, xx_2], [yy_origin, yy_1, yy_2])):\n",
    "        with open(features_path[:-4] + '_%d '%(idx) + 'CCDF(%s).txt'%xlabel[0], 'w') as f:\n",
    "            f.write('{}, {}\\n'.format(xlabel, ylabel))\n",
    "            for j in range(len(xx)):\n",
    "                f.write('{}, {}\\n'.format(xx[j], yy[j]))\n",
    "    \n",
    "    ax = plt.subplot()\n",
    "    for [xx, yy, color, label] in zip([xx_origin, xx_1, xx_2], [yy_origin, yy_1, yy_2], \n",
    "                                      ['y', color_1, color_2], ['Origin', 'Class 1', 'Class 2']):\n",
    "        ax.plot(np.log10(xx), np.log10(yy), markersize=25, color=color, label=label)\n",
    "    plot_norm(ax, xlabel, ylabel, legend_loc='upper right')\n",
    "\n",
    "    \n",
    "def cal_ML(tmp_origin, features_path, cls_1, cls_2, xlabel, ylabel):\n",
    "    tmp_origin, tmp_1, tmp_2 = sorted(tmp_origin), sorted(tmp_origin[cls_1]), sorted(tmp_origin[cls_2])\n",
    "    N_origin, N1, N2 = len(tmp_origin), len(tmp_1), len(tmp_2)\n",
    "    ML_y_origin, ML_y1, ML_y2 = [], [], []\n",
    "    Error_bar_origin, Error_bar1, Error_bar2 = [], [], []\n",
    "    \n",
    "    for idx, [tmp, N, ML_y, Error_bar] in enumerate(zip([tmp_origin, tmp_1, tmp_2], [N_origin, N1, N2], \n",
    "                                                        [ML_y_origin, ML_y1, ML_y2], \n",
    "                                                        [Error_bar_origin, Error_bar1, Error_bar2])):\n",
    "        for j in tqdm(range(N)):\n",
    "            valid_x = sorted(tmp)[j:]\n",
    "            E0 = valid_x[0]\n",
    "            Sum = np.sum(np.log(valid_x/E0))\n",
    "            N_prime = N - j\n",
    "            alpha = 1 + N_prime / Sum\n",
    "            error_bar = (alpha - 1) / pow(N_prime, 0.5)\n",
    "            ML_y.append(alpha)\n",
    "            Error_bar.append(error_bar)\n",
    "\n",
    "    for idx, [tmp, ML_y, Error_bar] in enumerate(zip([tmp_origin, tmp_1, tmp_2], [ML_y_origin, ML_y1, ML_y2], \n",
    "                                                     [Error_bar_origin, Error_bar1, Error_bar2])):\n",
    "        with open(features_path[:-4] + '_%d '%(idx) + 'ML(%s).txt'%xlabel[0], 'w') as f:\n",
    "            f.write('{}, {}, Error bar\\n'.format(xlabel, ylabel))\n",
    "            for j in range(len(ML_y)):\n",
    "                f.write('{}, {}, {}\\n'.format(sorted(tmp)[j], ML_y[j], Error_bar[j]))\n",
    "    \n",
    "    ax = plt.subplot()\n",
    "    ax.set_xscale(\"log\", nonposx='clip')\n",
    "    for [tmp, ML_y, Error_bar, color, label] in zip([tmp_origin, tmp_1, tmp_2], [ML_y_origin, ML_y1, ML_y2], \n",
    "                                                    [Error_bar_origin, Error_bar1, Error_bar2], \n",
    "                                                    ['black', color_1, color_2], ['whole', 'population 1', 'population 2']):\n",
    "        ax.errorbar(sorted(tmp), ML_y, yerr=Error_bar, fmt='o', ecolor=color, \n",
    "                    color=color, elinewidth=1, capsize=2, ms=5, label=label)\n",
    "    plot_norm(ax, xlabel, ylabel, y_lim=[1.25, 3])\n",
    "\n",
    "\n",
    "def cal_contour(tmp_1, tmp_2, xlabel, ylabel, title, padding=False, clabel=False):\n",
    "    tmp_1, tmp_2 = 20 * np.log10(tmp_1), 20 * np.log10(tmp_2)\n",
    "    x, y = np.linspace(0,100,75), np.linspace(-20,80,65)\n",
    "    X, Y = np.meshgrid(x,y)\n",
    "    height = np.zeros([X.shape[0], Y.shape[1]])\n",
    "    linestyles = ['solid'] * 6 + ['--'] * 4\n",
    "    levels = [0.5, 1.5, 3, 6, 12, 24, 48, 96, 192, 384]\n",
    "    colors = ['navy', 'blueviolet', 'cornflowerblue', 'lightsteelblue', \n",
    "              'aliceblue', 'lightyellow', 'gold', 'yellow', 'red', 'darkred']\n",
    "    \n",
    "    for i in range(X.shape[1]-1):\n",
    "        valid_x = np.where((tmp_1 < X[0, i+1]) & (tmp_1 >= X[0, i]))[0]\n",
    "        for j in range(Y.shape[0]-1):\n",
    "            valid_y = np.where((tmp_2 < Y[j+1, 0]) & (tmp_2 >= Y[j, 0]))[0]\n",
    "            \n",
    "            height[j, i] = np.intersect1d(valid_x, valid_y).shape[0]\n",
    "    \n",
    "    ax = plt.subplot()\n",
    "    if padding:\n",
    "        ctf = ax.contourf(X,Y,height,levels, colors=colors, extend='max')\n",
    "        cbar = plt.colorbar(ctf)\n",
    "    else:\n",
    "        ct = plt.contour(X, Y, height, levels, colors=colors, linewidths=1, linestyles=linestyles)\n",
    "        cbar = plt.colorbar(ct)\n",
    "    if clabel:\n",
    "        ax.clabel(ct, inline=True, colors='k', fmt='%.1f')\n",
    "    plot_norm(ax, xlabel, ylabel, title, legend=False)\n",
    "    \n",
    "\n",
    "def cal_correlation(tmp_1, tmp_2, cls_1, cls_2, xlabel, ylabel):\n",
    "    ax = plt.subplot()\n",
    "    cor_x = np.log10(tmp_1)\n",
    "    cor_y = np.log10(tmp_2)\n",
    "    cor_x1, cor_x2 = cor_x[cls_1], cor_x[cls_2]\n",
    "    cor_y1, cor_y2 = cor_y[cls_1], cor_y[cls_2]\n",
    "    ax.scatter(cor_x1, cor_y1, s=25, c=color_1, label='Class 1')\n",
    "    ax.scatter(cor_x2, cor_y2, s=25, c=color_2, label='Class 2')\n",
    "    plot_norm(ax, xlabel, ylabel)"
   ]
  },
  {
   "cell_type": "code",
   "execution_count": 440,
   "metadata": {
    "ExecuteTime": {
     "end_time": "2020-11-25T13:43:50.844321Z",
     "start_time": "2020-11-25T13:43:50.822324Z"
    },
    "code_folding": [
     0,
     7,
     14,
     29
    ]
   },
   "outputs": [],
   "source": [
    "def cal_waitingTime_interval(res):\n",
    "    tmp = sorted(np.array(res))\n",
    "    tmp_min, tmp_max = math.floor(np.log10(min(tmp))), math.ceil(np.log10(max(tmp)))\n",
    "    inter = [pow(10, i) for i in range(tmp_min, tmp_max+1)]\n",
    "    mid = [interval * pow(10, i) for i in range(tmp_min+1, tmp_max+2)]\n",
    "    return inter, mid\n",
    "\n",
    "def find_max(res):\n",
    "    lenz = []\n",
    "    for i in range(len(res)):\n",
    "        lenz.append(len(res[i]))\n",
    "    idx = np.argmax(np.array(lenz))\n",
    "    return idx\n",
    "\n",
    "def cal_waitingTime(tmp_origin, features_path, interval, interval_num, cls_1, cls_2, xlabel, ylabel):\n",
    "    tmp_origin, tmp_1, tmp_2 = cal_helper(tmp_origin), cal_helper(tmp_origin[cls_1]), cal_helper(tmp_origin[cls_2])\n",
    "    \n",
    "    ax = plt.subplot()\n",
    "    for idx, [tmp, color, label] in enumerate(zip([tmp_origin, tmp_1, tmp_2], ['y', color_1, color_2], ['Origin', 'Class 1', 'Class 2'])):\n",
    "        i = find_max(tmp)\n",
    "        inter, mid = cal_waitingTime_interval(tmp[i])\n",
    "        xx, yy = cal_linear(sorted(np.array(tmp[i])), inter, mid, interval_num)\n",
    "        ax.scatter(np.log10(xx), np.log10(yy), s=25, c=color, label=label)\n",
    "        with open(features_path[:-4] + '_pop%d '%(idx) + ylabel + '.txt', 'w') as f:\n",
    "            f.write('{}, {}\\n'.format(xlabel, ylabel))\n",
    "            for j in range(len(xx)):\n",
    "                f.write('{}, {}\\n'.format(xx[j], yy[j]))\n",
    "    plot_norm(ax, xlabel, ylabel, legend_loc='upper right')\n",
    "\n",
    "def cal_helper(tmp):\n",
    "#     tmp = data_pri[:, 7]\n",
    "    eny_lim = [[0.01, 0.1], [0.1, 1], [1, 10], [10, 100]]\n",
    "#     eny_lim = [[0.1, 100]]\n",
    "    res = [[], [], [], []]\n",
    "    init = []\n",
    "    freq = 1/20000000\n",
    "\n",
    "    for idx in tqdm(range(len(eny_lim))):\n",
    "        i = 0\n",
    "        while i < tmp.shape[0]:\n",
    "            if eny_lim[idx][0] < tmp[i] < eny_lim[idx][1]:\n",
    "                if not init:\n",
    "                    init.append(i)\n",
    "                else:\n",
    "                    j = init.pop()\n",
    "                    if i > j + 1:\n",
    "#                         print(idx, j, i)\n",
    "                        k = (np.argmax(tmp[j+1:i])+1) * freq\n",
    "                        res[idx].append(k)\n",
    "            elif tmp[i] > eny_lim[idx][1]:\n",
    "                if init:\n",
    "                    j = init.pop()\n",
    "                    if i > j + 1:\n",
    "#                         print(idx, j, i)\n",
    "                        k = (np.argmax(tmp[j+1:i])+1) * freq\n",
    "                        res[idx].append(k)\n",
    "            i += 1\n",
    "    return res"
   ]
  },
  {
   "cell_type": "code",
   "execution_count": 266,
   "metadata": {
    "ExecuteTime": {
     "end_time": "2020-11-28T10:27:42.155346Z",
     "start_time": "2020-11-28T10:27:41.710376Z"
    },
    "code_folding": [
     0
    ],
    "scrolled": false
   },
   "outputs": [
    {
     "name": "stderr",
     "output_type": "stream",
     "text": [
      "  0%|                                                                                          | 0/337 [00:00<?, ?it/s]<ipython-input-94-866e72cd1983>:113: RuntimeWarning: divide by zero encountered in double_scalars\n",
      "  alpha = 1 + N_prime / Sum\n",
      "100%|█████████████████████████████████████████████████████████████████████████████| 337/337 [00:00<00:00, 22466.15it/s]\n",
      "100%|█████████████████████████████████████████████████████████████████████████████| 116/116 [00:00<00:00, 29012.48it/s]\n",
      "100%|█████████████████████████████████████████████████████████████████████████████| 221/221 [00:00<00:00, 31566.19it/s]\n",
      "<ipython-input-94-866e72cd1983>:126: MatplotlibDeprecationWarning: The 'nonposx' parameter of __init__() has been renamed 'nonpositive' since Matplotlib 3.3; support for the old name will be dropped two minor releases later.\n",
      "  ax.set_xscale(\"log\", nonposx='clip')\n",
      "D:\\Anaconda3\\lib\\site-packages\\matplotlib\\axes\\_axes.py:3411: RuntimeWarning: invalid value encountered in double_scalars\n",
      "  low = [v if lo else v - e for v, e, lo in zip(data, a, lolims)]\n"
     ]
    }
   ],
   "source": [
    "if __name__ == \"__main__\":\n",
    "    # SetID, Time, Chan, Thr, Amp, RiseT, Dur, Eny, RMS, Counts, TRAI\n",
    "    feature_idx = [4, 6, 7]\n",
    "    interval_num = 6\n",
    "    interval = 1 / interval_num\n",
    "    interz = []\n",
    "    midz = []\n",
    "\n",
    "    for idx in feature_idx:\n",
    "        tmp = chan[:, idx]\n",
    "        tmp_max = int(max(tmp))\n",
    "        tmp_min = int(min(tmp))\n",
    "        if tmp_min <= 0:\n",
    "            interz.append([0] + [pow(10, i) for i in range(len(str(tmp_max)))])\n",
    "            midz.append([interval * pow(10, i)\n",
    "                         for i in range(len(str(tmp_max)) + 1)])\n",
    "        else:\n",
    "            interz.append([pow(10, i) for i in range(len(str(tmp_min)) - 1, \n",
    "                                                     len(str(tmp_max)))])\n",
    "            midz.append([interval * pow(10, i) \n",
    "                         for i in range(len(str(tmp_min)), \n",
    "                                        len(str(tmp_max)) + 1)])\n",
    "\n",
    "    xlabelz = ['Amplitude(μV)', 'Duration(μs)', 'Energy(aJ)']\n",
    "    ylabelz = ['PDF(A)', 'PDF(D)', 'PDF(E)']\n",
    "    \n",
    "    fig = plt.figure(figsize=[6, 3.9])\n",
    "#     plt.axes(xscale = \"log\")\n",
    "#     plt.semilogy\n",
    "    features_path = 'Ni-tension test-electrolysis-1-0.01-AE-20201031.txt'\n",
    "    \n",
    "    cal_ML(chan[:, 7], features_path, cls_1_KKM, cls_2_KKM, 'Energy(aJ)', r'$\\epsilon$')\n",
    "#     cal_PDF(chan[:, 7], features_path, interz[2], midz[2], interval_num, cls_1_KKM, cls_2_KKM, 'Energy(aJ)', 'PDF(E)')\n",
    "#     cal_CCDF(chan[:, 7], features_path, cls_1_KKM, cls_2_KKM, 'Energy(aJ)', 'CCD C(s)')\n",
    "#     cal_contour(chan[:, 6], chan_2[:, 7], 'Energy(aJ)', 'Duration(μs)', 'Contour')\n",
    "#     cal_correlation(Dur, Eny, cls_1_KKM, cls_2_KKM, 'Duration(μs)', 'Energy(aJ)')\n",
    "#     cal_waitingTime(Eny, features_path, 1/6, 6, cls_1_KKM, cls_2_KKM, 'Δt(s)', 'p(Δt)')"
   ]
  },
  {
   "cell_type": "markdown",
   "metadata": {},
   "source": [
    "### Waveform-Find with TRAI"
   ]
  },
  {
   "cell_type": "code",
   "execution_count": 282,
   "metadata": {
    "ExecuteTime": {
     "end_time": "2020-11-29T09:18:03.480652Z",
     "start_time": "2020-11-29T09:18:03.469684Z"
    },
    "code_folding": [
     0
    ]
   },
   "outputs": [],
   "source": [
    "def cal_wave(i, valid=True):\n",
    "    # Time, Chan, Thr, SampleRate, Samples, TR_mV, Data, TRAI\n",
    "    sig = np.multiply(array.array('h', bytes(i[-2])), i[-3] * 1000)\n",
    "    time = np.linspace(0, pow(i[-5], -1) * (i[-4] - 1) * pow(10, 6), i[-4])\n",
    "    thr = i[2]\n",
    "    if valid:\n",
    "        valid_wave_idx = np.where(abs(sig) >= thr)[0]\n",
    "        start = time[valid_wave_idx[0]]\n",
    "        end = time[valid_wave_idx[-1]]\n",
    "        duration = end - start\n",
    "        N = valid_wave_idx[-1] + 1 - valid_wave_idx[0]\n",
    "        sig = sig[valid_wave_idx[0]:(valid_wave_idx[-1] + 1)]\n",
    "        time = np.linspace(0, duration, sig.shape[0])\n",
    "    return time, sig"
   ]
  },
  {
   "cell_type": "markdown",
   "metadata": {},
   "source": [
    "#### 316L"
   ]
  },
  {
   "cell_type": "code",
   "execution_count": 33,
   "metadata": {
    "ExecuteTime": {
     "end_time": "2020-11-18T11:33:50.788276Z",
     "start_time": "2020-11-18T11:33:50.770770Z"
    }
   },
   "outputs": [],
   "source": [
    "TRAI_1 = [2939, 33400, 3391, 1720, 1882, 12861, 21555, 85898, 65567, 42415]\n",
    "TRAI_2 = [39553, 22378, 88770, 1808, 102212, 225509, 26146, 55467, 81744, 134964]"
   ]
  },
  {
   "cell_type": "markdown",
   "metadata": {},
   "source": [
    "#### Ni-electrolysis"
   ]
  },
  {
   "cell_type": "code",
   "execution_count": 456,
   "metadata": {},
   "outputs": [],
   "source": [
    "# 1.263, 1.395, 1.538, 1.728, 1.832, 2.233, 2.450, 2.573, 2.702, 3.079\n",
    "idx_1 = [5, 70, 3, 9, 0, 20, 136, 42, 54, 108]\n",
    "TRAI_1 = [735, 3218, 593, 1138, 323, 2001, 6585, 2614, 2832, 4619]\n",
    "\n",
    "# 1.365, 1.495, 1.773, 1.839, 1.95, 2.258, 2.390, 2.507, 2.680, 2.875\n",
    "idx_2 = [0, 172, 1, 3, 5, 112, 7, 144, 2, 137]\n",
    "TRAI_2 = [323, 9776, 383, 593, 735, 4694, 909, 7445, 405, 6695]"
   ]
  },
  {
   "cell_type": "code",
   "execution_count": 1070,
   "metadata": {
    "ExecuteTime": {
     "end_time": "2020-11-27T02:13:33.541080Z",
     "start_time": "2020-11-27T02:13:33.528113Z"
    }
   },
   "outputs": [],
   "source": [
    "# 0.115, 0.275, 0.297, 0.601, 1.024\n",
    "idx_select_2 = [50, 148, 51, 252, 10]\n",
    "TRAI_select_2 = [3067, 11644, 3079, 28583, 1501]\n",
    "\n",
    "# 0.303, 0.409, 0.534, 0.759, 1.026\n",
    "idx_select_1 = [13, 75, 79, 72, 71]\n",
    "TRAI_select_1 = [2949, 14166, 14815, 14140, 14090]"
   ]
  },
  {
   "cell_type": "code",
   "execution_count": 1183,
   "metadata": {
    "ExecuteTime": {
     "end_time": "2020-11-27T07:09:52.312771Z",
     "start_time": "2020-11-27T07:09:52.302770Z"
    }
   },
   "outputs": [],
   "source": [
    "# Misclassified point\n",
    "idx_select_2 = [18, 69, 5, 12, 53, 202]\n",
    "TRAI_select_2 = [4816, 13486, 2226, 3067, 11644, 37244]"
   ]
  },
  {
   "cell_type": "code",
   "execution_count": 15,
   "metadata": {
    "ExecuteTime": {
     "end_time": "2020-11-28T08:23:35.120683Z",
     "start_time": "2020-11-28T08:23:35.112652Z"
    },
    "code_folding": []
   },
   "outputs": [],
   "source": [
    "# Comparied with same energy\n",
    "idx_select_2 = [79, 229, 117, 285, 59]\n",
    "TRAI_select_2 = [4012, 22499, 7445, 34436, 3282]\n",
    "\n",
    "idx_select_1 = [160, 141, 57, 37, 70]\n",
    "TRAI_select_1 = [26465, 23930, 11974, 9379, 13667]"
   ]
  },
  {
   "cell_type": "code",
   "execution_count": 65,
   "metadata": {
    "ExecuteTime": {
     "end_time": "2020-11-28T08:42:20.870190Z",
     "start_time": "2020-11-28T08:42:20.859160Z"
    }
   },
   "outputs": [],
   "source": [
    "# Comparied with same amplitude\n",
    "idx_select_2 = [90, 23, 48, 50, 29]\n",
    "TRAI_select_2 = [4619, 2229, 2977, 3014, 2345]\n",
    "\n",
    "idx_select_1 = [16, 26, 87, 34, 22]\n",
    "TRAI_select_1 = [3932, 7412, 16349, 9001, 6300]"
   ]
  },
  {
   "cell_type": "code",
   "execution_count": 751,
   "metadata": {
    "ExecuteTime": {
     "end_time": "2020-11-26T08:06:42.929807Z",
     "start_time": "2020-11-26T08:06:42.919777Z"
    }
   },
   "outputs": [],
   "source": [
    "# Types of spectrum in each category\n",
    "trai_1 = chan[cls_1_KKM][:, -1].astype(int) # 306\n",
    "trai_2 = chan[cls_2_KKM][:, -1].astype(int) # 209\n",
    "\n",
    "points_2_1 = [16, 12, 204, 17]\n",
    "points_2_2 = [198, 122, 179, 56, 63]\n",
    "points_2_3 = [92, 67, 61, 140, 74]\n",
    "\n",
    "points_1_1 = [60, 41, 15, 102, 75]\n",
    "points_1_2 = [287, 42, 101, 28]\n",
    "points_1_3 = [192, 193, 199, 111, 170]\n",
    "points_1_4 = [72, 69, 39, 57, 13]"
   ]
  },
  {
   "cell_type": "markdown",
   "metadata": {},
   "source": [
    "#### Ni-pure"
   ]
  },
  {
   "cell_type": "code",
   "execution_count": 471,
   "metadata": {},
   "outputs": [],
   "source": [
    "# 1.263, 1.365, 1.422, 1.552, 1.601, 1.749, 1.875, 1.965, 2.339, 2.522\n",
    "idx_1 = [23, 2, 77, 3, 19 ,0 , 24, 22, 59, 101]\n",
    "TRAI_1 = [13345, 2751, 63678, 2876, 8716, 425, 13697, 12594, 49370, 81608]\n",
    "\n",
    "# 1.288, 1.365, 1.413, 1.552, 1.676, 1.785, 1.899, 1.975, 2.149, 2.341\n",
    "idx_2 = [60, 5, 9, 21, 8, 38, 0, 109, 3, 44]\n",
    "TRAI_2 = [52208, 3851, 4720, 11113, 4701, 22311, 425, 86575, 2876, 26988]"
   ]
  },
  {
   "cell_type": "code",
   "execution_count": null,
   "metadata": {},
   "outputs": [],
   "source": [
    "data_tra[2938][-1], N_pri, N_tra, data_pri.shape"
   ]
  },
  {
   "cell_type": "code",
   "execution_count": null,
   "metadata": {
    "ExecuteTime": {
     "end_time": "2020-11-17T03:40:04.800098Z",
     "start_time": "2020-11-17T03:40:04.794097Z"
    },
    "code_folding": [],
    "scrolled": true
   },
   "outputs": [],
   "source": [
    "# Time, Amp, RiseTime, Dur, Eny, Counts, TRAI\n",
    "for i in TRAI_2:\n",
    "    vallen = data_pri[i-1]\n",
    "    print('{:.8f} {} {} {} {} {:.0f} {:.0f}'.format(vallen[1], vallen[4], vallen[5], vallen[6], vallen[-4], vallen[-2], vallen[-1]))"
   ]
  },
  {
   "cell_type": "code",
   "execution_count": null,
   "metadata": {
    "code_folding": []
   },
   "outputs": [],
   "source": [
    "for i in TRAI_2:\n",
    "    validation(i-1)"
   ]
  },
  {
   "cell_type": "code",
   "execution_count": 285,
   "metadata": {
    "ExecuteTime": {
     "end_time": "2020-11-29T09:18:21.850723Z",
     "start_time": "2020-11-29T09:18:21.833727Z"
    },
    "scrolled": true
   },
   "outputs": [],
   "source": [
    "TRAI_1_all = chan[cls_1_KKM][:, -1].astype(int)\n",
    "TRAI_2_all = chan[cls_2_KKM][:, -1].astype(int)\n",
    "TRAI_all = np.append(TRAI_1_all, TRAI_2_all)"
   ]
  },
  {
   "cell_type": "code",
   "execution_count": 1436,
   "metadata": {
    "ExecuteTime": {
     "end_time": "2020-11-27T13:45:22.559689Z",
     "start_time": "2020-11-27T13:45:22.545691Z"
    }
   },
   "outputs": [
    {
     "data": {
      "text/plain": [
       "((256,), (212,), (303,), (515,))"
      ]
     },
     "execution_count": 1436,
     "metadata": {},
     "output_type": "execute_result"
    }
   ],
   "source": [
    "freq.shape, TRAI_2_all.shape, TRAI_1_all.shape, TRAI_all.shape"
   ]
  },
  {
   "cell_type": "code",
   "execution_count": 291,
   "metadata": {
    "ExecuteTime": {
     "end_time": "2020-11-29T09:19:50.113711Z",
     "start_time": "2020-11-29T09:19:49.962710Z"
    }
   },
   "outputs": [],
   "source": [
    "fig = plt.figure(figsize=(6, 4.1), num='POP')\n",
    "ax = fig.add_subplot()\n",
    "ax.plot(grid, Res/TRAI_all.shape[0])\n",
    "plot_norm(ax, xlabel='Freq (Hz)', ylabel='|Y(freq)|', title='Average Frequency', legend=False) # 'Freq (Hz)', '|Y(freq)|'"
   ]
  },
  {
   "cell_type": "code",
   "execution_count": 286,
   "metadata": {
    "ExecuteTime": {
     "end_time": "2020-11-29T09:18:29.421681Z",
     "start_time": "2020-11-29T09:18:27.931612Z"
    },
    "code_folding": []
   },
   "outputs": [],
   "source": [
    "# Selected waveform\n",
    "# wave = []\n",
    "# freq = np.zeros(256)\n",
    "size = 500\n",
    "Res = np.array([0 for _ in range(size)]).astype('float64')\n",
    "grid = np.linspace(0, pow(10, 6), size)\n",
    "# rand = np.random.randint(0, 212, 5)\n",
    "# fig = plt.figure(figsize=(6.5, 10), num='pop2--{}'.format(rand))\n",
    "# ylim = [35, 60, 80, 150, 250]\n",
    "\n",
    "# for idx, [j, lim] in enumerate(tqdm(zip(TRAI_select_1, ylim))):\n",
    "for j in TRAI_all:\n",
    "#     i = data_tra[j-1]\n",
    "#     if i[-1] != j:\n",
    "#         print('Error!')\n",
    "#         break\n",
    "#     valid_time, valid_data = cal_wave(i, valid=False)\n",
    "# #     wave.append(valid_data)\n",
    "    \n",
    "#     ax = fig.add_subplot(5, 2, 1 + idx * 2) \n",
    "#     ax.plot(valid_time, valid_data, color=color_1)\n",
    "#     ax.axhline(abs(i[2]), 0, valid_data.shape[0], linewidth=1, color=\"black\")\n",
    "#     ax.axhline(-abs(i[2]), 0, valid_data.shape[0], linewidth=1, color=\"black\")\n",
    "#     plot_norm(ax, xlabel='Time(μs)', ylabel='Amplitude(μV)', y_lim=[-lim, lim], legend=False, grid=True) # 'Time', 'Signal'\n",
    "\n",
    "    half_frq, normalization_half = cal_frequency(j-1, valid=False)\n",
    "    valid_idx = int((pow(10, 6)/max(half_frq))*half_frq.shape[0])\n",
    "# #     print(half_frq.shape, normalization_half.shape, max(half_frq), int((pow(10, 6)/max(half_frq))*half_frq.shape[0]))    \n",
    "    \n",
    "    # Calculate average frequency\n",
    "    tmp = [0 for _ in range(size)]\n",
    "    i = 1\n",
    "    for j, k in zip(half_frq[:valid_idx], normalization_half[:valid_idx]):\n",
    "        while True:\n",
    "            if grid[i-1] <= j < grid[i]:\n",
    "                tmp[i-1] += k\n",
    "                break\n",
    "            i += 1\n",
    "    Res += np.array(tmp)\n",
    "\n",
    "#     ax = fig.add_subplot(5, 2, 2 + idx * 2)\n",
    "#     i = data_tra[TRAI_select_2[idx]-1]\n",
    "#     if i[-1] != TRAI_select_2[idx]:\n",
    "#         print('Error!')\n",
    "#         break\n",
    "#     valid_time, valid_data = cal_wave(i, valid=False)\n",
    "#     ax.plot(valid_time, valid_data, color=color_2)\n",
    "#     ax.axhline(abs(i[2]), 0, valid_data.shape[0], linewidth=1, color=\"black\")\n",
    "#     ax.axhline(-abs(i[2]), 0, valid_data.shape[0], linewidth=1, color=\"black\")\n",
    "# #     ax.plot(half_frq, normalization_half)\n",
    "#     plot_norm(ax, xlabel='Time(μs)', ylabel='Amplitude(μV)', y_lim=[-lim, lim], legend=False, grid=True) # 'Freq (Hz)', '|Y(freq)|'"
   ]
  },
  {
   "cell_type": "code",
   "execution_count": 705,
   "metadata": {
    "ExecuteTime": {
     "end_time": "2020-11-26T07:30:56.014828Z",
     "start_time": "2020-11-26T07:30:55.893868Z"
    },
    "code_folding": [],
    "scrolled": false
   },
   "outputs": [],
   "source": [
    "# Waveform with specific TRAI\n",
    "j = 1501\n",
    "i = data_tra[j-1]\n",
    "time, sig = cal_wave(i, valid=False)\n",
    "fig = plt.figure(figsize=(6, 4.1), num='TRAI:%d'%j)\n",
    "ax = fig.add_subplot(1, 1, 1)\n",
    "ax.plot(time, sig)\n",
    "plt.axhline(abs(i[2]), 0, valid_data.shape[0], linewidth=1, color=\"red\")\n",
    "plt.axhline(-abs(i[2]), 0, valid_data.shape[0], linewidth=1,color=\"red\")\n",
    "plot_norm(ax, 'Time', 'Signal', title='TRAI:%d'%j, legend=False, grid=True)"
   ]
  },
  {
   "cell_type": "code",
   "execution_count": null,
   "metadata": {
    "ExecuteTime": {
     "end_time": "2020-11-18T12:29:39.000791Z",
     "start_time": "2020-11-18T12:29:38.935004Z"
    }
   },
   "outputs": [],
   "source": [
    "# Validate TRAI correct or not\n",
    "with open('val.txt', 'w') as f:\n",
    "    for i in tqdm(TRAI_1):\n",
    "        f.write('%d\\n'%data_tra[i-1][-1])"
   ]
  },
  {
   "cell_type": "code",
   "execution_count": 474,
   "metadata": {
    "ExecuteTime": {
     "end_time": "2020-11-18T12:31:43.789281Z",
     "start_time": "2020-11-18T12:31:42.697886Z"
    }
   },
   "outputs": [
    {
     "name": "stderr",
     "output_type": "stream",
     "text": [
      "\n",
      "  0%|          | 0/10 [00:00<?, ?it/s]\u001b[A\n",
      "100%|██████████| 10/10 [00:00<00:00, 147.91it/s]\u001b[A"
     ]
    }
   ],
   "source": [
    "# Save waveform\n",
    "os.chdir(r'/home/Yuanbincheng/data/pure')\n",
    "for idx, j in enumerate(tqdm(TRAI_1)):\n",
    "    i = data_tra[j-1]\n",
    "    valid_time, valid_data = cal_wave(i)\n",
    "    with open(path_pri[:-6] + '_pop1-%d'%(idx+1) + '.txt', 'w') as f:\n",
    "        f.write('Time, Signal\\n')\n",
    "        for k in range(valid_data.shape[0]):\n",
    "            f.write(\"{}, {}\\n\".format(valid_time[k], valid_data[k]))"
   ]
  },
  {
   "cell_type": "markdown",
   "metadata": {},
   "source": [
    "### Frequency"
   ]
  },
  {
   "cell_type": "code",
   "execution_count": 283,
   "metadata": {
    "ExecuteTime": {
     "end_time": "2020-11-29T09:18:06.750162Z",
     "start_time": "2020-11-29T09:18:06.733194Z"
    },
    "code_folding": [
     0
    ]
   },
   "outputs": [],
   "source": [
    "def cal_frequency(k, valid=True):\n",
    "    i = data_tra[k]\n",
    "    sig = np.multiply(array.array('h', bytes(i[-2])), i[-3] * 1000)\n",
    "    thr, Fs = i[2], i[3]\n",
    "    Ts = 1 / Fs\n",
    "    if valid:\n",
    "        valid_wave_idx = np.where(abs(sig) >= thr)[0]\n",
    "        sig = sig[valid_wave_idx[0]:(valid_wave_idx[-1] + 1)]\n",
    "    N = sig.shape[0]\n",
    "    fft_y = fft(sig)\n",
    "    abs_y = np.abs(fft_y)\n",
    "    normalization = abs_y / N\n",
    "    normalization_half = normalization[range(int(N / 2))]\n",
    "    frq = (np.arange(N) / N) * Fs\n",
    "    half_frq = frq[range(int(N / 2))]\n",
    "    # freq_max.append(half_frq[np.argmax(normalization_half)])\n",
    "#     print(i[-1], half_frq[np.argmax(normalization_half)])\n",
    "    return half_frq, normalization_half"
   ]
  },
  {
   "cell_type": "code",
   "execution_count": null,
   "metadata": {},
   "outputs": [],
   "source": [
    "k = 33399\n",
    "half_frq, normalization_half = cal_frequency(k, valid=False)\n",
    "\n",
    "fig = plt.figure(figsize=(6, 4.1), num='TRAI:%d'%(k+1))\n",
    "ax = plt.subplot()\n",
    "ax.plot(half_frq, normalization_half)\n",
    "plot_norm(ax, 'Freq (Hz)', '|Y(freq)|', 'TRAI:%d'%(k+1), legend=False)"
   ]
  },
  {
   "cell_type": "code",
   "execution_count": null,
   "metadata": {},
   "outputs": [],
   "source": [
    "# Selected waveform to transform\n",
    "freq = []\n",
    "fig = plt.figure(figsize=(6.5, 10), num='Frequency--{}'.format(TRAI_1))\n",
    "\n",
    "for idx, k in enumerate(TRAI_1):\n",
    "    half_frq, normalization_half = cal_frequency(k-1)\n",
    "    freq.append(normalization_half)\n",
    "    \n",
    "    ax = fig.add_subplot(5,2,1 + idx)\n",
    "    ax.plot(half_frq, normalization_half)\n",
    "    \n",
    "    plot_norm(ax, 'Freq (Hz)', '|Y(freq)|', x_lim=[0, pow(10, 6)], legend=False)"
   ]
  },
  {
   "cell_type": "markdown",
   "metadata": {},
   "source": [
    "### Search"
   ]
  },
  {
   "cell_type": "code",
   "execution_count": null,
   "metadata": {
    "ExecuteTime": {
     "end_time": "2020-11-17T03:19:16.794790Z",
     "start_time": "2020-11-17T03:19:16.767768Z"
    }
   },
   "outputs": [],
   "source": [
    "path = r'D:\\Dataset\\vallen\\Ni-tension test-electrolysis-1-0.01-AE-20201031'\n",
    "\n",
    "os.chdir(path)\n",
    "features_path = r'Ni-tension test-electrolysis-1-0.01-AE-20201031.txt'\n",
    "# Ni-tension test-pure-1-0.01-AE-20201030\n",
    "# Ni-tension test-electrolysis-1-0.01-AE-20201031\n",
    "\n",
    "# SetID, TRAI, Time, Chan, Thr, Amp, RiseT, Dur, Eny, RMS, Counts, Frequency(Hz)\n",
    "with open(features_path, 'r') as f:\n",
    "    feature = np.array([i.split(',')[2:] for i in f.readlines()[1:]])\n",
    "feature = feature.astype(np.float32)"
   ]
  },
  {
   "cell_type": "markdown",
   "metadata": {},
   "source": [
    "### Export data through time selection"
   ]
  },
  {
   "cell_type": "code",
   "execution_count": null,
   "metadata": {},
   "outputs": [],
   "source": [
    "t1 = []\n",
    "t2 = []\n",
    "t3 = []\n",
    "\n",
    "for _ in tqdm(range(N_pri)):\n",
    "    i = result_pri.fetchone()\n",
    "    if i[-2] is not None and i[-2] >= 6:\n",
    "        if 1200 <= i[1] < 1764:\n",
    "            t1.append(i)\n",
    "        if 1764 <= i[1] < 2968:\n",
    "            t2.append(i)\n",
    "        if 2968 <= i[1] < 5000:\n",
    "            t3.append(i)"
   ]
  },
  {
   "cell_type": "code",
   "execution_count": null,
   "metadata": {
    "ExecuteTime": {
     "end_time": "2020-11-13T05:57:33.157532Z",
     "start_time": "2020-11-13T05:57:33.139535Z"
    }
   },
   "outputs": [],
   "source": [
    "len(valid_idx), len(t1), len(t2)"
   ]
  },
  {
   "cell_type": "code",
   "execution_count": null,
   "metadata": {
    "ExecuteTime": {
     "end_time": "2020-11-13T05:57:03.558857Z",
     "start_time": "2020-11-13T05:57:03.491814Z"
    }
   },
   "outputs": [],
   "source": [
    "# save features to file\n",
    "with open(path_pri[-6] + '-2968-5000.txt', 'w') as f:\n",
    "    f.write('SetID, TRAI, Time, Chan, Thr, Amp, RiseT, Dur, Eny, RMS, Counts\\n')\n",
    "    # ID, Time(s), Chan, Thr(μV), Thr(dB), Amp(μV), Amp(dB), RiseT(s), Dur(s), Eny(aJ), RMS(μV), Counts, Frequency(Hz)\n",
    "    for i in t3:\n",
    "        f.write('{}, {}, {:.8f}, {}, {:.7f}, {:.7f}, {:.2f}, {:.2f}, {:.7f}, {:.7f}, {}\\n'.format(\n",
    "            i[0], i[-1], i[1], i[2], i[3], i[4], i[5], i[6], i[7], i[8], i[9]))"
   ]
  },
  {
   "cell_type": "markdown",
   "metadata": {},
   "source": [
    "### Append frequency"
   ]
  },
  {
   "cell_type": "code",
   "execution_count": null,
   "metadata": {
    "ExecuteTime": {
     "end_time": "2020-11-09T01:11:55.508881Z",
     "start_time": "2020-11-09T01:11:52.951386Z"
    },
    "code_folding": [
     8
    ],
    "scrolled": true
   },
   "outputs": [],
   "source": [
    "valid_idx = []\n",
    "for idx, i in enumerate(result_pri):\n",
    "    if i[-1] not in [None, 0]:\n",
    "        valid_idx.append(idx)\n",
    "valid_pri = np.array(result_pri)[valid_idx]\n",
    "\n",
    "freq_max = []\n",
    "result_tra = sorted(result_tra, key=lambda x: x[-1])\n",
    "for idx, i in enumerate(tqdm(result_tra)):\n",
    "    sig = np.multiply(array.array('h', bytes(i[-2])), i[-3] * 1000)\n",
    "    thr = i[2]\n",
    "    Fs = i[3]\n",
    "    Ts = 1 / Fs\n",
    "    if valid_pri[idx][-2] > 1:\n",
    "        valid_wave_idx = np.where(abs(sig) >= thr)[0]\n",
    "        valid_data = sig[valid_wave_idx[0]:(valid_wave_idx[-1] + 1)]\n",
    "        N = valid_data.shape[0]\n",
    "        fft_y = fft(valid_data)\n",
    "        abs_y = np.abs(fft_y)\n",
    "        normalization = abs_y / N\n",
    "        normalization_half = normalization[range(int(N / 2))]\n",
    "        frq = (np.arange(N) / N) * Fs\n",
    "        half_frq = frq[range(int(N / 2))]\n",
    "        try:\n",
    "            freq_max.append(half_frq[np.argmax(normalization_half)])\n",
    "        except:\n",
    "            freq_max.append(frq[0])"
   ]
  },
  {
   "cell_type": "code",
   "execution_count": null,
   "metadata": {
    "ExecuteTime": {
     "end_time": "2020-11-09T01:14:31.352187Z",
     "start_time": "2020-11-09T01:14:31.128217Z"
    },
    "code_folding": [
     1
    ]
   },
   "outputs": [],
   "source": [
    "# save features to file\n",
    "with open('Ni-tension test-electrolysis-1-0.01-AE-20201031.txt', 'w') as f:\n",
    "    f.write(\n",
    "        'SetID, TRAI, Time, Chan, Thr, Amp, RiseT, Dur, Eny, RMS, Counts\\n')\n",
    "    # ID, Time(s), Chan, Thr(μV), Thr(dB), Amp(μV), Amp(dB), RiseT(s), Dur(s), Eny(aJ), RMS(μV), Counts, Frequency(Hz)\n",
    "    j = 0\n",
    "    for i in valid_pri:\n",
    "        if i[-2] > 1:\n",
    "            f.write('{}, {}, {:.8f}, {}, {:.7f}, {:.7f}, {:.2f}, {:.2f}, {:.7f}, {:.7f}, {}\\n'.format(\n",
    "                i[0], i[-1], i[1], i[2], i[3], i[4], i[5], i[6], i[7], i[8], i[9]))\n",
    "            j += 1"
   ]
  },
  {
   "cell_type": "markdown",
   "metadata": {},
   "source": [
    "### Read"
   ]
  },
  {
   "cell_type": "code",
   "execution_count": null,
   "metadata": {
    "ExecuteTime": {
     "end_time": "2020-11-18T11:29:58.886898Z",
     "start_time": "2020-11-18T11:29:58.875233Z"
    },
    "code_folding": [
     0
    ]
   },
   "outputs": [],
   "source": [
    "def sqlite_read(path):\n",
    "    \"\"\"\n",
    "    python读取sqlite数据库文件\n",
    "    \"\"\"\n",
    "    mydb = sqlite3.connect(path)                # 链接数据库\n",
    "    mydb.text_factory = lambda x: str(x, 'gbk', 'ignore')\n",
    "    cur = mydb.cursor()                         # 创建游标cur来执行SQL语句\n",
    "\n",
    "    # 获取表名\n",
    "    cur.execute(\"SELECT name FROM sqlite_master WHERE type='table'\")\n",
    "    Tables = cur.fetchall()                     # Tables 为元组列表\n",
    "#     print(Tables)\n",
    "\n",
    "#     i = 0\n",
    "#     while True:\n",
    "#         try:\n",
    "#             tbl_name = Tables[i][0]                     # 获取第一个表名\n",
    "#             print(tbl_name)\n",
    "#         except:\n",
    "#             break\n",
    "#         # 获取表的列名\n",
    "#         cur.execute(\"SELECT * FROM {}\".format(tbl_name))\n",
    "#         col_name_list = [tuple[0] for tuple in cur.description]\n",
    "#         pprint.pprint(col_name_list)\n",
    "#         i += 1\n",
    "\n",
    "    # 获取表结构的所有信息\n",
    "    cur.execute(\"SELECT * FROM {}\".format(Tables[3][0]))\n",
    "    res = cur.fetchall()\n",
    "#     pprint.pprint(cur.fetchall()[-1][1])\n",
    "    return int(res[-2][1]), int(res[-1][1])"
   ]
  },
  {
   "cell_type": "code",
   "execution_count": null,
   "metadata": {
    "ExecuteTime": {
     "end_time": "2020-11-18T11:05:44.133018Z",
     "start_time": "2020-11-18T11:05:44.121680Z"
    },
    "scrolled": true
   },
   "outputs": [],
   "source": [
    "sqlite_read(path_pri)"
   ]
  },
  {
   "cell_type": "code",
   "execution_count": null,
   "metadata": {
    "ExecuteTime": {
     "end_time": "2020-11-07T08:49:08.692644Z",
     "start_time": "2020-11-07T08:49:08.670635Z"
    },
    "scrolled": true
   },
   "outputs": [],
   "source": [
    "conn.execute(\"PRAGMA table_info(view_tr_data)\").fetchall()"
   ]
  }
 ],
 "metadata": {
  "kernelspec": {
   "display_name": "Python 3",
   "language": "python",
   "name": "python3"
  },
  "language_info": {
   "codemirror_mode": {
    "name": "ipython",
    "version": 3
   },
   "file_extension": ".py",
   "mimetype": "text/x-python",
   "name": "python",
   "nbconvert_exporter": "python",
   "pygments_lexer": "ipython3",
   "version": "3.8.5"
  },
  "toc": {
   "base_numbering": 1,
   "nav_menu": {},
   "number_sections": true,
   "sideBar": true,
   "skip_h1_title": false,
   "title_cell": "Table of Contents",
   "title_sidebar": "Contents",
   "toc_cell": false,
   "toc_position": {
    "height": "calc(100% - 180px)",
    "left": "10px",
    "top": "150px",
    "width": "384px"
   },
   "toc_section_display": true,
   "toc_window_display": true
  },
  "varInspector": {
   "cols": {
    "lenName": 16,
    "lenType": 16,
    "lenVar": 40
   },
   "kernels_config": {
    "python": {
     "delete_cmd_postfix": "",
     "delete_cmd_prefix": "del ",
     "library": "var_list.py",
     "varRefreshCmd": "print(var_dic_list())"
    },
    "r": {
     "delete_cmd_postfix": ") ",
     "delete_cmd_prefix": "rm(",
     "library": "var_list.r",
     "varRefreshCmd": "cat(var_dic_list()) "
    }
   },
   "oldHeight": 122,
   "position": {
    "height": "574px",
    "left": "1152px",
    "right": "20px",
    "top": "128px",
    "width": "661px"
   },
   "types_to_exclude": [
    "module",
    "function",
    "builtin_function_or_method",
    "instance",
    "_Feature"
   ],
   "varInspector_section_display": "block",
   "window_display": false
  }
 },
 "nbformat": 4,
 "nbformat_minor": 4
}
