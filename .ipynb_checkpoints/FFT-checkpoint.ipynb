{
 "cells": [
  {
   "cell_type": "code",
   "execution_count": 1,
   "metadata": {
    "ExecuteTime": {
     "end_time": "2020-10-27T09:30:08.410371Z",
     "start_time": "2020-10-27T09:30:06.429631Z"
    }
   },
   "outputs": [],
   "source": [
    "import numpy as np\n",
    "from scipy.fftpack import fft\n",
    "import matplotlib.pyplot as plt\n",
    "from matplotlib.pylab import mpl\n",
    "import os\n",
    "import tqdm\n",
    "import math\n",
    "import time\n",
    "\n",
    "\n",
    "# mpl.rcParams['font.sans-serif'] = ['SimHei']  #显示中文\n",
    "mpl.rcParams['axes.unicode_minus'] = False  #显示负号\n",
    "%matplotlib qt5\n",
    "plt.rcParams['xtick.direction'] = 'in'\n",
    "plt.rcParams['ytick.direction'] = 'in'"
   ]
  },
  {
   "cell_type": "code",
   "execution_count": 2,
   "metadata": {
    "ExecuteTime": {
     "end_time": "2020-10-27T09:30:09.685053Z",
     "start_time": "2020-10-27T09:30:09.274947Z"
    }
   },
   "outputs": [],
   "source": [
    "path = r'E:\\data\\CM-4M-o18-2020.10.17-1-60'\n",
    "path = path.replace('\\\\','/')\n",
    "os.chdir(path)\n",
    "file_list = os.listdir(path)\n",
    "os.getcwd()\n",
    "\n",
    "data_path = 'CM-4M-o18-2020.10.17-1-60.txt'\n",
    "amplitude = []\n",
    "energy = []\n",
    "duration = []\n",
    "rise_time = []\n",
    "rms = []\n",
    "with open(data_path, \"r\") as f:\n",
    "    f.readline()\n",
    "    for _ in range(84641):\n",
    "        data = f.readline().split(',')\n",
    "        amplitude.append(float(data[5].strip()))\n",
    "        rise_time.append(float(data[7].strip()))\n",
    "        duration.append(float(data[8].strip()))\n",
    "        energy.append(float(data[9].strip()))"
   ]
  },
  {
   "cell_type": "code",
   "execution_count": null,
   "metadata": {
    "ExecuteTime": {
     "end_time": "2020-10-27T09:21:15.182604Z",
     "start_time": "2020-10-27T09:21:15.164609Z"
    }
   },
   "outputs": [],
   "source": [
    "# sorted(amplitude,reverse=True)\n",
    "np.argsort(amplitude)"
   ]
  },
  {
   "cell_type": "code",
   "execution_count": null,
   "metadata": {
    "ExecuteTime": {
     "end_time": "2020-10-27T09:21:12.580276Z",
     "start_time": "2020-10-27T09:21:12.493280Z"
    }
   },
   "outputs": [],
   "source": [
    "print('amplitude: ', min(amplitude), np.argmin(amplitude)\n",
    "      , max(amplitude), np.argmax(amplitude))\n",
    "print('duration: ', min(duration), np.argmin(duration)\n",
    "      , max(duration), np.argmax(duration))\n",
    "print('rise_time: ', min(rise_time), np.argmin(rise_time)\n",
    "      , max(rise_time), np.argmax(rise_time))\n",
    "print('energy: ', min(energy), np.argmin(energy)\n",
    "      , max(energy), np.argmax(energy))"
   ]
  },
  {
   "cell_type": "code",
   "execution_count": 8,
   "metadata": {
    "ExecuteTime": {
     "end_time": "2020-10-27T09:31:13.983749Z",
     "start_time": "2020-10-27T09:31:12.587611Z"
    }
   },
   "outputs": [
    {
     "name": "stderr",
     "output_type": "stream",
     "text": [
      "<ipython-input-8-05bde82b01b9>:3: MatplotlibDeprecationWarning: Using a string of single character colors as a color sequence is deprecated since 3.2 and will be removed two minor releases later. Use an explicit list instead.\n",
      "  ax[0].scatter(amplitude, energy, marker='o',c='',edgecolors='g', label = 'Amplitude-Energy')\n",
      "<ipython-input-8-05bde82b01b9>:15: MatplotlibDeprecationWarning: Using a string of single character colors as a color sequence is deprecated since 3.2 and will be removed two minor releases later. Use an explicit list instead.\n",
      "  ax[1].scatter(duration, amplitude, marker='o',c='',edgecolors='purple', label = 'Duration-Amplitude')\n"
     ]
    }
   ],
   "source": [
    "fig, ax = plt.subplots(2, 1)\n",
    "# Amplitude - Energy\n",
    "ax[0].scatter(amplitude, energy, marker='o',c='',edgecolors='g', label = 'Amplitude-Energy')\n",
    "ax[0].set_xlabel('Amplitude /μV')\n",
    "ax[0].set_ylabel('Energy /aJ')\n",
    "ax[0].set_title(\"Amplitude - Energy\")\n",
    "ax[0].set_xlim(10.0, 41.0)\n",
    "ax[0].set_xticks(np.linspace(10.0, 41.0, 7))\n",
    "ax[0].set_ylim(0.70, 4.5)\n",
    "ax[0].set_yticks(np.linspace(0.70, 4.5, 6))\n",
    "ax[0].legend(loc='upper left')\n",
    "ax[0].grid(True,linestyle = \"--\",color = 'gray' ,linewidth = '0.5',axis='both')\n",
    "\n",
    "# Duration - Amplitude\n",
    "ax[1].scatter(duration, amplitude, marker='o',c='',edgecolors='purple', label = 'Duration-Amplitude')\n",
    "ax[1].set_xlabel('Duration /s')\n",
    "ax[1].set_ylabel('Amplitude /μV')\n",
    "ax[1].set_title(\"Duration - Amplitude\")\n",
    "ax[1].set_xlim(0.00079, 0.00103)\n",
    "ax[1].set_xticks(np.linspace(0.00079, 0.00103, 6))\n",
    "ax[1].set_ylim(10.0, 41.0)\n",
    "ax[1].set_yticks(np.linspace(10.0, 41.0, 7))\n",
    "ax[1].legend(loc='upper left')\n",
    "ax[1].grid(True,linestyle = \"--\",color = 'gray' ,linewidth = '0.5',axis='both')\n",
    "\n",
    "plt.tight_layout()"
   ]
  },
  {
   "cell_type": "code",
   "execution_count": 5,
   "metadata": {
    "ExecuteTime": {
     "end_time": "2020-10-27T09:30:19.954307Z",
     "start_time": "2020-10-27T09:30:19.931305Z"
    }
   },
   "outputs": [
    {
     "data": {
      "text/plain": [
       "(array([663.3768922, 663.3768924, 663.3768926, ..., 663.3779156,\n",
       "        663.3779158, 663.377916 ]),\n",
       " array([-6.408690e-06, -5.340580e-06, -4.272460e-06, ...,  1.419067e-05,\n",
       "         2.380371e-05,  2.517700e-05]),\n",
       " ['37198, 663.3768922, 1, 3.55655882, 25.0, 187.53052000, 59.4, 0.0008650, 0.0010238, 126.79085217, 35.19138811, 205'],\n",
       " array([   0,    1,    2, ..., 5117, 5118, 5119], dtype=int64))"
      ]
     },
     "execution_count": 5,
     "metadata": {},
     "output_type": "execute_result"
    }
   ],
   "source": [
    "file = 'CM-4M-o18-2020.10.17-1-60_1_37198_663376892.txt'\n",
    "# CM-4M-o18-2020.10.17-1-60_1_45583_819030862\n",
    "process = Preprocessing(25, 5, 60, file)\n",
    "valid_time, valid_data = [], []\n",
    "valid_time, valid_data, features, valid_wave_idx = process.main(file)\n",
    "valid_time, valid_data, features, valid_wave_idx"
   ]
  },
  {
   "cell_type": "code",
   "execution_count": 7,
   "metadata": {
    "ExecuteTime": {
     "end_time": "2020-10-27T09:31:05.409473Z",
     "start_time": "2020-10-27T09:31:05.181878Z"
    }
   },
   "outputs": [],
   "source": [
    "Ts = 0.0000002\n",
    "Fs = 1 / Ts\n",
    "N = 5120\n",
    "end = Ts * N\n",
    "time = np.arange(0, end, Ts)\n",
    "frq = (np.arange(N) / N) * Fs\n",
    "fft_y = fft(valid_data)\n",
    "\n",
    "abs_y = np.abs(fft_y)\n",
    "normalization = abs_y / N\n",
    "half_frq = frq[range(int(N / 2))]\n",
    "normalization_half = normalization[range(int(N / 2))]\n",
    "\n",
    "titles = ['Original Waveform', 'Bilateral amplitude spectrum (normalized)', 'Unilateral amplitude spectrum (normalized)']\n",
    "colors = ['purple', 'green', 'blue']\n",
    "x_label = ['Time (s)', 'Freq (Hz)', 'Freq (Hz)']\n",
    "y_label = ['Amplitude (μV)', '|Y(freq)|', '|Y(freq)|']\n",
    "xs = [time, frq, half_frq]\n",
    "ys = [valid_data, normalization, normalization_half]\n",
    "\n",
    "for i, [x, y, title, color, xlabel, ylabel] in enumerate(zip(xs, ys, titles, colors, x_label, y_label)):\n",
    "    plt.subplot(311 + i)\n",
    "    plt.plot(x, y, color)\n",
    "    plt.xlabel(xlabel)\n",
    "    plt.ylabel(ylabel)\n",
    "    plt.title(title, color=color)\n",
    "plt.tight_layout()"
   ]
  },
  {
   "cell_type": "code",
   "execution_count": 4,
   "metadata": {
    "ExecuteTime": {
     "end_time": "2020-10-27T09:30:18.513138Z",
     "start_time": "2020-10-27T09:30:18.475028Z"
    }
   },
   "outputs": [],
   "source": [
    "class Preprocessing:\n",
    "    def __init__(self, thr_dB, thr_noise_ratio, magnification_dB, data_path):\n",
    "        self.thr_dB = thr_dB\n",
    "        self.thr_noise_ratio = thr_noise_ratio\n",
    "        self.magnification_dB = magnification_dB\n",
    "        self.thr_V = pow(10, self.thr_dB / 20) / (self.thr_noise_ratio * pow(10, 6))\n",
    "        self.counts = 0\n",
    "        self.duration = 0\n",
    "        self.amplitude = 0\n",
    "        self.rise_time = 0\n",
    "        self.energy = 0\n",
    "        self.RMS = 0\n",
    "        self.hit_num = 0\n",
    "        self.time = 0\n",
    "        self.channel_num = 0\n",
    "        self.sample_interval = 0\n",
    "        self.magnification = pow(10, self.magnification_dB / 20)\n",
    "        self.data_path = data_path\n",
    "\n",
    "    def skip_n_column(self, file, n=3):\n",
    "        for _ in range(n):\n",
    "            file.readline()\n",
    "\n",
    "    def cal_features(self, dataset, time_label, valid_wave_idx):\n",
    "        start = time_label[valid_wave_idx[0]]\n",
    "        end = time_label[valid_wave_idx[-1]]\n",
    "        self.duration = end - start\n",
    "        max_idx = np.argmax(abs(dataset))\n",
    "        self.amplitude = abs(dataset[max_idx])\n",
    "        self.rise_time = time_label[max_idx] - start\n",
    "        valid_data = dataset[valid_wave_idx[0]:(valid_wave_idx[-1] + 1)]\n",
    "        self.energy = np.sum(np.multiply(pow(valid_data, 2), self.sample_interval))\n",
    "        self.RMS = math.sqrt(self.energy / self.duration)\n",
    "\n",
    "        return valid_data\n",
    "\n",
    "    def cal_counts(self, valid_data):\n",
    "        self.counts = 0\n",
    "        N = len(valid_data)\n",
    "        for idx in range(1, N):\n",
    "            if valid_data[idx - 1] <= self.thr_V <= valid_data[idx]:\n",
    "                self.counts += 1\n",
    "\n",
    "    def main(self, file_name, data=[]):\n",
    "        with open(file_name, \"r\") as f:\n",
    "            self.skip_n_column(f)\n",
    "            self.sample_interval = float(f.readline()[29:])\n",
    "            self.skip_n_column(f)\n",
    "            points_num = int(f.readline()[36:])\n",
    "            self.channel_num = int(f.readline().strip()[16:])\n",
    "            self.hit_num = int(f.readline()[12:])\n",
    "            self.time = float(f.readline()[14:])\n",
    "            dataset = np.array([float(i.strip(\"\\n\")) for i in f.readlines()[1:]]) / self.magnification\n",
    "            time_label = np.linspace(self.time, self.time + self.sample_interval * (points_num - 1), points_num)\n",
    "\n",
    "            # calculate the duration, amplitude, rise_time, energy and counts\n",
    "            valid_wave_idx = np.where(abs(dataset) >= self.thr_V)[0]\n",
    "            valid_time = time_label[valid_wave_idx[0]:(valid_wave_idx[-1] + 1)]\n",
    "            # print(dataset[0], dataset[-1], len(dataset))\n",
    "            # print(valid_wave_idx)\n",
    "\n",
    "            if valid_wave_idx.shape[0]:\n",
    "                valid_data = self.cal_features(dataset, time_label, valid_wave_idx)\n",
    "                self.cal_counts(valid_data)\n",
    "                if self.counts >= 2:\n",
    "                    data = [\n",
    "                        '{}, {:.7f}, {}, {:.8f}, {:.1f}, {:.8f}, {:.1f}, {:.7f}, {:.7f}, {:.8f}, {:.8f}, {}'.format(\n",
    "                            self.hit_num, self.time, self.channel_num, self.thr_V * pow(10, 6), self.thr_dB,\n",
    "                                                                       self.amplitude * pow(10, 6),\n",
    "                                                                       20 * np.log10(\n",
    "                                                                           self.thr_noise_ratio * self.amplitude * pow(\n",
    "                                                                               10, 6)), self.rise_time,\n",
    "                            self.duration, self.energy * pow(10, 14), self.RMS * pow(10, 6), self.counts)]\n",
    "        # ID, Time(s), Chan, Thr(μV)P, Thr(dB), Amp(μV), Amp(dB), RiseT(s), Dur(s), Eny(aJ), RMS(μV), Counts\n",
    "\n",
    "        return valid_time, valid_data, data, valid_wave_idx"
   ]
  }
 ],
 "metadata": {
  "kernelspec": {
   "display_name": "Python 3",
   "language": "python",
   "name": "python3"
  },
  "language_info": {
   "codemirror_mode": {
    "name": "ipython",
    "version": 3
   },
   "file_extension": ".py",
   "mimetype": "text/x-python",
   "name": "python",
   "nbconvert_exporter": "python",
   "pygments_lexer": "ipython3",
   "version": "3.8.5"
  }
 },
 "nbformat": 4,
 "nbformat_minor": 4
}
