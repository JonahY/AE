{
 "cells": [
  {
   "cell_type": "code",
   "execution_count": null,
   "metadata": {
    "ExecuteTime": {
     "end_time": "2020-10-15T08:11:50.422634Z",
     "start_time": "2020-10-15T08:11:50.409632Z"
    }
   },
   "outputs": [],
   "source": [
    "import numpy as np\n",
    "from scipy.fftpack import fft\n",
    "import matplotlib.pyplot as plt\n",
    "from matplotlib.pylab import mpl\n",
    "\n",
    "mpl.rcParams['font.sans-serif'] = ['SimHei']  #显示中文\n",
    "mpl.rcParams['axes.unicode_minus'] = False  #显示负号\n",
    "%matplotlib qt5"
   ]
  },
  {
   "cell_type": "code",
   "execution_count": 12,
   "metadata": {
    "ExecuteTime": {
     "end_time": "2020-10-15T08:24:42.062082Z",
     "start_time": "2020-10-15T08:24:41.896845Z"
    }
   },
   "outputs": [
    {
     "name": "stderr",
     "output_type": "stream",
     "text": [
      "D:\\Anaconda3\\lib\\site-packages\\numpy\\core\\_asarray.py:85: ComplexWarning: Casting complex values to real discards the imaginary part\n",
      "  return array(a, dtype, copy=False, order=order)\n"
     ]
    }
   ],
   "source": [
    "#采样点选择1400个，因为设置的信号频率分量最高为600赫兹，根据采样定理知\n",
    "#采样频率要大于信号频率2倍，所以这里设置采样频率为1400赫兹\n",
    "x = np.linspace(0, 1, 1400)\n",
    "\n",
    "#设置需要采样的信号，频率分量有200，400和600\n",
    "y = 7 * np.sin(2 * np.pi * 200 * x) + 5 * np.sin(\n",
    "    2 * np.pi * 400 * x) + 3 * np.sin(2 * np.pi * 600 * x)\n",
    "\n",
    "fft_y = fft(y)  #快速傅里叶变换\n",
    "\n",
    "N = 1400\n",
    "x = np.arange(N)  # 频率个数\n",
    "half_x = x[range(int(N / 2))]  #取一半区间\n",
    "\n",
    "abs_y = np.abs(fft_y)  # 取复数的绝对值，即复数的模(双边频谱)\n",
    "angle_y = np.angle(fft_y)  #取复数的角度\n",
    "normalization_y = abs_y / N  #归一化处理（双边频谱）\n",
    "normalization_half_y = normalization_y[range(int(N / 2))]  #由于对称性，只取一半区间（单边频谱）\n",
    "\n",
    "titles = [\n",
    "    '原始波形', '双边振幅谱(未求振幅绝对值)', '双边振幅谱(未归一化)', '双边振幅谱(归一化)', '双边振幅谱(归一化)',\n",
    "    '单边振幅谱(归一化)'\n",
    "]\n",
    "colors = ['purple', 'black', 'red', 'violet', 'green', 'blue']\n",
    "xs = [x] * 5 + [half_x]\n",
    "ys = [y, fft_y, abs_y, angle_y, normalization_y, normalization_half_y]\n",
    "\n",
    "for i, [x, y, title, color] in enumerate(zip(xs, ys, titles, colors)):\n",
    "    plt.subplot(231 + i)\n",
    "    plt.plot(x, y, color)\n",
    "    plt.title(title, fontsize=9, color=color)"
   ]
  }
 ],
 "metadata": {
  "kernelspec": {
   "display_name": "Python 3",
   "language": "python",
   "name": "python3"
  },
  "language_info": {
   "codemirror_mode": {
    "name": "ipython",
    "version": 3
   },
   "file_extension": ".py",
   "mimetype": "text/x-python",
   "name": "python",
   "nbconvert_exporter": "python",
   "pygments_lexer": "ipython3",
   "version": "3.8.5"
  }
 },
 "nbformat": 4,
 "nbformat_minor": 4
}
