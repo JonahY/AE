{
 "cells": [
  {
   "cell_type": "code",
   "execution_count": 18,
   "metadata": {
    "ExecuteTime": {
     "end_time": "2020-10-19T13:53:26.663302Z",
     "start_time": "2020-10-19T13:53:26.656302Z"
    },
    "scrolled": true
   },
   "outputs": [],
   "source": [
    "import os\n",
    "import pandas as pd\n",
    "import numpy as np\n",
    "import matplotlib.pyplot as plt\n",
    "os.getcwd()\n",
    "%matplotlib qt5"
   ]
  },
  {
   "cell_type": "code",
   "execution_count": 113,
   "metadata": {
    "ExecuteTime": {
     "end_time": "2020-10-19T14:36:12.830824Z",
     "start_time": "2020-10-19T14:36:12.785719Z"
    },
    "scrolled": true
   },
   "outputs": [
    {
     "name": "stdout",
     "output_type": "stream",
     "text": [
      "100 2e-07 5120 1 100 12.0125153\n",
      "[0.00518799 0.00701904 0.0088501  ... 0.         0.         0.        ]\n",
      "[12.0125153 12.0125155 12.0125157 ... 12.0135387 12.0135389 12.0135391]\n",
      "560\n"
     ]
    }
   ],
   "source": [
    "path = 'C:\\\\Users\\\\Jonah\\\\Desktop\\\\AE\\\\CM-6M-o18-2020.10.17-1-60-a-waveform'\n",
    "# os.chdir(path)\n",
    "files_name = os.listdir(path)\n",
    "# for name in files_name:\n",
    "name = 'CM-6M-o18-2020.10.17-1-60_1_100_12012515.txt'\n",
    "thr_dB = 25\n",
    "thr_V = float('%.8f' % (pow(10, thr_dB / 20) / 5000000))\n",
    "with open(name, \"r\") as f:\n",
    "    for _ in range(3):\n",
    "        f.readline()\n",
    "    sample_interval = float(f.readline()[29:])\n",
    "    for _ in range(3):\n",
    "        f.readline()\n",
    "    points_num = int(f.readline()[36:])\n",
    "    channel_num = int(f.readline().strip()[16:])\n",
    "    hit_num = int(f.readline()[12:])\n",
    "    time = float(f.readline()[14:])\n",
    "    print(name.split('_')[2], sample_interval, points_num, channel_num, hit_num, time)\n",
    "    dataset = np.array([float(i.strip(\"\\n\")) for i in f.readlines()[1:]])\n",
    "    time_label = np.linspace(time, time + sample_interval * (points_num - 1), points_num)\n",
    "    print(dataset)\n",
    "    print(time_label)\n",
    "#     plt.plot(time_label, dataset)\n",
    "#     plt.plot(time_label, np.tile(thr_V, points_num))\n",
    "    \n",
    "    # calculate the duration, amplitude, rise_time, energy\n",
    "    valid_wave_idx = np.where(abs(dataset) >= thr_V)[0]\n",
    "    start = time_label[valid_wave_idx[0]]\n",
    "    end = time_label[valid_wave_idx[-1]]\n",
    "    duration = end - start\n",
    "    max_idx = np.argmax(abs(dataset))\n",
    "    amplitude = dataset[max_idx]\n",
    "    rise_time = time_label[max_idx] - start\n",
    "    valid_data = dataset[valid_wave_idx[0]:valid_wave_idx[-1]]\n",
    "    energy = np.sum(pow(valid_data, 2))\n",
    "    \n",
    "    # calcute the counts\n",
    "    counts = 1\n",
    "    idx = 1\n",
    "    while idx < len(valid_data):\n",
    "        if valid_data[idx - 1] <= thr_V <= valid_data[idx] or valid_data[idx] <= thr_V <= valid_data[idx - 1]:\n",
    "            counts += 1\n",
    "        idx += 1\n"
   ]
  }
 ],
 "metadata": {
  "kernelspec": {
   "display_name": "Python 3",
   "language": "python",
   "name": "python3"
  },
  "language_info": {
   "codemirror_mode": {
    "name": "ipython",
    "version": 3
   },
   "file_extension": ".py",
   "mimetype": "text/x-python",
   "name": "python",
   "nbconvert_exporter": "python",
   "pygments_lexer": "ipython3",
   "version": "3.7.3"
  }
 },
 "nbformat": 4,
 "nbformat_minor": 4
}
