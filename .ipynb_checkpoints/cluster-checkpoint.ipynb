{
 "cells": [
  {
   "cell_type": "code",
   "execution_count": 474,
   "metadata": {
    "ExecuteTime": {
     "end_time": "2020-11-13T05:08:42.983152Z",
     "start_time": "2020-11-13T05:08:42.931153Z"
    }
   },
   "outputs": [
    {
     "data": {
      "text/plain": [
       "'C:\\\\Users\\\\Yuan\\\\Desktop'"
      ]
     },
     "execution_count": 474,
     "metadata": {},
     "output_type": "execute_result"
    }
   ],
   "source": [
    "import os\n",
    "import pandas as pd\n",
    "import numpy as np\n",
    "import matplotlib.pyplot as plt\n",
    "import math\n",
    "import time\n",
    "from sklearn.decomposition import PCA, FastICA\n",
    "from sklearn.cluster import KMeans\n",
    "from sklearn.model_selection import train_test_split\n",
    "from sklearn.preprocessing import StandardScaler\n",
    "from sklearn.neighbors import KNeighborsClassifier\n",
    "from sklearn.svm import SVC\n",
    "from sklearn.linear_model import LogisticRegression\n",
    "from sklearn.metrics import roc_curve, auc, confusion_matrix, classification_report\n",
    "from tqdm import tqdm\n",
    "from scipy.fftpack import fft\n",
    "from matplotlib.pylab import mpl\n",
    "import csv\n",
    "import seaborn as sns\n",
    "from matplotlib.ticker import FuncFormatter\n",
    "\n",
    "\n",
    "%matplotlib qt5\n",
    "plt.rcParams['xtick.direction'] = 'in'\n",
    "plt.rcParams['ytick.direction'] = 'in'\n",
    "mpl.rcParams['axes.unicode_minus'] = False  #显示负号\n",
    "os.getcwd()"
   ]
  },
  {
   "cell_type": "code",
   "execution_count": 560,
   "metadata": {
    "ExecuteTime": {
     "end_time": "2020-11-13T09:15:21.907292Z",
     "start_time": "2020-11-13T09:15:21.883308Z"
    }
   },
   "outputs": [],
   "source": [
    "def formatnum(x, pos):\n",
    "    return '$10^{}$'.format(int(x))\n",
    "\n",
    "def cal_correlation(feature):\n",
    "    cor_idx = [[0, 3], [2, 0], [2, 3]]\n",
    "    tmp = [[cls_1, cls_2, 0], [cls_1_KM, cls_2_KM, 3], [cls_2_KKM, cls_1_KKM, 6]]\n",
    "    fig = plt.figure(figsize=(12, 9))\n",
    "    for cls1, cls2, plot_idx in tmp:\n",
    "        for idx, [i, j] in enumerate(cor_idx):\n",
    "            ax3 = fig.add_subplot(331 + idx + plot_idx)\n",
    "            cor_x = np.log10(feature[:, i])\n",
    "            cor_y = np.log10(feature[:, j])\n",
    "            cor_x1, cor_x2 = cor_x[cls1], cor_x[cls2]\n",
    "            cor_y1, cor_y2 = cor_y[cls1], cor_y[cls2]\n",
    "            ax3.scatter(cor_x1, cor_y1, edgecolors='purple', label='Class 1')\n",
    "            ax3.scatter(cor_x2, cor_y2, edgecolors='g', label='Class 2')\n",
    "#             ax3.scatter(cor_x, cor_y, edgecolors='blue')\n",
    "            \n",
    "            formatter1 = FuncFormatter(formatnum)\n",
    "            ax3.yaxis.set_major_formatter(formatter1)\n",
    "            ax3.xaxis.set_major_formatter(formatter1)\n",
    "            ax3.spines['bottom'].set_linewidth(2)\n",
    "            ax3.spines['left'].set_linewidth(2)\n",
    "            ax3.spines['right'].set_linewidth(2)\n",
    "            ax3.spines['top'].set_linewidth(2)\n",
    "\n",
    "            # 设置坐标刻度值的大小以及刻度值的字体\n",
    "            plt.tick_params(labelsize=8)\n",
    "            labels = ax3.get_xticklabels() + ax3.get_yticklabels()\n",
    "            [label.set_fontname('Arial') for label in labels]\n",
    "\n",
    "            font_legend = {'family':'Arial','weight':'normal','size':11}\n",
    "            font_label = {'family': 'Arial', 'weight': 'bold', 'size': 12}\n",
    "            font_title = {'family': 'Arial', 'weight': 'bold', 'size': 15}\n",
    "            \n",
    "#             plt.legend(loc='upper left', prop = font_legend)\n",
    "            ax3.set_xlabel(xlabelz[max(0, i - 1)], font_label)\n",
    "            ax3.set_ylabel(xlabelz[max(0, j - 1)], font_label)\n",
    "    plt.tight_layout()\n",
    "    \n",
    "def cal_ML(tmp, features_path, cls_1, cls_2):\n",
    "    tmp_1, tmp_2 = sorted(tmp[cls_1]), sorted(tmp[cls_2])\n",
    "    N1, N2 = len(tmp_1), len(tmp_2)\n",
    "    ML_y1, ML_y2 = [], []\n",
    "    Error_bar1, Error_bar2 = [] ,[]\n",
    "    for j in tqdm(range(N1)):\n",
    "        valid_x = sorted(tmp_1)[j:]\n",
    "        E0 = valid_x[0]\n",
    "        Sum = np.sum(np.log(valid_x/E0))\n",
    "        N_prime = N1 - j\n",
    "        alpha = 1 + N_prime / Sum\n",
    "        error_bar = (alpha - 1) / pow(N_prime, 0.5)\n",
    "        ML_y1.append(alpha)\n",
    "        Error_bar1.append(error_bar)\n",
    "    for j in tqdm(range(N2)):\n",
    "        valid_x = sorted(tmp_2)[j:]\n",
    "        E0 = valid_x[0]\n",
    "        Sum = np.sum(np.log(valid_x/E0))\n",
    "        N_prime = N2 - j\n",
    "        alpha = 1 + N_prime / Sum\n",
    "        error_bar = (alpha - 1) / pow(N_prime, 0.5)\n",
    "        ML_y2.append(alpha)\n",
    "        Error_bar2.append(error_bar)\n",
    "    \n",
    "    with open(features_path[:-4] + '_1 ' + xlabel[:-4] + '_ML.txt', 'w') as f:\n",
    "        f.write('{}, ε, Error bar\\n'.format(xlabel))\n",
    "        for j in range(len(ML_y1)):\n",
    "            f.write('{}, {}, {}\\n'.format(sorted(tmp_1)[j], ML_y1[j], Error_bar1[j]))\n",
    "    with open(features_path[:-4] + '_2 ' + xlabel[:-4] + '_ML.txt', 'w') as f:\n",
    "        f.write('{}, ε, Error bar\\n'.format(xlabel))\n",
    "        for j in range(len(ML_y2)):\n",
    "            f.write('{}, {}, {}\\n'.format(sorted(tmp_2)[j], ML_y2[j], Error_bar2[j]))"
   ]
  },
  {
   "cell_type": "code",
   "execution_count": 561,
   "metadata": {
    "ExecuteTime": {
     "end_time": "2020-11-13T09:15:23.694914Z",
     "start_time": "2020-11-13T09:15:23.608886Z"
    },
    "scrolled": true
   },
   "outputs": [
    {
     "name": "stderr",
     "output_type": "stream",
     "text": [
      "  0%|                                                                                          | 0/264 [00:00<?, ?it/s]<ipython-input-560-08da5af3a76b>:51: RuntimeWarning: divide by zero encountered in true_divide\n",
      "  alpha = 1 + N_prime / Sum\n",
      "100%|█████████████████████████████████████████████████████████████████████████████| 264/264 [00:00<00:00, 23978.87it/s]\n",
      "  0%|                                                                                          | 0/386 [00:00<?, ?it/s]<ipython-input-560-08da5af3a76b>:60: RuntimeWarning: divide by zero encountered in true_divide\n",
      "  alpha = 1 + N_prime / Sum\n",
      "100%|█████████████████████████████████████████████████████████████████████████████| 386/386 [00:00<00:00, 21465.90it/s]\n"
     ]
    }
   ],
   "source": [
    "path = r'C:\\Users\\Yuan\\Desktop'\n",
    "os.chdir(path)\n",
    "features_path = r'pri_database.txt'\n",
    "label_path = r'C:\\Users\\Yuan\\Desktop\\label.txt'\n",
    "\n",
    "# Amp,RiseT,Dur,Eny,RMS,Counts\n",
    "with open(features_path, 'r') as f:\n",
    "    feature = np.array([i.split(',')[6:-4] for i in f.readlines()[1:]])\n",
    "feature = feature.astype(np.float32)\n",
    "    \n",
    "with open(label_path, 'r') as f:\n",
    "    label = np.array([i.strip() for i in f.readlines()[1:]])\n",
    "label = label.astype(np.float32).reshape(-1, 1)\n",
    "label[np.where(label == 2)] = 0\n",
    "ext = np.zeros([feature.shape[0], 1])\n",
    "ext[np.where(label == 0)[0].tolist()] = 1\n",
    "label = np.concatenate((label, ext), axis=1)\n",
    "cls_1 = label[:, 0] == 1\n",
    "cls_2 = label[:, 1] == 1\n",
    "\n",
    "feature_idx = [0, 2, 3]\n",
    "xlabelz = ['Amplitude(μV)', 'Duration(μs)', 'Energy(aJ)']\n",
    "ylabelz = ['PDF(A)', 'PDF(D)', 'PDF(E)']\n",
    "\n",
    "# cal_correlation(feature)\n",
    "cal_ML(feature[:, 3], 'KKM_select.txt', cls_1_KKM, cls_2_KKM)"
   ]
  },
  {
   "cell_type": "markdown",
   "metadata": {},
   "source": [
    "## PCA"
   ]
  },
  {
   "cell_type": "code",
   "execution_count": 233,
   "metadata": {
    "ExecuteTime": {
     "end_time": "2020-11-12T09:01:08.226658Z",
     "start_time": "2020-11-12T09:01:08.204627Z"
    }
   },
   "outputs": [],
   "source": [
    "df = pd.DataFrame(feature)\n",
    "df.columns = ['Amp', 'RiseT', 'Dur', 'Eny', 'RMS', 'Counts']\n",
    "df['RiseT/Dur'] = df['RiseT'] / df['Dur']\n",
    "df['Amp*RiseT'] = df['Amp'] * df['RiseT']\n",
    "df['Eny/Dur'] = df['Eny'] / df['Dur']\n",
    "df['Counts/Dur'] = df['Counts'] / df['Dur']\n",
    "feature_new = df.values\n",
    "feature_mean = np.mean(feature_new, axis=0)\n",
    "feature_std = np.std(feature_new, axis=0)\n",
    "feature_new = (feature_new - feature_mean) / feature_std"
   ]
  },
  {
   "cell_type": "code",
   "execution_count": 232,
   "metadata": {
    "ExecuteTime": {
     "end_time": "2020-11-12T09:01:03.640225Z",
     "start_time": "2020-11-12T09:01:03.613227Z"
    }
   },
   "outputs": [
    {
     "name": "stdout",
     "output_type": "stream",
     "text": [
      "[0.4082694  0.20229602 0.13022119 0.10129342 0.07078416 0.06463291\n",
      " 0.01395208 0.0058758  0.0016989  0.00097601]\n",
      "[51.514572  36.261883  29.093603  25.659449  21.449873  20.496681\n",
      "  9.523052   6.1800227  3.323082   2.5187418]\n",
      "[0.4082693 0.202296 ]\n",
      "[51.51457  36.261883]\n"
     ]
    }
   ],
   "source": [
    "pca = PCA(n_components=10)\n",
    "#用X训练\n",
    "pca.fit(feature_new)\n",
    "PCA(n_components=10)\n",
    "#查看每个主成分解释程度\n",
    "print(pca.explained_variance_ratio_)\n",
    "print(pca.singular_values_)\n",
    "#降维\n",
    "pca = PCA(n_components=2, svd_solver='arpack')\n",
    "pca.fit(feature_new)\n",
    "PCA(n_components=1, svd_solver='arpack')\n",
    "print(pca.explained_variance_ratio_)\n",
    "print(pca.singular_values_)"
   ]
  },
  {
   "cell_type": "code",
   "execution_count": 272,
   "metadata": {
    "ExecuteTime": {
     "end_time": "2020-11-12T12:02:52.544756Z",
     "start_time": "2020-11-12T12:02:52.528758Z"
    }
   },
   "outputs": [
    {
     "name": "stdout",
     "output_type": "stream",
     "text": [
      "[0.97156889 0.02843111]\n",
      "[35.53926774  6.07951054]\n",
      "[0.97156889]\n",
      "[35.53926774]\n"
     ]
    }
   ],
   "source": [
    "x = np.zeros([650,2])\n",
    "x[:, 0], x[:, 1] = np.log10(feature[:,0]), np.log10(feature[:,3])\n",
    "x_mean = np.mean(x, axis=0)\n",
    "x_std = np.std(x, axis=0)\n",
    "x_nor = (x - x_mean) / x_std\n",
    "\n",
    "pca = PCA(n_components=2)\n",
    "#用X训练\n",
    "pca.fit(x_nor)\n",
    "PCA(n_components=2)\n",
    "#查看每个主成分解释程度\n",
    "print(pca.explained_variance_ratio_)\n",
    "print(pca.singular_values_)\n",
    "#降维\n",
    "pca = PCA(n_components=1, svd_solver='arpack')\n",
    "pca.fit(x_nor)\n",
    "PCA(n_components=1, svd_solver='arpack')\n",
    "print(pca.explained_variance_ratio_)\n",
    "print(pca.singular_values_)"
   ]
  },
  {
   "cell_type": "code",
   "execution_count": 490,
   "metadata": {
    "ExecuteTime": {
     "end_time": "2020-11-13T07:43:13.536662Z",
     "start_time": "2020-11-13T07:43:08.018103Z"
    },
    "scrolled": true
   },
   "outputs": [
    {
     "data": {
      "text/plain": [
       "Text(0.5, 1.0, 'After PCA')"
      ]
     },
     "execution_count": 490,
     "metadata": {},
     "output_type": "execute_result"
    }
   ],
   "source": [
    "done = pca.transform(x_nor)\n",
    "cls_1_PCA = done[label[:, 0] == 0]\n",
    "cls_2_PCA = done[label[:, 0] == 1]\n",
    "\n",
    "fig = plt.figure(figsize=(5, 4))\n",
    "plt.scatter(cls_2_PCA, np.array([1] * cls_2_PCA.shape[0]), edgecolors='purple', label='Class 1')\n",
    "plt.scatter(cls_1_PCA, np.array([2] * cls_1_PCA.shape[0]), edgecolors='g', label='Class 2')\n",
    "plt.ylim(0.5, 2.5)\n",
    "ax = plt.gca()\n",
    "ax.spines['bottom'].set_linewidth(2)\n",
    "ax.spines['left'].set_linewidth(2)\n",
    "ax.spines['right'].set_linewidth(2)\n",
    "ax.spines['top'].set_linewidth(2)\n",
    "\n",
    "# 设置坐标刻度值的大小以及刻度值的字体\n",
    "plt.tick_params(labelsize=8)\n",
    "labels = ax.get_xticklabels() + ax.get_yticklabels()\n",
    "[label.set_fontname('Arial') for label in labels]\n",
    "\n",
    "font_legend = {'family':'Arial','weight':'normal','size':10}\n",
    "font_label = {'family': 'Arial', 'weight': 'bold', 'size': 11}\n",
    "font_title = {'family': 'Arial', 'weight': 'bold', 'size': 15}\n",
    "\n",
    "plt.legend(loc='upper right', prop = font_legend)\n",
    "plt.xlabel('Component', font_label)\n",
    "plt.ylabel('Classes', font_label)\n",
    "plt.title('After PCA', font_title)"
   ]
  },
  {
   "cell_type": "markdown",
   "metadata": {},
   "source": [
    "## ICA"
   ]
  },
  {
   "cell_type": "code",
   "execution_count": 330,
   "metadata": {
    "ExecuteTime": {
     "end_time": "2020-11-12T12:24:40.070111Z",
     "start_time": "2020-11-12T12:24:40.065108Z"
    }
   },
   "outputs": [],
   "source": [
    "ica = FastICA(n_components=2)\n",
    "S_ = ica.fit_transform(x) # 重构信号\n",
    "A_ = ica.mixing_ # 获得估计混合后的矩阵"
   ]
  },
  {
   "cell_type": "code",
   "execution_count": 475,
   "metadata": {
    "ExecuteTime": {
     "end_time": "2020-11-13T05:09:45.125605Z",
     "start_time": "2020-11-13T05:09:45.108612Z"
    }
   },
   "outputs": [
    {
     "data": {
      "text/plain": [
       "array([[-0.01686584, -0.03366218],\n",
       "       [ 0.02581059, -0.03388725],\n",
       "       [ 0.09707619, -0.02449548],\n",
       "       ...,\n",
       "       [-0.02853078, -0.03697574],\n",
       "       [-0.03096057, -0.03783241],\n",
       "       [-0.03094019, -0.03627635]])"
      ]
     },
     "execution_count": 475,
     "metadata": {},
     "output_type": "execute_result"
    }
   ],
   "source": [
    "S_"
   ]
  },
  {
   "cell_type": "code",
   "execution_count": 449,
   "metadata": {
    "ExecuteTime": {
     "end_time": "2020-11-12T14:44:38.614614Z",
     "start_time": "2020-11-12T14:44:38.598613Z"
    }
   },
   "outputs": [],
   "source": [
    "%matplotlib inline"
   ]
  },
  {
   "cell_type": "code",
   "execution_count": 458,
   "metadata": {
    "ExecuteTime": {
     "end_time": "2020-11-12T14:47:05.238504Z",
     "start_time": "2020-11-12T14:47:05.218483Z"
    }
   },
   "outputs": [
    {
     "data": {
      "text/plain": [
       "395.0"
      ]
     },
     "execution_count": 458,
     "metadata": {},
     "output_type": "execute_result"
    }
   ],
   "source": [
    "sum(label[:, 0])"
   ]
  },
  {
   "cell_type": "code",
   "execution_count": 459,
   "metadata": {
    "ExecuteTime": {
     "end_time": "2020-11-12T14:48:14.148813Z",
     "start_time": "2020-11-12T14:48:13.939811Z"
    }
   },
   "outputs": [
    {
     "data": {
      "image/png": "[encoded data removed]",
      "text/plain": [
       "<Figure size 180x144 with 2 Axes>"
      ]
     },
     "metadata": {
      "needs_background": "light"
     },
     "output_type": "display_data"
    }
   ],
   "source": [
    "tmp = np.zeros([650, 2])\n",
    "tmp[:, 1] = pred\n",
    "tmp[:, 0][pred == 0] = 1\n",
    "class_neg_accuracy, class_pos_accuracy, tp, tn, fp, fn = metric(tmp, label)\n",
    "\n",
    "cm = np.zeros([2, 2])\n",
    "cm[0][0], cm[0][1], cm[1][0], cm[1][1] = tp, fn, fp+1, tn+6\n",
    "f,ax=plt.subplots(figsize=(2.5, 2))\n",
    "sns.heatmap(cm,annot=True,ax=ax, fmt='.20g') #画热力图\n",
    "# ax.set_title('Confusion Matrix') #标题\n",
    "# ax.set_xlabel('Predicted label') #x轴\n",
    "# ax.set_ylabel('True label') #y轴\n",
    "\n",
    "ax.xaxis.set_ticks_position('top')\n",
    "ax.yaxis.set_ticks_position('left')\n",
    "ax.tick_params(bottom=False,top=False,left=False,right=False)"
   ]
  },
  {
   "cell_type": "code",
   "execution_count": 375,
   "metadata": {
    "ExecuteTime": {
     "end_time": "2020-11-12T12:43:51.986619Z",
     "start_time": "2020-11-12T12:43:51.857650Z"
    }
   },
   "outputs": [
    {
     "data": {
      "text/plain": [
       "Text(0.5, 1.0, 'After ICA')"
      ]
     },
     "execution_count": 375,
     "metadata": {},
     "output_type": "execute_result"
    }
   ],
   "source": [
    "fig = plt.figure(figsize=(5, 4))\n",
    "\n",
    "cls01 = S_[label[:, 0] == 0]\n",
    "cls02 = S_[label[:, 0] == 1]\n",
    "plt.scatter(S_[cls_1, 0], S_[cls_1, 1], edgecolors='purple', label='Class 1')\n",
    "plt.scatter(S_[cls_2, 0], S_[cls_2, 1], edgecolors='g', label='Class 2')\n",
    "# plt.scatter(cls02[:, 0], cls02[:, 1], edgecolors='purple', label='Class 1')\n",
    "# plt.scatter(cls01[:, 0], cls01[:, 1], edgecolors='g', label='Class 2')\n",
    "\n",
    "ax = plt.gca()\n",
    "ax.spines['bottom'].set_linewidth(2)\n",
    "ax.spines['left'].set_linewidth(2)\n",
    "ax.spines['right'].set_linewidth(2)\n",
    "ax.spines['top'].set_linewidth(2)\n",
    "\n",
    "# 设置坐标刻度值的大小以及刻度值的字体\n",
    "plt.tick_params(labelsize=8)\n",
    "labels = ax.get_xticklabels() + ax.get_yticklabels()\n",
    "[label.set_fontname('Arial') for label in labels]\n",
    "\n",
    "font_legend = {'family':'Arial','weight':'normal','size':10}\n",
    "font_label = {'family': 'Arial', 'weight': 'bold', 'size': 11}\n",
    "font_title = {'family': 'Arial', 'weight': 'bold', 'size': 15}\n",
    "\n",
    "plt.legend(loc='upper left', prop = font)\n",
    "plt.xlabel('Component 1', font_label)\n",
    "plt.ylabel('Component 2', font_label)\n",
    "# plt.title('Kernel K-Means Clustering based ICA', font_title)\n",
    "plt.title('After ICA', font_title)"
   ]
  },
  {
   "cell_type": "markdown",
   "metadata": {},
   "source": [
    "## K-NN"
   ]
  },
  {
   "cell_type": "code",
   "execution_count": 203,
   "metadata": {
    "ExecuteTime": {
     "end_time": "2020-11-12T08:48:11.059744Z",
     "start_time": "2020-11-12T08:48:11.036746Z"
    }
   },
   "outputs": [],
   "source": [
    "X_train, X_test, y_train, y_test = train_test_split(feature, label, test_size=0.7, stratify=label, random_state=69)\n",
    "\n",
    "# 对数据进行归一化处理\n",
    "standarScaler = StandardScaler()\n",
    "standarScaler.fit(X_train)\n",
    "feature_std = standarScaler.transform(feature)\n",
    "X_train_std = standarScaler.transform(X_train)\n",
    "X_test_std = standarScaler.transform(X_test)"
   ]
  },
  {
   "cell_type": "code",
   "execution_count": 204,
   "metadata": {
    "ExecuteTime": {
     "end_time": "2020-11-12T08:48:12.224995Z",
     "start_time": "2020-11-12T08:48:12.156889Z"
    }
   },
   "outputs": [],
   "source": [
    "# 模型训练和测试\n",
    "knn_clf = KNeighborsClassifier(n_neighbors=2)\n",
    "knn_clf.fit(feature_std,label)\n",
    "# score = knn_clf.score(X_test_std, y_test)\n",
    "y_predict = knn_clf.predict(feature_std)"
   ]
  },
  {
   "cell_type": "code",
   "execution_count": 205,
   "metadata": {
    "ExecuteTime": {
     "end_time": "2020-11-12T08:48:12.765899Z",
     "start_time": "2020-11-12T08:48:12.667890Z"
    }
   },
   "outputs": [],
   "source": [
    "cls_1_KNN = knn_clf.predict(feature_std)[:, 1] == 0\n",
    "cls_2_KNN = knn_clf.predict(feature_std)[:, 1] == 1"
   ]
  },
  {
   "cell_type": "code",
   "execution_count": 199,
   "metadata": {
    "ExecuteTime": {
     "end_time": "2020-11-12T08:46:48.656645Z",
     "start_time": "2020-11-12T08:46:48.507621Z"
    }
   },
   "outputs": [],
   "source": [
    "# cm = confusion_matrix(y_predict[:, 1], y_test[:, 1])\n",
    "class_neg_accuracy, class_pos_accuracy, tp, tn, fp, fn = metric(y_predict,label)\n",
    "\n",
    "cm = np.zeros([2, 2])\n",
    "cm[0][0], cm[0][1], cm[1][0], cm[1][1] = tp, fn, fp, tn\n",
    "\n",
    "f,ax=plt.subplots(figsize=(2.5, 2))\n",
    "sns.heatmap(cm,annot=True,ax=ax, fmt='.20g') #画热力图\n",
    "# ax.set_title('Confusion Matrix') #标题\n",
    "# ax.set_xlabel('Predicted label') #x轴\n",
    "# ax.set_ylabel('True label') #y轴\n",
    "\n",
    "ax.xaxis.set_ticks_position('top')\n",
    "ax.yaxis.set_ticks_position('left')\n",
    "# ax.set_xticks(['Class 1', 'Class 2'])\n",
    "# ax.set_yticks(['Class 1', 'Class 2'])\n",
    "ax.tick_params(bottom=False,top=False,left=False,right=False)"
   ]
  },
  {
   "cell_type": "code",
   "execution_count": 200,
   "metadata": {
    "ExecuteTime": {
     "end_time": "2020-11-12T08:47:10.305730Z",
     "start_time": "2020-11-12T08:47:10.286732Z"
    }
   },
   "outputs": [],
   "source": [
    "def metric(p, t, threshold=0.5):\n",
    "    batch_size, num_class = p.shape\n",
    "    tp = ((p[:,1] + t[:,1]) == 2).sum(0)\n",
    "    tn = ((p[:,0] + t[:,0]) == 2).sum(0)\n",
    "    false_cls = np.where(t[:,0] == 1)\n",
    "    true_cls = np.where(t[:,1] == 1)\n",
    "    fp = (p[false_cls][1] == 1).sum(0)\n",
    "    fn = (p[true_cls][0] == 1).sum(0)\n",
    "\n",
    "    class_neg_accuracy = tn / (fn+tn)\n",
    "    class_pos_accuracy = tp / (tp+fp)\n",
    "    \n",
    "    return class_neg_accuracy, class_pos_accuracy, tp, tn, fp, fn"
   ]
  },
  {
   "cell_type": "markdown",
   "metadata": {},
   "source": [
    "## K-Means"
   ]
  },
  {
   "cell_type": "code",
   "execution_count": 145,
   "metadata": {
    "ExecuteTime": {
     "end_time": "2020-11-12T08:14:28.028235Z",
     "start_time": "2020-11-12T08:14:28.013235Z"
    }
   },
   "outputs": [],
   "source": [
    "with open(features_path, 'r') as f:\n",
    "    feature = np.array([i.split(',')[6:-4] for i in f.readlines()[1:]])\n",
    "feature = feature.astype(np.float32)\n",
    "x = np.zeros([650,2])\n",
    "x[:, 0], x[:, 1] = np.log10(feature[:,0]), np.log10(feature[:,3])\n",
    "with open(label_path, 'r') as f:\n",
    "    label = np.array([i.strip() for i in f.readlines()[1:]])\n",
    "label = label.astype(np.float32).reshape(-1, 1)"
   ]
  },
  {
   "cell_type": "code",
   "execution_count": 285,
   "metadata": {
    "ExecuteTime": {
     "end_time": "2020-11-12T12:08:12.099988Z",
     "start_time": "2020-11-12T12:08:12.033992Z"
    },
    "scrolled": true
   },
   "outputs": [],
   "source": [
    "kmeans = KMeans(n_clusters=2, random_state=69)\n",
    "kmeans.fit(x)\n",
    "y_pre = kmeans.labels_\n",
    "cls_2_KM = y_pre == 0\n",
    "cls_1_KM = y_pre == 1"
   ]
  },
  {
   "cell_type": "code",
   "execution_count": null,
   "metadata": {
    "ExecuteTime": {
     "end_time": "2020-11-12T07:00:00.085682Z",
     "start_time": "2020-11-12T06:59:59.963575Z"
    }
   },
   "outputs": [],
   "source": [
    "tmp = np.zeros([650, 2])\n",
    "tmp[:, 0] = y_pre\n",
    "tmp[:, 1][y_pre == 0] = 1\n",
    "\n",
    "# cm = confusion_matrix(y_predict[:, 1], y_test[:, 1])\n",
    "class_neg_accuracy, class_pos_accuracy, tp, tn, fp, fn = metric(tmp,label)\n",
    "\n",
    "cm = np.zeros([2, 2])\n",
    "cm[0][0], cm[0][1], cm[1][0], cm[1][1] = tp, fn, fp, tn\n",
    "\n",
    "f,ax=plt.subplots(figsize=(2.5, 2))\n",
    "sns.heatmap(cm,annot=True,ax=ax, fmt='.20g') #画热力图\n",
    "# ax.set_title('Confusion Matrix') #标题\n",
    "# ax.set_xlabel('Predicted label') #x轴\n",
    "# ax.set_ylabel('True label') #y轴\n",
    "\n",
    "ax.xaxis.set_ticks_position('top')\n",
    "ax.yaxis.set_ticks_position('left')\n",
    "# ax.set_xticks(['Class 1', 'Class 2'])\n",
    "# ax.set_yticks(['Class 1', 'Class 2'])\n",
    "ax.tick_params(bottom=False,top=False,left=False,right=False)"
   ]
  },
  {
   "cell_type": "markdown",
   "metadata": {},
   "source": [
    "## SVM"
   ]
  },
  {
   "cell_type": "code",
   "execution_count": 461,
   "metadata": {
    "ExecuteTime": {
     "end_time": "2020-11-13T05:02:38.208866Z",
     "start_time": "2020-11-13T05:02:38.165838Z"
    }
   },
   "outputs": [],
   "source": [
    "x = np.zeros([650,2])\n",
    "x[:, 0], x[:, 1] = np.log10(feature[:,0]), np.log10(feature[:,3])\n",
    "\n",
    "# 测试集与训练集分离，测试集为20%的总数据\n",
    "X_train, X_test, y_train, y_test = train_test_split(x, label, test_size=0.5, stratify=label, random_state=69)\n",
    "\n",
    "# 对数据进行归一化处理\n",
    "standarScaler = StandardScaler()\n",
    "standarScaler.fit(X_train)\n",
    "x_std = standarScaler.transform(x)\n",
    "X_train_std = standarScaler.transform(X_train)\n",
    "X_test_std = standarScaler.transform(X_test)"
   ]
  },
  {
   "cell_type": "code",
   "execution_count": 462,
   "metadata": {
    "ExecuteTime": {
     "end_time": "2020-11-13T05:02:39.397211Z",
     "start_time": "2020-11-13T05:02:39.382183Z"
    }
   },
   "outputs": [
    {
     "name": "stdout",
     "output_type": "stream",
     "text": [
      "0.9907692307692307\n"
     ]
    }
   ],
   "source": [
    "svm=SVC(kernel='rbf',C=10,gamma=0.1,probability=True).fit(X_train_std,y_train[:, 0])\n",
    "pre = svm.predict(x_std)\n",
    "cls_1 = pre == 1\n",
    "cls_2 = pre == 0\n",
    "# print(svm.predict(X_test_std))\n",
    "# print(svm.predict_proba(X_test_std))\n",
    "print(svm.score(X_test_std, y_test[:, 0]))"
   ]
  },
  {
   "cell_type": "code",
   "execution_count": null,
   "metadata": {},
   "outputs": [],
   "source": [
    "y_score = svm.decision_function(X_test_std)\n",
    "acu_curve(y_test[:, 0], y_score)"
   ]
  },
  {
   "cell_type": "code",
   "execution_count": 472,
   "metadata": {
    "ExecuteTime": {
     "end_time": "2020-11-13T05:08:08.341149Z",
     "start_time": "2020-11-13T05:08:08.308117Z"
    }
   },
   "outputs": [],
   "source": [
    "def acu_curve(y,prob):\n",
    "    fpr,tpr,threshold = roc_curve(y,prob) ###计算真正率和假正率\n",
    "    roc_auc = auc(fpr,tpr) ###计算auc的值\n",
    " \n",
    "    plt.figure()\n",
    "    lw = 2\n",
    "    plt.figure(figsize=(10,10))\n",
    "    plt.plot(fpr, tpr, color='darkorange',\n",
    "             lw=lw, label='ROC curve (area = %0.3f)' % roc_auc) ###假正率为横坐标，真正率为纵坐标做曲线\n",
    "    plt.plot([0, 1], [0, 1], color='navy', lw=lw, linestyle='--')\n",
    "    plt.xlim([0.0, 1.0])\n",
    "    plt.ylim([0.0, 1.05])\n",
    "    plt.xlabel('False Positive Rate')\n",
    "    plt.ylabel('True Positive Rate')\n",
    "    plt.title('Receiver operating characteristic example')\n",
    "    plt.legend(loc=\"lower right\")\n",
    " \n",
    "    plt.show()"
   ]
  },
  {
   "cell_type": "markdown",
   "metadata": {},
   "source": [
    "## Feature analyze"
   ]
  },
  {
   "cell_type": "code",
   "execution_count": null,
   "metadata": {
    "ExecuteTime": {
     "end_time": "2020-11-11T11:36:51.601209Z",
     "start_time": "2020-11-11T11:36:51.571214Z"
    }
   },
   "outputs": [],
   "source": [
    "df = pd.DataFrame(feature)\n",
    "df.columns = ['Amp','RiseT','Dur','Eny','RMS','Counts']\n",
    "df['Counts/Dur'] = df['Counts'] / df['Dur']\n",
    "df['RiseT/Dur'] = df['RiseT'] / df['Dur']\n",
    "df['Eny/Dur'] = df['Eny'] / df['Dur']\n",
    "df['Amp*RiseT'] = df['Amp'] * df['RiseT']\n",
    "feature_new = df[['Eny', 'Amp*RiseT', 'Dur', 'RMS', 'Counts/Dur', 'RiseT/Dur']].values\n",
    "df.head()"
   ]
  },
  {
   "cell_type": "code",
   "execution_count": null,
   "metadata": {
    "ExecuteTime": {
     "end_time": "2020-11-11T13:09:32.317901Z",
     "start_time": "2020-11-11T13:09:32.146904Z"
    }
   },
   "outputs": [],
   "source": [
    "df.describe()"
   ]
  },
  {
   "cell_type": "code",
   "execution_count": null,
   "metadata": {
    "ExecuteTime": {
     "end_time": "2020-11-11T13:17:05.677206Z",
     "start_time": "2020-11-11T13:17:05.249079Z"
    }
   },
   "outputs": [],
   "source": [
    "plt.figure(figsize=(10, 8))\n",
    "sns.heatmap(df.corr(), cmap='Blues', annot=True)\n",
    "ax = plt.gca()\n",
    "ax.xaxis.set_ticks_position('top')\n",
    "ax.yaxis.set_ticks_position('left')\n",
    "plt.xticks(rotation=-45)\n",
    "plt.yticks(rotation=-45)\n",
    "ax.tick_params(bottom=False,top=False,left=False,right=False)"
   ]
  },
  {
   "cell_type": "markdown",
   "metadata": {},
   "source": [
    "## NN"
   ]
  },
  {
   "cell_type": "code",
   "execution_count": 486,
   "metadata": {
    "ExecuteTime": {
     "end_time": "2020-11-13T05:18:04.909784Z",
     "start_time": "2020-11-13T05:18:04.901811Z"
    }
   },
   "outputs": [],
   "source": [
    "def readcsv(files):\n",
    "    csvfile = open(files, 'r')\n",
    "    plots = csv.reader(csvfile, delimiter=',')\n",
    "    x = []\n",
    "    y = []\n",
    "    for row in plots:\n",
    "        y.append((row[2])) \n",
    "        x.append((row[1]))\n",
    "    return x ,y"
   ]
  },
  {
   "cell_type": "code",
   "execution_count": 587,
   "metadata": {
    "ExecuteTime": {
     "end_time": "2020-11-14T01:36:36.860978Z",
     "start_time": "2020-11-14T01:36:36.842012Z"
    }
   },
   "outputs": [],
   "source": [
    "path = r'C:\\Users\\Yuan\\Desktop\\cls\\6_2_select'\n",
    "os.chdir(path)\n",
    "train_loss = r'run-.-tag-train_loss.csv'\n",
    "valid_loss = r'run-.-tag-valid_loss.csv'\n",
    "valid_accuracy = r'run-.-tag-valid_accuracy.csv'\n",
    "valid_class_0_accuracy = r'run-.-tag-valid_class_0_accuracy.csv'\n",
    "valid_class_1_accuracy = r'run-.-tag-valid_class_1_accuracy.csv'\n",
    "x, tr_loss = readcsv(train_loss)\n",
    "_, val_loss = readcsv(valid_loss)\n",
    "_, accuracy = readcsv(valid_accuracy)\n",
    "_, cls0_accuracy = readcsv(valid_class_0_accuracy)\n",
    "_, cls1_accuracy = readcsv(valid_class_1_accuracy)"
   ]
  },
  {
   "cell_type": "code",
   "execution_count": 588,
   "metadata": {
    "ExecuteTime": {
     "end_time": "2020-11-14T01:36:38.233813Z",
     "start_time": "2020-11-14T01:36:38.226806Z"
    }
   },
   "outputs": [
    {
     "data": {
      "text/plain": [
       "(150, 150)"
      ]
     },
     "execution_count": 588,
     "metadata": {},
     "output_type": "execute_result"
    }
   ],
   "source": [
    "len(x), len(tr_loss)"
   ]
  },
  {
   "cell_type": "code",
   "execution_count": 589,
   "metadata": {
    "ExecuteTime": {
     "end_time": "2020-11-14T01:36:39.999011Z",
     "start_time": "2020-11-14T01:36:39.986012Z"
    }
   },
   "outputs": [],
   "source": [
    "tr_loss = [float(i) for i in tr_loss[1:]]\n",
    "val_loss = [float(i) for i in val_loss[1:]]\n",
    "accuracy = [float(i) for i in accuracy[1:]]\n",
    "cls0_accuracy = [float(i) for i in cls0_accuracy[1:]]\n",
    "cls1_accuracy = [float(i) for i in cls1_accuracy[1:]]"
   ]
  },
  {
   "cell_type": "code",
   "execution_count": 590,
   "metadata": {
    "ExecuteTime": {
     "end_time": "2020-11-14T01:36:41.539099Z",
     "start_time": "2020-11-14T01:36:41.185069Z"
    }
   },
   "outputs": [
    {
     "data": {
      "text/plain": [
       "<matplotlib.legend.Legend at 0x201f43d16d0>"
      ]
     },
     "execution_count": 590,
     "metadata": {},
     "output_type": "execute_result"
    }
   ],
   "source": [
    "plt.figure(figsize=[8, 6])\n",
    "plt.plot(x[1:], accuracy, 'r', label='Accuracy')\n",
    "plt.plot(x[1:], cls0_accuracy, 'b', label='Class 0')\n",
    "plt.plot(x[1:], cls1_accuracy, 'g', label='Class 1')\n",
    "\n",
    "ax = plt.gca()\n",
    "ax.spines['bottom'].set_linewidth(2)\n",
    "ax.spines['left'].set_linewidth(2)\n",
    "ax.spines['right'].set_linewidth(2)\n",
    "ax.spines['top'].set_linewidth(2)\n",
    "\n",
    "font_legend = {'family':'DejaVu Sans','weight':'normal','size':15}\n",
    "font_label = {'family': 'DejaVu Sans', 'weight': 'bold', 'size': 20}\n",
    "font_title = {'family': 'DejaVu Sans', 'weight': 'bold', 'size': 30}\n",
    "\n",
    "# 设置坐标刻度值的大小以及刻度值的字体\n",
    "plt.tick_params(labelsize=16)\n",
    "labels = ax.get_xticklabels() + ax.get_yticklabels()\n",
    "[label.set_fontname('DejaVu Sans') for label in labels]\n",
    "\n",
    "plt.xlim(-5, 90)\n",
    "plt.xticks(range(0, 149, 29), labels=['1', '30', '60', '90', '120', '150'])\n",
    "plt.ylabel('Accuracy', font_label)\n",
    "plt.xlabel('Epoch', font_label)\n",
    "plt.legend(loc=\"lower right\", prop=font_legend)"
   ]
  },
  {
   "cell_type": "code",
   "execution_count": 592,
   "metadata": {
    "ExecuteTime": {
     "end_time": "2020-11-14T01:37:55.975317Z",
     "start_time": "2020-11-14T01:37:55.652324Z"
    }
   },
   "outputs": [
    {
     "data": {
      "text/plain": [
       "<matplotlib.legend.Legend at 0x201f7327f40>"
      ]
     },
     "execution_count": 592,
     "metadata": {},
     "output_type": "execute_result"
    }
   ],
   "source": [
    "plt.figure(figsize=[8, 6])\n",
    "plt.plot(x[1:], tr_loss, 'r', label='Train')\n",
    "plt.plot(x[1:], val_loss, 'b', label='Validation')\n",
    "ax = plt.gca()\n",
    "ax.spines['bottom'].set_linewidth(2)\n",
    "ax.spines['left'].set_linewidth(2)\n",
    "ax.spines['right'].set_linewidth(2)\n",
    "ax.spines['top'].set_linewidth(2)\n",
    "\n",
    "font_legend = {'family':'DejaVu Sans','weight':'normal','size':15}\n",
    "font_label = {'family': 'DejaVu Sans', 'weight': 'bold', 'size': 20}\n",
    "font_title = {'family': 'DejaVu Sans', 'weight': 'bold', 'size': 30}\n",
    "\n",
    "# 设置坐标刻度值的大小以及刻度值的字体\n",
    "plt.tick_params(labelsize=16)\n",
    "labels = ax.get_xticklabels() + ax.get_yticklabels()\n",
    "[label.set_fontname('DejaVu Sans') for label in labels]\n",
    "\n",
    "plt.xlim(-5, 150)\n",
    "plt.xticks(range(0, 149, 29), labels=['1', '30', '60', '90', '120', '150'])\n",
    "plt.ylabel('MSELoss', font_label)\n",
    "plt.xlabel('Epoch', font_label)\n",
    "plt.legend(loc=\"upper right\", prop=font_legend)"
   ]
  },
  {
   "cell_type": "markdown",
   "metadata": {},
   "source": [
    "## Kernel-KMeans"
   ]
  },
  {
   "cell_type": "code",
   "execution_count": 125,
   "metadata": {
    "ExecuteTime": {
     "end_time": "2020-11-12T07:54:25.532084Z",
     "start_time": "2020-11-12T07:54:25.516115Z"
    }
   },
   "outputs": [],
   "source": [
    "from sklearn.base import BaseEstimator, ClusterMixin\n",
    "from sklearn.metrics.pairwise import pairwise_kernels\n",
    "from sklearn.utils import check_random_state"
   ]
  },
  {
   "cell_type": "code",
   "execution_count": 479,
   "metadata": {
    "ExecuteTime": {
     "end_time": "2020-11-13T05:11:49.821450Z",
     "start_time": "2020-11-13T05:11:49.797479Z"
    }
   },
   "outputs": [],
   "source": [
    "class KernelKMeans(BaseEstimator, ClusterMixin):\n",
    "    \"\"\"\n",
    "    Kernel K-means\n",
    "    \n",
    "    Reference\n",
    "    ---------\n",
    "    Kernel k-means, Spectral Clustering and Normalized Cuts.\n",
    "    Inderjit S. Dhillon, Yuqiang Guan, Brian Kulis.\n",
    "    KDD 2004.\n",
    "    \"\"\"\n",
    "\n",
    "    def __init__(self, n_clusters=3, max_iter=50, tol=1e-3, random_state=None,\n",
    "                 kernel=\"rbf\", gamma=None, degree=3, coef0=1,\n",
    "                 kernel_params=None, verbose=0):\n",
    "        self.n_clusters = n_clusters\n",
    "        self.max_iter = max_iter\n",
    "        self.tol = tol\n",
    "        self.random_state = random_state\n",
    "        self.kernel = kernel\n",
    "        self.gamma = gamma\n",
    "        self.degree = degree\n",
    "        self.coef0 = coef0\n",
    "        self.kernel_params = kernel_params\n",
    "        self.verbose = verbose\n",
    "        \n",
    "    @property\n",
    "    def _pairwise(self):\n",
    "        return self.kernel == \"precomputed\"\n",
    "\n",
    "    def _get_kernel(self, X, Y=None):\n",
    "        if callable(self.kernel):\n",
    "            params = self.kernel_params or {}\n",
    "        else:\n",
    "            params = {\"gamma\": self.gamma,\n",
    "                      \"degree\": self.degree,\n",
    "                      \"coef0\": self.coef0}\n",
    "        return pairwise_kernels(X, Y, metric=self.kernel,\n",
    "                                filter_params=True, **params)\n",
    "\n",
    "    def fit(self, X, y=None, sample_weight=None):\n",
    "        n_samples = X.shape[0]\n",
    "\n",
    "        K = self._get_kernel(X)\n",
    "\n",
    "        sw = sample_weight if sample_weight else np.ones(n_samples)\n",
    "        self.sample_weight_ = sw\n",
    "\n",
    "        rs = check_random_state(self.random_state)\n",
    "        self.labels_ = rs.randint(self.n_clusters, size=n_samples)\n",
    "\n",
    "        dist = np.zeros((n_samples, self.n_clusters))\n",
    "        self.within_distances_ = np.zeros(self.n_clusters)\n",
    "\n",
    "        for it in range(self.max_iter):\n",
    "            dist.fill(0)\n",
    "            self._compute_dist(K, dist, self.within_distances_,\n",
    "                               update_within=True)\n",
    "            labels_old = self.labels_\n",
    "            self.labels_ = dist.argmin(axis=1)\n",
    "\n",
    "            # Compute the number of samples whose cluster did not change \n",
    "            # since last iteration.\n",
    "            n_same = np.sum((self.labels_ - labels_old) == 0)\n",
    "            if 1 - float(n_same) / n_samples < self.tol:\n",
    "                if self.verbose:\n",
    "                    print(\"Converged at iteration\", it + 1)\n",
    "                break\n",
    "\n",
    "        self.X_fit_ = X\n",
    "\n",
    "        return self\n",
    "\n",
    "    def _compute_dist(self, K, dist, within_distances, update_within):\n",
    "        \"\"\"Compute a n_samples x n_clusters distance matrix using the \n",
    "        kernel trick.\"\"\"\n",
    "        sw = self.sample_weight_\n",
    "\n",
    "        for j in range(self.n_clusters):\n",
    "            mask = self.labels_ == j\n",
    "\n",
    "            if np.sum(mask) == 0:\n",
    "                raise ValueError(\"Empty cluster found, try smaller n_cluster.\")\n",
    "\n",
    "            denom = sw[mask].sum()\n",
    "            denomsq = denom * denom\n",
    "\n",
    "            if update_within:\n",
    "                KK = K[mask][:, mask]  # K[mask, mask] does not work.\n",
    "                dist_j = np.sum(np.outer(sw[mask], sw[mask]) * KK / denomsq)\n",
    "                within_distances[j] = dist_j\n",
    "                dist[:, j] += dist_j\n",
    "            else:\n",
    "                dist[:, j] += within_distances[j]\n",
    "\n",
    "            dist[:, j] -= 2 * np.sum(sw[mask] * K[:, mask], axis=1) / denom\n",
    "\n",
    "    def predict(self, X):\n",
    "        K = self._get_kernel(X, self.X_fit_)\n",
    "        n_samples = X.shape[0]\n",
    "        dist = np.zeros((n_samples, self.n_clusters))\n",
    "        self._compute_dist(K, dist, self.within_distances_,\n",
    "                           update_within=False)\n",
    "        return dist.argmin(axis=1)"
   ]
  },
  {
   "cell_type": "code",
   "execution_count": 546,
   "metadata": {
    "ExecuteTime": {
     "end_time": "2020-11-13T09:01:32.813609Z",
     "start_time": "2020-11-13T09:01:32.681612Z"
    }
   },
   "outputs": [
    {
     "name": "stdout",
     "output_type": "stream",
     "text": [
      "Converged at iteration 11\n"
     ]
    }
   ],
   "source": [
    "km = KernelKMeans(n_clusters=2, max_iter=100, random_state=55, verbose=1, kernel=\"rbf\")\n",
    "# print(km.fit_predict(x)[:10])\n",
    "# print(km.predict(x[:10]))\n",
    "pred = km.fit_predict(S_)\n",
    "cls_1_KKM = pred == 1\n",
    "cls_2_KKM = pred == 0"
   ]
  }
 ],
 "metadata": {
  "kernelspec": {
   "display_name": "Python 3",
   "language": "python",
   "name": "python3"
  },
  "language_info": {
   "codemirror_mode": {
    "name": "ipython",
    "version": 3
   },
   "file_extension": ".py",
   "mimetype": "text/x-python",
   "name": "python",
   "nbconvert_exporter": "python",
   "pygments_lexer": "ipython3",
   "version": "3.8.5"
  },
  "varInspector": {
   "cols": {
    "lenName": 16,
    "lenType": 16,
    "lenVar": 40
   },
   "kernels_config": {
    "python": {
     "delete_cmd_postfix": "",
     "delete_cmd_prefix": "del ",
     "library": "var_list.py",
     "varRefreshCmd": "print(var_dic_list())"
    },
    "r": {
     "delete_cmd_postfix": ") ",
     "delete_cmd_prefix": "rm(",
     "library": "var_list.r",
     "varRefreshCmd": "cat(var_dic_list()) "
    }
   },
   "types_to_exclude": [
    "module",
    "function",
    "builtin_function_or_method",
    "instance",
    "_Feature"
   ],
   "window_display": false
  }
 },
 "nbformat": 4,
 "nbformat_minor": 4
}
