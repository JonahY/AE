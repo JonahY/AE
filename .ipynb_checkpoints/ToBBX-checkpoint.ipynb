{
 "cells": [
  {
   "cell_type": "code",
   "execution_count": 2,
   "metadata": {
    "ExecuteTime": {
     "end_time": "2020-08-05T07:28:53.343931Z",
     "start_time": "2020-08-05T07:28:51.961589Z"
    }
   },
   "outputs": [],
   "source": [
    "import numpy as np # linear algebra\n",
    "import pandas as pd\n",
    "pd.set_option(\"display.max_rows\", 101)\n",
    "import os\n",
    "import cv2\n",
    "import json\n",
    "import matplotlib.pyplot as plt\n",
    "%matplotlib inline\n",
    "plt.rcParams[\"font.size\"] = 15\n",
    "import seaborn as sns\n",
    "from PIL import Image\n",
    "import math\n",
    "from pathlib import Path\n",
    "from tqdm import tqdm\n",
    "import random"
   ]
  },
  {
   "cell_type": "code",
   "execution_count": 26,
   "metadata": {
    "ExecuteTime": {
     "end_time": "2020-08-05T07:39:51.170654Z",
     "start_time": "2020-08-05T07:39:51.151387Z"
    },
    "scrolled": true
   },
   "outputs": [
    {
     "data": {
      "text/plain": [
       "0        0002cc93b.jpg\n",
       "4        00031f466.jpg\n",
       "8        000418bfc.jpg\n",
       "12       000789191.jpg\n",
       "16       0007a71bf.jpg\n",
       "20       000a4bcdd.jpg\n",
       "24       000f6bf48.jpg\n",
       "28       0014fce06.jpg\n",
       "32       001982b08.jpg\n",
       "36       001d1b355.jpg\n",
       "40       001d3d093.jpg\n",
       "44       0025bde0c.jpg\n",
       "48       002af848d.jpg\n",
       "52       002e73b3c.jpg\n",
       "56       002fc4e19.jpg\n",
       "60       0030401a5.jpg\n",
       "64       003ac9d2a.jpg\n",
       "68       0046839bd.jpg\n",
       "72       005b92582.jpg\n",
       "76       005d86c25.jpg\n",
       "80       005da33cf.jpg\n",
       "84       005dbf0e0.jpg\n",
       "88       005f02e20.jpg\n",
       "92       005f19695.jpg\n",
       "96       006a4402e.jpg\n",
       "100      0074d81d0.jpg\n",
       "104      00762aa3b.jpg\n",
       "108      007f28bba.jpg\n",
       "112      008479d08.jpg\n",
       "116      008621629.jpg\n",
       "120      0088260da.jpg\n",
       "124      00894274f.jpg\n",
       "128      008b9acf5.jpg\n",
       "132      008d0f87b.jpg\n",
       "136      008ef3d74.jpg\n",
       "140      0095cd374.jpg\n",
       "144      009b12ccc.jpg\n",
       "148      00ac8372f.jpg\n",
       "152      00af2671f.jpg\n",
       "156      00b989e78.jpg\n",
       "160      00bc01bfe.jpg\n",
       "164      00bf8497a.jpg\n",
       "168      00c24a74c.jpg\n",
       "172      00c6060db.jpg\n",
       "176      00c88fed0.jpg\n",
       "180      00cdb56a0.jpg\n",
       "184      00d639396.jpg\n",
       "188      00d7ae946.jpg\n",
       "192      00dcb19f3.jpg\n",
       "196      00ded7837.jpg\n",
       "             ...      \n",
       "50072    fec86da3c.jpg\n",
       "50076    fed07ccf3.jpg\n",
       "50080    fed23a483.jpg\n",
       "50084    fee93875b.jpg\n",
       "50088    feebccc73.jpg\n",
       "50092    feebe80d4.jpg\n",
       "50096    feec56162.jpg\n",
       "50100    fef3329b7.jpg\n",
       "50104    fef40d085.jpg\n",
       "50108    ff001adfe.jpg\n",
       "50112    ff09babee.jpg\n",
       "50116    ff1020719.jpg\n",
       "50120    ff18dded1.jpg\n",
       "50124    ff27b4b1b.jpg\n",
       "50128    ff300484e.jpg\n",
       "50132    ff35c950a.jpg\n",
       "50136    ff3bac947.jpg\n",
       "50140    ff44fa556.jpg\n",
       "50144    ff4ddccf9.jpg\n",
       "50148    ff52f9fe2.jpg\n",
       "50152    ff5483763.jpg\n",
       "50156    ff5590fbe.jpg\n",
       "50160    ff5c7f868.jpg\n",
       "50164    ff6bfada2.jpg\n",
       "50168    ff6cc90ca.jpg\n",
       "50172    ff6e35e0a.jpg\n",
       "50176    ff6ec63cf.jpg\n",
       "50180    ff6f1a404.jpg\n",
       "50184    ff73c8e76.jpg\n",
       "50188    ff882d69e.jpg\n",
       "50192    ff8c44174.jpg\n",
       "50196    ff933e271.jpg\n",
       "50200    ff96da52e.jpg\n",
       "50204    ff96dfa95.jpg\n",
       "50208    ff9923932.jpg\n",
       "50212    ff9d46e95.jpg\n",
       "50216    ffa55c731.jpg\n",
       "50220    ffa8210a1.jpg\n",
       "50224    ffaa05016.jpg\n",
       "50228    ffb48ee43.jpg\n",
       "50232    ffbd081d5.jpg\n",
       "50236    ffc9fdf70.jpg\n",
       "50240    ffcf72ecf.jpg\n",
       "50244    ffd0223a7.jpg\n",
       "50248    ffe93442c.jpg\n",
       "50252    fff0295e1.jpg\n",
       "50256    fff02e9c5.jpg\n",
       "50260    fffe98443.jpg\n",
       "50264    ffff4eaa8.jpg\n",
       "50268    ffffd67df.jpg\n",
       "Name: ImageId, Length: 12568, dtype: object"
      ]
     },
     "execution_count": 26,
     "metadata": {},
     "output_type": "execute_result"
    }
   ],
   "source": [
    "train_df.drop_duplicates('ImageId')['ImageId']"
   ]
  },
  {
   "cell_type": "code",
   "execution_count": 31,
   "metadata": {
    "ExecuteTime": {
     "end_time": "2020-08-05T09:51:59.174155Z",
     "start_time": "2020-08-05T09:51:59.045401Z"
    }
   },
   "outputs": [],
   "source": [
    "def convert(size, x, y, w, h):\n",
    "    dw = 1. / size[1]\n",
    "    dh = 1. / size[0]\n",
    "    x = x + w/2\n",
    "    y = y + h/2\n",
    "    x = x * dw\n",
    "    w = w * dw\n",
    "    y = y * dh\n",
    "    h = h * dh\n",
    "    return (x, y, w, h)\n",
    "\n",
    "def make_mask(image_id, train_df):\n",
    "    '''Given a row index, return image_id and mask (256, 1600, 4) from the dataframe `df`'''\n",
    "    target_df = train_df.loc[train_df['ImageId'] == image_id]\n",
    "    defects_num = len(target_df)\n",
    "    masks = np.zeros((256, 1600, 4), dtype=np.uint8)  # float32 is V.Imp\n",
    "    \n",
    "    for i in range(defects_num):\n",
    "        cls_id = target_df.iloc[i, 1] - 1\n",
    "        label = target_df.iloc[i, 2]\n",
    "        label = label.split(\" \")\n",
    "        positions = map(int, label[0::2])\n",
    "        length = map(int, label[1::2])\n",
    "        mask = np.zeros(256 * 1600, dtype=np.uint8)\n",
    "        for pos, le in zip(positions, length):\n",
    "            mask[int(pos):int(pos + le)] = 1\n",
    "        masks[:, :, cls_id] = mask.reshape(256, 1600, order='F')        \n",
    "    return masks\n",
    "\n",
    "def convert_annotation(train_df, image_id, masks):\n",
    "\n",
    "    out_file = open('data/labels/%s.txt' % (image_id[:-4]), 'w')\n",
    "    target_df = train_df.loc[train_df['ImageId'] == image_id]\n",
    "    defects_num = len(target_df)\n",
    "    \n",
    "    for i in range(defects_num):\n",
    "        cls_id = target_df.iloc[i, 1] - 1\n",
    "        gt = []\n",
    "        contours, _ = cv2.findContours(masks[:,:,cls_id], cv2.RETR_EXTERNAL, cv2.CHAIN_APPROX_NONE)\n",
    "        for i in range(0, len(contours)):\n",
    "            x,y,w,h = cv2.boundingRect(contours[i])\n",
    "            if h != 1:        \n",
    "                gt = convert((256, 1600), x, y, w, h)\n",
    "                out_file.write(str(cls_id) + \" \" + \" \".join([str(a) for a in gt]) + '\\n')\n",
    "                \n",
    "def visualize(train_df, image_id):\n",
    "    target_df = train_df.loc[train_df['ImageId'] == str(image_id)]\n",
    "    defects_num = len(target_df)\n",
    "    palet = [(249, 192, 12), (0, 185, 241), (114, 0, 218), (249,50,12)]\n",
    "    img_path = './Steel Defect/Done/datasets/Steel_data/train_images/' + str(image_id)\n",
    "    img = cv2.imread(img_path)\n",
    "    masks = make_mask(image_id, train_df)\n",
    "    fig, ax = plt.subplots(figsize=(15, 15))\n",
    "    for i in range(defects_num):\n",
    "        cls_id = target_df.iloc[i, 1] - 1\n",
    "        contours, _ = cv2.findContours(masks[:,:,cls_id], cv2.RETR_EXTERNAL, cv2.CHAIN_APPROX_NONE)\n",
    "        for i in range(0, len(contours)):\n",
    "                    x,y,w,h = cv2.boundingRect(contours[i])\n",
    "                    cv2.rectangle(img,(x,y),(x+w,y+h),palet[cls_id],2)\n",
    "    ax.imshow(img)\n",
    "    plt.show()\n",
    "    \n",
    "    return defects_num, img"
   ]
  },
  {
   "cell_type": "code",
   "execution_count": 33,
   "metadata": {
    "ExecuteTime": {
     "end_time": "2020-08-05T09:52:07.930734Z",
     "start_time": "2020-08-05T09:52:07.783129Z"
    }
   },
   "outputs": [
    {
     "data": {
      "image/png": "[encoded data removed]",
      "text/plain": [
       "<Figure size 1080x1080 with 1 Axes>"
      ]
     },
     "metadata": {},
     "output_type": "display_data"
    },
    {
     "data": {
      "text/plain": [
       "(256, 1600, 3)"
      ]
     },
     "execution_count": 33,
     "metadata": {},
     "output_type": "execute_result"
    }
   ],
   "source": [
    "image_id = '0b1e5a7a5.jpg'\n",
    "defects_num, img = visualize(train_df, image_id)\n",
    "img.shape"
   ]
  },
  {
   "cell_type": "code",
   "execution_count": 29,
   "metadata": {
    "ExecuteTime": {
     "end_time": "2020-08-05T07:41:53.960193Z",
     "start_time": "2020-08-05T07:41:22.775639Z"
    }
   },
   "outputs": [
    {
     "name": "stderr",
     "output_type": "stream",
     "text": [
      "100%|█████████████████████████████████████████████████████████████████████████████| 6666/6666 [00:30<00:00, 215.44it/s]\n"
     ]
    }
   ],
   "source": [
    "trainval_percent = 0.1\n",
    "train_percent = 0.9\n",
    "train_df = pd.read_csv(\"C:\\\\Users\\\\admin\\\\Desktop\\\\Steel Defect\\\\Done\\\\datasets\\\\Steel_data\\\\train.csv\")\n",
    "# sample_df = pd.read_csv(\"./Steel Defect/Done/datasets/Steel_data/sample_submission.csv\")\n",
    "unique_df = train_df.drop_duplicates('ImageId')['ImageId']\n",
    "\n",
    "txtsavepath = 'data/ImageSets'\n",
    "num = len(unique_df)\n",
    "ls = range(num)\n",
    "tv = int(num * trainval_percent)\n",
    "tr = int(tv * train_percent)\n",
    "trainval = random.sample(ls, tv)\n",
    "train = random.sample(trainval, tr)\n",
    "ftrainval = open('data/ImageSets/trainval.txt', 'w')\n",
    "ftest = open('data/ImageSets/test.txt', 'w')\n",
    "ftrain = open('data/ImageSets/train.txt', 'w')\n",
    "fval = open('data/ImageSets/val.txt', 'w')\n",
    "\n",
    "for i in tqdm(range(num)):\n",
    "    image_id = unique_df.tolist()[i]\n",
    "    masks = make_mask(image_id, train_df)\n",
    "    convert_annotation(train_df, image_id, masks)\n",
    "    \n",
    "    if i in trainval:\n",
    "        ftrainval.write(image_id + '\\n')\n",
    "        if i in train:\n",
    "            ftest.write(image_id + '\\n')\n",
    "        else:\n",
    "            fval.write(image_id + '\\n')\n",
    "    else:\n",
    "        ftrain.write(image_id + '\\n')\n",
    "\n",
    "ftrainval.close()\n",
    "ftrain.close()\n",
    "fval.close()\n",
    "ftest.close()\n",
    "\n",
    "for image_set in ['train', 'test','val']:\n",
    "    image_ids = open('data/ImageSets/%s.txt' % (image_set)).read().strip().split()\n",
    "    list_file = open('data/%s.txt' % (image_set), 'w')\n",
    "    for image_id in image_ids:\n",
    "        list_file.write('data/images/%s\\n' % (image_id))\n",
    "    list_file.close()"
   ]
  }
 ],
 "metadata": {
  "kernelspec": {
   "display_name": "Python 3",
   "language": "python",
   "name": "python3"
  },
  "language_info": {
   "codemirror_mode": {
    "name": "ipython",
    "version": 3
   },
   "file_extension": ".py",
   "mimetype": "text/x-python",
   "name": "python",
   "nbconvert_exporter": "python",
   "pygments_lexer": "ipython3",
   "version": "3.8.5"
  },
  "varInspector": {
   "cols": {
    "lenName": 16,
    "lenType": 16,
    "lenVar": 40
   },
   "kernels_config": {
    "python": {
     "delete_cmd_postfix": "",
     "delete_cmd_prefix": "del ",
     "library": "var_list.py",
     "varRefreshCmd": "print(var_dic_list())"
    },
    "r": {
     "delete_cmd_postfix": ") ",
     "delete_cmd_prefix": "rm(",
     "library": "var_list.r",
     "varRefreshCmd": "cat(var_dic_list()) "
    }
   },
   "types_to_exclude": [
    "module",
    "function",
    "builtin_function_or_method",
    "instance",
    "_Feature"
   ],
   "window_display": false
  }
 },
 "nbformat": 4,
 "nbformat_minor": 2
}
