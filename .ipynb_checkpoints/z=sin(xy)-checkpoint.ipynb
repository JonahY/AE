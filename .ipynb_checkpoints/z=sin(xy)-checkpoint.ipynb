{
 "cells": [
  {
   "cell_type": "code",
   "execution_count": null,
   "metadata": {
    "ExecuteTime": {
     "end_time": "2020-10-29T11:45:38.950203Z",
     "start_time": "2020-10-29T11:45:32.777613Z"
    }
   },
   "outputs": [],
   "source": [
    "import numpy as np\n",
    "import matplotlib.pyplot as plt\n",
    "import torch as t\n",
    "from torch.autograd import Variable as var\n",
    "from mpl_toolkits.mplot3d import Axes3D"
   ]
  },
  {
   "cell_type": "code",
   "execution_count": null,
   "metadata": {
    "ExecuteTime": {
     "end_time": "2020-10-29T11:45:40.369281Z",
     "start_time": "2020-10-29T11:45:39.944542Z"
    }
   },
   "outputs": [],
   "source": [
    "x = t.unsqueeze(t.linspace(-3, 3, 1000), dim=1)\n",
    "y = t.unsqueeze(t.linspace(-3, 3, 1000), dim=0)\n",
    "z = t.sin(x.mm(y)).reshape(-1,1)\n",
    "\n",
    "x = x.expand(1000, 1000).reshape(-1,1)\n",
    "y = y.expand(1000, 1000).reshape(-1,1)\n",
    "data = t.cat((x, y), 1)"
   ]
  },
  {
   "cell_type": "code",
   "execution_count": null,
   "metadata": {
    "ExecuteTime": {
     "end_time": "2020-10-29T11:45:42.907218Z",
     "start_time": "2020-10-29T11:45:42.887219Z"
    }
   },
   "outputs": [],
   "source": [
    "class Fit_model(t.nn.Module):\n",
    "    def __init__(self):\n",
    "        super(Fit_model,self).__init__()\n",
    "        self.linear1 = t.nn.Linear(2,100)\n",
    "#         self.linear2 = t.nn.Linear(16,50)\n",
    "#         self.linear3 = t.nn.Linear(50,150)\n",
    "        self.relu = t.nn.ReLU()\n",
    "        self.linear4 = t.nn.Linear(100,1)\n",
    "\n",
    "        self.criterion = t.nn.MSELoss()\n",
    "        self.opt = t.optim.SGD(self.parameters(),lr=0.01)\n",
    "    def forward(self, input):\n",
    "        y = self.linear1(input)\n",
    "        y = self.relu(y)\n",
    "#         y = self.linear2(y)\n",
    "#         y = self.relu(y)\n",
    "#         y = self.linear3(y)\n",
    "#         y = self.relu(y)\n",
    "        y = self.linear4(y)\n",
    "        return y"
   ]
  },
  {
   "cell_type": "code",
   "execution_count": null,
   "metadata": {
    "ExecuteTime": {
     "end_time": "2020-10-29T11:47:23.300032Z",
     "start_time": "2020-10-29T11:47:12.410068Z"
    },
    "scrolled": false
   },
   "outputs": [],
   "source": [
    "# device = t.device('cuda')\n",
    "model = Fit_model()\n",
    "# model = model.to(device)\n",
    "# data = data.to(device)\n",
    "# z = z.to(device)\n",
    "for e in range(100000):\n",
    "    pre = model(data)\n",
    "\n",
    "    loss = model.criterion(pre,z)\n",
    "    if(e%10000==0):\n",
    "        print(e,loss.data)\n",
    "\n",
    "    # Zero gradients\n",
    "    model.opt.zero_grad()\n",
    "    # perform backward pass\n",
    "    loss.backward()\n",
    "    # update weights\n",
    "    model.opt.step()"
   ]
  },
  {
   "cell_type": "code",
   "execution_count": null,
   "metadata": {},
   "outputs": [],
   "source": [
    "x = t.unsqueeze(t.linspace(-3, 3, 100), dim=1)\n",
    "y = t.unsqueeze(t.linspace(-3, 3, 100), dim=0)\n",
    "z = t.sin(x.mm(y)).reshape(-1,1)\n",
    "x = x.expand(100, 100).reshape(-1,1)\n",
    "y = y.expand(100, 100).reshape(-1,1)\n",
    "data = t.cat((x, y), 1)\n",
    "data = data.to(device)\n",
    "pre = model(data)\n",
    "\n",
    "fig = plt.figure()\n",
    "ax = Axes3D(fig)\n",
    "ax.plot_trisurf(x.data.numpy().flatten(), y.data.numpy().flatten(), pre.cpu().data.numpy().flatten(), cmap=plt.cm.jet)\n",
    "# ax.plot_trisurf(x.data.numpy().flatten(), y.data.numpy().flatten(), z.cpu().data.numpy().flatten(), cmap=plt.cm.jet)\n",
    "ax.set_xlabel('X Label')\n",
    "ax.set_ylabel('Y Label')\n",
    "ax.set_zlabel('Z Label')\n",
    "plt.show()"
   ]
  }
 ],
 "metadata": {
  "kernelspec": {
   "display_name": "Python 3",
   "language": "python",
   "name": "python3"
  },
  "language_info": {
   "codemirror_mode": {
    "name": "ipython",
    "version": 3
   },
   "file_extension": ".py",
   "mimetype": "text/x-python",
   "name": "python",
   "nbconvert_exporter": "python",
   "pygments_lexer": "ipython3",
   "version": "3.8.5"
  }
 },
 "nbformat": 4,
 "nbformat_minor": 4
}
