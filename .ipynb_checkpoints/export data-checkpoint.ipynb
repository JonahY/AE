{
 "cells": [
  {
   "cell_type": "code",
   "execution_count": null,
   "metadata": {
    "ExecuteTime": {
     "end_time": "2020-11-10T12:47:16.296298Z",
     "start_time": "2020-11-10T12:47:15.685299Z"
    }
   },
   "outputs": [],
   "source": [
    "import os\n",
    "import pandas as pd\n",
    "import numpy as np\n",
    "import matplotlib.pyplot as plt\n",
    "import math\n",
    "import time\n",
    "from tqdm import tqdm\n",
    "from scipy.fftpack import fft\n",
    "from matplotlib.pylab import mpl\n",
    "import csv\n",
    "\n",
    "\n",
    "%matplotlib qt5\n",
    "plt.rcParams['xtick.direction'] = 'in'\n",
    "plt.rcParams['ytick.direction'] = 'in'\n",
    "mpl.rcParams['axes.unicode_minus'] = False  #显示负号\n",
    "os.getcwd()"
   ]
  },
  {
   "cell_type": "code",
   "execution_count": 7,
   "metadata": {
    "ExecuteTime": {
     "end_time": "2020-11-10T12:49:40.085674Z",
     "start_time": "2020-11-10T12:49:40.062676Z"
    }
   },
   "outputs": [],
   "source": [
    "def cal_linear(energy, inter, mid, interval_num, idx = 0):\n",
    "    # 初始化横坐标\n",
    "    x = np.array([])\n",
    "    for i in inter:\n",
    "        if i != 0:\n",
    "            x = np.append(x, np.linspace(i, i * 10, interval_num, endpoint=False))\n",
    "        else:\n",
    "            x = np.append(x, np.linspace(i, 1, interval_num, endpoint=False))\n",
    "    \n",
    "    # 初始化纵坐标\n",
    "    y = np.zeros(x.shape[0])\n",
    "    for i in energy:\n",
    "        while True:\n",
    "            try:\n",
    "                if x[idx] <= i < x[idx + 1]:\n",
    "                    y[idx] += 1\n",
    "                    break\n",
    "            except IndexError:\n",
    "                if x[idx] <= i:\n",
    "                    y[idx] += 1\n",
    "                    break\n",
    "            idx += 1\n",
    "    \n",
    "    # 对横坐标作进一步筛选，计算概率分布值\n",
    "    x, y = x[y != 0], y[y != 0]\n",
    "    xx = np.zeros(x.shape[0])\n",
    "    yy = y / sum(y)\n",
    "    \n",
    "    # 取区间终点作为该段的横坐标\n",
    "    for idx in range(len(x) - 1):\n",
    "        xx[idx] = (x[idx] + x[idx + 1]) / 2\n",
    "    xx[-1] = x[-1]\n",
    "    \n",
    "    # 计算分段区间长度，从而求得概率密度值\n",
    "    interval = []\n",
    "    for i, j in enumerate(mid):\n",
    "        try:\n",
    "            num = len(np.intersect1d(np.where(inter[i] <= xx)[0], \n",
    "                                     np.where(xx < inter[i + 1])[0]))\n",
    "            interval.extend([j] * num)\n",
    "        except IndexError:\n",
    "            num = len(np.where(inter[i] <= xx)[0])\n",
    "            interval.extend([j] * num)\n",
    "    yy = yy / np.array(interval)\n",
    "# #     取对数变换为线性关系\n",
    "#     log_xx = np.log10(xx)\n",
    "#     log_yy = np.log10(yy)\n",
    "#     fit = np.polyfit(log_xx, log_yy, 1)\n",
    "#     alpha = abs(fit[0])\n",
    "#     fit_x = np.linspace(min(log_xx), max(log_xx), 100)\n",
    "#     fit_y = np.polyval(fit, fit_x)\n",
    "    return xx, yy\n",
    "\n",
    "\n",
    "def cal_PDF(tmp, inter, mid, interval_num, features_path):\n",
    "    xx, yy = cal_linear(sorted(tmp), inter, mid, interval_num)\n",
    "    with open(features_path[:-4] + ' ' + ylabel + '.txt', 'w') as f:\n",
    "        f.write('{}, {}\\n'.format(xlabel, ylabel))\n",
    "        for j in range(xx.shape[0]):\n",
    "            f.write('{}, {}\\n'.format(xx[j], yy[j]))\n",
    "    \n",
    "\n",
    "def cal_ML(tmp, N, features_path):\n",
    "    ML_y = []\n",
    "    Error_bar = []\n",
    "    for j in tqdm(range(N)):\n",
    "        valid_x = sorted(tmp)[j:]\n",
    "        E0 = valid_x[0]\n",
    "        Sum = np.sum(np.log(valid_x/E0))\n",
    "        N_prime = N - j\n",
    "        alpha = 1 + N_prime / Sum\n",
    "        error_bar = (alpha - 1) / pow(N_prime, 0.5)\n",
    "        ML_y.append(alpha)\n",
    "        Error_bar.append(error_bar)\n",
    "    \n",
    "    with open(features_path[:-4] + ' ' + xlabel[:-4] + '_ML.txt', 'w') as f:\n",
    "        f.write('{}, ε, Error bar\\n'.format(xlabel))\n",
    "        for j in range(len(ML_y)):\n",
    "            f.write('{}, {}, {}\\n'.format(sorted(tmp)[j], ML_y[j], Error_bar[j]))"
   ]
  },
  {
   "cell_type": "code",
   "execution_count": null,
   "metadata": {
    "ExecuteTime": {
     "end_time": "2020-11-10T12:49:40.966805Z",
     "start_time": "2020-11-10T12:49:40.911814Z"
    }
   },
   "outputs": [],
   "source": [
    "path =  r'C:/Users/Yuan/Desktop'\n",
    "os.chdir(path)\n",
    "csv_file = r'./data.csv'\n",
    "data = pd.read_csv(csv_file)\n",
    "N = data.shape[0]\n",
    "\n",
    "# Initializes the number of section\n",
    "interval_num = 6\n",
    "interval = 1 / interval_num\n",
    "interz = []\n",
    "midz = []\n",
    "\n",
    "xlabelz = ['Amplitude(μV)', 'Duration(μs)', 'Energy(aJ)']\n",
    "ylabelz = ['PDF(A)', 'PDF(D)', 'PDF(E)']\n",
    "feature_idx = [1, 2, 3] # Corresponds to an index in a CSV file\n",
    "\n",
    "# Generates intervals based on data and number of section\n",
    "for idx in feature_idx:\n",
    "    tmp = data.iloc[:, idx]\n",
    "    tmp_max = int(max(tmp))\n",
    "    tmp_min = int(min(tmp))\n",
    "    if tmp_min <= 0:\n",
    "        interz.append([0] + [pow(10, i) for i in range(len(str(tmp_max)))])\n",
    "        midz.append([interval * pow(10, i)\n",
    "                     for i in range(len(str(tmp_max)) + 1)])\n",
    "    else:\n",
    "        interz.append([pow(10, i) for i in range(len(str(tmp_min)) - 1, \n",
    "                                                 len(str(tmp_max)))])\n",
    "        midz.append([interval * pow(10, i) \n",
    "                     for i in range(len(str(tmp_min)), \n",
    "                                    len(str(tmp_max)) + 1)])\n",
    "\n",
    "for i, [idx, inter, mid, xlabel, ylabel] in enumerate(zip(\n",
    "    feature_idx, interz, midz, xlabelz, ylabelz)):\n",
    "    tmp = np.array(data.iloc[:, idx])\n",
    "    cal_PDF(tmp, inter, mid, interval_num, csv_file)\n",
    "    cal_ML(tmp, N, csv_file)"
   ]
  }
 ],
 "metadata": {
  "kernelspec": {
   "display_name": "Python 3",
   "language": "python",
   "name": "python3"
  },
  "language_info": {
   "codemirror_mode": {
    "name": "ipython",
    "version": 3
   },
   "file_extension": ".py",
   "mimetype": "text/x-python",
   "name": "python",
   "nbconvert_exporter": "python",
   "pygments_lexer": "ipython3",
   "version": "3.8.5"
  },
  "varInspector": {
   "cols": {
    "lenName": 16,
    "lenType": 16,
    "lenVar": 40
   },
   "kernels_config": {
    "python": {
     "delete_cmd_postfix": "",
     "delete_cmd_prefix": "del ",
     "library": "var_list.py",
     "varRefreshCmd": "print(var_dic_list())"
    },
    "r": {
     "delete_cmd_postfix": ") ",
     "delete_cmd_prefix": "rm(",
     "library": "var_list.r",
     "varRefreshCmd": "cat(var_dic_list()) "
    }
   },
   "types_to_exclude": [
    "module",
    "function",
    "builtin_function_or_method",
    "instance",
    "_Feature"
   ],
   "window_display": false
  }
 },
 "nbformat": 4,
 "nbformat_minor": 4
}
