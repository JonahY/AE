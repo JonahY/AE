{
 "cells": [
  {
   "cell_type": "code",
   "execution_count": 3,
   "metadata": {
    "ExecuteTime": {
     "end_time": "2020-11-07T09:25:09.695151Z",
     "start_time": "2020-11-07T09:25:09.676152Z"
    }
   },
   "outputs": [],
   "source": [
    "# -*- coding: UTF-8 -*-\n",
    "import os\n",
    "import pandas as pd\n",
    "import numpy as np\n",
    "import matplotlib.pyplot as plt\n",
    "import math\n",
    "import time\n",
    "from sklearn.decomposition import PCA\n",
    "from sklearn.cluster import KMeans\n",
    "from tqdm import tqdm\n",
    "from scipy.fftpack import fft\n",
    "from matplotlib.pylab import mpl\n",
    "import csv\n",
    "import sqlite3 \n",
    "import array\n",
    "import sqlite3\n",
    "import pprint\n",
    "\n",
    "\n",
    "%matplotlib qt5\n",
    "plt.rcParams['xtick.direction'] = 'in'\n",
    "plt.rcParams['ytick.direction'] = 'in'\n",
    "mpl.rcParams['axes.unicode_minus'] = False  #显示负号"
   ]
  },
  {
   "cell_type": "code",
   "execution_count": 4,
   "metadata": {
    "ExecuteTime": {
     "end_time": "2020-11-07T09:25:11.080944Z",
     "start_time": "2020-11-07T09:25:11.066947Z"
    }
   },
   "outputs": [],
   "source": [
    "path_pri = r'E:\\data\\vallen\\Ni-tension test-electrolysis-1-0.01-AE-20201031.pridb'\n",
    "path_tra = r'E:\\data\\vallen\\Ni-tension test-electrolysis-1-0.01-AE-20201031.tradb'\n",
    "# r'E:\\data\\vallen\\Ni-tension test-electrolysis-1-0.01-AE-20201031.pridb'"
   ]
  },
  {
   "cell_type": "code",
   "execution_count": 5,
   "metadata": {
    "ExecuteTime": {
     "end_time": "2020-11-07T09:25:12.389497Z",
     "start_time": "2020-11-07T09:25:12.378499Z"
    }
   },
   "outputs": [],
   "source": [
    "def sqlite_read(path):\n",
    "    \"\"\"\n",
    "    python读取sqlite数据库文件\n",
    "    \"\"\"\n",
    "    mydb = sqlite3.connect(path)                # 链接数据库\n",
    "    mydb.text_factory = lambda x: str(x, 'gbk', 'ignore')\n",
    "    cur = mydb.cursor()                         # 创建游标cur来执行SQL语句\n",
    "\n",
    "    # 获取表名\n",
    "    cur.execute(\"SELECT name FROM sqlite_master WHERE type='table'\")\n",
    "    Tables = cur.fetchall()                     # Tables 为元组列表\n",
    "    print(Tables)\n",
    "    \n",
    "    i = 0\n",
    "    while True:\n",
    "        try:\n",
    "            tbl_name = Tables[i][0]                     # 获取第一个表名\n",
    "        except:\n",
    "            break\n",
    "        # 获取表的列名\n",
    "        cur.execute(\"SELECT * FROM {}\".format(tbl_name))\n",
    "        col_name_list = [tuple[0] for tuple in cur.description]\n",
    "        pprint.pprint(col_name_list)\n",
    "        i += 1\n",
    "\n",
    "#     # 获取表结构的所有信息\n",
    "#     cur.execute(\"PRAGMA table_info({})\".format(tbl_name))\n",
    "#     pprint.pprint(cur.fetchall())"
   ]
  },
  {
   "cell_type": "code",
   "execution_count": null,
   "metadata": {
    "ExecuteTime": {
     "end_time": "2020-11-07T08:29:21.427515Z",
     "start_time": "2020-11-07T08:29:21.405518Z"
    },
    "scrolled": true
   },
   "outputs": [],
   "source": [
    "sqlite_read(path_tra)"
   ]
  },
  {
   "cell_type": "code",
   "execution_count": null,
   "metadata": {
    "ExecuteTime": {
     "end_time": "2020-11-07T08:52:55.664521Z",
     "start_time": "2020-11-07T08:52:55.642521Z"
    }
   },
   "outputs": [],
   "source": [
    "# tradb\n",
    "[('tr_data', ), ('tr_globalinfo', ), ('tr_fieldinfo', ), ('tr_params', )]\n",
    "\n",
    "['SetID', 'Time', 'TRAI', 'Status', 'ParamID', 'Chan', 'Pretrigger', 'Thr', 'MinVal', 'MaxVal', 'SampleRate', 'Samples', 'DataFormat', 'Data']\n",
    "['Key', 'Value']\n",
    "['field', 'Unit', 'Parameter']\n",
    "['ID', 'SetupID', 'Chan', 'ADC_µV', 'TR_mV']\n",
    "\n",
    "[('view_tr_data', )]\n",
    "['SetID', 'Time', 'TRAI', 'Status', 'Chan', 'Pretrigger', 'Thr', 'MinVal', 'MaxVal', 'SampleRate', 'Samples', 'DataFormat', 'TR_mV', 'Data']"
   ]
  },
  {
   "cell_type": "code",
   "execution_count": null,
   "metadata": {
    "code_folding": []
   },
   "outputs": [],
   "source": [
    "# pridb\n",
    "[('ae_data', ), ('acq_setup', ), ('ae_markers', ), ('ae_globalinfo', ), ('ae_fieldinfo', ), ('ae_params', ), ('data_integrity', )]\n",
    "\n",
    "['SetID', 'SetType', 'Time', 'Chan', 'Status', 'ParamID', 'Thr', 'Amp', 'RiseT', 'Dur', 'Eny', 'RMS', 'Counts', 'TRAI', 'CHits', 'PA0', 'PA1']\n",
    "['ID', 'Data']\n",
    "['SetID', 'Number', 'Data']\n",
    "['Key', 'Value']\n",
    "['field', 'Unit', 'SetTypes', 'Parameter', 'Factor']\n",
    "['ID', 'SetupID', 'Chan', 'ADC_µV', 'ADC_TE', 'ADC_SS', 'PA0_mV', 'PA1_mV']\n",
    "['TableName', 'HashV1', 'LastRow']\n",
    "\n",
    "[('view_ae_data', )]\n",
    "['SetID', 'SetType', 'Time', 'Chan', 'Status', 'Thr', 'Amp', 'RiseT', 'Dur', 'Eny', 'RMS', 'Counts', 'TRAI', 'CHits', 'PA0', 'PA1']"
   ]
  },
  {
   "cell_type": "code",
   "execution_count": null,
   "metadata": {
    "ExecuteTime": {
     "end_time": "2020-11-07T08:49:08.692644Z",
     "start_time": "2020-11-07T08:49:08.670635Z"
    },
    "scrolled": true
   },
   "outputs": [],
   "source": [
    "conn.execute(\"PRAGMA table_info(view_tr_data)\").fetchall()"
   ]
  },
  {
   "cell_type": "code",
   "execution_count": 50,
   "metadata": {
    "ExecuteTime": {
     "end_time": "2020-11-07T09:40:02.826366Z",
     "start_time": "2020-11-07T09:40:01.865258Z"
    }
   },
   "outputs": [],
   "source": [
    "conn_tra = sqlite3.connect(path_tra)\n",
    "conn_pri = sqlite3.connect(path_pri)\n",
    "result_tra = conn_tra.execute(\"Select Time, Chan, Thr, SampleRate, Samples, TR_mV, Data FROM view_tr_data\").fetchall()\n",
    "result_pri = conn_pri.execute(\"Select Time, Chan, Thr, Amp, RiseT, Dur, Eny, RMS, Counts FROM view_ae_data\").fetchall()"
   ]
  },
  {
   "cell_type": "code",
   "execution_count": 129,
   "metadata": {
    "ExecuteTime": {
     "end_time": "2020-11-07T10:04:22.331724Z",
     "start_time": "2020-11-07T10:04:22.314726Z"
    },
    "scrolled": false
   },
   "outputs": [],
   "source": [
    "i = result_tra[64401]\n",
    "sig = np.multiply(array.array('h',bytes(i[-1])), i[-2] * 1000)\n",
    "time = np.linspace(i[0], i[0] + pow(i[-4], -1) * (i[-3] - 1), i[-3])"
   ]
  },
  {
   "cell_type": "code",
   "execution_count": 130,
   "metadata": {
    "ExecuteTime": {
     "end_time": "2020-11-07T10:04:23.115665Z",
     "start_time": "2020-11-07T10:04:23.097666Z"
    }
   },
   "outputs": [
    {
     "name": "stdout",
     "output_type": "stream",
     "text": [
      "0\n"
     ]
    }
   ],
   "source": [
    "thr = i[2]\n",
    "valid_wave_idx = np.where(abs(sig) >= thr)[0]\n",
    "# start = time[valid_wave_idx[0]]\n",
    "# end = time[valid_wave_idx[-1]]\n",
    "# duration = end - start\n",
    "max_idx = np.argmax(abs(sig))\n",
    "# amplitude = abs(sig[max_idx])\n",
    "# rise_time = time[max_idx] - start\n",
    "valid_data = sig[valid_wave_idx[0]:(valid_wave_idx[-1] + 1)]\n",
    "# energy = np.sum(np.multiply(pow(valid_data, 2), sample_interval))\n",
    "# RMS = math.sqrt(energy / duration)\n",
    "count = 0\n",
    "N = len(valid_data)\n",
    "for idx in range(1, N):\n",
    "    if valid_data[idx - 1] <= thr <= valid_data[idx]:\n",
    "        count += 1\n",
    "        print('------')\n",
    "print(count)"
   ]
  },
  {
   "cell_type": "code",
   "execution_count": 132,
   "metadata": {
    "ExecuteTime": {
     "end_time": "2020-11-07T10:04:55.906111Z",
     "start_time": "2020-11-07T10:04:55.753838Z"
    }
   },
   "outputs": [
    {
     "data": {
      "text/plain": [
       "[<matplotlib.lines.Line2D at 0x24b02526a90>]"
      ]
     },
     "execution_count": 132,
     "metadata": {},
     "output_type": "execute_result"
    }
   ],
   "source": [
    "plt.plot(time, sig)"
   ]
  },
  {
   "cell_type": "code",
   "execution_count": 113,
   "metadata": {
    "ExecuteTime": {
     "end_time": "2020-11-07T10:02:33.738662Z",
     "start_time": "2020-11-07T10:02:33.721668Z"
    }
   },
   "outputs": [
    {
     "data": {
      "text/plain": [
       "(array([  228,   229,   322, ..., 63298, 64400, 64401], dtype=int64),\n",
       " array([5, 4, 5, ..., 3, 13, 16], dtype=object))"
      ]
     },
     "execution_count": 113,
     "metadata": {},
     "output_type": "execute_result"
    }
   ],
   "source": [
    "counts = counts[np.where(counts != None)]\n",
    "np.where(counts > 2)[0], counts[np.where(counts > 2)[0]]"
   ]
  },
  {
   "cell_type": "code",
   "execution_count": 108,
   "metadata": {
    "ExecuteTime": {
     "end_time": "2020-11-07T10:01:00.172687Z",
     "start_time": "2020-11-07T10:01:00.137688Z"
    }
   },
   "outputs": [],
   "source": [
    "counts = np.array([i[-1] for i in result_pri])\n",
    "valid_idx = list(np.where(counts[np.where(counts != None)] > 2)[0])"
   ]
  },
  {
   "cell_type": "code",
   "execution_count": null,
   "metadata": {
    "ExecuteTime": {
     "start_time": "2020-11-07T09:19:07.991Z"
    }
   },
   "outputs": [],
   "source": [
    "# Save the calculated frequency value in CSV format\n",
    "file_name = r'E:\\data\\vallen\\Ni-tension test-electrolysis-1-0.01-AE-20201031'\n",
    "with open(file_name + '-time.csv', 'w') as csvfile:\n",
    "    writer = csv.writer(csvfile)\n",
    "    writer.writerows([a])\n",
    "\n",
    "# # Change the frequency file format to TXT\n",
    "# os.rename(path + '\\\\' + file_name + '-time.csv', \n",
    "#           path + '\\\\' + file_name + '-time.txt')\n",
    "# with open(file_name + '-time.txt', 'r') as f:\n",
    "#     data = f.readlines()[:-1]"
   ]
  },
  {
   "cell_type": "code",
   "execution_count": 83,
   "metadata": {
    "ExecuteTime": {
     "end_time": "2020-11-07T09:49:57.113733Z",
     "start_time": "2020-11-07T09:49:55.641735Z"
    }
   },
   "outputs": [],
   "source": [
    "plt.plot(time,sig)\n",
    "plt.show()"
   ]
  }
 ],
 "metadata": {
  "kernelspec": {
   "display_name": "Python 3",
   "language": "python",
   "name": "python3"
  },
  "language_info": {
   "codemirror_mode": {
    "name": "ipython",
    "version": 3
   },
   "file_extension": ".py",
   "mimetype": "text/x-python",
   "name": "python",
   "nbconvert_exporter": "python",
   "pygments_lexer": "ipython3",
   "version": "3.8.5"
  }
 },
 "nbformat": 4,
 "nbformat_minor": 4
}
