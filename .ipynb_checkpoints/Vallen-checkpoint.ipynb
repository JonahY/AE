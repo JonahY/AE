{
 "cells": [
  {
   "cell_type": "code",
   "execution_count": 3,
   "metadata": {
    "ExecuteTime": {
     "end_time": "2020-11-07T09:25:09.695151Z",
     "start_time": "2020-11-07T09:25:09.676152Z"
    }
   },
   "outputs": [],
   "source": [
    "# -*- coding: UTF-8 -*-\n",
    "import os\n",
    "import pandas as pd\n",
    "import numpy as np\n",
    "import matplotlib.pyplot as plt\n",
    "import math\n",
    "import time\n",
    "from sklearn.decomposition import PCA\n",
    "from sklearn.cluster import KMeans\n",
    "from tqdm import tqdm\n",
    "from scipy.fftpack import fft\n",
    "from matplotlib.pylab import mpl\n",
    "import csv\n",
    "import sqlite3 \n",
    "import array\n",
    "import sqlite3\n",
    "import pprint\n",
    "\n",
    "\n",
    "%matplotlib qt5\n",
    "plt.rcParams['xtick.direction'] = 'in'\n",
    "plt.rcParams['ytick.direction'] = 'in'\n",
    "mpl.rcParams['axes.unicode_minus'] = False  #显示负号"
   ]
  },
  {
   "cell_type": "code",
   "execution_count": 292,
   "metadata": {
    "ExecuteTime": {
     "end_time": "2020-11-08T08:46:55.812029Z",
     "start_time": "2020-11-08T08:46:55.793004Z"
    }
   },
   "outputs": [],
   "source": [
    "os.chdir(r'E:\\data\\vallen')\n",
    "path_pri = r'E:\\data\\vallen\\Ni-tension test-electrolysis-1-0.01-AE-20201031.pridb'\n",
    "path_tra = r'E:\\data\\vallen\\Ni-tension test-electrolysis-1-0.01-AE-20201031.tradb'\n",
    "# Ni-tension test-electrolysis-1-0.01-AE-20201031\n",
    "# Ni-tension test-pure-1-0.01-AE-20201030"
   ]
  },
  {
   "cell_type": "code",
   "execution_count": 364,
   "metadata": {
    "ExecuteTime": {
     "end_time": "2020-11-08T09:38:18.808596Z",
     "start_time": "2020-11-08T09:38:17.810866Z"
    }
   },
   "outputs": [],
   "source": [
    "conn_tra = sqlite3.connect(path_tra)\n",
    "conn_pri = sqlite3.connect(path_pri)\n",
    "result_tra = conn_tra.execute(\"Select Time, Chan, Thr, SampleRate, Samples, TR_mV, Data FROM view_tr_data\").fetchall()\n",
    "result_pri = conn_pri.execute(\"Select Time, Chan, Thr, Amp, RiseT, Dur, Eny, RMS, Counts, TRAI FROM view_ae_data\").fetchall()"
   ]
  },
  {
   "cell_type": "code",
   "execution_count": 457,
   "metadata": {
    "ExecuteTime": {
     "end_time": "2020-11-08T10:26:18.030070Z",
     "start_time": "2020-11-08T10:26:17.806979Z"
    }
   },
   "outputs": [],
   "source": [
    "valid_idx = []\n",
    "for idx, i in enumerate(result_pri):\n",
    "    if i[-1] not in [None, 0]:\n",
    "        valid_idx.append(idx)\n",
    "valid_pri = np.array(result_pri)[valid_idx]\n",
    "\n",
    "# save features to file\n",
    "with open('Ni-tension test-electrolysis-1-0.01-AE-20201031.txt', 'w') as f:\n",
    "    f.write('Time, Chan, Thr, Amp, RiseT, Dur, Eny, RMS, Counts\\n')\n",
    "    for i in valid_pri[:, :-1]:\n",
    "        if i[-1] > 1:\n",
    "            f.write(', '.join([str(j) for j in i]) + '\\n')"
   ]
  },
  {
   "cell_type": "code",
   "execution_count": 465,
   "metadata": {
    "ExecuteTime": {
     "end_time": "2020-11-08T10:29:40.040111Z",
     "start_time": "2020-11-08T10:29:37.839903Z"
    },
    "scrolled": true
   },
   "outputs": [
    {
     "name": "stderr",
     "output_type": "stream",
     "text": [
      "100%|█████████████████████████████████████████████████████████████████████████| 64482/64482 [00:02<00:00, 29632.90it/s]\n"
     ]
    }
   ],
   "source": [
    "freq_max = []\n",
    "for idx, i in enumerate(tqdm(result_tra)):\n",
    "    sig = np.multiply(array.array('h',bytes(i[-1])), i[-2] * 1000)\n",
    "    thr = i[2]\n",
    "    Fs = i[3]\n",
    "    Ts = 1 / Fs\n",
    "    if valid_pri[idx][-2] > 1:\n",
    "        valid_wave_idx = np.where(abs(sig) >= thr)[0]\n",
    "        valid_data = sig[valid_wave_idx[0]:(valid_wave_idx[-1] + 1)]\n",
    "        N = valid_data.shape[0]\n",
    "        fft_y = fft(valid_data)\n",
    "        abs_y = np.abs(fft_y)\n",
    "        normalization = abs_y / N\n",
    "        normalization_half = normalization[range(int(N / 2))]\n",
    "        frq = (np.arange(N) / N) * Fs\n",
    "        half_frq = frq[range(int(N / 2))]\n",
    "        try:\n",
    "            freq_max.append(half_frq[np.argmax(normalization_half)])\n",
    "        except:\n",
    "            freq_max.append(frq[0])"
   ]
  },
  {
   "cell_type": "code",
   "execution_count": 350,
   "metadata": {
    "ExecuteTime": {
     "end_time": "2020-11-08T09:33:58.462558Z",
     "start_time": "2020-11-08T09:33:58.449557Z"
    }
   },
   "outputs": [
    {
     "data": {
      "text/plain": [
       "(3545.7691,\n",
       " 6543.699999838282,\n",
       " 1199.0658952604058,\n",
       " 105.79999980109278,\n",
       " 7514.180049190627,\n",
       " 107.1591125374509,\n",
       " 2258)"
      ]
     },
     "execution_count": 350,
     "metadata": {},
     "output_type": "execute_result"
    }
   ],
   "source": [
    "i[0], duration, amplitude, rise_time, energy/pow(10,4), RMS, count"
   ]
  },
  {
   "cell_type": "code",
   "execution_count": 252,
   "metadata": {
    "ExecuteTime": {
     "end_time": "2020-11-08T08:35:59.135812Z",
     "start_time": "2020-11-08T08:35:59.107812Z"
    }
   },
   "outputs": [
    {
     "data": {
      "text/plain": [
       "(array([  228,   229,   322, ..., 63298, 64400, 64401], dtype=int64),\n",
       " array([5, 4, 5, ..., 3, 13, 16], dtype=object))"
      ]
     },
     "execution_count": 252,
     "metadata": {},
     "output_type": "execute_result"
    }
   ],
   "source": [
    "counts = counts[np.where(counts != None)]\n",
    "np.where(counts > 2)[0], counts[np.where(counts > 2)[0]]"
   ]
  },
  {
   "cell_type": "code",
   "execution_count": 336,
   "metadata": {
    "ExecuteTime": {
     "end_time": "2020-11-08T09:26:27.275289Z",
     "start_time": "2020-11-08T09:26:27.266287Z"
    }
   },
   "outputs": [
    {
     "data": {
      "text/plain": [
       "64482"
      ]
     },
     "execution_count": 336,
     "metadata": {},
     "output_type": "execute_result"
    }
   ],
   "source": [
    "len(valid_idx)"
   ]
  },
  {
   "cell_type": "code",
   "execution_count": 83,
   "metadata": {
    "ExecuteTime": {
     "end_time": "2020-11-07T09:49:57.113733Z",
     "start_time": "2020-11-07T09:49:55.641735Z"
    }
   },
   "outputs": [],
   "source": [
    "plt.plot(time,sig)\n",
    "plt.show()"
   ]
  },
  {
   "cell_type": "code",
   "execution_count": null,
   "metadata": {
    "ExecuteTime": {
     "start_time": "2020-11-07T09:19:07.991Z"
    }
   },
   "outputs": [],
   "source": [
    "# Save the calculated frequency value in CSV format\n",
    "file_name = r'E:\\data\\vallen\\Ni-tension test-electrolysis-1-0.01-AE-20201031'\n",
    "with open(file_name + '-time.csv', 'w') as csvfile:\n",
    "    writer = csv.writer(csvfile)\n",
    "    writer.writerows([a])"
   ]
  },
  {
   "cell_type": "markdown",
   "metadata": {},
   "source": [
    "## Plot"
   ]
  },
  {
   "cell_type": "code",
   "execution_count": null,
   "metadata": {
    "ExecuteTime": {
     "end_time": "2020-11-08T10:21:14.989695Z",
     "start_time": "2020-11-08T10:21:14.816731Z"
    }
   },
   "outputs": [],
   "source": [
    "titles = ['Original Waveform', 'Bilateral amplitude spectrum (normalized)', 'Unilateral amplitude spectrum (normalized)']\n",
    "colors = ['purple', 'green', 'blue']\n",
    "x_label = ['Time (s)', 'Freq (Hz)', 'Freq (Hz)']\n",
    "y_label = ['Amplitude (μV)', '|Y(freq)|', '|Y(freq)|']\n",
    "xs = [time_label, frq, half_frq]\n",
    "ys = [valid_data, normalization, normalization_half]\n",
    "\n",
    "for i, [x, y, title, color, xlabel, ylabel] in enumerate(zip(xs, ys, titles, colors, x_label, y_label)):\n",
    "    plt.subplot(311 + i)\n",
    "    plt.plot(x, y, color)\n",
    "    plt.xlabel(xlabel)\n",
    "    plt.ylabel(ylabel)\n",
    "    plt.title(title, color=color)\n",
    "plt.tight_layout()"
   ]
  },
  {
   "cell_type": "markdown",
   "metadata": {},
   "source": [
    "## Validation"
   ]
  },
  {
   "cell_type": "code",
   "execution_count": 432,
   "metadata": {
    "ExecuteTime": {
     "end_time": "2020-11-08T10:14:20.476738Z",
     "start_time": "2020-11-08T10:14:20.367628Z"
    },
    "scrolled": false
   },
   "outputs": [],
   "source": [
    "i = result_tra[18592]\n",
    "sig = np.multiply(array.array('h',bytes(i[-1])), i[-2] * 1000)\n",
    "time = np.linspace(i[0], i[0] + pow(i[-4], -1) * (i[-3] - 1), i[-3])\n",
    "\n",
    "thr = i[2]\n",
    "valid_wave_idx = np.where(abs(sig) >= thr)[0]\n",
    "start = time[valid_wave_idx[0]]\n",
    "end = time[valid_wave_idx[-1]]\n",
    "duration = (end - start)*pow(10,6)\n",
    "max_idx = np.argmax(abs(sig))\n",
    "amplitude = max(abs(sig))\n",
    "rise_time = (time[max_idx] - start)*pow(10,6)\n",
    "valid_data = sig[valid_wave_idx[0]:(valid_wave_idx[-1] + 1)]\n",
    "energy = np.sum(np.multiply(pow(valid_data, 2), pow(10,6)/i[3]))\n",
    "RMS = math.sqrt(energy / duration)\n",
    "count = 0\n",
    "N = len(valid_data)\n",
    "for idx in range(1, N):\n",
    "    if valid_data[idx - 1] <= thr <= valid_data[idx]:\n",
    "        count += 1"
   ]
  },
  {
   "cell_type": "markdown",
   "metadata": {},
   "source": [
    "## Read"
   ]
  },
  {
   "cell_type": "code",
   "execution_count": 5,
   "metadata": {
    "ExecuteTime": {
     "end_time": "2020-11-07T09:25:12.389497Z",
     "start_time": "2020-11-07T09:25:12.378499Z"
    }
   },
   "outputs": [],
   "source": [
    "def sqlite_read(path):\n",
    "    \"\"\"\n",
    "    python读取sqlite数据库文件\n",
    "    \"\"\"\n",
    "    mydb = sqlite3.connect(path)                # 链接数据库\n",
    "    mydb.text_factory = lambda x: str(x, 'gbk', 'ignore')\n",
    "    cur = mydb.cursor()                         # 创建游标cur来执行SQL语句\n",
    "\n",
    "    # 获取表名\n",
    "    cur.execute(\"SELECT name FROM sqlite_master WHERE type='table'\")\n",
    "    Tables = cur.fetchall()                     # Tables 为元组列表\n",
    "    print(Tables)\n",
    "    \n",
    "    i = 0\n",
    "    while True:\n",
    "        try:\n",
    "            tbl_name = Tables[i][0]                     # 获取第一个表名\n",
    "        except:\n",
    "            break\n",
    "        # 获取表的列名\n",
    "        cur.execute(\"SELECT * FROM {}\".format(tbl_name))\n",
    "        col_name_list = [tuple[0] for tuple in cur.description]\n",
    "        pprint.pprint(col_name_list)\n",
    "        i += 1\n",
    "\n",
    "#     # 获取表结构的所有信息\n",
    "#     cur.execute(\"PRAGMA table_info({})\".format(tbl_name))\n",
    "#     pprint.pprint(cur.fetchall())"
   ]
  },
  {
   "cell_type": "code",
   "execution_count": null,
   "metadata": {
    "ExecuteTime": {
     "end_time": "2020-11-07T08:29:21.427515Z",
     "start_time": "2020-11-07T08:29:21.405518Z"
    },
    "scrolled": true
   },
   "outputs": [],
   "source": [
    "sqlite_read(path_tra)"
   ]
  },
  {
   "cell_type": "code",
   "execution_count": null,
   "metadata": {
    "ExecuteTime": {
     "end_time": "2020-11-07T08:52:55.664521Z",
     "start_time": "2020-11-07T08:52:55.642521Z"
    }
   },
   "outputs": [],
   "source": [
    "# tradb\n",
    "[('tr_data', ), ('tr_globalinfo', ), ('tr_fieldinfo', ), ('tr_params', )]\n",
    "\n",
    "['SetID', 'Time', 'TRAI', 'Status', 'ParamID', 'Chan', 'Pretrigger', 'Thr', 'MinVal', 'MaxVal', 'SampleRate', 'Samples', 'DataFormat', 'Data']\n",
    "['Key', 'Value']\n",
    "['field', 'Unit', 'Parameter']\n",
    "['ID', 'SetupID', 'Chan', 'ADC_µV', 'TR_mV']\n",
    "\n",
    "[('view_tr_data', )]\n",
    "['SetID', 'Time', 'TRAI', 'Status', 'Chan', 'Pretrigger', 'Thr', 'MinVal', 'MaxVal', 'SampleRate', 'Samples', 'DataFormat', 'TR_mV', 'Data']"
   ]
  },
  {
   "cell_type": "code",
   "execution_count": null,
   "metadata": {
    "code_folding": []
   },
   "outputs": [],
   "source": [
    "# pridb\n",
    "[('ae_data', ), ('acq_setup', ), ('ae_markers', ), ('ae_globalinfo', ), ('ae_fieldinfo', ), ('ae_params', ), ('data_integrity', )]\n",
    "\n",
    "['SetID', 'SetType', 'Time', 'Chan', 'Status', 'ParamID', 'Thr', 'Amp', 'RiseT', 'Dur', 'Eny', 'RMS', 'Counts', 'TRAI', 'CHits', 'PA0', 'PA1']\n",
    "['ID', 'Data']\n",
    "['SetID', 'Number', 'Data']\n",
    "['Key', 'Value']\n",
    "['field', 'Unit', 'SetTypes', 'Parameter', 'Factor']\n",
    "['ID', 'SetupID', 'Chan', 'ADC_µV', 'ADC_TE', 'ADC_SS', 'PA0_mV', 'PA1_mV']\n",
    "['TableName', 'HashV1', 'LastRow']\n",
    "\n",
    "[('view_ae_data', )]\n",
    "['SetID', 'SetType', 'Time', 'Chan', 'Status', 'Thr', 'Amp', 'RiseT', 'Dur', 'Eny', 'RMS', 'Counts', 'TRAI', 'CHits', 'PA0', 'PA1']"
   ]
  },
  {
   "cell_type": "code",
   "execution_count": null,
   "metadata": {
    "ExecuteTime": {
     "end_time": "2020-11-07T08:49:08.692644Z",
     "start_time": "2020-11-07T08:49:08.670635Z"
    },
    "scrolled": true
   },
   "outputs": [],
   "source": [
    "conn.execute(\"PRAGMA table_info(view_tr_data)\").fetchall()"
   ]
  }
 ],
 "metadata": {
  "kernelspec": {
   "display_name": "Python 3",
   "language": "python",
   "name": "python3"
  },
  "language_info": {
   "codemirror_mode": {
    "name": "ipython",
    "version": 3
   },
   "file_extension": ".py",
   "mimetype": "text/x-python",
   "name": "python",
   "nbconvert_exporter": "python",
   "pygments_lexer": "ipython3",
   "version": "3.8.5"
  }
 },
 "nbformat": 4,
 "nbformat_minor": 4
}
