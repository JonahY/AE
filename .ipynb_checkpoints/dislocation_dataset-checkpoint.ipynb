{
 "cells": [
  {
   "cell_type": "code",
   "execution_count": 16,
   "metadata": {
    "ExecuteTime": {
     "end_time": "2021-04-02T03:12:12.337875Z",
     "start_time": "2021-04-02T03:12:12.310874Z"
    }
   },
   "outputs": [],
   "source": [
    "import pandas as pd\n",
    "import os\n",
    "import numpy as np\n",
    "import matplotlib.pyplot as plt\n",
    "import warnings\n",
    "from matplotlib.pylab import mpl\n",
    "\n",
    "warnings.filterwarnings(\"ignore\")\n",
    "mpl.rcParams['axes.unicode_minus'] = False  #显示负号\n",
    "plt.rcParams['xtick.direction'] = 'in'\n",
    "plt.rcParams['ytick.direction'] = 'in'"
   ]
  },
  {
   "cell_type": "code",
   "execution_count": 18,
   "metadata": {
    "ExecuteTime": {
     "end_time": "2021-04-02T03:12:30.078477Z",
     "start_time": "2021-04-02T03:12:28.967494Z"
    }
   },
   "outputs": [],
   "source": [
    "%matplotlib qt"
   ]
  },
  {
   "cell_type": "code",
   "execution_count": 2,
   "metadata": {
    "ExecuteTime": {
     "end_time": "2021-04-02T02:55:46.183679Z",
     "start_time": "2021-04-02T02:55:46.175679Z"
    },
    "scrolled": true
   },
   "outputs": [],
   "source": [
    "os.chdir(r'C:\\Users\\Yuan\\Desktop')"
   ]
  },
  {
   "cell_type": "markdown",
   "metadata": {},
   "source": [
    "### Predict Result"
   ]
  },
  {
   "cell_type": "code",
   "execution_count": 10,
   "metadata": {
    "ExecuteTime": {
     "end_time": "2021-04-02T03:05:39.351546Z",
     "start_time": "2021-04-02T03:05:39.216513Z"
    }
   },
   "outputs": [],
   "source": [
    "allFold = []\n",
    "for fold in ['0', '1', '2', '3']:\n",
    "    fold_tmp = []\n",
    "    for idx, i in enumerate(os.listdir(fold)):\n",
    "        data_tmp = pd.read_csv(os.path.join(fold, i))\n",
    "        fold_tmp = np.concatenate([fold_tmp, np.array(data_tmp)[:, 1:]], axis=0) if idx else np.array(data_tmp)[:, 1:]\n",
    "    allFold.append(fold_tmp)"
   ]
  },
  {
   "cell_type": "code",
   "execution_count": 28,
   "metadata": {
    "ExecuteTime": {
     "end_time": "2021-04-02T03:42:00.682553Z",
     "start_time": "2021-04-02T03:42:00.499551Z"
    }
   },
   "outputs": [],
   "source": [
    "color = ['blue', 'black', 'green', 'purple']\n",
    "fig, axes = plt.subplots(4, 1, sharex=True, figsize=(10, 8))\n",
    "for idx, ax in enumerate(axes):\n",
    "    ax.scatter(allFold[idx][:, 0], allFold[idx][:, 1], color=color[idx])\n",
    "    ax.axhline(0.88, 0, 800000, linewidth=1, color=\"pink\")\n",
    "    ax.grid()"
   ]
  },
  {
   "cell_type": "markdown",
   "metadata": {},
   "source": [
    "### Dislocation Dataset"
   ]
  },
  {
   "cell_type": "code",
   "execution_count": 37,
   "metadata": {
    "ExecuteTime": {
     "end_time": "2021-03-01T09:10:46.354946Z",
     "start_time": "2021-03-01T09:10:46.342946Z"
    },
    "scrolled": true
   },
   "outputs": [
    {
     "data": {
      "text/html": [
       "<div>\n",
       "<style scoped>\n",
       "    .dataframe tbody tr th:only-of-type {\n",
       "        vertical-align: middle;\n",
       "    }\n",
       "\n",
       "    .dataframe tbody tr th {\n",
       "        vertical-align: top;\n",
       "    }\n",
       "\n",
       "    .dataframe thead th {\n",
       "        text-align: right;\n",
       "    }\n",
       "</style>\n",
       "<table border=\"1\" class=\"dataframe\">\n",
       "  <thead>\n",
       "    <tr style=\"text-align: right;\">\n",
       "      <th></th>\n",
       "      <th>0</th>\n",
       "      <th>1</th>\n",
       "      <th>2</th>\n",
       "      <th>labels</th>\n",
       "    </tr>\n",
       "  </thead>\n",
       "  <tbody>\n",
       "    <tr>\n",
       "      <th>0</th>\n",
       "      <td>1</td>\n",
       "      <td>0</td>\n",
       "      <td>0</td>\n",
       "      <td>1</td>\n",
       "    </tr>\n",
       "    <tr>\n",
       "      <th>1</th>\n",
       "      <td>0</td>\n",
       "      <td>1</td>\n",
       "      <td>0</td>\n",
       "      <td>2</td>\n",
       "    </tr>\n",
       "    <tr>\n",
       "      <th>2</th>\n",
       "      <td>0</td>\n",
       "      <td>1</td>\n",
       "      <td>0</td>\n",
       "      <td>2</td>\n",
       "    </tr>\n",
       "    <tr>\n",
       "      <th>3</th>\n",
       "      <td>0</td>\n",
       "      <td>1</td>\n",
       "      <td>0</td>\n",
       "      <td>2</td>\n",
       "    </tr>\n",
       "    <tr>\n",
       "      <th>4</th>\n",
       "      <td>0</td>\n",
       "      <td>1</td>\n",
       "      <td>0</td>\n",
       "      <td>2</td>\n",
       "    </tr>\n",
       "  </tbody>\n",
       "</table>\n",
       "</div>"
      ],
      "text/plain": [
       "   0  1  2  labels\n",
       "0  1  0  0       1\n",
       "1  0  1  0       2\n",
       "2  0  1  0       2\n",
       "3  0  1  0       2\n",
       "4  0  1  0       2"
      ]
     },
     "execution_count": 37,
     "metadata": {},
     "output_type": "execute_result"
    }
   ],
   "source": [
    "df.head()"
   ]
  },
  {
   "cell_type": "code",
   "execution_count": 36,
   "metadata": {
    "ExecuteTime": {
     "end_time": "2021-03-01T09:10:42.676076Z",
     "start_time": "2021-03-01T09:10:42.533735Z"
    }
   },
   "outputs": [],
   "source": [
    "df['labels'] = [np.argmax(np.array(df.iloc[i, :])) + 1 for i in range(df.count()[0])]"
   ]
  },
  {
   "cell_type": "code",
   "execution_count": 3,
   "metadata": {
    "ExecuteTime": {
     "end_time": "2021-02-24T10:46:45.658333Z",
     "start_time": "2021-02-24T10:46:45.593331Z"
    }
   },
   "outputs": [],
   "source": [
    "df_1 = pd.read_csv('Ni_electrolysis_chan2.csv')\n",
    "df_2 = pd.read_csv('Ni_electrolysis_chan3.csv')\n",
    "df_3 = pd.read_csv('Ni_pure_chan2.csv')\n",
    "df_4 = pd.read_csv('Ni_pure_chan3.csv')"
   ]
  },
  {
   "cell_type": "code",
   "execution_count": 4,
   "metadata": {
    "ExecuteTime": {
     "end_time": "2021-02-24T10:47:38.502014Z",
     "start_time": "2021-02-24T10:47:38.453788Z"
    }
   },
   "outputs": [],
   "source": [
    "new = pd.concat((df_3, df_4), axis=0)\n",
    "new.to_csv('Ni_pure.csv', index=None)"
   ]
  },
  {
   "cell_type": "code",
   "execution_count": 22,
   "metadata": {
    "ExecuteTime": {
     "end_time": "2021-02-02T11:52:15.740979Z",
     "start_time": "2021-02-02T11:52:15.705090Z"
    }
   },
   "outputs": [],
   "source": [
    "df_1 = pd.read_csv('Nano_Ni_1_cnts_4_crack.csv')\n",
    "df_2 = pd.read_csv('Nano_Ni_2_cnts_4_crack.csv')"
   ]
  },
  {
   "cell_type": "code",
   "execution_count": 40,
   "metadata": {
    "ExecuteTime": {
     "end_time": "2021-02-02T12:00:48.943664Z",
     "start_time": "2021-02-02T12:00:48.877626Z"
    }
   },
   "outputs": [],
   "source": [
    "df_1 = pd.read_csv('Ni_twinning.csv')\n",
    "df_2 = pd.read_csv('Ni_crack.csv')\n",
    "df_2['Pop'] = 0\n",
    "new = pd.concat((df_1[df_1['Pop'] == 1], df_2), axis=0)\n",
    "new.to_csv('Ni_twinning&crack.csv', index=None)"
   ]
  },
  {
   "cell_type": "code",
   "execution_count": 25,
   "metadata": {
    "ExecuteTime": {
     "end_time": "2021-02-02T11:52:35.905875Z",
     "start_time": "2021-02-02T11:52:35.882867Z"
    }
   },
   "outputs": [],
   "source": [
    "new = pd.concat((df_1, df_2), axis=0)\n",
    "new.to_csv('Ni_crack.csv', index=None)"
   ]
  },
  {
   "cell_type": "code",
   "execution_count": 16,
   "metadata": {
    "ExecuteTime": {
     "end_time": "2021-02-02T04:11:57.815370Z",
     "start_time": "2021-02-02T04:11:57.805737Z"
    }
   },
   "outputs": [],
   "source": [
    "new['Pop'] = (~new['Pop'].astype(bool)).astype(int)"
   ]
  },
  {
   "cell_type": "code",
   "execution_count": 39,
   "metadata": {
    "ExecuteTime": {
     "end_time": "2021-02-02T12:00:31.403120Z",
     "start_time": "2021-02-02T12:00:31.364613Z"
    }
   },
   "outputs": [
    {
     "data": {
      "text/html": [
       "<div>\n",
       "<style scoped>\n",
       "    .dataframe tbody tr th:only-of-type {\n",
       "        vertical-align: middle;\n",
       "    }\n",
       "\n",
       "    .dataframe tbody tr th {\n",
       "        vertical-align: top;\n",
       "    }\n",
       "\n",
       "    .dataframe thead th {\n",
       "        text-align: right;\n",
       "    }\n",
       "</style>\n",
       "<table border=\"1\" class=\"dataframe\">\n",
       "  <thead>\n",
       "    <tr style=\"text-align: right;\">\n",
       "      <th></th>\n",
       "      <th>Amp</th>\n",
       "      <th>RiseT</th>\n",
       "      <th>Dur</th>\n",
       "      <th>Eny</th>\n",
       "      <th>RMS</th>\n",
       "      <th>Counts</th>\n",
       "      <th>PeakFreq</th>\n",
       "      <th>PackEny1</th>\n",
       "      <th>PackEny2</th>\n",
       "      <th>PackEny3</th>\n",
       "      <th>PackEny4</th>\n",
       "      <th>PackEny5</th>\n",
       "      <th>PackEny6</th>\n",
       "      <th>PackEny7</th>\n",
       "      <th>PackEny8</th>\n",
       "      <th>Pop</th>\n",
       "    </tr>\n",
       "  </thead>\n",
       "  <tbody>\n",
       "    <tr>\n",
       "      <th>0</th>\n",
       "      <td>23.225150</td>\n",
       "      <td>0.9</td>\n",
       "      <td>28.00</td>\n",
       "      <td>0.320144</td>\n",
       "      <td>2.622939</td>\n",
       "      <td>5.0</td>\n",
       "      <td>570409.982175</td>\n",
       "      <td>0.988677</td>\n",
       "      <td>0.009732</td>\n",
       "      <td>0.000707</td>\n",
       "      <td>0.000229</td>\n",
       "      <td>0.000141</td>\n",
       "      <td>0.000187</td>\n",
       "      <td>0.000144</td>\n",
       "      <td>0.000183</td>\n",
       "      <td>1</td>\n",
       "    </tr>\n",
       "    <tr>\n",
       "      <th>1</th>\n",
       "      <td>59.413175</td>\n",
       "      <td>1.3</td>\n",
       "      <td>34.50</td>\n",
       "      <td>1.349727</td>\n",
       "      <td>2.622939</td>\n",
       "      <td>12.0</td>\n",
       "      <td>578871.201158</td>\n",
       "      <td>0.996337</td>\n",
       "      <td>0.003170</td>\n",
       "      <td>0.000258</td>\n",
       "      <td>0.000048</td>\n",
       "      <td>0.000039</td>\n",
       "      <td>0.000067</td>\n",
       "      <td>0.000036</td>\n",
       "      <td>0.000045</td>\n",
       "      <td>1</td>\n",
       "    </tr>\n",
       "    <tr>\n",
       "      <th>2</th>\n",
       "      <td>479.086238</td>\n",
       "      <td>5.8</td>\n",
       "      <td>226.60</td>\n",
       "      <td>99.890003</td>\n",
       "      <td>2.619399</td>\n",
       "      <td>81.0</td>\n",
       "      <td>577983.675270</td>\n",
       "      <td>0.999665</td>\n",
       "      <td>0.000313</td>\n",
       "      <td>0.000005</td>\n",
       "      <td>0.000004</td>\n",
       "      <td>0.000003</td>\n",
       "      <td>0.000004</td>\n",
       "      <td>0.000003</td>\n",
       "      <td>0.000003</td>\n",
       "      <td>1</td>\n",
       "    </tr>\n",
       "    <tr>\n",
       "      <th>3</th>\n",
       "      <td>69.135331</td>\n",
       "      <td>1.2</td>\n",
       "      <td>20.85</td>\n",
       "      <td>1.144034</td>\n",
       "      <td>2.622939</td>\n",
       "      <td>4.0</td>\n",
       "      <td>143540.669856</td>\n",
       "      <td>0.989977</td>\n",
       "      <td>0.009325</td>\n",
       "      <td>0.000507</td>\n",
       "      <td>0.000044</td>\n",
       "      <td>0.000031</td>\n",
       "      <td>0.000072</td>\n",
       "      <td>0.000020</td>\n",
       "      <td>0.000022</td>\n",
       "      <td>1</td>\n",
       "    </tr>\n",
       "    <tr>\n",
       "      <th>5</th>\n",
       "      <td>25.925749</td>\n",
       "      <td>3.8</td>\n",
       "      <td>27.65</td>\n",
       "      <td>0.435727</td>\n",
       "      <td>2.622939</td>\n",
       "      <td>4.0</td>\n",
       "      <td>577617.328520</td>\n",
       "      <td>0.996548</td>\n",
       "      <td>0.002659</td>\n",
       "      <td>0.000193</td>\n",
       "      <td>0.000125</td>\n",
       "      <td>0.000106</td>\n",
       "      <td>0.000129</td>\n",
       "      <td>0.000127</td>\n",
       "      <td>0.000113</td>\n",
       "      <td>1</td>\n",
       "    </tr>\n",
       "  </tbody>\n",
       "</table>\n",
       "</div>"
      ],
      "text/plain": [
       "          Amp  RiseT     Dur        Eny       RMS  Counts       PeakFreq  \\\n",
       "0   23.225150    0.9   28.00   0.320144  2.622939     5.0  570409.982175   \n",
       "1   59.413175    1.3   34.50   1.349727  2.622939    12.0  578871.201158   \n",
       "2  479.086238    5.8  226.60  99.890003  2.619399    81.0  577983.675270   \n",
       "3   69.135331    1.2   20.85   1.144034  2.622939     4.0  143540.669856   \n",
       "5   25.925749    3.8   27.65   0.435727  2.622939     4.0  577617.328520   \n",
       "\n",
       "   PackEny1  PackEny2  PackEny3  PackEny4  PackEny5  PackEny6  PackEny7  \\\n",
       "0  0.988677  0.009732  0.000707  0.000229  0.000141  0.000187  0.000144   \n",
       "1  0.996337  0.003170  0.000258  0.000048  0.000039  0.000067  0.000036   \n",
       "2  0.999665  0.000313  0.000005  0.000004  0.000003  0.000004  0.000003   \n",
       "3  0.989977  0.009325  0.000507  0.000044  0.000031  0.000072  0.000020   \n",
       "5  0.996548  0.002659  0.000193  0.000125  0.000106  0.000129  0.000127   \n",
       "\n",
       "   PackEny8  Pop  \n",
       "0  0.000183    1  \n",
       "1  0.000045    1  \n",
       "2  0.000003    1  \n",
       "3  0.000022    1  \n",
       "5  0.000113    1  "
      ]
     },
     "execution_count": 39,
     "metadata": {},
     "output_type": "execute_result"
    }
   ],
   "source": [
    "new.head()"
   ]
  },
  {
   "cell_type": "code",
   "execution_count": null,
   "metadata": {},
   "outputs": [],
   "source": []
  },
  {
   "cell_type": "code",
   "execution_count": 64,
   "metadata": {
    "ExecuteTime": {
     "end_time": "2021-01-28T11:51:07.895296Z",
     "start_time": "2021-01-28T11:51:07.876281Z"
    }
   },
   "outputs": [],
   "source": [
    "def standardize(X):\n",
    "    m, n = X.shape\n",
    "    for j in range(n):\n",
    "        features = X[:,j]\n",
    "        meanVal = features.mean(axis=0)\n",
    "        std = features.std(axis=0)\n",
    "        if std != 0:\n",
    "            X[:, j] = (features-meanVal)/std\n",
    "        else:\n",
    "            X[:, j] = 0\n",
    "    return X"
   ]
  },
  {
   "cell_type": "code",
   "execution_count": 66,
   "metadata": {
    "ExecuteTime": {
     "end_time": "2021-01-28T11:56:19.174486Z",
     "start_time": "2021-01-28T11:56:19.167482Z"
    }
   },
   "outputs": [
    {
     "data": {
      "text/plain": [
       "(1576, 16)"
      ]
     },
     "execution_count": 66,
     "metadata": {},
     "output_type": "execute_result"
    }
   ],
   "source": [
    "standardize(new.values).shape"
   ]
  },
  {
   "cell_type": "markdown",
   "metadata": {},
   "source": []
  },
  {
   "cell_type": "code",
   "execution_count": 3,
   "metadata": {
    "ExecuteTime": {
     "end_time": "2021-03-15T08:27:32.372409Z",
     "start_time": "2021-03-15T08:27:32.363409Z"
    }
   },
   "outputs": [],
   "source": [
    "os.chdir(r'C:\\Users\\Yuan\\Desktop\\Ni dataset\\Ni_dis0_detw1_tang2')"
   ]
  },
  {
   "cell_type": "code",
   "execution_count": 4,
   "metadata": {
    "ExecuteTime": {
     "end_time": "2021-03-15T08:27:38.753469Z",
     "start_time": "2021-03-15T08:27:38.634959Z"
    }
   },
   "outputs": [],
   "source": [
    "df_1 = pd.read_csv('Ni_electrolysis_chan2_(de-)tangle.csv')\n",
    "df_2 = pd.read_csv('Ni_electrolysis_chan2_detwinning.csv')\n",
    "df_3 = pd.read_csv('Ni_electrolysis_chan2_dislocation.csv')\n",
    "df_4 = pd.read_csv('Ni_electrolysis_chan3_(de-)tangle.csv')\n",
    "df_5 = pd.read_csv('Ni_electrolysis_chan3_detwinning.csv')\n",
    "df_6 = pd.read_csv('Ni_electrolysis_chan3_dislocation.csv')\n",
    "df_7 = pd.read_csv('Ni_pure.csv')\n",
    "df_8 = pd.read_csv('Ni_electrolysis_noise.csv')"
   ]
  },
  {
   "cell_type": "code",
   "execution_count": 5,
   "metadata": {
    "ExecuteTime": {
     "end_time": "2021-03-03T03:13:58.463083Z",
     "start_time": "2021-03-03T03:13:58.309662Z"
    }
   },
   "outputs": [],
   "source": [
    "new = pd.concat((df_1, df_2, df_3, df_4, df_5, df_6, df_7, df_8), axis=0)\n",
    "new.to_csv('Coarse Ni.csv', index=None)"
   ]
  },
  {
   "cell_type": "code",
   "execution_count": 12,
   "metadata": {
    "ExecuteTime": {
     "end_time": "2021-03-03T03:15:45.710948Z",
     "start_time": "2021-03-03T03:15:45.651948Z"
    }
   },
   "outputs": [
    {
     "data": {
      "text/plain": [
       "3.0    772\n",
       "1.0    701\n",
       "0.0    630\n",
       "2.0    245\n",
       "Name: Pop, dtype: int64"
      ]
     },
     "execution_count": 12,
     "metadata": {},
     "output_type": "execute_result"
    }
   ],
   "source": [
    "new['Pop'].value_counts()"
   ]
  },
  {
   "cell_type": "markdown",
   "metadata": {},
   "source": []
  },
  {
   "cell_type": "code",
   "execution_count": 17,
   "metadata": {
    "ExecuteTime": {
     "end_time": "2021-03-03T11:52:05.756039Z",
     "start_time": "2021-03-03T11:52:05.702073Z"
    }
   },
   "outputs": [],
   "source": [
    "with open(r'H:\\PAC\\316L-1.5-z8-0.01-AE-3 sensor-Vallen&PAC-20210302\\F_316L-1.5-z8-0.01-AE-3 sensor-Vallen&PAC-20210302.TXT' , 'r') as f:\n",
    "    data = np.array([list(i.strip(\"\\n\").split()) for i in f.readlines()[8:]])"
   ]
  },
  {
   "cell_type": "code",
   "execution_count": 28,
   "metadata": {
    "ExecuteTime": {
     "end_time": "2021-03-03T11:54:46.726375Z",
     "start_time": "2021-03-03T11:54:46.712375Z"
    }
   },
   "outputs": [],
   "source": [
    "Amp = data[:, 9].astype(int)\n",
    "Eny = data[:, 7].astype(int)\n",
    "absEny = data[:, -2].astype(float)"
   ]
  },
  {
   "cell_type": "code",
   "execution_count": 31,
   "metadata": {
    "ExecuteTime": {
     "end_time": "2021-03-04T08:12:46.274328Z",
     "start_time": "2021-03-04T08:12:46.192216Z"
    }
   },
   "outputs": [],
   "source": [
    "df = pd.read_csv('Coarse Ni.csv')"
   ]
  },
  {
   "cell_type": "code",
   "execution_count": 36,
   "metadata": {
    "ExecuteTime": {
     "end_time": "2021-03-04T08:33:38.015013Z",
     "start_time": "2021-03-04T08:33:37.985014Z"
    }
   },
   "outputs": [
    {
     "data": {
      "text/html": [
       "<div>\n",
       "<style scoped>\n",
       "    .dataframe tbody tr th:only-of-type {\n",
       "        vertical-align: middle;\n",
       "    }\n",
       "\n",
       "    .dataframe tbody tr th {\n",
       "        vertical-align: top;\n",
       "    }\n",
       "\n",
       "    .dataframe thead th {\n",
       "        text-align: right;\n",
       "    }\n",
       "</style>\n",
       "<table border=\"1\" class=\"dataframe\">\n",
       "  <thead>\n",
       "    <tr style=\"text-align: right;\">\n",
       "      <th></th>\n",
       "      <th>Amp</th>\n",
       "      <th>RiseT</th>\n",
       "      <th>Dur</th>\n",
       "      <th>Eny</th>\n",
       "      <th>RMS</th>\n",
       "      <th>Counts</th>\n",
       "      <th>PeakFreq</th>\n",
       "      <th>PackEny1</th>\n",
       "      <th>PackEny2</th>\n",
       "      <th>PackEny3</th>\n",
       "      <th>PackEny4</th>\n",
       "      <th>PackEny5</th>\n",
       "      <th>PackEny6</th>\n",
       "      <th>PackEny7</th>\n",
       "      <th>PackEny8</th>\n",
       "      <th>Pop</th>\n",
       "    </tr>\n",
       "  </thead>\n",
       "  <tbody>\n",
       "    <tr>\n",
       "      <th>303</th>\n",
       "      <td>68.055091</td>\n",
       "      <td>109.20</td>\n",
       "      <td>235.65</td>\n",
       "      <td>7.712204</td>\n",
       "      <td>2.615860</td>\n",
       "      <td>41.0</td>\n",
       "      <td>131523.122613</td>\n",
       "      <td>0.999073</td>\n",
       "      <td>0.000639</td>\n",
       "      <td>0.000068</td>\n",
       "      <td>0.000050</td>\n",
       "      <td>0.000047</td>\n",
       "      <td>0.000043</td>\n",
       "      <td>0.000042</td>\n",
       "      <td>0.000039</td>\n",
       "      <td>0.0</td>\n",
       "    </tr>\n",
       "    <tr>\n",
       "      <th>304</th>\n",
       "      <td>19.984432</td>\n",
       "      <td>87.85</td>\n",
       "      <td>92.00</td>\n",
       "      <td>0.608793</td>\n",
       "      <td>2.622939</td>\n",
       "      <td>4.0</td>\n",
       "      <td>619228.680065</td>\n",
       "      <td>0.994943</td>\n",
       "      <td>0.003240</td>\n",
       "      <td>0.000364</td>\n",
       "      <td>0.000380</td>\n",
       "      <td>0.000315</td>\n",
       "      <td>0.000253</td>\n",
       "      <td>0.000275</td>\n",
       "      <td>0.000231</td>\n",
       "      <td>0.0</td>\n",
       "    </tr>\n",
       "    <tr>\n",
       "      <th>305</th>\n",
       "      <td>62.653894</td>\n",
       "      <td>45.30</td>\n",
       "      <td>449.10</td>\n",
       "      <td>6.292918</td>\n",
       "      <td>2.619399</td>\n",
       "      <td>74.0</td>\n",
       "      <td>418568.406991</td>\n",
       "      <td>0.998525</td>\n",
       "      <td>0.000823</td>\n",
       "      <td>0.000133</td>\n",
       "      <td>0.000109</td>\n",
       "      <td>0.000108</td>\n",
       "      <td>0.000104</td>\n",
       "      <td>0.000100</td>\n",
       "      <td>0.000097</td>\n",
       "      <td>0.0</td>\n",
       "    </tr>\n",
       "    <tr>\n",
       "      <th>306</th>\n",
       "      <td>94.520960</td>\n",
       "      <td>23.95</td>\n",
       "      <td>424.85</td>\n",
       "      <td>10.588679</td>\n",
       "      <td>2.622939</td>\n",
       "      <td>83.0</td>\n",
       "      <td>609555.189456</td>\n",
       "      <td>0.998706</td>\n",
       "      <td>0.000924</td>\n",
       "      <td>0.000077</td>\n",
       "      <td>0.000067</td>\n",
       "      <td>0.000058</td>\n",
       "      <td>0.000059</td>\n",
       "      <td>0.000054</td>\n",
       "      <td>0.000056</td>\n",
       "      <td>0.0</td>\n",
       "    </tr>\n",
       "    <tr>\n",
       "      <th>307</th>\n",
       "      <td>34.567665</td>\n",
       "      <td>67.95</td>\n",
       "      <td>171.10</td>\n",
       "      <td>1.998183</td>\n",
       "      <td>2.622939</td>\n",
       "      <td>26.0</td>\n",
       "      <td>420683.610868</td>\n",
       "      <td>0.997795</td>\n",
       "      <td>0.001350</td>\n",
       "      <td>0.000176</td>\n",
       "      <td>0.000161</td>\n",
       "      <td>0.000139</td>\n",
       "      <td>0.000117</td>\n",
       "      <td>0.000128</td>\n",
       "      <td>0.000135</td>\n",
       "      <td>0.0</td>\n",
       "    </tr>\n",
       "    <tr>\n",
       "      <th>...</th>\n",
       "      <td>...</td>\n",
       "      <td>...</td>\n",
       "      <td>...</td>\n",
       "      <td>...</td>\n",
       "      <td>...</td>\n",
       "      <td>...</td>\n",
       "      <td>...</td>\n",
       "      <td>...</td>\n",
       "      <td>...</td>\n",
       "      <td>...</td>\n",
       "      <td>...</td>\n",
       "      <td>...</td>\n",
       "      <td>...</td>\n",
       "      <td>...</td>\n",
       "      <td>...</td>\n",
       "      <td>...</td>\n",
       "    </tr>\n",
       "    <tr>\n",
       "      <th>1570</th>\n",
       "      <td>24.305390</td>\n",
       "      <td>14.45</td>\n",
       "      <td>76.45</td>\n",
       "      <td>0.718798</td>\n",
       "      <td>2.502588</td>\n",
       "      <td>7.0</td>\n",
       "      <td>300653.594771</td>\n",
       "      <td>0.963138</td>\n",
       "      <td>0.035133</td>\n",
       "      <td>0.000832</td>\n",
       "      <td>0.000197</td>\n",
       "      <td>0.000198</td>\n",
       "      <td>0.000213</td>\n",
       "      <td>0.000120</td>\n",
       "      <td>0.000170</td>\n",
       "      <td>0.0</td>\n",
       "    </tr>\n",
       "    <tr>\n",
       "      <th>1571</th>\n",
       "      <td>23.225150</td>\n",
       "      <td>39.70</td>\n",
       "      <td>58.00</td>\n",
       "      <td>0.710419</td>\n",
       "      <td>2.513208</td>\n",
       "      <td>6.0</td>\n",
       "      <td>189328.743546</td>\n",
       "      <td>0.981731</td>\n",
       "      <td>0.017321</td>\n",
       "      <td>0.000301</td>\n",
       "      <td>0.000154</td>\n",
       "      <td>0.000131</td>\n",
       "      <td>0.000171</td>\n",
       "      <td>0.000094</td>\n",
       "      <td>0.000096</td>\n",
       "      <td>0.0</td>\n",
       "    </tr>\n",
       "    <tr>\n",
       "      <th>1572</th>\n",
       "      <td>83.718565</td>\n",
       "      <td>36.80</td>\n",
       "      <td>251.20</td>\n",
       "      <td>15.762733</td>\n",
       "      <td>2.516747</td>\n",
       "      <td>43.0</td>\n",
       "      <td>195063.694268</td>\n",
       "      <td>0.972291</td>\n",
       "      <td>0.027410</td>\n",
       "      <td>0.000151</td>\n",
       "      <td>0.000045</td>\n",
       "      <td>0.000032</td>\n",
       "      <td>0.000027</td>\n",
       "      <td>0.000024</td>\n",
       "      <td>0.000021</td>\n",
       "      <td>0.0</td>\n",
       "    </tr>\n",
       "    <tr>\n",
       "      <th>1573</th>\n",
       "      <td>191.202400</td>\n",
       "      <td>143.40</td>\n",
       "      <td>645.75</td>\n",
       "      <td>96.124734</td>\n",
       "      <td>2.516747</td>\n",
       "      <td>83.0</td>\n",
       "      <td>193558.377207</td>\n",
       "      <td>0.993227</td>\n",
       "      <td>0.006661</td>\n",
       "      <td>0.000056</td>\n",
       "      <td>0.000016</td>\n",
       "      <td>0.000011</td>\n",
       "      <td>0.000012</td>\n",
       "      <td>0.000009</td>\n",
       "      <td>0.000009</td>\n",
       "      <td>0.0</td>\n",
       "    </tr>\n",
       "    <tr>\n",
       "      <th>1574</th>\n",
       "      <td>26.465869</td>\n",
       "      <td>46.45</td>\n",
       "      <td>112.45</td>\n",
       "      <td>1.835398</td>\n",
       "      <td>2.516747</td>\n",
       "      <td>13.0</td>\n",
       "      <td>204444.444444</td>\n",
       "      <td>0.988777</td>\n",
       "      <td>0.010493</td>\n",
       "      <td>0.000228</td>\n",
       "      <td>0.000092</td>\n",
       "      <td>0.000112</td>\n",
       "      <td>0.000115</td>\n",
       "      <td>0.000099</td>\n",
       "      <td>0.000085</td>\n",
       "      <td>0.0</td>\n",
       "    </tr>\n",
       "  </tbody>\n",
       "</table>\n",
       "<p>630 rows × 16 columns</p>\n",
       "</div>"
      ],
      "text/plain": [
       "             Amp   RiseT     Dur        Eny       RMS  Counts       PeakFreq  \\\n",
       "303    68.055091  109.20  235.65   7.712204  2.615860    41.0  131523.122613   \n",
       "304    19.984432   87.85   92.00   0.608793  2.622939     4.0  619228.680065   \n",
       "305    62.653894   45.30  449.10   6.292918  2.619399    74.0  418568.406991   \n",
       "306    94.520960   23.95  424.85  10.588679  2.622939    83.0  609555.189456   \n",
       "307    34.567665   67.95  171.10   1.998183  2.622939    26.0  420683.610868   \n",
       "...          ...     ...     ...        ...       ...     ...            ...   \n",
       "1570   24.305390   14.45   76.45   0.718798  2.502588     7.0  300653.594771   \n",
       "1571   23.225150   39.70   58.00   0.710419  2.513208     6.0  189328.743546   \n",
       "1572   83.718565   36.80  251.20  15.762733  2.516747    43.0  195063.694268   \n",
       "1573  191.202400  143.40  645.75  96.124734  2.516747    83.0  193558.377207   \n",
       "1574   26.465869   46.45  112.45   1.835398  2.516747    13.0  204444.444444   \n",
       "\n",
       "      PackEny1  PackEny2  PackEny3  PackEny4  PackEny5  PackEny6  PackEny7  \\\n",
       "303   0.999073  0.000639  0.000068  0.000050  0.000047  0.000043  0.000042   \n",
       "304   0.994943  0.003240  0.000364  0.000380  0.000315  0.000253  0.000275   \n",
       "305   0.998525  0.000823  0.000133  0.000109  0.000108  0.000104  0.000100   \n",
       "306   0.998706  0.000924  0.000077  0.000067  0.000058  0.000059  0.000054   \n",
       "307   0.997795  0.001350  0.000176  0.000161  0.000139  0.000117  0.000128   \n",
       "...        ...       ...       ...       ...       ...       ...       ...   \n",
       "1570  0.963138  0.035133  0.000832  0.000197  0.000198  0.000213  0.000120   \n",
       "1571  0.981731  0.017321  0.000301  0.000154  0.000131  0.000171  0.000094   \n",
       "1572  0.972291  0.027410  0.000151  0.000045  0.000032  0.000027  0.000024   \n",
       "1573  0.993227  0.006661  0.000056  0.000016  0.000011  0.000012  0.000009   \n",
       "1574  0.988777  0.010493  0.000228  0.000092  0.000112  0.000115  0.000099   \n",
       "\n",
       "      PackEny8  Pop  \n",
       "303   0.000039  0.0  \n",
       "304   0.000231  0.0  \n",
       "305   0.000097  0.0  \n",
       "306   0.000056  0.0  \n",
       "307   0.000135  0.0  \n",
       "...        ...  ...  \n",
       "1570  0.000170  0.0  \n",
       "1571  0.000096  0.0  \n",
       "1572  0.000021  0.0  \n",
       "1573  0.000009  0.0  \n",
       "1574  0.000085  0.0  \n",
       "\n",
       "[630 rows x 16 columns]"
      ]
     },
     "execution_count": 36,
     "metadata": {},
     "output_type": "execute_result"
    }
   ],
   "source": [
    "df[df['Pop'] == 0]"
   ]
  },
  {
   "cell_type": "code",
   "execution_count": 34,
   "metadata": {
    "ExecuteTime": {
     "end_time": "2021-03-04T08:14:03.089877Z",
     "start_time": "2021-03-04T08:14:03.055881Z"
    }
   },
   "outputs": [],
   "source": [
    "df[df['Pop'] == 0].to_csv('Coarse Ni_dislocation.csv', index=None)"
   ]
  }
 ],
 "metadata": {
  "kernelspec": {
   "display_name": "Python 3",
   "language": "python",
   "name": "python3"
  },
  "language_info": {
   "codemirror_mode": {
    "name": "ipython",
    "version": 3
   },
   "file_extension": ".py",
   "mimetype": "text/x-python",
   "name": "python",
   "nbconvert_exporter": "python",
   "pygments_lexer": "ipython3",
   "version": "3.8.5"
  },
  "toc": {
   "base_numbering": 1,
   "nav_menu": {},
   "number_sections": true,
   "sideBar": true,
   "skip_h1_title": false,
   "title_cell": "Table of Contents",
   "title_sidebar": "Contents",
   "toc_cell": false,
   "toc_position": {},
   "toc_section_display": true,
   "toc_window_display": false
  },
  "varInspector": {
   "cols": {
    "lenName": 16,
    "lenType": 16,
    "lenVar": 40
   },
   "kernels_config": {
    "python": {
     "delete_cmd_postfix": "",
     "delete_cmd_prefix": "del ",
     "library": "var_list.py",
     "varRefreshCmd": "print(var_dic_list())"
    },
    "r": {
     "delete_cmd_postfix": ") ",
     "delete_cmd_prefix": "rm(",
     "library": "var_list.r",
     "varRefreshCmd": "cat(var_dic_list()) "
    }
   },
   "types_to_exclude": [
    "module",
    "function",
    "builtin_function_or_method",
    "instance",
    "_Feature"
   ],
   "window_display": false
  }
 },
 "nbformat": 4,
 "nbformat_minor": 4
}
