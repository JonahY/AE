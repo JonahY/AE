{
 "cells": [
  {
   "cell_type": "code",
   "execution_count": 1,
   "metadata": {
    "ExecuteTime": {
     "end_time": "2021-02-24T10:46:37.112994Z",
     "start_time": "2021-02-24T10:46:36.560953Z"
    }
   },
   "outputs": [],
   "source": [
    "import pandas as pd\n",
    "import os\n",
    "import numpy as np"
   ]
  },
  {
   "cell_type": "code",
   "execution_count": 2,
   "metadata": {
    "ExecuteTime": {
     "end_time": "2021-02-24T10:46:38.163149Z",
     "start_time": "2021-02-24T10:46:38.159149Z"
    }
   },
   "outputs": [],
   "source": [
    "os.chdir(r'C:\\Users\\jonah\\Desktop')"
   ]
  },
  {
   "cell_type": "code",
   "execution_count": 3,
   "metadata": {
    "ExecuteTime": {
     "end_time": "2021-02-24T10:46:45.658333Z",
     "start_time": "2021-02-24T10:46:45.593331Z"
    }
   },
   "outputs": [],
   "source": [
    "df_1 = pd.read_csv('Ni_electrolysis_chan2.csv')\n",
    "df_2 = pd.read_csv('Ni_electrolysis_chan3.csv')\n",
    "df_3 = pd.read_csv('Ni_pure_chan2.csv')\n",
    "df_4 = pd.read_csv('Ni_pure_chan3.csv')"
   ]
  },
  {
   "cell_type": "code",
   "execution_count": 4,
   "metadata": {
    "ExecuteTime": {
     "end_time": "2021-02-24T10:47:38.502014Z",
     "start_time": "2021-02-24T10:47:38.453788Z"
    }
   },
   "outputs": [],
   "source": [
    "new = pd.concat((df_3, df_4), axis=0)\n",
    "new.to_csv('Ni_pure.csv', index=None)"
   ]
  },
  {
   "cell_type": "code",
   "execution_count": 22,
   "metadata": {
    "ExecuteTime": {
     "end_time": "2021-02-02T11:52:15.740979Z",
     "start_time": "2021-02-02T11:52:15.705090Z"
    }
   },
   "outputs": [],
   "source": [
    "df_1 = pd.read_csv('Nano_Ni_1_cnts_4_crack.csv')\n",
    "df_2 = pd.read_csv('Nano_Ni_2_cnts_4_crack.csv')"
   ]
  },
  {
   "cell_type": "code",
   "execution_count": 40,
   "metadata": {
    "ExecuteTime": {
     "end_time": "2021-02-02T12:00:48.943664Z",
     "start_time": "2021-02-02T12:00:48.877626Z"
    }
   },
   "outputs": [],
   "source": [
    "df_1 = pd.read_csv('Ni_twinning.csv')\n",
    "df_2 = pd.read_csv('Ni_crack.csv')\n",
    "df_2['Pop'] = 0\n",
    "new = pd.concat((df_1[df_1['Pop'] == 1], df_2), axis=0)\n",
    "new.to_csv('Ni_twinning&crack.csv', index=None)"
   ]
  },
  {
   "cell_type": "code",
   "execution_count": 25,
   "metadata": {
    "ExecuteTime": {
     "end_time": "2021-02-02T11:52:35.905875Z",
     "start_time": "2021-02-02T11:52:35.882867Z"
    }
   },
   "outputs": [],
   "source": [
    "new = pd.concat((df_1, df_2), axis=0)\n",
    "new.to_csv('Ni_crack.csv', index=None)"
   ]
  },
  {
   "cell_type": "code",
   "execution_count": 16,
   "metadata": {
    "ExecuteTime": {
     "end_time": "2021-02-02T04:11:57.815370Z",
     "start_time": "2021-02-02T04:11:57.805737Z"
    }
   },
   "outputs": [],
   "source": [
    "new['Pop'] = (~new['Pop'].astype(bool)).astype(int)"
   ]
  },
  {
   "cell_type": "code",
   "execution_count": 39,
   "metadata": {
    "ExecuteTime": {
     "end_time": "2021-02-02T12:00:31.403120Z",
     "start_time": "2021-02-02T12:00:31.364613Z"
    }
   },
   "outputs": [
    {
     "data": {
      "text/html": [
       "<div>\n",
       "<style scoped>\n",
       "    .dataframe tbody tr th:only-of-type {\n",
       "        vertical-align: middle;\n",
       "    }\n",
       "\n",
       "    .dataframe tbody tr th {\n",
       "        vertical-align: top;\n",
       "    }\n",
       "\n",
       "    .dataframe thead th {\n",
       "        text-align: right;\n",
       "    }\n",
       "</style>\n",
       "<table border=\"1\" class=\"dataframe\">\n",
       "  <thead>\n",
       "    <tr style=\"text-align: right;\">\n",
       "      <th></th>\n",
       "      <th>Amp</th>\n",
       "      <th>RiseT</th>\n",
       "      <th>Dur</th>\n",
       "      <th>Eny</th>\n",
       "      <th>RMS</th>\n",
       "      <th>Counts</th>\n",
       "      <th>PeakFreq</th>\n",
       "      <th>PackEny1</th>\n",
       "      <th>PackEny2</th>\n",
       "      <th>PackEny3</th>\n",
       "      <th>PackEny4</th>\n",
       "      <th>PackEny5</th>\n",
       "      <th>PackEny6</th>\n",
       "      <th>PackEny7</th>\n",
       "      <th>PackEny8</th>\n",
       "      <th>Pop</th>\n",
       "    </tr>\n",
       "  </thead>\n",
       "  <tbody>\n",
       "    <tr>\n",
       "      <th>0</th>\n",
       "      <td>23.225150</td>\n",
       "      <td>0.9</td>\n",
       "      <td>28.00</td>\n",
       "      <td>0.320144</td>\n",
       "      <td>2.622939</td>\n",
       "      <td>5.0</td>\n",
       "      <td>570409.982175</td>\n",
       "      <td>0.988677</td>\n",
       "      <td>0.009732</td>\n",
       "      <td>0.000707</td>\n",
       "      <td>0.000229</td>\n",
       "      <td>0.000141</td>\n",
       "      <td>0.000187</td>\n",
       "      <td>0.000144</td>\n",
       "      <td>0.000183</td>\n",
       "      <td>1</td>\n",
       "    </tr>\n",
       "    <tr>\n",
       "      <th>1</th>\n",
       "      <td>59.413175</td>\n",
       "      <td>1.3</td>\n",
       "      <td>34.50</td>\n",
       "      <td>1.349727</td>\n",
       "      <td>2.622939</td>\n",
       "      <td>12.0</td>\n",
       "      <td>578871.201158</td>\n",
       "      <td>0.996337</td>\n",
       "      <td>0.003170</td>\n",
       "      <td>0.000258</td>\n",
       "      <td>0.000048</td>\n",
       "      <td>0.000039</td>\n",
       "      <td>0.000067</td>\n",
       "      <td>0.000036</td>\n",
       "      <td>0.000045</td>\n",
       "      <td>1</td>\n",
       "    </tr>\n",
       "    <tr>\n",
       "      <th>2</th>\n",
       "      <td>479.086238</td>\n",
       "      <td>5.8</td>\n",
       "      <td>226.60</td>\n",
       "      <td>99.890003</td>\n",
       "      <td>2.619399</td>\n",
       "      <td>81.0</td>\n",
       "      <td>577983.675270</td>\n",
       "      <td>0.999665</td>\n",
       "      <td>0.000313</td>\n",
       "      <td>0.000005</td>\n",
       "      <td>0.000004</td>\n",
       "      <td>0.000003</td>\n",
       "      <td>0.000004</td>\n",
       "      <td>0.000003</td>\n",
       "      <td>0.000003</td>\n",
       "      <td>1</td>\n",
       "    </tr>\n",
       "    <tr>\n",
       "      <th>3</th>\n",
       "      <td>69.135331</td>\n",
       "      <td>1.2</td>\n",
       "      <td>20.85</td>\n",
       "      <td>1.144034</td>\n",
       "      <td>2.622939</td>\n",
       "      <td>4.0</td>\n",
       "      <td>143540.669856</td>\n",
       "      <td>0.989977</td>\n",
       "      <td>0.009325</td>\n",
       "      <td>0.000507</td>\n",
       "      <td>0.000044</td>\n",
       "      <td>0.000031</td>\n",
       "      <td>0.000072</td>\n",
       "      <td>0.000020</td>\n",
       "      <td>0.000022</td>\n",
       "      <td>1</td>\n",
       "    </tr>\n",
       "    <tr>\n",
       "      <th>5</th>\n",
       "      <td>25.925749</td>\n",
       "      <td>3.8</td>\n",
       "      <td>27.65</td>\n",
       "      <td>0.435727</td>\n",
       "      <td>2.622939</td>\n",
       "      <td>4.0</td>\n",
       "      <td>577617.328520</td>\n",
       "      <td>0.996548</td>\n",
       "      <td>0.002659</td>\n",
       "      <td>0.000193</td>\n",
       "      <td>0.000125</td>\n",
       "      <td>0.000106</td>\n",
       "      <td>0.000129</td>\n",
       "      <td>0.000127</td>\n",
       "      <td>0.000113</td>\n",
       "      <td>1</td>\n",
       "    </tr>\n",
       "  </tbody>\n",
       "</table>\n",
       "</div>"
      ],
      "text/plain": [
       "          Amp  RiseT     Dur        Eny       RMS  Counts       PeakFreq  \\\n",
       "0   23.225150    0.9   28.00   0.320144  2.622939     5.0  570409.982175   \n",
       "1   59.413175    1.3   34.50   1.349727  2.622939    12.0  578871.201158   \n",
       "2  479.086238    5.8  226.60  99.890003  2.619399    81.0  577983.675270   \n",
       "3   69.135331    1.2   20.85   1.144034  2.622939     4.0  143540.669856   \n",
       "5   25.925749    3.8   27.65   0.435727  2.622939     4.0  577617.328520   \n",
       "\n",
       "   PackEny1  PackEny2  PackEny3  PackEny4  PackEny5  PackEny6  PackEny7  \\\n",
       "0  0.988677  0.009732  0.000707  0.000229  0.000141  0.000187  0.000144   \n",
       "1  0.996337  0.003170  0.000258  0.000048  0.000039  0.000067  0.000036   \n",
       "2  0.999665  0.000313  0.000005  0.000004  0.000003  0.000004  0.000003   \n",
       "3  0.989977  0.009325  0.000507  0.000044  0.000031  0.000072  0.000020   \n",
       "5  0.996548  0.002659  0.000193  0.000125  0.000106  0.000129  0.000127   \n",
       "\n",
       "   PackEny8  Pop  \n",
       "0  0.000183    1  \n",
       "1  0.000045    1  \n",
       "2  0.000003    1  \n",
       "3  0.000022    1  \n",
       "5  0.000113    1  "
      ]
     },
     "execution_count": 39,
     "metadata": {},
     "output_type": "execute_result"
    }
   ],
   "source": [
    "new.head()"
   ]
  },
  {
   "cell_type": "code",
   "execution_count": null,
   "metadata": {},
   "outputs": [],
   "source": []
  },
  {
   "cell_type": "code",
   "execution_count": 64,
   "metadata": {
    "ExecuteTime": {
     "end_time": "2021-01-28T11:51:07.895296Z",
     "start_time": "2021-01-28T11:51:07.876281Z"
    }
   },
   "outputs": [],
   "source": [
    "def standardize(X):\n",
    "    m, n = X.shape\n",
    "    for j in range(n):\n",
    "        features = X[:,j]\n",
    "        meanVal = features.mean(axis=0)\n",
    "        std = features.std(axis=0)\n",
    "        if std != 0:\n",
    "            X[:, j] = (features-meanVal)/std\n",
    "        else:\n",
    "            X[:, j] = 0\n",
    "    return X"
   ]
  },
  {
   "cell_type": "code",
   "execution_count": 66,
   "metadata": {
    "ExecuteTime": {
     "end_time": "2021-01-28T11:56:19.174486Z",
     "start_time": "2021-01-28T11:56:19.167482Z"
    }
   },
   "outputs": [
    {
     "data": {
      "text/plain": [
       "(1576, 16)"
      ]
     },
     "execution_count": 66,
     "metadata": {},
     "output_type": "execute_result"
    }
   ],
   "source": [
    "standardize(new.values).shape"
   ]
  }
 ],
 "metadata": {
  "kernelspec": {
   "display_name": "base",
   "language": "python",
   "name": "base"
  },
  "language_info": {
   "codemirror_mode": {
    "name": "ipython",
    "version": 3
   },
   "file_extension": ".py",
   "mimetype": "text/x-python",
   "name": "python",
   "nbconvert_exporter": "python",
   "pygments_lexer": "ipython3",
   "version": "3.7.6"
  },
  "toc": {
   "base_numbering": 1,
   "nav_menu": {},
   "number_sections": true,
   "sideBar": true,
   "skip_h1_title": false,
   "title_cell": "Table of Contents",
   "title_sidebar": "Contents",
   "toc_cell": false,
   "toc_position": {},
   "toc_section_display": true,
   "toc_window_display": false
  },
  "varInspector": {
   "cols": {
    "lenName": 16,
    "lenType": 16,
    "lenVar": 40
   },
   "kernels_config": {
    "python": {
     "delete_cmd_postfix": "",
     "delete_cmd_prefix": "del ",
     "library": "var_list.py",
     "varRefreshCmd": "print(var_dic_list())"
    },
    "r": {
     "delete_cmd_postfix": ") ",
     "delete_cmd_prefix": "rm(",
     "library": "var_list.r",
     "varRefreshCmd": "cat(var_dic_list()) "
    }
   },
   "types_to_exclude": [
    "module",
    "function",
    "builtin_function_or_method",
    "instance",
    "_Feature"
   ],
   "window_display": false
  }
 },
 "nbformat": 4,
 "nbformat_minor": 4
}
