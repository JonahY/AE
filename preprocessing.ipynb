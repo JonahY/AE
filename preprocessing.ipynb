{
 "cells": [
  {
   "cell_type": "code",
   "execution_count": 3,
   "metadata": {
    "ExecuteTime": {
     "end_time": "2020-11-04T07:00:37.725285Z",
     "start_time": "2020-11-04T07:00:34.622198Z"
    },
    "scrolled": true
   },
   "outputs": [],
   "source": [
    "import os\n",
    "import pandas as pd\n",
    "import numpy as np\n",
    "import matplotlib.pyplot as plt\n",
    "from tqdm import tqdm\n",
    "import math\n",
    "import multiprocessing\n",
    "import time\n",
    "import argparse\n",
    "\n",
    "%matplotlib qt5\n",
    "plt.rcParams['xtick.direction'] = 'in'\n",
    "plt.rcParams['ytick.direction'] = 'in'"
   ]
  },
  {
   "cell_type": "code",
   "execution_count": 8,
   "metadata": {
    "ExecuteTime": {
     "end_time": "2020-10-27T01:51:29.728684Z",
     "start_time": "2020-10-27T01:51:29.634584Z"
    }
   },
   "outputs": [
    {
     "data": {
      "text/plain": [
       "'E:\\\\data\\\\CM-4M-o18-2020.10.17-1-60'"
      ]
     },
     "execution_count": 8,
     "metadata": {},
     "output_type": "execute_result"
    }
   ],
   "source": [
    "path = r'E:\\data\\CM-4M-o18-2020.10.17-1-60'\n",
    "path = path.replace('\\\\','/')\n",
    "os.chdir(path)\n",
    "file_list = os.listdir(path)\n",
    "os.getcwd()"
   ]
  },
  {
   "cell_type": "code",
   "execution_count": 72,
   "metadata": {
    "ExecuteTime": {
     "end_time": "2020-10-27T02:29:12.393188Z",
     "start_time": "2020-10-27T02:29:12.369173Z"
    }
   },
   "outputs": [
    {
     "name": "stdout",
     "output_type": "stream",
     "text": [
      "amplitude:  35.2 40.1\n",
      "duration:  0.0008056 0.0010238\n",
      "rise_time:  0.0 0.0010234\n",
      "energy:  0.83619549 1.73383307\n"
     ]
    }
   ],
   "source": [
    "data_path = 'CM-4M-o18-2020.10.17-1-60.txt'\n",
    "amplitude = []\n",
    "energy = []\n",
    "duration = []\n",
    "rise_time = []\n",
    "rms = []\n",
    "with open(data_path, \"r\") as f:\n",
    "    f.readline()\n",
    "    for _ in range(1088):\n",
    "        data = f.readline().split(',')\n",
    "        amplitude.append(float(data[6].strip()))\n",
    "        rise_time.append(float(data[7].strip()))\n",
    "        duration.append(float(data[8].strip()))\n",
    "        energy.append(float(data[9].strip()))\n",
    "print('amplitude: ', min(amplitude), max(amplitude))\n",
    "print('duration: ', min(duration), max(duration))\n",
    "print('rise_time: ', min(rise_time), max(rise_time))\n",
    "print('energy: ', min(energy), max(energy))"
   ]
  },
  {
   "cell_type": "code",
   "execution_count": 69,
   "metadata": {
    "ExecuteTime": {
     "end_time": "2020-10-27T02:25:33.348549Z",
     "start_time": "2020-10-27T02:25:33.154549Z"
    }
   },
   "outputs": [
    {
     "name": "stderr",
     "output_type": "stream",
     "text": [
      "<ipython-input-69-6f4ad707beed>:7: MatplotlibDeprecationWarning: Using a string of single character colors as a color sequence is deprecated since 3.2 and will be removed two minor releases later. Use an explicit list instead.\n",
      "  ax1.scatter(amplitude, energy, marker='o',c='',edgecolors='g', label = 'Amplitude-Energy')\n",
      "<ipython-input-69-6f4ad707beed>:26: MatplotlibDeprecationWarning: Using a string of single character colors as a color sequence is deprecated since 3.2 and will be removed two minor releases later. Use an explicit list instead.\n",
      "  ax3.scatter(duration, amplitude, marker='o',c='',edgecolors='purple', label = 'Duration-Amplitude')\n"
     ]
    }
   ],
   "source": [
    "fig = plt.figure()\n",
    "ax1 = fig.add_subplot(211)\n",
    "ax1.scatter(amplitude, energy, marker='o',c='',edgecolors='g', label = 'Amplitude-Energy')\n",
    "# ax2 = ax1.twinx()\n",
    "# ax2.scatter(amplitude, rms, marker='o',c='',edgecolors='b', label = 'Amplitude-RMS')\n",
    "ax1.set_xlabel('Amplitude /μV')\n",
    "ax1.set_ylabel('Energy /aJ')\n",
    "ax1.set_title(\"Amplitude - Energy\")\n",
    "# ax1.set_ylim(0, pow(10, 7))\n",
    "# ax1.legend(loc=0)\n",
    "# ax2.set_ylabel('RMS /μV')\n",
    "# ax2.set_ylim(0, 50)\n",
    "# ax2.legend(loc=0)\n",
    "ax1.set_xlim(35, 41)\n",
    "ax1.set_xticks(np.linspace(35, 41, 7))\n",
    "ax1.set_ylim(0.75, 2.00)\n",
    "ax1.set_yticks(np.linspace(0.75, 2.00, 6))\n",
    "ax1.legend(loc='upper left')\n",
    "ax1.grid(True,linestyle = \"--\",color = 'gray' ,linewidth = '0.5',axis='both')\n",
    "\n",
    "ax3 = fig.add_subplot(212)\n",
    "ax3.scatter(duration, amplitude, marker='o',c='',edgecolors='purple', label = 'Duration-Amplitude')\n",
    "ax3.set_xlabel('Duration /s')\n",
    "ax3.set_ylabel('Amplitude /μV')\n",
    "ax3.set_title(\"Duration - Amplitude\")\n",
    "ax3.set_xlim(0.00080, 0.00105)\n",
    "ax3.set_xticks(np.linspace(0.00080, 0.00105, 6))\n",
    "ax3.set_ylim(35, 41)\n",
    "ax3.set_yticks(np.linspace(35, 41, 7))\n",
    "ax3.legend(loc='upper left')\n",
    "ax3.grid(True,linestyle = \"--\",color = 'gray' ,linewidth = '0.5',axis='both')\n",
    "\n",
    "plt.tight_layout()"
   ]
  },
  {
   "cell_type": "code",
   "execution_count": 50,
   "metadata": {
    "ExecuteTime": {
     "end_time": "2020-11-04T08:28:27.873505Z",
     "start_time": "2020-11-04T08:28:27.853506Z"
    },
    "cell_style": "center",
    "code_folding": []
   },
   "outputs": [
    {
     "name": "stdout",
     "output_type": "stream",
     "text": [
      "duration(s), amplitude(V), rise_time(s), energy(aJ), RMS(V), counts\n",
      "0.001023799999984476 0.01358032 0.0008308000000170068 1352519.791532888 0.0036346638524236627 245\n"
     ]
    }
   ],
   "source": [
    "file = r'E:\\data\\CM-4M-o18-2020.10.17-1-60\\CM-4M-o18-2020.10.17-1-60_1_29084_515519344.txt'\n",
    "# C:\\\\Users\\\\Yuan\\\\Desktop\\\\waveform_558.txt\n",
    "# E:\\data\\CM-4M-o18-2020.10.17-1-60\\CM-4M-o18-2020.10.17-1-60_1_48123_876621597.txt\n",
    "# time = []\n",
    "# amp = []\n",
    "with open(file, \"r\") as f:\n",
    "    for _ in range(12):\n",
    "        f.readline()\n",
    "    amp = np.array([float(i.strip(\"\\n\")) for i in f.readlines()])\n",
    "#     f.readline()\n",
    "#     for i in f.readlines():\n",
    "#         time.append(float(i.split(',')[0]))\n",
    "#         amp.append(float(i.split(',')[1]))\n",
    "# time = np.array(time)\n",
    "# amp = np.array(amp)\n",
    "# thr_μV = 11.3694478249001\n",
    "time = np.linspace(876.6215975, 876.6215975 + 0.0000002 * 5119, 5120)\n",
    "thr_1V = pow(10, 25 / 20) / pow(10, 3)\n",
    "thr_2V = pow(10, 25 / 20) / (5 * pow(10, 3))\n",
    "\n",
    "def cal_features(dataset, time_label, thr_V):\n",
    "    time = time_label[-1] - time_label[0]\n",
    "    valid_wave_idx = np.where(abs(dataset) >= thr_V)[0]\n",
    "    if valid_wave_idx.shape[0] <= 1:\n",
    "        return \"RuntimeWarning\"\n",
    "    start = time_label[valid_wave_idx[0]]\n",
    "    end = time_label[valid_wave_idx[-1]]\n",
    "    duration = end - start\n",
    "    max_idx = np.argmax(abs(dataset))\n",
    "    amplitude = abs(dataset[max_idx])\n",
    "    rise_time = time_label[max_idx] - start\n",
    "    valid_data = dataset[valid_wave_idx[0]:(valid_wave_idx[-1] + 1)]\n",
    "    energy = np.sum(np.multiply(pow(valid_data, 2), 0.0000002))\n",
    "    RMS = math.sqrt(energy / duration)\n",
    "    counts = cal_counts(valid_data, thr_V)\n",
    "    return valid_data, duration, amplitude, rise_time, energy, RMS, counts\n",
    "\n",
    "def cal_counts(valid_data, thr_V):\n",
    "    counts = 0\n",
    "    N = len(valid_data)\n",
    "    for idx in range(1, N):\n",
    "        if valid_data[idx - 1] <= thr_V <= valid_data[idx]:\n",
    "            counts += 1\n",
    "    return counts\n",
    "\n",
    "valid_data, duration, amplitude, rise_time, energy, RMS, counts = cal_features(amp, time, thr_2V)\n",
    "print('duration(s), amplitude(V), rise_time(s), energy(aJ), RMS(V), counts')\n",
    "print(duration, amplitude, rise_time, energy * pow(10, 14), RMS, counts)"
   ]
  },
  {
   "cell_type": "markdown",
   "metadata": {},
   "source": [
    "### Softmax"
   ]
  },
  {
   "cell_type": "code",
   "execution_count": null,
   "metadata": {
    "ExecuteTime": {
     "end_time": "2020-10-26T01:42:52.452725Z",
     "start_time": "2020-10-26T01:42:52.255728Z"
    },
    "scrolled": false
   },
   "outputs": [],
   "source": [
    "x = np.linspace(-10,10,1000)\n",
    "y = np.exp(x) / np.sum(np.exp(x))\n",
    "y2 = np.exp(x / 5) / np.sum(np.exp(x / 5))\n",
    "y3 = np.exp(x / 10) / np.sum(np.exp(x / 10))\n",
    "plt.figure()\n",
    "ax = plt.gca()\n",
    "ax.spines['right'].set_color('none')\n",
    "ax.spines['top'].set_color('none')\n",
    "ax.xaxis.set_ticks_position('bottom')   \n",
    "ax.yaxis.set_ticks_position('left')          # 指定下边的边作为 x 轴 指定左边的边为 y 轴\n",
    "ax.spines['bottom'].set_position(('data', 0))   #指定 data 设置的bottom(也就是指定的x轴)绑定到y轴的0这个点上\n",
    "ax.spines['left'].set_position(('data', 0))\n",
    "plt.ylim(0, 0.02)\n",
    "plt.xlim(-10, 10)\n",
    "plt.plot(x, y, color='b', label='Origin')\n",
    "plt.plot(x, y2, color='g', label='T=5')\n",
    "plt.plot(x, y3, color='purple', label='T=10')\n",
    "plt.legend(loc=0)"
   ]
  }
 ],
 "metadata": {
  "kernelspec": {
   "display_name": "Python 3",
   "language": "python",
   "name": "python3"
  },
  "language_info": {
   "codemirror_mode": {
    "name": "ipython",
    "version": 3
   },
   "file_extension": ".py",
   "mimetype": "text/x-python",
   "name": "python",
   "nbconvert_exporter": "python",
   "pygments_lexer": "ipython3",
   "version": "3.8.5"
  }
 },
 "nbformat": 4,
 "nbformat_minor": 4
}
