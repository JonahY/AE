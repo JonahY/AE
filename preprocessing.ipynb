{
 "cells": [
  {
   "cell_type": "code",
   "execution_count": 8,
   "metadata": {
    "ExecuteTime": {
     "end_time": "2020-10-20T11:57:00.129522Z",
     "start_time": "2020-10-20T11:57:00.110548Z"
    },
    "scrolled": true
   },
   "outputs": [
    {
     "data": {
      "text/plain": [
       "'C:\\\\Users\\\\Yuan\\\\Desktop\\\\CM-6M-o18-2020.10.17-1-60-a-waveform'"
      ]
     },
     "execution_count": 8,
     "metadata": {},
     "output_type": "execute_result"
    }
   ],
   "source": [
    "import os\n",
    "import pandas as pd\n",
    "import numpy as np\n",
    "import matplotlib.pyplot as plt\n",
    "from tqdm import tqdm\n",
    "import numba\n",
    "import math\n",
    "import multiprocessing\n",
    "import time\n",
    "import argparse\n",
    "\n",
    "%matplotlib qt5\n",
    "os.getcwd()"
   ]
  },
  {
   "cell_type": "code",
   "execution_count": 22,
   "metadata": {
    "ExecuteTime": {
     "end_time": "2020-10-20T12:07:34.348820Z",
     "start_time": "2020-10-20T12:07:34.335821Z"
    }
   },
   "outputs": [
    {
     "data": {
      "text/plain": [
       "['100, 12012515.3, 1, 3.56, 29602.05, 28.0, 844.6, 0.00000002, 41.10, 707786',\n",
       " '101, 12012515.3, 1, 3.56, 29602.05, 28.0, 844.6, 0.00000002, 41.10, 707786',\n",
       " '1000, 28015119.5, 1, 3.56, 24719.24, 12.4, 843.2, 0.00000002, 23.82, 72271']"
      ]
     },
     "execution_count": 22,
     "metadata": {},
     "output_type": "execute_result"
    }
   ],
   "source": [
    "data = ['100, 12012515.3, 1, 3.56, 29602.05, 28.0, 844.6, 0.00000002, 41.10, 707786','1000, 28015119.5, 1, 3.56, 24719.24, 12.4, 843.2, 0.00000002, 23.82, 72271','101, 12012515.3, 1, 3.56, 29602.05, 28.0, 844.6, 0.00000002, 41.10, 707786']\n",
    "sorted(data, key=lambda s: int(s.split(',')[0]))"
   ]
  },
  {
   "cell_type": "code",
   "execution_count": null,
   "metadata": {
    "ExecuteTime": {
     "end_time": "2020-10-20T01:59:26.304442Z",
     "start_time": "2020-10-20T01:59:26.300467Z"
    }
   },
   "outputs": [],
   "source": [
    "s=time.time()\n",
    "np.sum(pow(valid_data, 2))\n",
    "e=time.time()\n",
    "print(e-s)"
   ]
  },
  {
   "cell_type": "code",
   "execution_count": null,
   "metadata": {
    "ExecuteTime": {
     "end_time": "2020-10-20T03:04:06.109067Z",
     "start_time": "2020-10-20T03:04:06.094039Z"
    }
   },
   "outputs": [],
   "source": [
    "class Preprocessing:\n",
    "    def __init__(self, file_name, thr_dB):\n",
    "        self.file_name = file_name\n",
    "        self.thr_V = float('%.8f' % (pow(10, thr_dB / 20) / 5000000))\n",
    "        self.counts = 1\n",
    "        self.duration = 0\n",
    "        self.amplitude = 0\n",
    "        self.rise_time = 0\n",
    "        self.energy = 0\n",
    "\n",
    "    def skip_n_column(self, file, n=3):\n",
    "        for _ in range(n):\n",
    "            file.readline()\n",
    "\n",
    "    def cal_features(self, dataset, time_label):\n",
    "        valid_wave_idx = np.where(abs(dataset) >= self.thr_V)[0]\n",
    "        start = time_label[valid_wave_idx[0]]\n",
    "        end = time_label[valid_wave_idx[-1]]\n",
    "        self.duration = end - start\n",
    "        max_idx = np.argmax(abs(dataset))\n",
    "        self.amplitude = dataset[max_idx]\n",
    "        self.rise_time = time_label[max_idx] - start\n",
    "        valid_data = dataset[valid_wave_idx[0]:valid_wave_idx[-1]]\n",
    "        self.energy = np.sum(pow(valid_data, 2))\n",
    "\n",
    "        return valid_data\n",
    "\n",
    "    def cal_counts(self, valid_data):\n",
    "        N = len(valid_data)\n",
    "        for idx in range(1, N):\n",
    "            if valid_data[idx - 1] <= self.thr_V <= valid_data[idx] \\\n",
    "                or valid_data[idx] <= self.thr_V <= valid_data[idx - 1]:\n",
    "                self.counts += 1\n",
    "\n",
    "    def main(self):\n",
    "        for name in tqdm(self.file_name):\n",
    "            with open(name, \"r\") as f:\n",
    "                self.skip_n_column(f)\n",
    "                sample_interval = float(f.readline()[29:])\n",
    "                self.skip_n_column(f)\n",
    "                points_num = int(f.readline()[36:])\n",
    "                channel_num = int(f.readline().strip()[16:])\n",
    "                hit_num = int(f.readline()[12:])\n",
    "                time = float(f.readline()[14:])\n",
    "                dataset = np.array([float(i.strip(\"\\n\")) for i in f.readlines()[1:]])\n",
    "                time_label = np.linspace(time, time + sample_interval * (points_num - 1), points_num)\n",
    "\n",
    "                # calculate the duration, amplitude, rise_time, energy and counts\n",
    "                valid_data = self.cal_features(dataset, time_label)\n",
    "                self.cal_counts(valid_data)\n",
    "#                 print(name.split('_')[2], sample_interval, points_num, channel_num, hit_num, time)\n",
    "#                 print('-' * 50)\n",
    "            print(self.counts, self.duration, self.amplitude, self.rise_time, self.energy)\n",
    "#             return self.counts, self.duration, self.amplitude, self.rise_time, self.energy"
   ]
  },
  {
   "cell_type": "code",
   "execution_count": 7,
   "metadata": {
    "ExecuteTime": {
     "end_time": "2020-10-20T11:56:57.317508Z",
     "start_time": "2020-10-20T11:56:57.278352Z"
    }
   },
   "outputs": [
    {
     "data": {
      "text/plain": [
       "['CM-6M-o18-2020.10.17-1-60_1_100000_967649009.txt']"
      ]
     },
     "execution_count": 7,
     "metadata": {},
     "output_type": "execute_result"
    }
   ],
   "source": [
    "path = 'C:\\\\Users\\\\Yuan\\\\Desktop\\\\CM-6M-o18-2020.10.17-1-60-a-waveform'\n",
    "os.chdir(path)\n",
    "file_list = os.listdir(path)\n",
    "file_list[:1]"
   ]
  },
  {
   "cell_type": "code",
   "execution_count": null,
   "metadata": {
    "ExecuteTime": {
     "end_time": "2020-10-20T03:04:09.057018Z",
     "start_time": "2020-10-20T03:04:08.190024Z"
    }
   },
   "outputs": [],
   "source": [
    "a = Preprocessing(file_list[:100], 25)\n",
    "a.main()"
   ]
  },
  {
   "cell_type": "code",
   "execution_count": null,
   "metadata": {
    "ExecuteTime": {
     "end_time": "2020-10-20T02:50:52.393355Z",
     "start_time": "2020-10-20T02:50:52.352800Z"
    },
    "scrolled": true
   },
   "outputs": [],
   "source": [
    "path = 'C:\\\\Users\\\\Yuan\\\\Desktop\\\\CM-6M-o18-2020.10.17-1-60-a-waveform'\n",
    "os.chdir(path)\n",
    "file_list = os.listdir(path)\n",
    "thr_dB = 25\n",
    "thr_V = float('%.8f' % (pow(10, thr_dB / 20) / 5000000))\n",
    "core_num = 4\n",
    "each_core = int(math.ceil(len(file_list) / float(4)))  # 每一个核心需要处理的list的数目\n",
    "\n",
    "\n",
    "\n",
    "# name = 'CM-6M-o18-2020.10.17-1-60_1_100_12012515.txt'\n",
    "\n",
    "# for name in tqdm(file_list):\n"
   ]
  },
  {
   "cell_type": "code",
   "execution_count": null,
   "metadata": {
    "ExecuteTime": {
     "start_time": "2020-10-20T03:01:25.562Z"
    }
   },
   "outputs": [],
   "source": [
    "if __name__ == \"__main__\":\n",
    "#     parser = argparse.ArgumentParser()\n",
    "#     parser.add_argument(\"--folder_path\", type=str, default=\"C:\\\\Users\\\\Yuan\\\\Desktop\\\\CM-6M-o18-2020.10.17-1-60-a-waveform\", help=\"path to dataset\")\n",
    "#     parser.add_argument(\"--thr_dB\", type=int, default=25, help=\"the detection threshold\")\n",
    "#     parser.add_argument(\"--threads\", type=int, default=4, help=\"the detection threshold\")\n",
    "#     opt = parser.parse_args()\n",
    "#     print(opt)\n",
    "    folder_path = \"C:\\\\Users\\\\Yuan\\\\Desktop\\\\CM-6M-o18-2020.10.17-1-60-a-waveform\"\n",
    "    threads = 4\n",
    "    thr_dB = 25\n",
    "#     os.chdir(path)\n",
    "    file_list = os.listdir(folder_path)\n",
    "    each_core = int(math.ceil(len(file_list) / float(4)))\n",
    "    result = []\n",
    "    # Multithreading acceleration\n",
    "    pool = multiprocessing.Pool(processes=threads)\n",
    "    for i in tqdm(range(0, len(file_list), each_core)):\n",
    "        result.append(pool.apply_async(Preprocessing(file_list[i:i + each_core], thr_dB), (file_list[i:i + each_core], )))\n",
    "    pool.close()\n",
    "    pool.join()\n",
    "    "
   ]
  }
 ],
 "metadata": {
  "kernelspec": {
   "display_name": "Python 3",
   "language": "python",
   "name": "python3"
  },
  "language_info": {
   "codemirror_mode": {
    "name": "ipython",
    "version": 3
   },
   "file_extension": ".py",
   "mimetype": "text/x-python",
   "name": "python",
   "nbconvert_exporter": "python",
   "pygments_lexer": "ipython3",
   "version": "3.8.5"
  }
 },
 "nbformat": 4,
 "nbformat_minor": 4
}
