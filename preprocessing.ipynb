{
 "cells": [
  {
   "cell_type": "code",
   "execution_count": 1,
   "metadata": {
    "ExecuteTime": {
     "end_time": "2020-10-21T06:48:54.781254Z",
     "start_time": "2020-10-21T06:48:40.322448Z"
    },
    "scrolled": true
   },
   "outputs": [
    {
     "data": {
      "text/plain": [
       "'C:\\\\Users\\\\Yuan\\\\Desktop\\\\AE'"
      ]
     },
     "execution_count": 1,
     "metadata": {},
     "output_type": "execute_result"
    }
   ],
   "source": [
    "import os\n",
    "import pandas as pd\n",
    "import numpy as np\n",
    "import matplotlib.pyplot as plt\n",
    "from tqdm import tqdm\n",
    "import numba\n",
    "import math\n",
    "import multiprocessing\n",
    "import time\n",
    "import argparse\n",
    "\n",
    "%matplotlib qt5\n",
    "os.getcwd()"
   ]
  },
  {
   "cell_type": "code",
   "execution_count": 38,
   "metadata": {
    "ExecuteTime": {
     "end_time": "2020-10-21T09:23:15.407990Z",
     "start_time": "2020-10-21T09:23:15.197019Z"
    },
    "scrolled": false
   },
   "outputs": [
    {
     "data": {
      "text/plain": [
       "<matplotlib.legend.Legend at 0x1ea20ade580>"
      ]
     },
     "execution_count": 38,
     "metadata": {},
     "output_type": "execute_result"
    }
   ],
   "source": [
    "x = np.linspace(-10,10,1000)\n",
    "y = np.exp(x) / np.sum(np.exp(x))\n",
    "y2 = np.exp(x / 5) / np.sum(np.exp(x / 5))\n",
    "y3 = np.exp(x / 10) / np.sum(np.exp(x / 10))\n",
    "plt.figure()\n",
    "ax = plt.gca()\n",
    "ax.spines['right'].set_color('none')\n",
    "ax.spines['top'].set_color('none')\n",
    "ax.xaxis.set_ticks_position('bottom')   \n",
    "ax.yaxis.set_ticks_position('left')          # 指定下边的边作为 x 轴 指定左边的边为 y 轴\n",
    "ax.spines['bottom'].set_position(('data', 0))   #指定 data  设置的bottom(也就是指定的x轴)绑定到y轴的0这个点上\n",
    "ax.spines['left'].set_position(('data', 0))\n",
    "plt.ylim(0, 0.02)\n",
    "plt.xlim(-10, 10)\n",
    "plt.plot(x, y, color='b', label='Origin')\n",
    "plt.plot(x, y2, color='g', label='T=5')\n",
    "plt.plot(x, y3, color='purple', label='T=10')\n",
    "plt.legend(loc=0)"
   ]
  },
  {
   "cell_type": "code",
   "execution_count": 39,
   "metadata": {
    "ExecuteTime": {
     "end_time": "2020-10-21T13:16:46.726072Z",
     "start_time": "2020-10-21T13:16:46.697082Z"
    }
   },
   "outputs": [],
   "source": [
    "data_path = 'CM-6M-o18-2020.10.17-1-60-a-waveform.txt'\n",
    "amplitude = []\n",
    "energy = []\n",
    "duration = []\n",
    "rise_time = []\n",
    "rms = []\n",
    "with open(data_path, \"r\") as f:\n",
    "    f.readline()\n",
    "    for _ in range(1088):\n",
    "        data = f.readline().split(',')\n",
    "        amplitude.append(float(data[4].strip()))\n",
    "        rise_time.append(float(data[5].strip()))\n",
    "        duration.append(float(data[6].strip()))\n",
    "        energy.append(float(data[7].strip()))\n",
    "        rms.append(float(data[8].strip()))"
   ]
  },
  {
   "cell_type": "code",
   "execution_count": 44,
   "metadata": {
    "ExecuteTime": {
     "end_time": "2020-10-21T13:19:49.715327Z",
     "start_time": "2020-10-21T13:19:49.487781Z"
    }
   },
   "outputs": [
    {
     "name": "stderr",
     "output_type": "stream",
     "text": [
      "<ipython-input-44-451124d16998>:6: MatplotlibDeprecationWarning: Using a string of single character colors as a color sequence is deprecated since 3.2 and will be removed two minor releases later. Use an explicit list instead.\n",
      "  ax1.scatter(amplitude, energy, marker='o',c='',edgecolors='g', label = 'Amplitude-Energy')\n",
      "<ipython-input-44-451124d16998>:20: MatplotlibDeprecationWarning: Using a string of single character colors as a color sequence is deprecated since 3.2 and will be removed two minor releases later. Use an explicit list instead.\n",
      "  ax3.scatter(duration, amplitude, marker='o',c='',edgecolors='purple', label = 'Duration-Amplitude')\n"
     ]
    }
   ],
   "source": [
    "plt.rcParams['xtick.direction'] = 'in'\n",
    "plt.rcParams['ytick.direction'] = 'in'\n",
    "\n",
    "fig = plt.figure()\n",
    "ax1 = fig.add_subplot(121)\n",
    "ax1.scatter(amplitude, energy, marker='o',c='',edgecolors='g', label = 'Amplitude-Energy')\n",
    "# ax2 = ax1.twinx()\n",
    "# ax2.scatter(amplitude, rms, marker='o',c='',edgecolors='b', label = 'Amplitude-RMS')\n",
    "ax1.set_xlabel('Amplitude /μV')\n",
    "ax1.set_ylabel('Energy /aJ')\n",
    "ax1.set_title(\"Amplitude - Energy & RMS\")\n",
    "ax1.set_ylim(0, pow(10, 7))\n",
    "ax1.legend(loc=0)\n",
    "# ax2.set_ylabel('RMS /μV')\n",
    "# ax2.set_ylim(0, 50)\n",
    "# ax2.legend(loc=0)\n",
    "\n",
    "\n",
    "ax3 = fig.add_subplot(122)\n",
    "ax3.scatter(duration, amplitude, marker='o',c='',edgecolors='purple', label = 'Duration-Amplitude')\n",
    "ax3.set_xlabel('Duration /μs')\n",
    "ax3.set_ylabel('Amplitude /μV')\n",
    "ax3.set_title(\"Duration - Amplitude\")\n",
    "# ax3.set_ylim(0, 0.0015)\n",
    "ax3.legend(loc=0)\n",
    "plt.tight_layout()"
   ]
  },
  {
   "cell_type": "code",
   "execution_count": null,
   "metadata": {
    "ExecuteTime": {
     "end_time": "2020-10-20T12:07:34.348820Z",
     "start_time": "2020-10-20T12:07:34.335821Z"
    }
   },
   "outputs": [],
   "source": [
    "data = ['100, 12012515.3, 1, 3.56, 29602.05, 28.0, 844.6, 0.00000002, 41.10, 707786','1000, 28015119.5, 1, 3.56, 24719.24, 12.4, 843.2, 0.00000002, 23.82, 72271','101, 12012515.3, 1, 3.56, 29602.05, 28.0, 844.6, 0.00000002, 41.10, 707786']\n",
    "sorted(data, key=lambda s: int(s.split(',')[0]))"
   ]
  },
  {
   "cell_type": "code",
   "execution_count": null,
   "metadata": {
    "ExecuteTime": {
     "end_time": "2020-10-20T01:59:26.304442Z",
     "start_time": "2020-10-20T01:59:26.300467Z"
    }
   },
   "outputs": [],
   "source": [
    "s=time.time()\n",
    "np.sum(pow(valid_data, 2))\n",
    "e=time.time()\n",
    "print(e-s)"
   ]
  },
  {
   "cell_type": "code",
   "execution_count": null,
   "metadata": {
    "ExecuteTime": {
     "end_time": "2020-10-21T01:41:55.214288Z",
     "start_time": "2020-10-21T01:41:55.208291Z"
    }
   },
   "outputs": [],
   "source": [
    "thr_dB = 25\n",
    "# 20 * np.log10(5 * 11.3694478249001)\n",
    "pow(10, thr_dB / 20) / 5000000"
   ]
  },
  {
   "cell_type": "code",
   "execution_count": 74,
   "metadata": {
    "ExecuteTime": {
     "end_time": "2020-10-21T14:24:28.025489Z",
     "start_time": "2020-10-21T14:24:28.018465Z"
    }
   },
   "outputs": [
    {
     "data": {
      "text/plain": [
       "3"
      ]
     },
     "execution_count": 74,
     "metadata": {},
     "output_type": "execute_result"
    }
   ],
   "source": [
    "valid_data = [0, 1.5, 2, 1, 5]\n",
    "thr_V = 1.5\n",
    "counts = 0\n",
    "N = len(valid_data)\n",
    "for idx in range(1, N):\n",
    "    if valid_data[idx - 1] <= thr_V <= valid_data[idx]:\n",
    "        counts += 1\n",
    "counts"
   ]
  },
  {
   "cell_type": "code",
   "execution_count": 73,
   "metadata": {
    "ExecuteTime": {
     "end_time": "2020-10-21T14:23:13.087045Z",
     "start_time": "2020-10-21T14:23:12.931086Z"
    },
    "code_folding": [
     5
    ]
   },
   "outputs": [
    {
     "name": "stdout",
     "output_type": "stream",
     "text": [
      "duration(μs), amplitude, rise_time(μs), energy, RMS(μV), counts\n",
      "3061.6 7547.689 6.949999999999999 27103.65166788875 2.9753610881059167 1058\n"
     ]
    }
   ],
   "source": [
    "file = 'C:\\\\Users\\\\Yuan\\\\Desktop\\\\AE\\\\waveform_558.txt'\n",
    "time = []\n",
    "amp = []\n",
    "with open(file, \"r\") as f:\n",
    "    f.readline()\n",
    "    for i in f.readlines():\n",
    "        time.append(float(i.split(',')[0]))\n",
    "        amp.append(float(i.split(',')[1]))\n",
    "time = np.array(time)\n",
    "amp = np.array(amp)\n",
    "thr_μV = 11.3694478249001\n",
    "\n",
    "def cal_features(dataset, time_label, thr_V):\n",
    "    time = time_label[-1] - time_label[0]\n",
    "    valid_wave_idx = np.where(abs(dataset) >= thr_V)[0]\n",
    "    start = time_label[valid_wave_idx[0]]\n",
    "    end = time_label[valid_wave_idx[-1]]\n",
    "    duration = end - start\n",
    "    max_idx = np.argmax(abs(dataset))\n",
    "    amplitude = abs(dataset[max_idx])\n",
    "    rise_time = time_label[max_idx] - start\n",
    "    valid_data = dataset[valid_wave_idx[0]:valid_wave_idx[-1]]\n",
    "    energy = np.sum(np.multiply(pow(valid_data, 2), 0.05)) / 10000\n",
    "    RMS = math.sqrt(energy / duration)\n",
    "    counts = cal_counts(valid_data, thr_V)\n",
    "    return valid_data, duration, amplitude, rise_time, energy, RMS, counts\n",
    "\n",
    "def cal_counts(valid_data, thr_V):\n",
    "    counts = 0\n",
    "    N = len(valid_data)\n",
    "    for idx in range(1, N):\n",
    "        if valid_data[idx - 1] <= thr_V <= valid_data[idx]:\n",
    "            counts += 1\n",
    "    return counts\n",
    "\n",
    "valid_data, duration, amplitude, rise_time, energy, RMS, counts = cal_features(amp, time, thr_μV)\n",
    "print('duration(μs), amplitude, rise_time(μs), energy, RMS(μV), counts')\n",
    "print(duration, amplitude, rise_time, energy, RMS, counts)"
   ]
  },
  {
   "cell_type": "code",
   "execution_count": null,
   "metadata": {
    "ExecuteTime": {
     "end_time": "2020-10-20T03:04:06.109067Z",
     "start_time": "2020-10-20T03:04:06.094039Z"
    }
   },
   "outputs": [],
   "source": [
    "class Preprocessing:\n",
    "    def __init__(self, file_name, thr_dB):\n",
    "        self.file_name = file_name\n",
    "        self.thr_V = pow(10, thr_dB / 20) / 5000000\n",
    "        self.counts = 1\n",
    "        self.duration = 0\n",
    "        self.amplitude = 0\n",
    "        self.rise_time = 0\n",
    "        self.energy = 0\n",
    "\n",
    "    def skip_n_column(self, file, n=3):\n",
    "        for _ in range(n):\n",
    "            file.readline()\n",
    "\n",
    "    def cal_features(self, dataset, time_label):\n",
    "        valid_wave_idx = np.where(abs(dataset) >= self.thr_V)[0]\n",
    "        start = time_label[valid_wave_idx[0]]\n",
    "        end = time_label[valid_wave_idx[-1]]\n",
    "        self.duration = end - start\n",
    "        max_idx = np.argmax(abs(dataset))\n",
    "        self.amplitude = dataset[max_idx]\n",
    "        self.rise_time = time_label[max_idx] - start\n",
    "        valid_data = dataset[valid_wave_idx[0]:valid_wave_idx[-1]]\n",
    "        self.energy = np.sum(pow(valid_data, 2))\n",
    "\n",
    "        return valid_data\n",
    "\n",
    "    def cal_counts(self, valid_data):\n",
    "        N = len(valid_data)\n",
    "        for idx in range(1, N):\n",
    "            if valid_data[idx - 1] <= self.thr_V <= valid_data[idx] \\\n",
    "                or valid_data[idx] <= self.thr_V <= valid_data[idx - 1]:\n",
    "                self.counts += 1\n",
    "\n",
    "    def main(self):\n",
    "        for name in tqdm(self.file_name):\n",
    "            with open(name, \"r\") as f:\n",
    "                self.skip_n_column(f)\n",
    "                sample_interval = float(f.readline()[29:])\n",
    "                self.skip_n_column(f)\n",
    "                points_num = int(f.readline()[36:])\n",
    "                channel_num = int(f.readline().strip()[16:])\n",
    "                hit_num = int(f.readline()[12:])\n",
    "                time = float(f.readline()[14:])\n",
    "                dataset = np.array([float(i.strip(\"\\n\")) for i in f.readlines()[1:]])\n",
    "                time_label = np.linspace(time, time + sample_interval * (points_num - 1), points_num)\n",
    "\n",
    "                # calculate the duration, amplitude, rise_time, energy and counts\n",
    "                valid_data = self.cal_features(dataset, time_label)\n",
    "                self.cal_counts(valid_data)\n",
    "#                 print(name.split('_')[2], sample_interval, points_num, channel_num, hit_num, time)\n",
    "#                 print('-' * 50)\n",
    "            print(self.counts, self.duration, self.amplitude, self.rise_time, self.energy)\n",
    "#             return self.counts, self.duration, self.amplitude, self.rise_time, self.energy"
   ]
  },
  {
   "cell_type": "code",
   "execution_count": 2,
   "metadata": {
    "ExecuteTime": {
     "end_time": "2020-10-21T06:48:55.465142Z",
     "start_time": "2020-10-21T06:48:54.785248Z"
    }
   },
   "outputs": [
    {
     "data": {
      "text/plain": [
       "['CM-6M-o18-2020.10.17-1-60-a-waveform.txt']"
      ]
     },
     "execution_count": 2,
     "metadata": {},
     "output_type": "execute_result"
    }
   ],
   "source": [
    "path = 'C:\\\\Users\\\\Yuan\\\\Desktop\\\\CM-6M-o18-2020.10.17-1-60-a-waveform'\n",
    "os.chdir(path)\n",
    "file_list = os.listdir(path)\n",
    "file_list[:1]"
   ]
  },
  {
   "cell_type": "code",
   "execution_count": null,
   "metadata": {
    "ExecuteTime": {
     "end_time": "2020-10-20T03:04:09.057018Z",
     "start_time": "2020-10-20T03:04:08.190024Z"
    }
   },
   "outputs": [],
   "source": [
    "a = Preprocessing(file_list[:100], 25)\n",
    "a.main()"
   ]
  },
  {
   "cell_type": "code",
   "execution_count": null,
   "metadata": {
    "ExecuteTime": {
     "end_time": "2020-10-20T02:50:52.393355Z",
     "start_time": "2020-10-20T02:50:52.352800Z"
    },
    "scrolled": true
   },
   "outputs": [],
   "source": [
    "path = 'C:\\\\Users\\\\Yuan\\\\Desktop\\\\CM-6M-o18-2020.10.17-1-60-a-waveform'\n",
    "os.chdir(path)\n",
    "file_list = os.listdir(path)\n",
    "thr_dB = 25\n",
    "thr_V = float('%.8f' % (pow(10, thr_dB / 20) / 5000000))\n",
    "core_num = 4\n",
    "each_core = int(math.ceil(len(file_list) / float(4)))  # 每一个核心需要处理的list的数目\n",
    "\n",
    "\n",
    "\n",
    "# name = 'CM-6M-o18-2020.10.17-1-60_1_100_12012515.txt'\n",
    "\n",
    "# for name in tqdm(file_list):\n"
   ]
  },
  {
   "cell_type": "code",
   "execution_count": null,
   "metadata": {
    "ExecuteTime": {
     "start_time": "2020-10-20T03:01:25.562Z"
    }
   },
   "outputs": [],
   "source": [
    "if __name__ == \"__main__\":\n",
    "#     parser = argparse.ArgumentParser()\n",
    "#     parser.add_argument(\"--folder_path\", type=str, default=\"C:\\\\Users\\\\Yuan\\\\Desktop\\\\CM-6M-o18-2020.10.17-1-60-a-waveform\", help=\"path to dataset\")\n",
    "#     parser.add_argument(\"--thr_dB\", type=int, default=25, help=\"the detection threshold\")\n",
    "#     parser.add_argument(\"--threads\", type=int, default=4, help=\"the detection threshold\")\n",
    "#     opt = parser.parse_args()\n",
    "#     print(opt)\n",
    "    folder_path = \"C:\\\\Users\\\\Yuan\\\\Desktop\\\\CM-6M-o18-2020.10.17-1-60-a-waveform\"\n",
    "    threads = 4\n",
    "    thr_dB = 25\n",
    "#     os.chdir(path)\n",
    "    file_list = os.listdir(folder_path)\n",
    "    each_core = int(math.ceil(len(file_list) / float(4)))\n",
    "    result = []\n",
    "    # Multithreading acceleration\n",
    "    pool = multiprocessing.Pool(processes=threads)\n",
    "    for i in tqdm(range(0, len(file_list), each_core)):\n",
    "        result.append(pool.apply_async(Preprocessing(file_list[i:i + each_core], thr_dB), (file_list[i:i + each_core], )))\n",
    "    pool.close()\n",
    "    pool.join()\n",
    "    "
   ]
  }
 ],
 "metadata": {
  "kernelspec": {
   "display_name": "Python 3",
   "language": "python",
   "name": "python3"
  },
  "language_info": {
   "codemirror_mode": {
    "name": "ipython",
    "version": 3
   },
   "file_extension": ".py",
   "mimetype": "text/x-python",
   "name": "python",
   "nbconvert_exporter": "python",
   "pygments_lexer": "ipython3",
   "version": "3.8.5"
  }
 },
 "nbformat": 4,
 "nbformat_minor": 4
}
