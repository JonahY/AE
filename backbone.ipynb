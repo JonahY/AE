{
 "cells": [
  {
   "cell_type": "code",
   "execution_count": 1,
   "metadata": {
    "ExecuteTime": {
     "end_time": "2020-11-19T07:43:16.298874Z",
     "start_time": "2020-11-19T07:43:01.707875Z"
    }
   },
   "outputs": [
    {
     "data": {
      "text/plain": [
       "'C:\\\\Users\\\\Yuan\\\\Desktop\\\\AE'"
      ]
     },
     "execution_count": 1,
     "metadata": {},
     "output_type": "execute_result"
    }
   ],
   "source": [
    "import os\n",
    "import pandas as pd\n",
    "import numpy as np\n",
    "import matplotlib.pyplot as plt\n",
    "import math\n",
    "import time\n",
    "from sklearn.decomposition import PCA\n",
    "from sklearn.cluster import KMeans\n",
    "from tqdm import tqdm\n",
    "from scipy.fftpack import fft\n",
    "from matplotlib.pylab import mpl\n",
    "import csv\n",
    "\n",
    "\n",
    "%matplotlib qt5\n",
    "plt.rcParams['xtick.direction'] = 'in'\n",
    "plt.rcParams['ytick.direction'] = 'in'\n",
    "mpl.rcParams['axes.unicode_minus'] = False  #显示负号\n",
    "os.getcwd()"
   ]
  },
  {
   "cell_type": "markdown",
   "metadata": {},
   "source": [
    "## Feature curve"
   ]
  },
  {
   "cell_type": "code",
   "execution_count": 2,
   "metadata": {
    "ExecuteTime": {
     "end_time": "2020-11-19T07:43:22.382318Z",
     "start_time": "2020-11-19T07:43:22.343360Z"
    },
    "code_folding": []
   },
   "outputs": [],
   "source": [
    "def cal_linear(energy, inter, mid, interval_num, idx = 0):\n",
    "    # 初始化横坐标\n",
    "    x = np.array([])\n",
    "    for i in inter:\n",
    "        if i != 0:\n",
    "            x = np.append(x, np.linspace(i, i * 10, interval_num, endpoint=False))\n",
    "        else:\n",
    "            x = np.append(x, np.linspace(i, 1, interval_num, endpoint=False))\n",
    "    \n",
    "    # 初始化纵坐标\n",
    "    y = np.zeros(x.shape[0])\n",
    "    for i in energy:\n",
    "#         print(idx, x, y, i)\n",
    "        while True:\n",
    "            try:\n",
    "                if x[idx] <= i < x[idx + 1]:\n",
    "                    y[idx] += 1\n",
    "                    break\n",
    "            except IndexError:\n",
    "                if x[idx] <= i:\n",
    "                    y[idx] += 1\n",
    "                    break\n",
    "            idx += 1\n",
    "    \n",
    "    # 对横坐标作进一步筛选，计算概率分布值\n",
    "    x, y = x[y != 0], y[y != 0]\n",
    "    xx = np.zeros(x.shape[0])\n",
    "    yy = y / sum(y)\n",
    "    \n",
    "    # 取区间终点作为该段的横坐标\n",
    "    for idx in range(len(x) - 1):\n",
    "        xx[idx] = (x[idx] + x[idx + 1]) / 2\n",
    "    xx[-1] = x[-1]\n",
    "    \n",
    "    # 计算分段区间长度，从而求得概率密度值\n",
    "    interval = []\n",
    "    for i, j in enumerate(mid):\n",
    "        try:\n",
    "            num = len(np.intersect1d(np.where(inter[i] <= xx)[0], \n",
    "                                     np.where(xx < inter[i + 1])[0]))\n",
    "            interval.extend([j] * num)\n",
    "        except IndexError:\n",
    "            num = len(np.where(inter[i] <= xx)[0])\n",
    "            interval.extend([j] * num)\n",
    "    yy = yy / np.array(interval)\n",
    "#     # 取对数变换为线性关系\n",
    "#     log_xx = np.log10(xx)\n",
    "#     log_yy = np.log10(yy)\n",
    "#     fit = np.polyfit(log_xx, log_yy, 1)\n",
    "#     alpha = abs(fit[0])\n",
    "#     fit_x = np.linspace(min(log_xx), max(log_xx), 100)\n",
    "#     fit_y = np.polyval(fit, fit_x)\n",
    "    return xx, yy\n",
    "\n",
    "\n",
    "def cal_PDF(tmp, inter, mid, interval_num, features_path):\n",
    "    xx, yy = cal_linear(sorted(tmp), inter, mid, interval_num)\n",
    "#     with open(features_path[:-4] + ' ' + ylabel + '.txt', 'w') as f:\n",
    "#         f.write('{}, {}\\n'.format(xlabel, ylabel))\n",
    "#         for j in range(xx.shape[0]):\n",
    "#             f.write('{}, {}\\n'.format(xx[j], yy[j]))\n",
    "    \n",
    "    ax = fig.add_subplot(331 + i)\n",
    "    ax.scatter(np.log10(xx), np.log10(yy), edgecolors='blue')\n",
    "#     ax.plot(fit_x, fit_y, label=r'$\\epsilon$={:.2f}'.format(alpha))\n",
    "    \n",
    "#     tmp_1, tmp_2 = sorted(tmp[cls_1]), sorted(tmp[cls_2])\n",
    "#     xx, yy, fit_x, fit_y, alpha = cal_linear(tmp_1, inter, mid, interval_num)\n",
    "#     ax.scatter(xx, yy, edgecolors='purple')\n",
    "#     ax.plot(fit_x, fit_y, label=r'$\\aepsilon$={:.2f}'.format(alpha))\n",
    "#     xx, yy, fit_x, fit_y, alpha = cal_linear(tmp_2, inter, mid, interval_num)\n",
    "#     ax.scatter(xx, yy, edgecolors='g')\n",
    "#     ax.plot(fit_x, fit_y, label=r'$\\epsilon$={:.2f}'.format(alpha))\n",
    "    \n",
    "    ax.set_xlabel(xlabel)\n",
    "    ax.set_ylabel(ylabel)\n",
    "    ax.legend(loc='upper right')\n",
    "    \n",
    "\n",
    "def cal_CCDF(tmp, features_path, cls_1, cls_2):\n",
    "    tmp_1, tmp_2 = sorted(tmp[cls_1]), sorted(tmp[cls_2])\n",
    "    N1, N2 = len(tmp_1), len(tmp_2)\n",
    "    xx_1, xx_2 = [], []\n",
    "    yy_1, yy_2 = [], []\n",
    "    for i in range(N1 - 1):\n",
    "        xx_1.append(np.mean([tmp_1[i], tmp_1[i+1]]))\n",
    "        yy_1.append((N1 - i + 1) / N1)\n",
    "    for i in range(N2 - 1):\n",
    "        xx_2.append(np.mean([tmp_2[i], tmp_2[i+1]]))\n",
    "        yy_2.append((N2 - i + 1) / N2)\n",
    "    \n",
    "    ax = plt.subplot()\n",
    "    ax.plot(np.log10(xx_1), np.log10(yy_1), markersize=25, color=color_1, label='Class 1')\n",
    "    ax.plot(np.log10(xx_2), np.log10(yy_2), markersize=25, color=color_2, label='Class 2')\n",
    "    \n",
    "    with open(features_path[:-4] + '_1 ' + xlabel[:-4] + '_CCDF.txt', 'w') as f:\n",
    "        f.write('{}, CCD C(s)\\n'.format(xlabel))\n",
    "        for j in range(len(xx_1)):\n",
    "            f.write('{}, {}\\n'.format(xx_1[j], yy_1[j]))\n",
    "    with open(features_path[:-4] + '_2 ' + xlabel[:-4] + '_CCDF.txt', 'w') as f:\n",
    "        f.write('{}, CCD C(s)\\n'.format(xlabel))\n",
    "        for j in range(len(xx_2)):\n",
    "            f.write('{}, {}\\n'.format(xx_2[j], yy_2[j]))\n",
    "\n",
    "\n",
    "def cal_ML(tmp, N, features_path):\n",
    "#     tmp_1, tmp_2 = sorted(tmp[cls_1]), sorted(tmp[cls_2])\n",
    "#     N1, N2 = len(tmp_1), len(tmp_2)\n",
    "    ML_y1, ML_y2 = [], []\n",
    "    Error_bar1, Error_bar2 = [] ,[]\n",
    "    for j in tqdm(range(N)):\n",
    "        valid_x = sorted(tmp)[j:]\n",
    "        E0 = valid_x[0]\n",
    "        Sum = np.sum(np.log(valid_x/E0))\n",
    "        N_prime = N - j\n",
    "        alpha = 1 + N_prime / Sum\n",
    "        error_bar = (alpha - 1) / pow(N_prime, 0.5)\n",
    "        ML_y1.append(alpha)\n",
    "        Error_bar1.append(error_bar)\n",
    "#     for j in tqdm(range(N2)):\n",
    "#         valid_x = sorted(tmp_1)[j:]\n",
    "#         N_prime = N - j\n",
    "#         error_bar = (alpha - 1) / pow(N_prime, 0.5)\n",
    "#         ML_y2.append(alpha)\n",
    "#         Error_bar2.append(error_bar)\n",
    "    \n",
    "#     with open(features_path[:-4] + ' ' + xlabel[:-4] + '_ML.txt', 'w') as f:\n",
    "#         f.write('{}, ε, Error bar\\n'.format(xlabel))\n",
    "#         for j in range(len(ML_y1)):\n",
    "#             f.write('{}, {}, {}\\n'.format(sorted(tmp)[j], ML_y1[j], Error_bar1[j]))\n",
    "    \n",
    "    ax2 = fig.add_subplot(334 + i)\n",
    "    ax2.errorbar(np.log10(sorted(tmp)), ML_y1, yerr=Error_bar1, \n",
    "                 fmt='o', ecolor='purple', color='purple', \n",
    "                 elinewidth=1, capsize=2, ms=5)\n",
    "#     ax2.errorbar(np.log10(tmp_2), ML_y2, yerr=Error_bar2, \n",
    "#                  fmt='o', ecolor='g', color='g', \n",
    "#                  elinewidth=1, capsize=2, ms=5)\n",
    "    ax2.set_ylim(1, 3)\n",
    "    ax2.set_xlabel(xlabel)\n",
    "    ax2.set_ylabel(r'$\\epsilon$')\n",
    "\n",
    "    \n",
    "def cal_correlation(feature):\n",
    "    cor_idx = [[0, 3], [2, 0], [2, 3]]\n",
    "    for idx, [i, j] in enumerate(cor_idx):\n",
    "        ax3 = fig.add_subplot(337 + idx)\n",
    "#         cor_x = np.log10(feature[:, i]) if i != 3 else np.log10(feature[:, i] * pow(10, 6))\n",
    "        cor_x = np.log10(feature[:, i])\n",
    "        cor_y = np.log10(feature[:, j])\n",
    "#         cor_x1, cor_x2 = cor_x[cls_1], cor_x[cls_2]\n",
    "#         cor_y1, cor_y2 = cor_y[cls_1], cor_y[cls_2]\n",
    "#         ax3.scatter(cor_x1, cor_y1, edgecolors='purple')\n",
    "#         ax3.scatter(cor_x2, cor_y2, edgecolors='g')\n",
    "        ax3.scatter(cor_x, cor_y, edgecolors='blue')\n",
    "        ax3.set_xlabel(xlabelz[max(0, i - 2)])\n",
    "        ax3.set_ylabel(xlabelz[max(0, j - 2)])"
   ]
  },
  {
   "cell_type": "code",
   "execution_count": 6,
   "metadata": {
    "ExecuteTime": {
     "end_time": "2020-11-19T07:46:34.539634Z",
     "start_time": "2020-11-19T07:46:34.340586Z"
    },
    "scrolled": true
   },
   "outputs": [
    {
     "name": "stderr",
     "output_type": "stream",
     "text": [
      "<ipython-input-2-83df405b472e>:92: MatplotlibDeprecationWarning: Adding an axes using the same arguments as a previous axes currently reuses the earlier instance.  In a future version, a new instance will always be created and returned.  Meanwhile, this warning can be suppressed, and the future behavior ensured, by passing a unique label to each axes instance.\n",
      "  ax = plt.subplot()\n"
     ]
    }
   ],
   "source": [
    "if __name__ == \"__main__\":\n",
    "    path = r'C:\\Users\\Yuan\\Desktop'\n",
    "    # E:\\data\\vallen\n",
    "    # E:\\data\\CM-PM-o18-2020.10.17\n",
    "    # E:\\data\\CM-4M-o18-2020.10.17-1-60\n",
    "    # C:\\Users\\Yuan\\Desktop\n",
    "    os.chdir(path)\n",
    "    features_path = r'pri_database.txt'\n",
    "    # Ni-tension test-electrolysis-1-0.01-AE-20201031\n",
    "    # r'D:\\data\\3D porous TC4-2mA-compression test-z1-0.001-20200929\\3D porous TC4-2mA-compression test-z1-0.001-20200929.txt'\n",
    "    # r'C:\\Users\\Yuan\\Desktop\\pri_database.txt'\n",
    "    # r'C:\\Users\\Yuan\\Desktop\\CM-4M-o18-2020.10.17-1-60.txt'\n",
    "    # r'E:\\data\\CM-PM-o18-2020.10.17\\CM-PM-o18-2020.10.17.txt'\n",
    "\n",
    "    label_path = r'C:\\Users\\Yuan\\Desktop\\label.txt'\n",
    "\n",
    "    # Amp,RiseT,Dur,Eny,RMS,Counts\n",
    "    with open(features_path, 'r') as f:\n",
    "        feature = np.array([i.split(',')[6:-4] for i in f.readlines()[1:]])\n",
    "    feature = feature.astype(np.float32)\n",
    "    \n",
    "    with open(label_path, 'r') as f:\n",
    "        label = np.array([i.strip() for i in f.readlines()[1:]])\n",
    "    label = label.astype(np.float32).reshape(-1, 1)\n",
    "    label[np.where(label == 2)] = 0\n",
    "    ext = np.zeros([feature.shape[0], 1])\n",
    "    ext[np.where(label == 0)[0].tolist()] = 1\n",
    "    label = np.concatenate((label, ext), axis=1)\n",
    "    cls_1 = label[:, 0] == 1\n",
    "    cls_2 = label[:, 1] == 1\n",
    "\n",
    "    feature_idx = [0, 2, 3]\n",
    "    N = feature.shape[0]\n",
    "    interval_num = 6\n",
    "    interval = 1 / interval_num\n",
    "    interz = []\n",
    "    midz = []\n",
    "\n",
    "    for idx in feature_idx:\n",
    "#         tmp = feature[:, idx] * pow(10, 6) if idx == 3 else feature[:, idx]\n",
    "        tmp = feature[:, idx]\n",
    "        tmp_max = int(max(tmp))\n",
    "        tmp_min = int(min(tmp))\n",
    "        if tmp_min <= 0:\n",
    "            interz.append([0] + [pow(10, i) for i in range(len(str(tmp_max)))])\n",
    "            midz.append([interval * pow(10, i)\n",
    "                         for i in range(len(str(tmp_max)) + 1)])\n",
    "        else:\n",
    "            interz.append([pow(10, i) for i in range(len(str(tmp_min)) - 1, \n",
    "                                                     len(str(tmp_max)))])\n",
    "            midz.append([interval * pow(10, i) \n",
    "                         for i in range(len(str(tmp_min)), \n",
    "                                        len(str(tmp_max)) + 1)])\n",
    "\n",
    "    xlabelz = ['Amplitude(μV)', 'Duration(μs)', 'Energy(aJ)']\n",
    "    ylabelz = ['PDF(A)', 'PDF(D)', 'PDF(E)']\n",
    "    color_1 = [255/255, 0/255, 102/255] # red\n",
    "    color_2 = [0/255, 136/255, 204/255] # blue\n",
    "    \n",
    "    fig = plt.figure()\n",
    "#     for i, [idx, inter, mid, xlabel, ylabel\n",
    "#             ] in enumerate(zip(feature_idx, interz, midz, xlabelz, ylabelz)):\n",
    "# #         tmp = feature[:, idx] * pow(10, 6) if idx == 3 else feature[:, idx]\n",
    "#         tmp = feature[:, idx]\n",
    "# #         tmp /= min(tmp)\n",
    "#         cal_PDF(tmp, inter, mid, interval_num, features_path)\n",
    "# #         cal_ML(tmp, inter, mid, N, interval_num, features_path)\n",
    "#     cal_correlation(feature)\n",
    "    xlabel, ylabel = 'Energy(aJ)', 'PDF(E)'\n",
    "    cal_CCDF(feature[:, 3], path, cls_1, cls_2)\n",
    "    plt.tight_layout()"
   ]
  },
  {
   "cell_type": "markdown",
   "metadata": {},
   "source": [
    "## Frequency domain curve"
   ]
  },
  {
   "cell_type": "code",
   "execution_count": null,
   "metadata": {
    "ExecuteTime": {
     "end_time": "2020-11-06T07:44:50.837491Z",
     "start_time": "2020-11-06T07:44:14.291491Z"
    },
    "scrolled": true
   },
   "outputs": [],
   "source": [
    "# Import data\n",
    "path = r'D:\\data\\3D porous TC4-2mA-compression test-z1-0.001-20200929'\n",
    "os.chdir(path)\n",
    "# E:\\data\\CM-PM-o18-2020.10.17\n",
    "# E:\\data\\CM-4M-o18-2020.10.17-1-60\n",
    "convert_path = path.split('\\\\')[-1] + '.txt'\n",
    "ls = os.listdir(path)[1:]\n",
    "lss = np.array(['_'.join(i.split('_')[1:3]) for i in ls])\n",
    "file = []\n",
    "with open(convert_path, \"r\") as f:\n",
    "    f.readline()\n",
    "    valid_idx = np.array([\"_\".join([i.split(',')[2].strip(), \n",
    "                                    i.split(',')[0].strip()]) \n",
    "                          for i in f.readlines()])\n",
    "with open(convert_path, \"r\") as f:\n",
    "    f.readline()\n",
    "    energy = np.array([float(i.split(',')[-3].strip()) for i in f.readlines()])\n",
    "for i in tqdm(valid_idx):\n",
    "    file.append(path + '\\\\' + ls[np.where(lss == i)[0][0]])\n",
    "# file = np.array([path + '\\\\' + ls[np.where(lss == i)[0][0]] for i in valid_idx])"
   ]
  },
  {
   "cell_type": "code",
   "execution_count": null,
   "metadata": {},
   "outputs": [],
   "source": []
  },
  {
   "cell_type": "code",
   "execution_count": null,
   "metadata": {},
   "outputs": [],
   "source": [
    "# Calculate frequency\n",
    "freq_max = [[]] * len(file)\n",
    "thr_V = pow(10, 25 / 20) / pow(10, 3)\n",
    "\n",
    "for idx, i in enumerate(tqdm(file)):\n",
    "    with open(i, \"r\") as f:\n",
    "        for _ in range(10):\n",
    "            f.readline()\n",
    "        t0 = float(f.readline()[14:])\n",
    "        amp = np.array([float(i.strip(\"\\n\")) for i in f.readlines()[1:]])\n",
    "#     time[idx] = np.linspace(t0, t0 + 0.0000002 * (amp.shape[0] - 1), amp.shape[0])\n",
    "#     Amp[idx] = amp[:]\n",
    "    \n",
    "    valid_wave_idx = np.where(abs(amp) >= thr_V)[0]\n",
    "    valid_data = amp[valid_wave_idx[0]:(valid_wave_idx[-1] + 1)]\n",
    "\n",
    "    Ts = 0.0000002\n",
    "    Fs = 1 / Ts\n",
    "    N = valid_wave_idx[-1] - valid_wave_idx[0] + 1\n",
    "    end = Ts * N\n",
    "    time_label = np.arange(0, end, Ts)\n",
    "    frq = (np.arange(N) / N) * Fs\n",
    "    fft_y = fft(valid_data)\n",
    "\n",
    "    abs_y = np.abs(fft_y)\n",
    "    normalization = abs_y / N\n",
    "    half_frq = frq[range(int(N / 2))]\n",
    "    normalization_half = normalization[range(int(N / 2))]\n",
    "    freq_max[idx] = half_frq[np.argmax(normalization_half)]\n",
    "\n",
    "#     # Plot\n",
    "#     titles = ['Original Waveform', 'Bilateral amplitude spectrum (normalized)', 'Unilateral amplitude spectrum (normalized)']\n",
    "#     colors = ['purple', 'green', 'blue']\n",
    "#     x_label = ['Time (s)', 'Freq (Hz)', 'Freq (Hz)']\n",
    "#     y_label = ['Amplitude (μV)', '|Y(freq)|', '|Y(freq)|']\n",
    "#     xs = [time_label, frq, half_frq]\n",
    "#     ys = [valid_data, normalization, normalization_half]\n",
    "\n",
    "#     for i, [x, y, title, color, xlabel, ylabel] in enumerate(zip(xs, ys, titles, colors, x_label, y_label)):\n",
    "#         plt.subplot(311 + i)\n",
    "#         plt.plot(x, y, color)\n",
    "#         plt.xlabel(xlabel)\n",
    "#         plt.ylabel(ylabel)\n",
    "#         plt.title(title, color=color)\n",
    "#     plt.tight_layout()"
   ]
  },
  {
   "cell_type": "code",
   "execution_count": null,
   "metadata": {
    "ExecuteTime": {
     "end_time": "2020-11-06T04:14:29.665472Z",
     "start_time": "2020-11-06T03:41:33.352453Z"
    }
   },
   "outputs": [],
   "source": [
    "All_file = os.listdir(path)[2:]\n",
    "# time, Amp = [[]] * len(All_file), [[]] * len(All_file)\n",
    "# for idx, i in enumerate(tqdm(All_file)):\n",
    "#     with open(i, \"r\") as f:\n",
    "#         for _ in range(10):\n",
    "#             f.readline()\n",
    "#         t0 = float(f.readline()[14:])\n",
    "#         amp = max(np.array([float(i.strip(\"\\n\")) for i in f.readlines()[1:]]))\n",
    "#     time = np.append(time, t0)\n",
    "#     Amp = np.append(Amp, amp)"
   ]
  },
  {
   "cell_type": "code",
   "execution_count": null,
   "metadata": {
    "ExecuteTime": {
     "end_time": "2020-11-06T02:31:58.138600Z",
     "start_time": "2020-11-06T02:31:58.124567Z"
    }
   },
   "outputs": [],
   "source": [
    "# # Save the calculated frequency value in CSV format\n",
    "# file_name = path.split('\\\\')[-1]\n",
    "# with open(file_name + '-frequency.csv', 'w') as csvfile:\n",
    "#     writer = csv.writer(csvfile)\n",
    "#     writer.writerows([freq_max])\n",
    "\n",
    "# # Change the frequency file format to TXT\n",
    "# os.rename(path + '\\\\' + file_name + '-frequency.csv', \n",
    "#           path + '\\\\' + file_name + '-frequency.txt')\n",
    "# with open(file_name + '-frequency.txt', 'r') as f:\n",
    "#     data = f.readlines()[:-1]\n",
    "# freq_max = [i.split(',') for i in data]\n",
    "# freq_max = np.array(freq_max[0]).astype('float32')"
   ]
  },
  {
   "cell_type": "code",
   "execution_count": null,
   "metadata": {
    "ExecuteTime": {
     "end_time": "2020-11-06T06:13:41.324782Z",
     "start_time": "2020-11-06T06:13:38.861845Z"
    }
   },
   "outputs": [],
   "source": [
    "# Plot the frequency energy map\n",
    "plt.scatter(energy, freq_max)\n",
    "plt.xlim(-10, math.ceil(max(energy)))\n",
    "plt.xlabel('Energy(aJ)')\n",
    "plt.ylabel('Frequency(Hz)')\n",
    "plt.title('Frequency-Energy')\n",
    "\n",
    "# plt.bar(time, Amp)\n",
    "# plt.xlim(math.floor(min(time)), math.ceil(max(time)))\n",
    "# plt.xlabel('Time(s)')\n",
    "# plt.ylabel('Amplitude(μV)')\n",
    "# plt.title('Time-Amplitude')\n",
    "plt.savefig(r'C:\\Users\\Yuan\\Desktop\\test.png')"
   ]
  },
  {
   "cell_type": "code",
   "execution_count": null,
   "metadata": {
    "ExecuteTime": {
     "end_time": "2020-11-02T09:29:26.691454Z",
     "start_time": "2020-11-02T09:29:26.671424Z"
    }
   },
   "outputs": [],
   "source": [
    "# xx[-1]\n",
    "# 9, 5, 4, 2, 1, 0.8, 0.75, 0.5, 0.5\n",
    "base = np.array([9, 14, 18, 20, 21, 21.8, 22.55, 23.05, 23.55])\n",
    "tick_1 = base + 0\n",
    "tick_2 = base + tick_1[-1]\n",
    "tick_3 = base + tick_2[-1]\n",
    "tick_4 = base + tick_3[-1]\n",
    "tick_5 = base + tick_4[-1]\n",
    "tick_6 = base + tick_5[-1]\n",
    "x_tick = np.concatenate((tick_1, tick_2, tick_3, tick_4, tick_5, tick_6))"
   ]
  },
  {
   "cell_type": "markdown",
   "metadata": {},
   "source": [
    "## Time domain curve"
   ]
  },
  {
   "cell_type": "code",
   "execution_count": null,
   "metadata": {},
   "outputs": [],
   "source": []
  },
  {
   "cell_type": "code",
   "execution_count": null,
   "metadata": {},
   "outputs": [],
   "source": []
  },
  {
   "cell_type": "code",
   "execution_count": null,
   "metadata": {},
   "outputs": [],
   "source": []
  }
 ],
 "metadata": {
  "kernelspec": {
   "display_name": "Python 3",
   "language": "python",
   "name": "python3"
  },
  "language_info": {
   "codemirror_mode": {
    "name": "ipython",
    "version": 3
   },
   "file_extension": ".py",
   "mimetype": "text/x-python",
   "name": "python",
   "nbconvert_exporter": "python",
   "pygments_lexer": "ipython3",
   "version": "3.8.5"
  },
  "toc": {
   "base_numbering": 1,
   "nav_menu": {},
   "number_sections": true,
   "sideBar": true,
   "skip_h1_title": false,
   "title_cell": "Table of Contents",
   "title_sidebar": "Contents",
   "toc_cell": false,
   "toc_position": {},
   "toc_section_display": true,
   "toc_window_display": false
  },
  "varInspector": {
   "cols": {
    "lenName": 16,
    "lenType": 16,
    "lenVar": 40
   },
   "kernels_config": {
    "python": {
     "delete_cmd_postfix": "",
     "delete_cmd_prefix": "del ",
     "library": "var_list.py",
     "varRefreshCmd": "print(var_dic_list())"
    },
    "r": {
     "delete_cmd_postfix": ") ",
     "delete_cmd_prefix": "rm(",
     "library": "var_list.r",
     "varRefreshCmd": "cat(var_dic_list()) "
    }
   },
   "types_to_exclude": [
    "module",
    "function",
    "builtin_function_or_method",
    "instance",
    "_Feature"
   ],
   "window_display": false
  }
 },
 "nbformat": 4,
 "nbformat_minor": 4
}
