{
 "cells": [
  {
   "cell_type": "code",
   "execution_count": 2,
   "metadata": {
    "ExecuteTime": {
     "end_time": "2021-01-15T13:24:09.973604Z",
     "start_time": "2021-01-15T13:24:09.956630Z"
    },
    "code_folding": [
     0
    ]
   },
   "outputs": [],
   "source": [
    "# -*- coding: UTF-8 -*-\n",
    "import os\n",
    "import pandas as pd\n",
    "import numpy as np\n",
    "import matplotlib.pyplot as plt\n",
    "import math\n",
    "import time\n",
    "from tqdm import tqdm\n",
    "from scipy.fftpack import fft\n",
    "from matplotlib.pylab import mpl\n",
    "import csv\n",
    "import array\n",
    "import sqlite3\n",
    "import pprint\n",
    "from matplotlib.ticker import FuncFormatter\n",
    "from matplotlib import ticker, cm\n",
    "import matplotlib\n",
    "from collections import Counter\n",
    "from mpl_toolkits.mplot3d import Axes3D\n",
    "from sklearn.base import BaseEstimator, ClusterMixin\n",
    "from sklearn.metrics.pairwise import pairwise_kernels\n",
    "from sklearn.utils import check_random_state\n",
    "from sklearn.decomposition import PCA, FastICA\n",
    "from sklearn.cluster import KMeans\n",
    "from scipy.optimize import curve_fit\n",
    "from scipy.interpolate import make_interp_spline\n",
    "from scipy.signal import savgol_filter\n",
    "import warnings\n",
    "import pywt\n",
    "\n",
    "\n",
    "%matplotlib qt\n",
    "warnings.filterwarnings(\"ignore\")\n",
    "plt.rcParams['xtick.direction'] = 'in'\n",
    "plt.rcParams['ytick.direction'] = 'in'\n",
    "mpl.rcParams['axes.unicode_minus'] = False  #显示负号"
   ]
  },
  {
   "cell_type": "markdown",
   "metadata": {},
   "source": [
    "### Extract PAC values"
   ]
  },
  {
   "cell_type": "code",
   "execution_count": null,
   "metadata": {},
   "outputs": [],
   "source": [
    "#  ID DDD HH:MM:SS.mmmuuun      PARA1  CH  RISE  COUN  ENER  DURATION AMP  ABS-ENERGY\n",
    "path = r'E:\\data\\pac\\316L-1.5-annealed-AE-3 sensor-20201228\\316L-1.5-annealed-AE-3 sensor-20201228_2.TXT'\n",
    "with open(path, 'r') as f:\n",
    "    data = np.array([np.array(i.strip(\"\\n\").split()) for i in f.readlines()[8:1305403]])"
   ]
  },
  {
   "cell_type": "code",
   "execution_count": null,
   "metadata": {},
   "outputs": [],
   "source": [
    "valid_idx = np.where((data[:, 4] == '1') & (data[:, 6].astype('int') > 3) & (data[:, -2].astype('int') != 24))[0] # & (data[:, -2].astype('int') != 24)\n",
    "valid_data = data[valid_idx]\n",
    "valid_data.shape"
   ]
  },
  {
   "cell_type": "code",
   "execution_count": null,
   "metadata": {},
   "outputs": [],
   "source": [
    "abnormal_1 = np.array([116, 81, 26, 44, 8, 70, 54, 75, 13, 35, 2, 37, 129, 64])\n",
    "abnormal_2 = np.array([59, 88, 48, 17, 62, 72, 119, 16, 21, 64, 9, 1])\n",
    "abnormal_3 = np.array([88, 22, 107, 62, 101, 72, 119, 21, 64, 1, 138, 98])"
   ]
  },
  {
   "cell_type": "code",
   "execution_count": null,
   "metadata": {},
   "outputs": [],
   "source": [
    "np.where((Dur > 31.2) & (Dur < 31.8) & (Eny > 2) & (Eny < 5))[0], Dur[np.where((Dur > 31.2) & (Dur < 31.8) & (Eny > 2) & (Eny < 5))[0]]"
   ]
  },
  {
   "cell_type": "code",
   "execution_count": null,
   "metadata": {},
   "outputs": [],
   "source": [
    "Time[abnormal_3], Amp[abnormal_3], Dur[abnormal_3], Eny[abnormal_3]"
   ]
  },
  {
   "cell_type": "code",
   "execution_count": null,
   "metadata": {},
   "outputs": [],
   "source": [
    "time = np.round(all_Time,4)\n",
    "valid_idx_origin, valid_idx_cal = [], []\n",
    "for idx, t in enumerate(np.round(valid_time,4)):\n",
    "    res = np.where(time == t)[0]\n",
    "    if res.shape[0] > 1:\n",
    "        cha = np.array([abs(time[res[0]]-t), abs(time[res[1]]-t)])\n",
    "        tmp = np.argmin(cha)\n",
    "        valid_idx_origin.append(res[tmp])\n",
    "        valid_idx_cal.append(idx)\n",
    "    elif res.shape[0] == 1:\n",
    "        valid_idx_origin.append(res[0])\n",
    "        valid_idx_cal.append(idx)"
   ]
  },
  {
   "cell_type": "code",
   "execution_count": null,
   "metadata": {},
   "outputs": [],
   "source": [
    "valid_data = data[valid_idx_origin]\n",
    "valid_data.shape"
   ]
  },
  {
   "cell_type": "code",
   "execution_count": null,
   "metadata": {},
   "outputs": [],
   "source": [
    "all_Time = []\n",
    "for j in data[:, 2]:\n",
    "    t = 0\n",
    "    for n, i in zip([2, 1, 0], j.split(':')):\n",
    "        t += float(i)*pow(60, n)\n",
    "    all_Time.append(t)\n",
    "all_Time = np.array(all_Time)"
   ]
  },
  {
   "cell_type": "code",
   "execution_count": null,
   "metadata": {},
   "outputs": [],
   "source": [
    "Time = []\n",
    "for j in valid_data[:, 2]:\n",
    "    t = 0\n",
    "    for n, i in zip([2, 1, 0], j.split(':')):\n",
    "        t += float(i)*pow(60, n)\n",
    "    Time.append(t)\n",
    "Time = np.array(Time)"
   ]
  },
  {
   "cell_type": "code",
   "execution_count": null,
   "metadata": {},
   "outputs": [],
   "source": [
    "df_1 = pd.DataFrame({'Time':Time, 'Amplitude':Amp, 'RiseTime':RiseT, 'Duration':Dur, 'Energy':Eny, 'ABS_ENERGY':abs_eny, 'Counts':Counts})\n",
    "df_1.to_csv('316L_PAC.csv')"
   ]
  },
  {
   "cell_type": "code",
   "execution_count": null,
   "metadata": {},
   "outputs": [],
   "source": [
    "Amp = valid_data[:, -2].astype('float')\n",
    "RiseT = valid_data[:, 5].astype('float')\n",
    "Dur = 20 * np.log10(valid_data[:, 8].astype('float'))\n",
    "Eny = 20 * np.log10(valid_data[:, -1].astype('float'))\n",
    "eny = valid_data[:, -4].astype('float')\n",
    "Counts = valid_data[:, 6].astype('int')\n",
    "abs_eny = valid_data[:, -1].astype('float')"
   ]
  },
  {
   "cell_type": "code",
   "execution_count": null,
   "metadata": {},
   "outputs": [],
   "source": [
    "np.where((Time > 882) & (Time <= 885))[0]"
   ]
  },
  {
   "cell_type": "code",
   "execution_count": null,
   "metadata": {},
   "outputs": [],
   "source": [
    "valid_eny = [3, 2127, 16, 1128, 483]\n",
    "Time[[770, 771, 772]]"
   ]
  },
  {
   "cell_type": "code",
   "execution_count": null,
   "metadata": {},
   "outputs": [],
   "source": [
    "fig = plt.figure(figsize=[6, 3.9])\n",
    "ax = plt.subplot()\n",
    "# ax.set_yscale(\"log\", nonposy='clip')\n",
    "# ax.set_xscale(\"log\", nonposx='clip')\n",
    "ax.scatter(Dur, Eny, s=15, c=color_2)\n",
    "ax.scatter(Dur[abnormal_2], Eny[abnormal_2], s=15, c='black')\n",
    "# ax.scatter(Amp[valid_eny], Eny[valid_eny], s=15, c=color_1)\n",
    "plot_norm(ax, '20log(Dur)', '20log(Abs-Eny)', legend=False)\n",
    "# '20log(Amp)', '20log(Abs-Eny)', 'Duration (μs)'"
   ]
  },
  {
   "cell_type": "markdown",
   "metadata": {},
   "source": [
    "### Plot format"
   ]
  },
  {
   "cell_type": "code",
   "execution_count": 7,
   "metadata": {
    "ExecuteTime": {
     "end_time": "2021-01-15T13:34:39.627399Z",
     "start_time": "2021-01-15T13:34:39.609398Z"
    },
    "code_folding": [
     3
    ]
   },
   "outputs": [],
   "source": [
    "color_1 = [255/255, 0/255, 102/255] # red\n",
    "color_2 = [0/255, 136/255, 204/255] # blue\n",
    "xlabelz = ['Amplitude (μV)', 'Duration (μs)', 'Energy (aJ)']\n",
    "def plot_norm(ax, xlabel=None, ylabel=None, zlabel=None, title=None, x_lim=[], y_lim=[], z_lim=[], legend=True, grid=False, \n",
    "              legend_loc='upper left', font_color='black', legendsize=11, labelsize=14, titlesize=15, ticksize=13, linewidth=2):\n",
    "    ax.spines['bottom'].set_linewidth(linewidth)\n",
    "    ax.spines['left'].set_linewidth(linewidth)\n",
    "    ax.spines['right'].set_linewidth(linewidth)\n",
    "    ax.spines['top'].set_linewidth(linewidth)\n",
    "\n",
    "    # 设置坐标刻度值的大小以及刻度值的字体 Arial\n",
    "    ax.tick_params(which='both', width=linewidth, labelsize=ticksize, colors=font_color)\n",
    "    labels = ax.get_xticklabels() + ax.get_yticklabels()\n",
    "    [label.set_fontname('Arial') for label in labels]\n",
    "\n",
    "    font_legend = {'family': 'Arial', 'weight': 'normal', 'size': legendsize}\n",
    "    font_label = {'family': 'Arial', 'weight': 'bold', 'size': labelsize, 'color':font_color}\n",
    "    font_title = {'family': 'Arial', 'weight': 'bold', 'size': titlesize, 'color':font_color}\n",
    "\n",
    "    if x_lim:\n",
    "        ax.set_xlim(x_lim[0], x_lim[1])\n",
    "    if y_lim:\n",
    "        ax.set_ylim(y_lim[0], y_lim[1])\n",
    "    if z_lim:\n",
    "        ax.set_zlim(z_lim[0], z_lim[1])\n",
    "    if legend:\n",
    "        plt.legend(loc=legend_loc, prop=font_legend)\n",
    "    if grid:\n",
    "        ax.grid(ls='-.')\n",
    "    if xlabel:\n",
    "        ax.set_xlabel(xlabel, font_label)\n",
    "    if ylabel:\n",
    "        ax.set_ylabel(ylabel, font_label)\n",
    "    if zlabel:\n",
    "        ax.set_zlabel(zlabel, font_label)\n",
    "    if title:\n",
    "        ax.set_title(title, font_title)\n",
    "    plt.tight_layout()"
   ]
  },
  {
   "cell_type": "code",
   "execution_count": 51,
   "metadata": {
    "ExecuteTime": {
     "end_time": "2021-01-15T14:19:56.041728Z",
     "start_time": "2021-01-15T14:19:55.811730Z"
    },
    "code_folding": []
   },
   "outputs": [],
   "source": [
    "def cal_wave(name, status, magnification_dB=40, thr_dB=25):\n",
    "    magnification = pow(10, magnification_dB / 20)\n",
    "    thr_μV = pow(10, thr_dB / 20)\n",
    "    with open(name, \"r\") as f:\n",
    "        for _ in range(3):\n",
    "            f.readline()\n",
    "        sample_interval = float(f.readline()[29:])\n",
    "        for _ in range(3):\n",
    "            f.readline()\n",
    "        points_num = int(f.readline()[36:])\n",
    "        channel_num = int(f.readline().strip()[16:])\n",
    "        hit_num = int(f.readline()[12:])\n",
    "        t0 = float(f.readline()[14:])\n",
    "        sig = np.array([float(i.strip(\"\\n\")) for i in f.readlines()[1:]]) / magnification * pow(10, 6)\n",
    "#         time_label = np.linspace(t0, t0 + sample_interval * (points_num - 1), points_num)\n",
    "        time = np.linspace(0, sample_interval * (points_num - 1) * pow(10, 6), points_num)\n",
    "#         if valid:\n",
    "        valid_wave_idx = np.where(abs(sig) >= thr_μV)[0]\n",
    "        start = time[valid_wave_idx[0]]\n",
    "        end = time[valid_wave_idx[-1]]\n",
    "        duration = end - start\n",
    "        sig = sig[valid_wave_idx[0]:(valid_wave_idx[-1] + 1)]\n",
    "        time = np.linspace(0, duration, sig.shape[0])\n",
    "    \n",
    "    fig = plt.figure(figsize=(6, 4.1), num='Waveform--Time {} (s) & Duration {} (μs)'.format(t0, duration))\n",
    "    fig.text(0.95, 0.17, status, fontdict={'family': 'Arial', 'fontweight': 'bold', 'fontsize': 12},\n",
    "             horizontalalignment=\"right\")\n",
    "    ax = fig.add_subplot(1, 1, 1)\n",
    "    ax.plot(time, sig, lw=1)\n",
    "    plt.axhline(abs(thr_μV), 0, sig.shape[0], linewidth=1, color=\"black\")\n",
    "    plt.axhline(-abs(thr_μV), 0, sig.shape[0], linewidth=1, color=\"black\")\n",
    "    plot_norm(ax, 'Time (μs)', 'Amplitude (μV)', title='Time: %f (s)' % t0, legend=False, grid=True)\n",
    "    return time, sig"
   ]
  },
  {
   "cell_type": "code",
   "execution_count": 48,
   "metadata": {
    "ExecuteTime": {
     "end_time": "2021-01-15T13:51:46.452675Z",
     "start_time": "2021-01-15T13:51:46.437676Z"
    }
   },
   "outputs": [],
   "source": [
    "path = r'E:\\data\\pac\\316L-1.5-annealed-AE-3 sensor-20201228'\n",
    "os.chdir(path)"
   ]
  },
  {
   "cell_type": "code",
   "execution_count": 52,
   "metadata": {
    "ExecuteTime": {
     "end_time": "2021-01-15T14:20:03.943275Z",
     "start_time": "2021-01-15T14:20:00.292218Z"
    }
   },
   "outputs": [],
   "source": [
    "for name in os.listdir(path)[2:-1]:\n",
    "    time, sig = cal_wave(name, '316L')\n",
    "# 20 * np.log10(max(abs(sig))), 20 * np.log10(496)"
   ]
  },
  {
   "cell_type": "code",
   "execution_count": 54,
   "metadata": {
    "ExecuteTime": {
     "end_time": "2021-01-15T14:23:46.930265Z",
     "start_time": "2021-01-15T14:23:46.916270Z"
    }
   },
   "outputs": [
    {
     "data": {
      "text/plain": [
       "49.54242509439325"
      ]
     },
     "execution_count": 54,
     "metadata": {},
     "output_type": "execute_result"
    }
   ],
   "source": [
    "20 * np.log10(300)"
   ]
  }
 ],
 "metadata": {
  "kernelspec": {
   "display_name": "Python 3",
   "language": "python",
   "name": "python3"
  },
  "language_info": {
   "codemirror_mode": {
    "name": "ipython",
    "version": 3
   },
   "file_extension": ".py",
   "mimetype": "text/x-python",
   "name": "python",
   "nbconvert_exporter": "python",
   "pygments_lexer": "ipython3",
   "version": "3.8.5"
  },
  "toc": {
   "base_numbering": 1,
   "nav_menu": {},
   "number_sections": true,
   "sideBar": true,
   "skip_h1_title": false,
   "title_cell": "Table of Contents",
   "title_sidebar": "Contents",
   "toc_cell": false,
   "toc_position": {},
   "toc_section_display": true,
   "toc_window_display": false
  },
  "varInspector": {
   "cols": {
    "lenName": 16,
    "lenType": 16,
    "lenVar": 40
   },
   "kernels_config": {
    "python": {
     "delete_cmd_postfix": "",
     "delete_cmd_prefix": "del ",
     "library": "var_list.py",
     "varRefreshCmd": "print(var_dic_list())"
    },
    "r": {
     "delete_cmd_postfix": ") ",
     "delete_cmd_prefix": "rm(",
     "library": "var_list.r",
     "varRefreshCmd": "cat(var_dic_list()) "
    }
   },
   "types_to_exclude": [
    "module",
    "function",
    "builtin_function_or_method",
    "instance",
    "_Feature"
   ],
   "window_display": false
  }
 },
 "nbformat": 4,
 "nbformat_minor": 4
}
