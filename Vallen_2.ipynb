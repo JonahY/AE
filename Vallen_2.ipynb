{
 "cells": [
  {
   "cell_type": "code",
   "execution_count": 1,
   "metadata": {
    "ExecuteTime": {
     "end_time": "2020-11-18T11:29:48.522841Z",
     "start_time": "2020-11-18T11:29:48.499315Z"
    }
   },
   "outputs": [],
   "source": [
    "# -*- coding: UTF-8 -*-\n",
    "import os\n",
    "import pandas as pd\n",
    "import numpy as np\n",
    "import matplotlib.pyplot as plt\n",
    "import math\n",
    "import time\n",
    "from tqdm import tqdm\n",
    "from scipy.fftpack import fft\n",
    "from matplotlib.pylab import mpl\n",
    "import csv\n",
    "import array\n",
    "import sqlite3\n",
    "import pprint\n",
    "from matplotlib.ticker import FuncFormatter\n",
    "from matplotlib import ticker, cm\n",
    "\n",
    "\n",
    "%matplotlib inline\n",
    "plt.rcParams['xtick.direction'] = 'in'\n",
    "plt.rcParams['ytick.direction'] = 'in'\n",
    "mpl.rcParams['axes.unicode_minus'] = False  #显示负号"
   ]
  },
  {
   "cell_type": "code",
   "execution_count": 2,
   "metadata": {
    "ExecuteTime": {
     "end_time": "2020-11-18T11:29:49.329104Z",
     "start_time": "2020-11-18T11:29:49.317099Z"
    }
   },
   "outputs": [],
   "source": [
    "os.chdir(r'/home/Yuanbincheng/data')\n",
    "path_pri = r'Ni-tension test-pure-1-0.01-AE-20201030.pridb'\n",
    "path_tra = r'Ni-tension test-pure-1-0.01-AE-20201030.tradb'\n",
    "# Ni-tension test-electrolysis-1-0.01-AE-20201031\n",
    "# Ni-tension test-pure-1-0.01-AE-20201030\n",
    "# 2020.11.10-PM-self\n",
    "\n",
    "conn_tra = sqlite3.connect(path_tra)\n",
    "conn_pri = sqlite3.connect(path_pri)\n",
    "result_tra = conn_tra.execute(\"Select Time, Chan, Thr, SampleRate, Samples, TR_mV, Data, TRAI FROM view_tr_data\")\n",
    "result_pri = conn_pri.execute(\"Select SetID, Time, Chan, Thr, Amp, RiseT, Dur, Eny, RMS, Counts, TRAI FROM view_ae_data\")"
   ]
  },
  {
   "cell_type": "markdown",
   "metadata": {},
   "source": [
    "### Convert"
   ]
  },
  {
   "cell_type": "code",
   "execution_count": 3,
   "metadata": {
    "ExecuteTime": {
     "end_time": "2020-11-18T11:29:58.886898Z",
     "start_time": "2020-11-18T11:29:58.875233Z"
    }
   },
   "outputs": [],
   "source": [
    "def sqlite_read(path):\n",
    "    \"\"\"\n",
    "    python读取sqlite数据库文件\n",
    "    \"\"\"\n",
    "    mydb = sqlite3.connect(path)                # 链接数据库\n",
    "    mydb.text_factory = lambda x: str(x, 'gbk', 'ignore')\n",
    "    cur = mydb.cursor()                         # 创建游标cur来执行SQL语句\n",
    "\n",
    "    # 获取表名\n",
    "    cur.execute(\"SELECT name FROM sqlite_master WHERE type='table'\")\n",
    "    Tables = cur.fetchall()                     # Tables 为元组列表\n",
    "#     print(Tables)\n",
    "\n",
    "    # 获取表结构的所有信息\n",
    "    cur.execute(\"SELECT * FROM {}\".format(Tables[3][0]))\n",
    "    res = cur.fetchall()\n",
    "#     pprint.pprint(cur.fetchall()[-1][1])\n",
    "    return int(res[-2][1]), int(res[-1][1])"
   ]
  },
  {
   "cell_type": "code",
   "execution_count": 4,
   "metadata": {
    "ExecuteTime": {
     "end_time": "2020-11-18T11:31:18.951472Z",
     "start_time": "2020-11-18T11:30:03.093989Z"
    },
    "scrolled": true
   },
   "outputs": [
    {
     "name": "stderr",
     "output_type": "stream",
     "text": [
      "100%|█████████████████████████████| 4137532/4137532 [00:16<00:00, 243512.31it/s]\n",
      "100%|█████████████████████████████| 5354736/5354736 [00:16<00:00, 318852.81it/s]\n"
     ]
    }
   ],
   "source": [
    "data_tra, data_pri, chan_2, chan_3, chan_4 = [], [], [], [], []\n",
    "N_pri, N_tra = sqlite_read(path_pri)\n",
    "for _ in tqdm(range(N_tra),ncols=80):\n",
    "    i = result_tra.fetchone()\n",
    "    data_tra.append(i)\n",
    "for _ in tqdm(range(N_pri),ncols=80):\n",
    "    i = result_pri.fetchone()\n",
    "    if i[-2] is not None and i[-2] > 2:\n",
    "        data_pri.append(i)\n",
    "        if i[2] == 2:\n",
    "            chan_2.append(i)\n",
    "        elif i[2] == 3:\n",
    "            chan_3.append(i)\n",
    "        elif i[2] == 4:\n",
    "            chan_4.append(i)\n",
    "\n",
    "data_tra = sorted(data_tra, key=lambda x: x[-1])\n",
    "data_pri = np.array(data_pri)\n",
    "chan_2 = np.array(chan_2)\n",
    "chan_3 = np.array(chan_3)\n",
    "chan_4 = np.array(chan_4)"
   ]
  },
  {
   "cell_type": "markdown",
   "metadata": {},
   "source": [
    "### Plot format"
   ]
  },
  {
   "cell_type": "code",
   "execution_count": 26,
   "metadata": {},
   "outputs": [],
   "source": [
    "color_1 = [255/255, 0/255, 102/255] # red\n",
    "color_2 = [0/255, 136/255, 204/255] # blue\n",
    "\n",
    "def formatnum(x, pos):\n",
    "    return '$10^{}$'.format(int(x))\n",
    "\n",
    "def plot_norm(ax, xlabel, ylabel, title='', formatter_x=False, formatter_y=False, x_lim=[], \n",
    "              y_lim=[], Xlim=False, Ylim=False, legend=True, legend_loc='upper left'):\n",
    "    formatter1 = FuncFormatter(formatnum)\n",
    "    if formatter_x:\n",
    "        ax.xaxis.set_major_formatter(formatter1)\n",
    "    if formatter_y:\n",
    "        ax.yaxis.set_major_formatter(formatter1)\n",
    "    ax.spines['bottom'].set_linewidth(2)\n",
    "    ax.spines['left'].set_linewidth(2)\n",
    "    ax.spines['right'].set_linewidth(2)\n",
    "    ax.spines['top'].set_linewidth(2)\n",
    "\n",
    "    # 设置坐标刻度值的大小以及刻度值的字体\n",
    "    plt.tick_params(labelsize=12)\n",
    "    labels = ax.get_xticklabels() + ax.get_yticklabels()\n",
    "    [label.set_fontname('DejaVu Sans') for label in labels]\n",
    "\n",
    "    font_legend = {'family':'DejaVu Sans','weight':'normal','size':14}\n",
    "    font_label = {'family': 'DejaVu Sans', 'weight': 'bold', 'size': 15}\n",
    "    font_title = {'family': 'DejaVu Sans', 'weight': 'bold', 'size': 18}\n",
    "    \n",
    "    if Xlim:\n",
    "        plt.xlim(x_lim[0], x_lim[1])\n",
    "    if Ylim:\n",
    "        plt.ylim(y_lim[0], y_lim[1])\n",
    "    if legend:\n",
    "        plt.legend(loc=legend_loc, prop = font_legend)\n",
    "    ax.set_xlabel(xlabel, font_label)\n",
    "    ax.set_ylabel(ylabel, font_label)\n",
    "    ax.set_title(title, font_title)\n",
    "    plt.tight_layout()"
   ]
  },
  {
   "cell_type": "markdown",
   "metadata": {},
   "source": [
    "### Features extract"
   ]
  },
  {
   "cell_type": "code",
   "execution_count": 6,
   "metadata": {},
   "outputs": [
    {
     "data": {
      "text/plain": [
       "((256, 11), (227, 11), (25387, 11))"
      ]
     },
     "execution_count": 6,
     "metadata": {},
     "output_type": "execute_result"
    }
   ],
   "source": [
    "chan_2.shape, chan_3.shape, chan_4.shape"
   ]
  },
  {
   "cell_type": "code",
   "execution_count": 7,
   "metadata": {
    "ExecuteTime": {
     "end_time": "2020-11-17T03:34:04.980802Z",
     "start_time": "2020-11-17T03:34:04.970800Z"
    },
    "scrolled": true
   },
   "outputs": [],
   "source": [
    "# SetID, Time, Chan, Thr, Amp, RiseT, Dur, Eny, RMS, Counts, TRAI\n",
    "Time = chan_2[:, 1]\n",
    "Amp = chan_2[:, 4]\n",
    "RiseT = chan_2[:, 5]\n",
    "Dur = chan_2[:, 6]\n",
    "Eny = chan_2[:, 7]\n",
    "RMS = chan_2[:, 8]\n",
    "Counts = chan_2[:, 9]"
   ]
  },
  {
   "cell_type": "markdown",
   "metadata": {},
   "source": [
    "### Energy-Time Curve"
   ]
  },
  {
   "cell_type": "code",
   "execution_count": null,
   "metadata": {
    "scrolled": true
   },
   "outputs": [],
   "source": [
    "df_1 = pd.DataFrame({'time':Time[cls_1_KKM], 'energy':Eny[cls_1_KKM]})\n",
    "df_2 = pd.DataFrame({'time':Time[cls_2_KKM], 'energy':Eny[cls_2_KKM]})\n",
    "df_1.to_csv('E-T_1.csv')\n",
    "df_2.to_csv('E-T_2.csv')"
   ]
  },
  {
   "cell_type": "code",
   "execution_count": null,
   "metadata": {
    "scrolled": true
   },
   "outputs": [],
   "source": [
    "fig = plt.figure(figsize=[6, 4.5])\n",
    "ax = plt.subplot()\n",
    "ax.scatter(Time, np.log10(Eny))\n",
    "ax.set_xticks(np.linspace(0, 40000, 9))\n",
    "ax.set_yticks([-1, 0, 1, 2, 3])\n",
    "plot_norm(ax, 'Time(s)', 'Energy(aJ)', legend=False)"
   ]
  },
  {
   "cell_type": "markdown",
   "metadata": {},
   "source": [
    "###  Validate features"
   ]
  },
  {
   "cell_type": "code",
   "execution_count": 8,
   "metadata": {
    "ExecuteTime": {
     "end_time": "2020-11-16T11:39:54.801933Z",
     "start_time": "2020-11-16T11:39:54.737929Z"
    },
    "scrolled": false
   },
   "outputs": [],
   "source": [
    "# Time, Amp, RiseTime, Dur, Eny, Counts, TRAI\n",
    "def validation(k):\n",
    "    i = data_tra[k]\n",
    "    sig = np.multiply(array.array('h', bytes(i[-2])), i[-3] * 1000)\n",
    "    time = np.linspace(i[0], i[0] + pow(i[-5], -1) * (i[-4] - 1), i[-4])\n",
    "\n",
    "    thr = i[2]\n",
    "    valid_wave_idx = np.where(abs(sig) >= thr)[0]\n",
    "    valid_time = time[valid_wave_idx[0]:(valid_wave_idx[-1] + 1)]\n",
    "    start = time[valid_wave_idx[0]]\n",
    "    end = time[valid_wave_idx[-1]]\n",
    "    duration = (end - start) * pow(10, 6)\n",
    "    max_idx = np.argmax(abs(sig))\n",
    "    amplitude = max(abs(sig))\n",
    "    rise_time = (time[max_idx] - start) * pow(10, 6)\n",
    "    valid_data = sig[valid_wave_idx[0]:(valid_wave_idx[-1] + 1)]\n",
    "    energy = np.sum(np.multiply(pow(valid_data, 2), pow(10, 6) / i[3]))\n",
    "    RMS = math.sqrt(energy / duration)\n",
    "    count, idx = 0, 1\n",
    "    N = len(valid_data)\n",
    "    for idx in range(1, N):\n",
    "        if valid_data[idx - 1] <= thr < valid_data[idx]:\n",
    "            count += 1\n",
    "    # while idx < N:\n",
    "    #     if min(valid_data[idx - 1], valid_data[idx]) <= thr < max((valid_data[idx - 1], valid_data[idx])):\n",
    "    #         count += 1\n",
    "    #         idx += 2\n",
    "    #         continue\n",
    "    #     idx += 1\n",
    "    print(i[0], amplitude, rise_time, duration, energy / pow(10, 4), count, i[-1])"
   ]
  },
  {
   "cell_type": "code",
   "execution_count": null,
   "metadata": {
    "ExecuteTime": {
     "end_time": "2020-11-17T03:40:04.800098Z",
     "start_time": "2020-11-17T03:40:04.794097Z"
    },
    "scrolled": true
   },
   "outputs": [],
   "source": [
    "# Time, Amp, RiseTime, Dur, Eny, Counts, TRAI\n",
    "i = 100\n",
    "vallen = data_pri[i]\n",
    "print('{:.8f} {} {} {} {} {} {}'.format(vallen[1], vallen[4], vallen[5], vallen[6], vallen[-4], vallen[-2], vallen[-1]))"
   ]
  },
  {
   "cell_type": "markdown",
   "metadata": {},
   "source": [
    "### Energy-Amplitude with different channel"
   ]
  },
  {
   "cell_type": "code",
   "execution_count": null,
   "metadata": {
    "ExecuteTime": {
     "end_time": "2020-11-17T03:46:06.099117Z",
     "start_time": "2020-11-17T03:46:06.096115Z"
    }
   },
   "outputs": [],
   "source": [
    "fig = plt.figure(figsize=[6, 4.5])\n",
    "ax = plt.subplot()\n",
    "\n",
    "ax.scatter(np.log10(chan_2[:, 4]), np.log10(chan_2[:, 7]), s=35, c=color_2, label='Original data')\n",
    "# ax.scatter(np.log10(Amp)[cls_select], np.log10(Eny)[cls_select], s=35, c='y', label='Random Select')\n",
    "\n",
    "# # ax.scatter(S_[cls_1_KKM, 0], S_[cls_1_KKM, 1], s=15, c=color_1)\n",
    "# # ax.scatter(S_[cls_2_KKM, 0], S_[cls_2_KKM, 1], s=15, c=color_2)\n",
    "# ax.scatter(np.log10(Amp)[cls_1_KKM], np.log10(Eny)[cls_1_KKM], s=25, c=color_1)\n",
    "# ax.scatter(np.log10(Amp)[cls_2_KKM], np.log10(Eny)[cls_2_KKM], s=25, c=color_2)\n",
    "\n",
    "ax.set_xticks([1.3, 2, 3], ('', 2, 3))\n",
    "ax.set_yticks([-1.5, -1, 0, 1, 2, 3], ('', -1, 0, 1, 2, 3))\n",
    "\n",
    "plot_norm(ax, 'Component 1', 'Component 2', 'Chan 2')"
   ]
  },
  {
   "cell_type": "code",
   "execution_count": null,
   "metadata": {
    "ExecuteTime": {
     "end_time": "2020-11-17T05:02:30.516413Z",
     "start_time": "2020-11-17T05:02:30.428406Z"
    }
   },
   "outputs": [],
   "source": [
    "fig = plt.figure(figsize=[6, 4.5])\n",
    "ax = plt.subplot()\n",
    "\n",
    "# plt.scatter(np.log10(chan_2[:, 4]), np.log10(chan_2[:, 7]), s=15, c=color_2)\n",
    "\n",
    "# plt.scatter(S_[cls_1_KKM, 0], S_[cls_1_KKM, 1], s=15, c=color_1)\n",
    "# plt.scatter(S_[cls_2_KKM, 0], S_[cls_2_KKM, 1], s=15, c=color_2)\n",
    "# # # plt.scatter(S_[:, 0], S_[:, 1], s=15, c=color_2)\n",
    "ax.scatter(np.log10(Amp)[cls_1_KKM], np.log10(Eny)[cls_1_KKM], s=25, c=color_1, label='Class 1')\n",
    "ax.scatter(np.log10(Amp)[cls_2_KKM], np.log10(Eny)[cls_2_KKM], s=25, c=color_2, label='Class 2')\n",
    "\n",
    "plot_norm(ax, 'Component 1', 'Component 2', 'Chan 2')"
   ]
  },
  {
   "cell_type": "markdown",
   "metadata": {},
   "source": [
    "### Frequency"
   ]
  },
  {
   "cell_type": "code",
   "execution_count": null,
   "metadata": {
    "ExecuteTime": {
     "end_time": "2020-11-16T12:20:40.888190Z",
     "start_time": "2020-11-16T12:20:40.760819Z"
    }
   },
   "outputs": [],
   "source": [
    "# Frquency\n",
    "def cal_frequency(k):\n",
    "    i = data_tra[k]\n",
    "    sig = np.multiply(array.array('h', bytes(i[-2])), i[-3] * 1000)\n",
    "    thr = i[2]\n",
    "    Fs = i[3]\n",
    "    Ts = 1 / Fs\n",
    "    # if valid__pri[idx][-2] > 1:\n",
    "    valid_wave_idx = np.where(abs(sig) >= thr)[0]\n",
    "    valid_data = sig[valid_wave_idx[0]:(valid_wave_idx[-1] + 1)]\n",
    "    N = valid_data.shape[0]\n",
    "    fft_y = fft(valid_data)\n",
    "    abs_y = np.abs(fft_y)\n",
    "    normalization = abs_y / N\n",
    "    normalization_half = normalization[range(int(N / 2))]\n",
    "    frq = (np.arange(N) / N) * Fs\n",
    "    half_frq = frq[range(int(N / 2))]\n",
    "    # freq_max.append(half_frq[np.argmax(normalization_half)])\n",
    "    print(i[-1], half_frq[np.argmax(normalization_half)])\n",
    "    return i[-1], half_frq[np.argmax(normalization_half)]"
   ]
  },
  {
   "cell_type": "markdown",
   "metadata": {},
   "source": [
    "### Decomposition-FastICA"
   ]
  },
  {
   "cell_type": "code",
   "execution_count": 9,
   "metadata": {
    "ExecuteTime": {
     "end_time": "2020-11-17T04:58:55.859822Z",
     "start_time": "2020-11-17T04:58:52.870574Z"
    }
   },
   "outputs": [],
   "source": [
    "from sklearn.decomposition import PCA, FastICA\n",
    "from sklearn.cluster import KMeans"
   ]
  },
  {
   "cell_type": "code",
   "execution_count": 10,
   "metadata": {
    "ExecuteTime": {
     "end_time": "2020-11-17T04:58:27.461654Z",
     "start_time": "2020-11-17T04:58:27.447767Z"
    }
   },
   "outputs": [],
   "source": [
    "x = np.zeros([Amp.shape[0], 2])\n",
    "x[:, 0], x[:, 1] = np.log10(Amp), np.log10(Eny)\n",
    "x_mean = np.mean(x, axis=0)\n",
    "x_std = np.std(x, axis=0)\n",
    "x_nor = (x - x_mean) / x_std"
   ]
  },
  {
   "cell_type": "code",
   "execution_count": 11,
   "metadata": {
    "ExecuteTime": {
     "end_time": "2020-11-17T05:01:45.043579Z",
     "start_time": "2020-11-17T05:01:44.995066Z"
    }
   },
   "outputs": [],
   "source": [
    "ica = FastICA(n_components=2)\n",
    "S_ = ica.fit_transform(x_nor) # 重构信号\n",
    "A_ = ica.mixing_ # 获得估计混合后的矩阵"
   ]
  },
  {
   "cell_type": "markdown",
   "metadata": {},
   "source": [
    "### Cluster-Kmeans"
   ]
  },
  {
   "cell_type": "code",
   "execution_count": null,
   "metadata": {},
   "outputs": [],
   "source": [
    "kmeans = KMeans(n_clusters=2, random_state=69)\n",
    "kmeans.fit(S_)\n",
    "y_pre = kmeans.labels_\n",
    "cls_2_KM = y_pre == 0\n",
    "cls_1_KM = y_pre == 1"
   ]
  },
  {
   "cell_type": "markdown",
   "metadata": {},
   "source": [
    "### Cluster-Kernel Kmeans"
   ]
  },
  {
   "cell_type": "code",
   "execution_count": 12,
   "metadata": {
    "ExecuteTime": {
     "end_time": "2020-11-17T04:59:23.412180Z",
     "start_time": "2020-11-17T04:59:23.408180Z"
    }
   },
   "outputs": [],
   "source": [
    "from sklearn.base import BaseEstimator, ClusterMixin\n",
    "from sklearn.metrics.pairwise import pairwise_kernels\n",
    "from sklearn.utils import check_random_state"
   ]
  },
  {
   "cell_type": "code",
   "execution_count": 13,
   "metadata": {
    "ExecuteTime": {
     "end_time": "2020-11-17T04:59:29.419280Z",
     "start_time": "2020-11-17T04:59:29.396278Z"
    }
   },
   "outputs": [],
   "source": [
    "class KernelKMeans(BaseEstimator, ClusterMixin):\n",
    "    \"\"\"\n",
    "    Kernel K-means\n",
    "    \n",
    "    Reference\n",
    "    ---------\n",
    "    Kernel k-means, Spectral Clustering and Normalized Cuts.\n",
    "    Inderjit S. Dhillon, Yuqiang Guan, Brian Kulis.\n",
    "    KDD 2004.\n",
    "    \"\"\"\n",
    "\n",
    "    def __init__(self, n_clusters=3, max_iter=50, tol=1e-3, random_state=None,\n",
    "                 kernel=\"rbf\", gamma=None, degree=3, coef0=1,\n",
    "                 kernel_params=None, verbose=0):\n",
    "        self.n_clusters = n_clusters\n",
    "        self.max_iter = max_iter\n",
    "        self.tol = tol\n",
    "        self.random_state = random_state\n",
    "        self.kernel = kernel\n",
    "        self.gamma = gamma\n",
    "        self.degree = degree\n",
    "        self.coef0 = coef0\n",
    "        self.kernel_params = kernel_params\n",
    "        self.verbose = verbose\n",
    "        \n",
    "    @property\n",
    "    def _pairwise(self):\n",
    "        return self.kernel == \"precomputed\"\n",
    "\n",
    "    def _get_kernel(self, X, Y=None):\n",
    "        if callable(self.kernel):\n",
    "            params = self.kernel_params or {}\n",
    "        else:\n",
    "            params = {\"gamma\": self.gamma,\n",
    "                      \"degree\": self.degree,\n",
    "                      \"coef0\": self.coef0}\n",
    "        return pairwise_kernels(X, Y, metric=self.kernel,\n",
    "                                filter_params=True, **params)\n",
    "\n",
    "    def fit(self, X, y=None, sample_weight=None):\n",
    "        n_samples = X.shape[0]\n",
    "\n",
    "        K = self._get_kernel(X)\n",
    "\n",
    "        sw = sample_weight if sample_weight else np.ones(n_samples)\n",
    "        self.sample_weight_ = sw\n",
    "\n",
    "        rs = check_random_state(self.random_state)\n",
    "        self.labels_ = rs.randint(self.n_clusters, size=n_samples)\n",
    "\n",
    "        dist = np.zeros((n_samples, self.n_clusters))\n",
    "        self.within_distances_ = np.zeros(self.n_clusters)\n",
    "\n",
    "        for it in range(self.max_iter):\n",
    "            dist.fill(0)\n",
    "            self._compute_dist(K, dist, self.within_distances_,\n",
    "                               update_within=True)\n",
    "            labels_old = self.labels_\n",
    "            self.labels_ = dist.argmin(axis=1)\n",
    "\n",
    "            # Compute the number of samples whose cluster did not change \n",
    "            # since last iteration.\n",
    "            n_same = np.sum((self.labels_ - labels_old) == 0)\n",
    "            if 1 - float(n_same) / n_samples < self.tol:\n",
    "                if self.verbose:\n",
    "                    print(\"Converged at iteration\", it + 1)\n",
    "                break\n",
    "\n",
    "        self.X_fit_ = X\n",
    "\n",
    "        return self\n",
    "\n",
    "    def _compute_dist(self, K, dist, within_distances, update_within):\n",
    "        \"\"\"Compute a n_samples x n_clusters distance matrix using the \n",
    "        kernel trick.\"\"\"\n",
    "        sw = self.sample_weight_\n",
    "\n",
    "        for j in range(self.n_clusters):\n",
    "            mask = self.labels_ == j\n",
    "\n",
    "            if np.sum(mask) == 0:\n",
    "                raise ValueError(\"Empty cluster found, try smaller n_cluster.\")\n",
    "\n",
    "            denom = sw[mask].sum()\n",
    "            denomsq = denom * denom\n",
    "\n",
    "            if update_within:\n",
    "                KK = K[mask][:, mask]  # K[mask, mask] does not work.\n",
    "                dist_j = np.sum(np.outer(sw[mask], sw[mask]) * KK / denomsq)\n",
    "                within_distances[j] = dist_j\n",
    "                dist[:, j] += dist_j\n",
    "            else:\n",
    "                dist[:, j] += within_distances[j]\n",
    "\n",
    "            dist[:, j] -= 2 * np.sum(sw[mask] * K[:, mask], axis=1) / denom\n",
    "\n",
    "    def predict(self, X):\n",
    "        K = self._get_kernel(X, self.X_fit_)\n",
    "        n_samples = X.shape[0]\n",
    "        dist = np.zeros((n_samples, self.n_clusters))\n",
    "        self._compute_dist(K, dist, self.within_distances_,\n",
    "                           update_within=False)\n",
    "        return dist.argmin(axis=1)"
   ]
  },
  {
   "cell_type": "code",
   "execution_count": 14,
   "metadata": {
    "ExecuteTime": {
     "end_time": "2020-11-17T05:06:50.782422Z",
     "start_time": "2020-11-17T05:04:11.280461Z"
    }
   },
   "outputs": [
    {
     "name": "stdout",
     "output_type": "stream",
     "text": [
      "Converged at iteration 17\n"
     ]
    }
   ],
   "source": [
    "km = KernelKMeans(n_clusters=2, max_iter=100, random_state=55, verbose=1, kernel=\"rbf\")\n",
    "# print(km.fit_predict(x)[:10])\n",
    "# print(km.predict(x[:10]))\n",
    "# pred_1 = km.fit_predict(S_[:30000])\n",
    "# pred_2 = km.fit_predict(S_[30000:])\n",
    "pred = km.fit_predict(S_)\n",
    "cls_1_KKM = pred == 1\n",
    "cls_2_KKM = pred == 0"
   ]
  },
  {
   "cell_type": "markdown",
   "metadata": {},
   "source": [
    "### PDF & CCDF & ML Curve"
   ]
  },
  {
   "cell_type": "code",
   "execution_count": 18,
   "metadata": {
    "ExecuteTime": {
     "end_time": "2020-11-16T11:57:28.654395Z",
     "start_time": "2020-11-16T11:57:28.618030Z"
    }
   },
   "outputs": [],
   "source": [
    "def cal_linear(energy, inter, mid, interval_num, idx = 0):\n",
    "    # 初始化横坐标\n",
    "    x = np.array([])\n",
    "    for i in inter:\n",
    "        if i != 0:\n",
    "            x = np.append(x, np.linspace(i, i * 10, interval_num, endpoint=False))\n",
    "        else:\n",
    "            x = np.append(x, np.linspace(i, 1, interval_num, endpoint=False))\n",
    "    \n",
    "    # 初始化纵坐标\n",
    "    y = np.zeros(x.shape[0])\n",
    "    for i in energy:\n",
    "        while True:\n",
    "            try:\n",
    "                if x[idx] <= i < x[idx + 1]:\n",
    "                    y[idx] += 1\n",
    "                    break\n",
    "            except IndexError:\n",
    "                if x[idx] <= i:\n",
    "                    y[idx] += 1\n",
    "                    break\n",
    "            idx += 1\n",
    "    \n",
    "    # 对横坐标作进一步筛选，计算概率分布值\n",
    "    x, y = x[y != 0], y[y != 0]\n",
    "    xx = np.zeros(x.shape[0])\n",
    "    yy = y / sum(y)\n",
    "    \n",
    "    # 取区间终点作为该段的横坐标\n",
    "    for idx in range(len(x) - 1):\n",
    "        xx[idx] = (x[idx] + x[idx + 1]) / 2\n",
    "    xx[-1] = x[-1]\n",
    "    \n",
    "    # 计算分段区间长度，从而求得概率密度值\n",
    "    interval = []\n",
    "    for i, j in enumerate(mid):\n",
    "        try:\n",
    "            num = len(np.intersect1d(np.where(inter[i] <= xx)[0], \n",
    "                                     np.where(xx < inter[i + 1])[0]))\n",
    "            interval.extend([j] * num)\n",
    "        except IndexError:\n",
    "            num = len(np.where(inter[i] <= xx)[0])\n",
    "            interval.extend([j] * num)\n",
    "    yy = yy / np.array(interval)\n",
    "#     # 取对数变换为线性关系\n",
    "#     log_xx = np.log10(xx)\n",
    "#     log_yy = np.log10(yy)\n",
    "#     fit = np.polyfit(log_xx, log_yy, 1)\n",
    "#     alpha = abs(fit[0])\n",
    "#     fit_x = np.linspace(min(log_xx), max(log_xx), 100)\n",
    "#     fit_y = np.polyval(fit, fit_x)\n",
    "    return xx, yy\n",
    "\n",
    "\n",
    "def cal_PDF(tmp, features_path, inter, mid, interval_num, cls_1, cls_2, xlabel, ylabel):\n",
    "    tmp_1, tmp_2 = sorted(tmp[cls_1]), sorted(tmp[cls_2])\n",
    "    xx_1, yy_1 = cal_linear(sorted(tmp_1), inter, mid, interval_num)\n",
    "    xx_2, yy_2 = cal_linear(sorted(tmp_2), inter, mid, interval_num)\n",
    "    \n",
    "    for idx, [xx, yy] in enumerate(zip([xx_1, xx_2], [yy_1, yy_2])):\n",
    "        with open(features_path[:-4] + '_%d '%(idx+1) + ylabel + '.txt', 'w') as f:\n",
    "            f.write('{}, {}\\n'.format(xlabel, ylabel))\n",
    "            for j in range(len(xx)):\n",
    "                f.write('{}, {}\\n'.format(xx[j], yy[j]))\n",
    "    \n",
    "    ax = plt.subplot()\n",
    "    ax.scatter(np.log10(xx_1), np.log10(yy_1), s=25, c=color_1, label='Class 1')\n",
    "    ax.scatter(np.log10(xx_2), np.log10(yy_2), s=25, c=color_2, label='Class 2')\n",
    "    plot_norm(ax, xlabel, ylabel, legend_loc='upper right')\n",
    "    \n",
    "\n",
    "def cal_CCDF(TMP, features_path, cls_1, cls_2, xlabel, ylabel):\n",
    "    tmp_1, tmp_2 = sorted(TMP[cls_1]), sorted(TMP[cls_2])\n",
    "    N1, N2 = len(tmp_1), len(tmp_2)\n",
    "    xx_1, xx_2 = [], []\n",
    "    yy_1, yy_2 = [], []\n",
    "    \n",
    "    for idx, [tmp, N, xx, yy] in enumerate(zip([tmp_1, tmp_2], [N1, N2], [xx_1, xx_2], [yy_1, yy_2])):\n",
    "        for i in range(N - 1):\n",
    "            xx.append(np.mean([tmp[i], tmp[i+1]]))\n",
    "            yy.append((N - i + 1) / N)\n",
    "    \n",
    "    for idx, [xx, yy] in enumerate(zip([xx_1, xx_2], [yy_1, yy_2])):\n",
    "        with open(features_path[:-4] + '_%d '%(idx+1) + 'CCDF(%s).txt'%xlabel[0], 'w') as f:\n",
    "            f.write('{}, CCD C(s)\\n'.format(xlabel))\n",
    "            for j in range(len(xx)):\n",
    "                f.write('{}, {}\\n'.format(xx[j], yy[j]))\n",
    "    \n",
    "    ax = plt.subplot()\n",
    "    ax.plot(np.log10(xx_1), np.log10(yy_1), markersize=25, color=color_1, label='Class 1')\n",
    "    ax.plot(np.log10(xx_2), np.log10(yy_2), markersize=25, color=color_2, label='Class 2')\n",
    "    plot_norm(ax, xlabel, ylabel, legend_loc='upper right')\n",
    "\n",
    "    \n",
    "def cal_ML(tmp, features_path, cls_1, cls_2, xlabel, ylabel):\n",
    "    tmp_1, tmp_2 = sorted(tmp[cls_1]), sorted(tmp[cls_2])\n",
    "    N1, N2 = len(tmp_1), len(tmp_2)\n",
    "    ML_y1, ML_y2 = [], []\n",
    "    Error_bar1, Error_bar2 = [] ,[]\n",
    "    \n",
    "    for idx, [tmp, N, ML_y, Error_bar] in enumerate(zip([tmp_1, tmp_2], [N1, N2], [ML_y1, ML_y2], [Error_bar1, Error_bar2])):\n",
    "        for j in tqdm(range(N)):\n",
    "            valid_x = sorted(tmp)[j:]\n",
    "            E0 = valid_x[0]\n",
    "            Sum = np.sum(np.log(valid_x/E0))\n",
    "            N_prime = N - j\n",
    "            alpha = 1 + N_prime / Sum\n",
    "            error_bar = (alpha - 1) / pow(N_prime, 0.5)\n",
    "            ML_y.append(alpha)\n",
    "            Error_bar.append(error_bar)\n",
    "\n",
    "    for idx, [tmp, ML_y, Error_bar] in enumerate(zip([tmp_1, tmp_2], [ML_y1, ML_y2], [Error_bar1, Error_bar2])):\n",
    "        with open(features_path[:-4] + '_%d '%(idx+1) + 'ML(%s).txt'%xlabel[0], 'w') as f:\n",
    "            f.write('{}, ε, Error bar\\n'.format(xlabel))\n",
    "            for j in range(len(ML_y)):\n",
    "                f.write('{}, {}, {}\\n'.format(sorted(tmp)[j], ML_y[j], Error_bar[j]))\n",
    "    \n",
    "    ax = plt.subplot()\n",
    "    ax.errorbar(np.log10(sorted(tmp_2)), ML_y2, yerr=Error_bar2, \n",
    "                 fmt='o', ecolor=color_2, color=color_2, \n",
    "                 elinewidth=1, capsize=2, ms=5, label='Class 2')\n",
    "    ax.errorbar(np.log10(sorted(tmp_1)), ML_y1, yerr=Error_bar1, \n",
    "                 fmt='o', ecolor=color_1, color=color_1, \n",
    "                 elinewidth=1, capsize=2, ms=5, label='Class 1')\n",
    "    plot_norm(ax, xlabel, ylabel)\n",
    "\n",
    "\n",
    "def cal_contour(tmp_1, tmp_2, xlabel, ylabel, title, padding=False, clabel=False):\n",
    "    tmp_1, tmp_2 = 20*np.log10(tmp_1), 20*np.log10(tmp_2)\n",
    "    x = np.linspace(-30,100,75)\n",
    "    y = np.linspace(-30,80,65)\n",
    "    X,Y = np.meshgrid(x,y)\n",
    "    height = np.zeros([X.shape[0], Y.shape[1]])\n",
    "    linestyles = ['solid'] * 6 + ['--'] * 4\n",
    "    levels = [0.5, 1.5, 3, 6, 12, 24, 48, 96, 192, 384]\n",
    "    colors = ['navy', 'blueviolet', 'cornflowerblue', 'lightsteelblue', \n",
    "              'aliceblue', 'lightyellow', 'gold', 'yellow', 'red', 'darkred']\n",
    "    \n",
    "    for i in range(X.shape[1]-1):\n",
    "        valid_x = np.where((tmp_1 < X[0, i+1]) & (tmp_1 >= X[0, i]))[0]\n",
    "        for j in range(Y.shape[0]-1):\n",
    "            valid_y = np.where((tmp_2 < Y[j+1, 0]) & (tmp_2 >= Y[j, 0]))[0]\n",
    "            \n",
    "            height[j, i] = np.intersect1d(valid_x, valid_y).shape[0]\n",
    "    \n",
    "    ax = plt.subplot()\n",
    "    if padding:\n",
    "        ctf = ax.contourf(X,Y,height,levels, colors=colors, extend='max')\n",
    "        cbar = plt.colorbar(ctf)\n",
    "    else:\n",
    "        ct = plt.contour(X, Y, height, levels, colors=colors, linewidths=1, linestyles=linestyles)\n",
    "        cbar = plt.colorbar(ct)\n",
    "    if clabel:\n",
    "        ax.clabel(ct, inline=True, colors='k', fmt='%.1f')\n",
    "    plot_norm(ax, xlabel, ylabel, title, legend=False)"
   ]
  },
  {
   "cell_type": "code",
   "execution_count": 24,
   "metadata": {
    "ExecuteTime": {
     "end_time": "2020-11-16T12:18:42.194807Z",
     "start_time": "2020-11-16T12:18:41.253957Z"
    },
    "scrolled": false
   },
   "outputs": [
    {
     "data": {
      "image/png": "[encoded data removed]",
      "text/plain": [
       "<Figure size 432x324 with 1 Axes>"
      ]
     },
     "metadata": {},
     "output_type": "display_data"
    }
   ],
   "source": [
    "if __name__ == \"__main__\":\n",
    "    # SetID, Time, Chan, Thr, Amp, RiseT, Dur, Eny, RMS, Counts, TRAI\n",
    "    feature_idx = [4, 6, 7]\n",
    "#     N = valid_chan_2.shape[0]\n",
    "    interval_num = 6\n",
    "    interval = 1 / interval_num\n",
    "    interz = []\n",
    "    midz = []\n",
    "\n",
    "    for idx in feature_idx:\n",
    "        tmp = chan_2[:, idx]\n",
    "        tmp_max = int(max(tmp))\n",
    "        tmp_min = int(min(tmp))\n",
    "        if tmp_min <= 0:\n",
    "            interz.append([0] + [pow(10, i) for i in range(len(str(tmp_max)))])\n",
    "            midz.append([interval * pow(10, i)\n",
    "                         for i in range(len(str(tmp_max)) + 1)])\n",
    "        else:\n",
    "            interz.append([pow(10, i) for i in range(len(str(tmp_min)) - 1, \n",
    "                                                     len(str(tmp_max)))])\n",
    "            midz.append([interval * pow(10, i) \n",
    "                         for i in range(len(str(tmp_min)), \n",
    "                                        len(str(tmp_max)) + 1)])\n",
    "\n",
    "    xlabelz = ['Amplitude(μV)', 'Duration(μs)', 'Energy(aJ)']\n",
    "    ylabelz = ['PDF(A)', 'PDF(D)', 'PDF(E)']\n",
    "    \n",
    "    fig = plt.figure(figsize=[6, 4.5])\n",
    "#     for i, [idx, inter, mid, xlabel, ylabel\n",
    "#             ] in enumerate(zip(feature_idx, interz, midz, xlabelz, ylabelz)):\n",
    "#         tmp = valid_chan_2[:, idx]\n",
    "#         cal_PDF(tmp, inter, mid, interval_num)\n",
    "# #         cal_ML(tmp, N)\n",
    "#     plt.tight_layout()\n",
    "\n",
    "    features_path = '/home/Yuanbincheng/data/electrolysis/Ni-tension test-electrolysis-1-0.01-AE-20201031.txt'\n",
    "#     cal_ML(chan_2[:, 7], features_path, cls_1_KKM, cls_2_KKM, 'Energy(aJ)', r'$\\epsilon$')\n",
    "#     cal_PDF(chan_2[:, 7], features_path, interz[2], midz[2], interval_num, cls_1_KKM, cls_2_KKM, 'Energy(aJ)', 'PDF(E)')\n",
    "    cal_CCDF(chan_2[:, 7], features_path, cls_1_KKM, cls_2_KKM, 'Energy(aJ)', 'CCD C(s)')\n",
    "#     cal_contour(chan_2[:, 6], chan_2[:, 7], 'Energy(aJ)', 'Duration(μs)', 'Contour')"
   ]
  },
  {
   "cell_type": "markdown",
   "metadata": {},
   "source": [
    "### Waveform-Find with TRAI"
   ]
  },
  {
   "cell_type": "code",
   "execution_count": null,
   "metadata": {
    "ExecuteTime": {
     "end_time": "2020-11-18T11:33:50.788276Z",
     "start_time": "2020-11-18T11:33:50.770770Z"
    }
   },
   "outputs": [],
   "source": [
    "TRAI_1 = [2939, 33400, 3391, 1720, 1882, 12861, 21555, 85898, 65567, 42415]\n",
    "TRAI_2 = [39553, 22378, 88770, 1808, 102212, 225509, 26146, 55467, 81744, 134964]"
   ]
  },
  {
   "cell_type": "code",
   "execution_count": null,
   "metadata": {},
   "outputs": [],
   "source": [
    "data_tra[2938][-1], N_pri, N_tra, data_pri.shape"
   ]
  },
  {
   "cell_type": "code",
   "execution_count": null,
   "metadata": {
    "ExecuteTime": {
     "end_time": "2020-11-17T03:40:04.800098Z",
     "start_time": "2020-11-17T03:40:04.794097Z"
    },
    "scrolled": true
   },
   "outputs": [],
   "source": [
    "# Time, Amp, RiseTime, Dur, Eny, Counts, TRAI\n",
    "for i in TRAI_2:\n",
    "    vallen = data_pri[i-1]\n",
    "    print('{:.8f} {} {} {} {} {:.0f} {:.0f}'.format(vallen[1], vallen[4], vallen[5], vallen[6], vallen[-4], vallen[-2], vallen[-1]))"
   ]
  },
  {
   "cell_type": "code",
   "execution_count": null,
   "metadata": {},
   "outputs": [],
   "source": [
    "for i in TRAI_2:\n",
    "    validation(i-1)"
   ]
  },
  {
   "cell_type": "code",
   "execution_count": null,
   "metadata": {},
   "outputs": [],
   "source": [
    "def cal_wave(i):\n",
    "    sig = np.multiply(array.array('h', bytes(i[-2])), i[-3] * 1000)\n",
    "    time = np.linspace(i[0], i[0] + pow(i[-5], -1) * (i[-4] - 1), i[-4])\n",
    "\n",
    "    thr = i[2]\n",
    "    valid_wave_idx = np.where(abs(sig) >= thr)[0]\n",
    "    start = time[valid_wave_idx[0]]\n",
    "    end = time[valid_wave_idx[-1]]\n",
    "    duration = (end - start) * pow(10, 6)\n",
    "\n",
    "    N = valid_wave_idx[-1] + 1 - valid_wave_idx[0]\n",
    "    valid_data = sig[valid_wave_idx[0]:(valid_wave_idx[-1] + 1)]\n",
    "    valid_time = np.linspace(0, duration, valid_data.shape[0])\n",
    "    return valid_time, valid_data"
   ]
  },
  {
   "cell_type": "code",
   "execution_count": null,
   "metadata": {},
   "outputs": [],
   "source": [
    "wave = []\n",
    "fig = plt.figure(figsize=(15, 10))\n",
    "\n",
    "for idx, j in enumerate(TRAI_1):\n",
    "    i = data_tra[j-1]\n",
    "    valid_time, valid_data = cal_wave(i)\n",
    "    wave.append(valid_data)\n",
    "    \n",
    "    ax = fig.add_subplot(5,2,1 + idx)\n",
    "    ax.plot(valid_time, valid_data)\n",
    "    \n",
    "    plot_norm(ax, 'Time', 'Signal', title='TRAI:%d'%j, legend=False)"
   ]
  },
  {
   "cell_type": "code",
   "execution_count": null,
   "metadata": {
    "ExecuteTime": {
     "end_time": "2020-11-18T12:29:39.000791Z",
     "start_time": "2020-11-18T12:29:38.935004Z"
    }
   },
   "outputs": [],
   "source": [
    "# Validate TRAI correct or not\n",
    "with open('val.txt', 'w') as f:\n",
    "    for i in tqdm(TRAI_1):\n",
    "        f.write('%d\\n'%data_tra[i-1][-1])"
   ]
  },
  {
   "cell_type": "code",
   "execution_count": null,
   "metadata": {
    "ExecuteTime": {
     "end_time": "2020-11-18T12:31:43.789281Z",
     "start_time": "2020-11-18T12:31:42.697886Z"
    }
   },
   "outputs": [],
   "source": [
    "# Save waveform\n",
    "for idx, j in enumerate(tqdm(TRAI_2)):\n",
    "    i = data_tra[j-1]\n",
    "    valid_time, valid_data = cal_wave(i)\n",
    "    with open(path_pri + '_pop2-%d'%(idx+1) + '.txt', 'w') as f:\n",
    "        f.write('Time, Signal\\n')\n",
    "        for k in range(N):\n",
    "            f.write(\"{}, {}\\n\".format(valid_time[k], valid_data[k]))"
   ]
  },
  {
   "cell_type": "markdown",
   "metadata": {},
   "source": [
    "### Search"
   ]
  },
  {
   "cell_type": "code",
   "execution_count": null,
   "metadata": {
    "ExecuteTime": {
     "end_time": "2020-11-17T03:19:16.794790Z",
     "start_time": "2020-11-17T03:19:16.767768Z"
    }
   },
   "outputs": [],
   "source": [
    "path = r'D:\\Dataset\\vallen\\Ni-tension test-electrolysis-1-0.01-AE-20201031'\n",
    "\n",
    "os.chdir(path)\n",
    "features_path = r'Ni-tension test-electrolysis-1-0.01-AE-20201031.txt'\n",
    "# Ni-tension test-pure-1-0.01-AE-20201030\n",
    "# Ni-tension test-electrolysis-1-0.01-AE-20201031\n",
    "\n",
    "# SetID, TRAI, Time, Chan, Thr, Amp, RiseT, Dur, Eny, RMS, Counts, Frequency(Hz)\n",
    "with open(features_path, 'r') as f:\n",
    "    feature = np.array([i.split(',')[2:] for i in f.readlines()[1:]])\n",
    "feature = feature.astype(np.float32)"
   ]
  },
  {
   "cell_type": "markdown",
   "metadata": {},
   "source": [
    "### Plot"
   ]
  },
  {
   "cell_type": "code",
   "execution_count": null,
   "metadata": {
    "ExecuteTime": {
     "end_time": "2020-11-08T10:21:14.989695Z",
     "start_time": "2020-11-08T10:21:14.816731Z"
    }
   },
   "outputs": [],
   "source": [
    "titles = ['Original Waveform',\n",
    "          'Bilateral amplitude spectrum (normalized)', \n",
    "          'Unilateral amplitude spectrum (normalized)']\n",
    "colors = ['purple', 'green', 'blue']\n",
    "x_label = ['Time (s)', 'Freq (Hz)', 'Freq (Hz)']\n",
    "y_label = ['Amplitude (μV)', '|Y(freq)|', '|Y(freq)|']\n",
    "xs = [time_label, frq, half_frq]\n",
    "ys = [valid_data, normalization, normalization_half]\n",
    "\n",
    "for i, [x, y, title, color, xlabel, ylabel] in enumerate(zip(xs, ys, titles, colors, x_label, y_label)):\n",
    "    plt.subplot(311 + i)\n",
    "    plt.plot(x, y, color)\n",
    "    plt.xlabel(xlabel)\n",
    "    plt.ylabel(ylabel)\n",
    "    plt.title(title, color=color)\n",
    "plt.tight_layout()"
   ]
  },
  {
   "cell_type": "markdown",
   "metadata": {},
   "source": [
    "### Export data through time selection"
   ]
  },
  {
   "cell_type": "code",
   "execution_count": null,
   "metadata": {},
   "outputs": [],
   "source": [
    "t1 = []\n",
    "t2 = []\n",
    "t3 = []\n",
    "\n",
    "for _ in tqdm(range(N_pri)):\n",
    "    i = result_pri.fetchone()\n",
    "    if i[-2] is not None and i[-2] >= 6:\n",
    "        if 1200 <= i[1] < 1764:\n",
    "            t1.append(i)\n",
    "        if 1764 <= i[1] < 2968:\n",
    "            t2.append(i)\n",
    "        if 2968 <= i[1] < 5000:\n",
    "            t3.append(i)"
   ]
  },
  {
   "cell_type": "code",
   "execution_count": null,
   "metadata": {
    "ExecuteTime": {
     "end_time": "2020-11-13T05:57:33.157532Z",
     "start_time": "2020-11-13T05:57:33.139535Z"
    }
   },
   "outputs": [],
   "source": [
    "len(valid_idx), len(t1), len(t2)"
   ]
  },
  {
   "cell_type": "code",
   "execution_count": null,
   "metadata": {
    "ExecuteTime": {
     "end_time": "2020-11-13T05:57:03.558857Z",
     "start_time": "2020-11-13T05:57:03.491814Z"
    }
   },
   "outputs": [],
   "source": [
    "# save features to file\n",
    "with open(path_pri[-6] + '-2968-5000.txt', 'w') as f:\n",
    "    f.write('SetID, TRAI, Time, Chan, Thr, Amp, RiseT, Dur, Eny, RMS, Counts\\n')\n",
    "    # ID, Time(s), Chan, Thr(μV), Thr(dB), Amp(μV), Amp(dB), RiseT(s), Dur(s), Eny(aJ), RMS(μV), Counts, Frequency(Hz)\n",
    "    for i in t3:\n",
    "        f.write('{}, {}, {:.8f}, {}, {:.7f}, {:.7f}, {:.2f}, {:.2f}, {:.7f}, {:.7f}, {}\\n'.format(\n",
    "            i[0], i[-1], i[1], i[2], i[3], i[4], i[5], i[6], i[7], i[8], i[9]))"
   ]
  },
  {
   "cell_type": "markdown",
   "metadata": {},
   "source": [
    "### Append frequency"
   ]
  },
  {
   "cell_type": "code",
   "execution_count": null,
   "metadata": {
    "ExecuteTime": {
     "end_time": "2020-11-09T01:11:55.508881Z",
     "start_time": "2020-11-09T01:11:52.951386Z"
    },
    "scrolled": true
   },
   "outputs": [],
   "source": [
    "valid_idx = []\n",
    "for idx, i in enumerate(result_pri):\n",
    "    if i[-1] not in [None, 0]:\n",
    "        valid_idx.append(idx)\n",
    "valid_pri = np.array(result_pri)[valid_idx]\n",
    "\n",
    "freq_max = []\n",
    "result_tra = sorted(result_tra, key=lambda x: x[-1])\n",
    "for idx, i in enumerate(tqdm(result_tra)):\n",
    "    sig = np.multiply(array.array('h', bytes(i[-2])), i[-3] * 1000)\n",
    "    thr = i[2]\n",
    "    Fs = i[3]\n",
    "    Ts = 1 / Fs\n",
    "    if valid_pri[idx][-2] > 1:\n",
    "        valid_wave_idx = np.where(abs(sig) >= thr)[0]\n",
    "        valid_data = sig[valid_wave_idx[0]:(valid_wave_idx[-1] + 1)]\n",
    "        N = valid_data.shape[0]\n",
    "        fft_y = fft(valid_data)\n",
    "        abs_y = np.abs(fft_y)\n",
    "        normalization = abs_y / N\n",
    "        normalization_half = normalization[range(int(N / 2))]\n",
    "        frq = (np.arange(N) / N) * Fs\n",
    "        half_frq = frq[range(int(N / 2))]\n",
    "        try:\n",
    "            freq_max.append(half_frq[np.argmax(normalization_half)])\n",
    "        except:\n",
    "            freq_max.append(frq[0])"
   ]
  },
  {
   "cell_type": "code",
   "execution_count": null,
   "metadata": {
    "ExecuteTime": {
     "end_time": "2020-11-09T01:14:31.352187Z",
     "start_time": "2020-11-09T01:14:31.128217Z"
    },
    "code_folding": []
   },
   "outputs": [],
   "source": [
    "# save features to file\n",
    "with open('Ni-tension test-electrolysis-1-0.01-AE-20201031.txt', 'w') as f:\n",
    "    f.write(\n",
    "        'SetID, TRAI, Time, Chan, Thr, Amp, RiseT, Dur, Eny, RMS, Counts\\n')\n",
    "    # ID, Time(s), Chan, Thr(μV), Thr(dB), Amp(μV), Amp(dB), RiseT(s), Dur(s), Eny(aJ), RMS(μV), Counts, Frequency(Hz)\n",
    "    j = 0\n",
    "    for i in valid_pri:\n",
    "        if i[-2] > 1:\n",
    "            f.write('{}, {}, {:.8f}, {}, {:.7f}, {:.7f}, {:.2f}, {:.2f}, {:.7f}, {:.7f}, {}\\n'.format(\n",
    "                i[0], i[-1], i[1], i[2], i[3], i[4], i[5], i[6], i[7], i[8], i[9]))\n",
    "            j += 1"
   ]
  },
  {
   "cell_type": "markdown",
   "metadata": {},
   "source": [
    "### Read"
   ]
  },
  {
   "cell_type": "code",
   "execution_count": null,
   "metadata": {
    "ExecuteTime": {
     "end_time": "2020-11-18T11:29:58.886898Z",
     "start_time": "2020-11-18T11:29:58.875233Z"
    }
   },
   "outputs": [],
   "source": [
    "def sqlite_read(path):\n",
    "    \"\"\"\n",
    "    python读取sqlite数据库文件\n",
    "    \"\"\"\n",
    "    mydb = sqlite3.connect(path)                # 链接数据库\n",
    "    mydb.text_factory = lambda x: str(x, 'gbk', 'ignore')\n",
    "    cur = mydb.cursor()                         # 创建游标cur来执行SQL语句\n",
    "\n",
    "    # 获取表名\n",
    "    cur.execute(\"SELECT name FROM sqlite_master WHERE type='table'\")\n",
    "    Tables = cur.fetchall()                     # Tables 为元组列表\n",
    "#     print(Tables)\n",
    "\n",
    "#     i = 0\n",
    "#     while True:\n",
    "#         try:\n",
    "#             tbl_name = Tables[i][0]                     # 获取第一个表名\n",
    "#             print(tbl_name)\n",
    "#         except:\n",
    "#             break\n",
    "#         # 获取表的列名\n",
    "#         cur.execute(\"SELECT * FROM {}\".format(tbl_name))\n",
    "#         col_name_list = [tuple[0] for tuple in cur.description]\n",
    "#         pprint.pprint(col_name_list)\n",
    "#         i += 1\n",
    "\n",
    "    # 获取表结构的所有信息\n",
    "    cur.execute(\"SELECT * FROM {}\".format(Tables[3][0]))\n",
    "    res = cur.fetchall()\n",
    "#     pprint.pprint(cur.fetchall()[-1][1])\n",
    "    return int(res[-2][1]), int(res[-1][1])"
   ]
  },
  {
   "cell_type": "code",
   "execution_count": null,
   "metadata": {
    "ExecuteTime": {
     "end_time": "2020-11-18T11:05:44.133018Z",
     "start_time": "2020-11-18T11:05:44.121680Z"
    },
    "scrolled": true
   },
   "outputs": [],
   "source": [
    "sqlite_read(path_pri)"
   ]
  },
  {
   "cell_type": "code",
   "execution_count": null,
   "metadata": {
    "ExecuteTime": {
     "end_time": "2020-11-07T08:49:08.692644Z",
     "start_time": "2020-11-07T08:49:08.670635Z"
    },
    "scrolled": true
   },
   "outputs": [],
   "source": [
    "conn.execute(\"PRAGMA table_info(view_tr_data)\").fetchall()"
   ]
  }
 ],
 "metadata": {
  "kernelspec": {
   "display_name": "Python 3",
   "language": "python",
   "name": "python3"
  },
  "language_info": {
   "codemirror_mode": {
    "name": "ipython",
    "version": 3
   },
   "file_extension": ".py",
   "mimetype": "text/x-python",
   "name": "python",
   "nbconvert_exporter": "python",
   "pygments_lexer": "ipython3",
   "version": "3.6.5"
  },
  "varInspector": {
   "cols": {
    "lenName": 16,
    "lenType": 16,
    "lenVar": 40
   },
   "kernels_config": {
    "python": {
     "delete_cmd_postfix": "",
     "delete_cmd_prefix": "del ",
     "library": "var_list.py",
     "varRefreshCmd": "print(var_dic_list())"
    },
    "r": {
     "delete_cmd_postfix": ") ",
     "delete_cmd_prefix": "rm(",
     "library": "var_list.r",
     "varRefreshCmd": "cat(var_dic_list()) "
    }
   },
   "oldHeight": 122,
   "position": {
    "height": "574px",
    "left": "1152px",
    "right": "20px",
    "top": "128px",
    "width": "661px"
   },
   "types_to_exclude": [
    "module",
    "function",
    "builtin_function_or_method",
    "instance",
    "_Feature"
   ],
   "varInspector_section_display": "block",
   "window_display": false
  }
 },
 "nbformat": 4,
 "nbformat_minor": 4
}
