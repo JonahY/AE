{
 "cells": [
  {
   "cell_type": "code",
   "execution_count": 3,
   "metadata": {
    "ExecuteTime": {
     "end_time": "2020-11-07T09:25:09.695151Z",
     "start_time": "2020-11-07T09:25:09.676152Z"
    }
   },
   "outputs": [],
   "source": [
    "# -*- coding: UTF-8 -*-\n",
    "import os\n",
    "import pandas as pd\n",
    "import numpy as np\n",
    "import matplotlib.pyplot as plt\n",
    "import math\n",
    "import time\n",
    "from sklearn.decomposition import PCA\n",
    "from sklearn.cluster import KMeans\n",
    "from tqdm import tqdm\n",
    "from scipy.fftpack import fft\n",
    "from matplotlib.pylab import mpl\n",
    "import csv\n",
    "import sqlite3 \n",
    "import array\n",
    "import sqlite3\n",
    "import pprint\n",
    "\n",
    "\n",
    "%matplotlib qt5\n",
    "plt.rcParams['xtick.direction'] = 'in'\n",
    "plt.rcParams['ytick.direction'] = 'in'\n",
    "mpl.rcParams['axes.unicode_minus'] = False  #显示负号"
   ]
  },
  {
   "cell_type": "code",
   "execution_count": 292,
   "metadata": {
    "ExecuteTime": {
     "end_time": "2020-11-08T08:46:55.812029Z",
     "start_time": "2020-11-08T08:46:55.793004Z"
    }
   },
   "outputs": [],
   "source": [
    "os.chdir(r'E:\\data\\vallen')\n",
    "path_pri = r'E:\\data\\vallen\\Ni-tension test-electrolysis-1-0.01-AE-20201031.pridb'\n",
    "path_tra = r'E:\\data\\vallen\\Ni-tension test-electrolysis-1-0.01-AE-20201031.tradb'\n",
    "# Ni-tension test-electrolysis-1-0.01-AE-20201031\n",
    "# Ni-tension test-pure-1-0.01-AE-20201030"
   ]
  },
  {
   "cell_type": "code",
   "execution_count": 515,
   "metadata": {
    "ExecuteTime": {
     "end_time": "2020-11-09T01:11:18.453390Z",
     "start_time": "2020-11-09T01:11:17.383257Z"
    }
   },
   "outputs": [],
   "source": [
    "conn_tra = sqlite3.connect(path_tra)\n",
    "conn_pri = sqlite3.connect(path_pri)\n",
    "result_tra = conn_tra.execute(\"Select Time, Chan, Thr, SampleRate, Samples, TR_mV, Data, TRAI FROM view_tr_data\").fetchall()\n",
    "result_pri = conn_pri.execute(\"Select SetID, Time, Chan, Thr, Amp, RiseT, Dur, Eny, RMS, Counts, TRAI FROM view_ae_data\").fetchall()"
   ]
  },
  {
   "cell_type": "code",
   "execution_count": 521,
   "metadata": {
    "ExecuteTime": {
     "end_time": "2020-11-09T01:14:31.352187Z",
     "start_time": "2020-11-09T01:14:31.128217Z"
    }
   },
   "outputs": [],
   "source": [
    "valid_idx = []\n",
    "for idx, i in enumerate(result_pri):\n",
    "    if i[-1] not in [None, 0]:\n",
    "        valid_idx.append(idx)\n",
    "valid_pri = np.array(result_pri)[valid_idx]\n",
    "\n",
    "# save features to file\n",
    "with open('Ni-tension test-electrolysis-1-0.01-AE-20201031.txt', 'w') as f:\n",
    "    f.write('SetID, TRAI, Time, Chan, Thr, Amp, RiseT, Dur, Eny, RMS, Counts, Frequency(Hz)\\n')\n",
    "    # ID, Time(s), Chan, Thr(μV), Thr(dB), Amp(μV), Amp(dB), RiseT(s), Dur(s), Eny(aJ), RMS(μV), Counts, Frequency(Hz)\n",
    "    j = 0\n",
    "    for i in valid_pri:\n",
    "        if i[-2] > 1:\n",
    "#             tmp = '{}, {:.7f}, {}, {:.7f}, {:.7f}, {:.2f}, {:.2f}, {:.7f}, {:.7f}, {}, {:.7f}\\n'.format(\n",
    "#                 i[0], i[1], i[2], i[3], i[4], i[5], i[6], i[7], i[8], i[9], freq_max[j])\n",
    "            f.write('{}, {}, {:.8f}, {}, {:.7f}, {:.7f}, {:.2f}, {:.2f}, {:.7f}, {:.7f}, {}, {:.7f}\\n'.format(\n",
    "                i[0], i[-1], i[1], i[2], i[3], i[4], i[5], i[6], i[7], i[8], i[9], freq_max[j]))\n",
    "#             f.write(', '.join([str(j) for j in i]) + ', ' + str(freq_max[j]) + '\\n')\n",
    "            j += 1"
   ]
  },
  {
   "cell_type": "code",
   "execution_count": 518,
   "metadata": {
    "ExecuteTime": {
     "end_time": "2020-11-09T01:11:55.508881Z",
     "start_time": "2020-11-09T01:11:52.951386Z"
    },
    "scrolled": true
   },
   "outputs": [
    {
     "name": "stderr",
     "output_type": "stream",
     "text": [
      "100%|█████████████████████████████████████████████████████████████████████████| 64482/64482 [00:02<00:00, 25604.03it/s]\n"
     ]
    }
   ],
   "source": [
    "freq_max = []\n",
    "result_tra = sorted(result_tra, key=lambda x:x[-1])\n",
    "for idx, i in enumerate(tqdm(result_tra)):\n",
    "    sig = np.multiply(array.array('h',bytes(i[-2])), i[-3] * 1000)\n",
    "    thr = i[2]\n",
    "    Fs = i[3]\n",
    "    Ts = 1 / Fs\n",
    "    if valid_pri[idx][-2] > 1:\n",
    "        valid_wave_idx = np.where(abs(sig) >= thr)[0]\n",
    "        valid_data = sig[valid_wave_idx[0]:(valid_wave_idx[-1] + 1)]\n",
    "        N = valid_data.shape[0]\n",
    "        fft_y = fft(valid_data)\n",
    "        abs_y = np.abs(fft_y)\n",
    "        normalization = abs_y / N\n",
    "        normalization_half = normalization[range(int(N / 2))]\n",
    "        frq = (np.arange(N) / N) * Fs\n",
    "        half_frq = frq[range(int(N / 2))]\n",
    "        try:\n",
    "            freq_max.append(half_frq[np.argmax(normalization_half)])\n",
    "        except:\n",
    "            freq_max.append(frq[0])"
   ]
  },
  {
   "cell_type": "code",
   "execution_count": 83,
   "metadata": {
    "ExecuteTime": {
     "end_time": "2020-11-07T09:49:57.113733Z",
     "start_time": "2020-11-07T09:49:55.641735Z"
    }
   },
   "outputs": [],
   "source": [
    "plt.plot(time,sig)\n",
    "plt.show()"
   ]
  },
  {
   "cell_type": "markdown",
   "metadata": {},
   "source": [
    "## Plot"
   ]
  },
  {
   "cell_type": "code",
   "execution_count": null,
   "metadata": {
    "ExecuteTime": {
     "end_time": "2020-11-08T10:21:14.989695Z",
     "start_time": "2020-11-08T10:21:14.816731Z"
    }
   },
   "outputs": [],
   "source": [
    "titles = ['Original Waveform', 'Bilateral amplitude spectrum (normalized)', 'Unilateral amplitude spectrum (normalized)']\n",
    "colors = ['purple', 'green', 'blue']\n",
    "x_label = ['Time (s)', 'Freq (Hz)', 'Freq (Hz)']\n",
    "y_label = ['Amplitude (μV)', '|Y(freq)|', '|Y(freq)|']\n",
    "xs = [time_label, frq, half_frq]\n",
    "ys = [valid_data, normalization, normalization_half]\n",
    "\n",
    "for i, [x, y, title, color, xlabel, ylabel] in enumerate(zip(xs, ys, titles, colors, x_label, y_label)):\n",
    "    plt.subplot(311 + i)\n",
    "    plt.plot(x, y, color)\n",
    "    plt.xlabel(xlabel)\n",
    "    plt.ylabel(ylabel)\n",
    "    plt.title(title, color=color)\n",
    "plt.tight_layout()"
   ]
  },
  {
   "cell_type": "markdown",
   "metadata": {},
   "source": [
    "## Validation"
   ]
  },
  {
   "cell_type": "code",
   "execution_count": 631,
   "metadata": {
    "ExecuteTime": {
     "end_time": "2020-11-09T02:43:49.383094Z",
     "start_time": "2020-11-09T02:43:49.365124Z"
    },
    "scrolled": true
   },
   "outputs": [
    {
     "data": {
      "text/plain": [
       "(array([ 15.12335363,  15.12335363,  16.20359318,  16.20359318,\n",
       "         16.20359318,  15.12335363,  14.04311409,  12.96287454,\n",
       "         10.80239545,   9.72215591,   7.56167682,   5.40119773,\n",
       "          3.24071864,   1.08023955,  -1.08023955,  -3.24071864,\n",
       "         -4.32095818,  -6.48143727,  -7.56167682,  -7.56167682,\n",
       "         -7.56167682,  -7.56167682,  -7.56167682,  -6.48143727,\n",
       "         -5.40119773,  -4.32095818,  -3.24071864,  -1.08023955,\n",
       "          0.        ,   1.08023955,   2.16047909,   3.24071864,\n",
       "          3.24071864,   3.24071864,   3.24071864,   3.24071864,\n",
       "          3.24071864,   2.16047909,   1.08023955,   0.        ,\n",
       "          0.        ,  -1.08023955,  -2.16047909,  -3.24071864,\n",
       "         -3.24071864,  -4.32095818,  -4.32095818,  -3.24071864,\n",
       "         -3.24071864,  -2.16047909,  -1.08023955,   0.        ,\n",
       "          0.        ,   2.16047909,   3.24071864,   4.32095818,\n",
       "          5.40119773,   6.48143727,   6.48143727,   7.56167682,\n",
       "          7.56167682,   7.56167682,   6.48143727,   5.40119773,\n",
       "          4.32095818,   3.24071864,   1.08023955,   0.        ,\n",
       "         -2.16047909,  -3.24071864,  -5.40119773,  -7.56167682,\n",
       "         -8.64191636,  -9.72215591, -10.80239545, -10.80239545,\n",
       "        -10.80239545, -10.80239545, -10.80239545,  -9.72215591,\n",
       "         -8.64191636,  -7.56167682,  -5.40119773,  -4.32095818,\n",
       "         -2.16047909,   0.        ,   1.08023955,   3.24071864,\n",
       "          4.32095818,   5.40119773,   6.48143727,   7.56167682,\n",
       "          7.56167682,   7.56167682,   7.56167682,   7.56167682,\n",
       "          6.48143727,   6.48143727,   5.40119773,   4.32095818,\n",
       "          2.16047909,   1.08023955,   0.        ,  -1.08023955,\n",
       "         -2.16047909,  -3.24071864,  -4.32095818,  -5.40119773,\n",
       "         -5.40119773,  -5.40119773,  -6.48143727,  -6.48143727,\n",
       "         -5.40119773,  -5.40119773,  -4.32095818,  -4.32095818,\n",
       "         -3.24071864,  -3.24071864,  -2.16047909,  -1.08023955,\n",
       "         -1.08023955,   0.        ,   0.        ,   0.        ,\n",
       "          0.        ,   0.        ,   0.        ,   0.        ,\n",
       "          0.        ,   0.        ,  -1.08023955,  -1.08023955,\n",
       "         -1.08023955,  -1.08023955,  -1.08023955,  -1.08023955,\n",
       "          0.        ,   0.        ,   0.        ,   0.        ,\n",
       "          1.08023955,   1.08023955,   2.16047909,   2.16047909,\n",
       "          3.24071864,   3.24071864,   3.24071864,   4.32095818,\n",
       "          4.32095818,   3.24071864,   3.24071864,   3.24071864,\n",
       "          3.24071864,   2.16047909,   1.08023955,   1.08023955,\n",
       "          0.        ,   0.        ,  -1.08023955,  -1.08023955,\n",
       "         -2.16047909,  -3.24071864,  -3.24071864,  -3.24071864,\n",
       "         -4.32095818,  -4.32095818,  -4.32095818,  -4.32095818,\n",
       "         -4.32095818,  -3.24071864,  -3.24071864,  -2.16047909,\n",
       "         -2.16047909,  -1.08023955,  -1.08023955,   0.        ,\n",
       "          0.        ,   0.        ,   1.08023955,   1.08023955,\n",
       "          1.08023955,   1.08023955,   1.08023955,   1.08023955,\n",
       "          1.08023955,   1.08023955,   1.08023955,   1.08023955,\n",
       "          1.08023955,   1.08023955,   2.16047909,   2.16047909,\n",
       "          2.16047909,   2.16047909,   3.24071864,   4.32095818,\n",
       "          4.32095818,   5.40119773,   6.48143727,   7.56167682,\n",
       "          7.56167682,   8.64191636,   8.64191636,   9.72215591,\n",
       "         10.80239545,  10.80239545,  10.80239545,  10.80239545,\n",
       "         10.80239545,   9.72215591,   8.64191636,   7.56167682,\n",
       "          6.48143727,   5.40119773,   3.24071864,   1.08023955,\n",
       "         -1.08023955,  -3.24071864,  -5.40119773,  -7.56167682,\n",
       "         -9.72215591, -10.80239545, -12.96287454, -14.04311409,\n",
       "        -15.12335363, -15.12335363, -15.12335363, -15.12335363]),\n",
       " 14.583233861275207,\n",
       " 228)"
      ]
     },
     "execution_count": 631,
     "metadata": {},
     "output_type": "execute_result"
    }
   ],
   "source": [
    "valid_data, thr, valid_data.shape[0]"
   ]
  },
  {
   "cell_type": "code",
   "execution_count": 620,
   "metadata": {
    "ExecuteTime": {
     "end_time": "2020-11-09T02:39:11.484763Z",
     "start_time": "2020-11-09T02:39:11.460762Z"
    }
   },
   "outputs": [
    {
     "data": {
      "text/plain": [
       "array([-2.16047909, -2.16047909, -2.16047909, -2.16047909, -2.16047909,\n",
       "       -2.16047909, -2.16047909, -2.16047909, -2.16047909, -1.08023955,\n",
       "       -1.08023955,  0.        ,  0.        ,  0.        ,  1.08023955,\n",
       "        1.08023955,  2.16047909,  2.16047909,  3.24071864,  3.24071864,\n",
       "        3.24071864,  4.32095818,  4.32095818,  4.32095818,  4.32095818,\n",
       "        4.32095818,  4.32095818,  4.32095818,  4.32095818,  3.24071864,\n",
       "        3.24071864,  2.16047909,  2.16047909,  1.08023955,  1.08023955,\n",
       "        0.        ,  0.        ,  0.        ,  0.        ,  0.        ,\n",
       "        0.        ,  0.        ,  0.        ,  0.        ,  0.        ,\n",
       "        0.        ,  0.        ,  0.        ,  0.        ,  1.08023955,\n",
       "        1.08023955,  1.08023955,  1.08023955,  2.16047909,  2.16047909,\n",
       "        2.16047909,  2.16047909,  2.16047909,  2.16047909,  2.16047909,\n",
       "        2.16047909,  2.16047909,  2.16047909,  2.16047909,  2.16047909,\n",
       "        2.16047909,  1.08023955,  1.08023955,  0.        ,  0.        ,\n",
       "        0.        , -1.08023955, -1.08023955, -1.08023955, -2.16047909,\n",
       "       -2.16047909, -2.16047909, -2.16047909, -1.08023955, -1.08023955,\n",
       "       -1.08023955,  0.        ,  0.        ,  0.        ,  0.        ,\n",
       "        0.        ,  1.08023955,  1.08023955,  1.08023955,  1.08023955,\n",
       "        0.        ,  0.        ,  0.        ,  0.        ,  0.        ,\n",
       "       -1.08023955, -1.08023955, -1.08023955, -1.08023955, -1.08023955,\n",
       "        0.        ,  0.        ,  0.        ,  0.        ,  0.        ,\n",
       "        1.08023955,  1.08023955,  1.08023955,  1.08023955,  2.16047909,\n",
       "        1.08023955,  1.08023955,  1.08023955,  1.08023955,  0.        ,\n",
       "        0.        , -1.08023955, -1.08023955, -2.16047909, -3.24071864,\n",
       "       -3.24071864, -4.32095818, -4.32095818, -5.40119773, -5.40119773,\n",
       "       -6.48143727, -6.48143727, -6.48143727, -6.48143727, -6.48143727,\n",
       "       -6.48143727, -6.48143727, -5.40119773, -5.40119773, -5.40119773,\n",
       "       -4.32095818, -4.32095818, -4.32095818, -3.24071864, -3.24071864,\n",
       "       -3.24071864, -3.24071864, -3.24071864, -3.24071864, -3.24071864,\n",
       "       -3.24071864, -3.24071864, -3.24071864, -3.24071864, -3.24071864,\n",
       "       -3.24071864, -3.24071864, -3.24071864, -3.24071864, -3.24071864,\n",
       "       -3.24071864, -3.24071864, -3.24071864, -2.16047909, -2.16047909,\n",
       "       -2.16047909, -2.16047909, -2.16047909, -1.08023955, -1.08023955,\n",
       "       -1.08023955, -1.08023955, -1.08023955, -1.08023955, -1.08023955,\n",
       "       -1.08023955, -1.08023955, -1.08023955, -1.08023955, -1.08023955,\n",
       "       -1.08023955, -1.08023955, -1.08023955, -1.08023955, -1.08023955,\n",
       "       -1.08023955, -1.08023955, -1.08023955,  0.        ,  0.        ,\n",
       "        0.        ,  1.08023955,  1.08023955,  2.16047909,  3.24071864,\n",
       "        4.32095818,  5.40119773,  7.56167682,  7.56167682,  9.72215591,\n",
       "       10.80239545, 11.882635  , 12.96287454, 14.04311409, 14.04311409,\n",
       "       15.12335363, 15.12335363, 15.12335363, 14.04311409, 14.04311409,\n",
       "       12.96287454, 11.882635  , 10.80239545,  9.72215591,  8.64191636,\n",
       "        7.56167682,  6.48143727,  4.32095818,  3.24071864,  2.16047909,\n",
       "        2.16047909,  1.08023955,  0.        ,  0.        ,  0.        ,\n",
       "        0.        ,  0.        ,  0.        ,  1.08023955,  1.08023955,\n",
       "        1.08023955,  2.16047909,  2.16047909,  2.16047909,  3.24071864,\n",
       "        3.24071864,  3.24071864,  3.24071864,  3.24071864,  3.24071864,\n",
       "        2.16047909,  2.16047909,  1.08023955,  0.        ,  0.        ,\n",
       "       -1.08023955, -2.16047909, -3.24071864, -3.24071864, -4.32095818,\n",
       "       -5.40119773, -5.40119773, -6.48143727, -6.48143727, -6.48143727,\n",
       "       -6.48143727, -6.48143727, -6.48143727, -6.48143727, -5.40119773,\n",
       "       -5.40119773, -4.32095818, -3.24071864, -3.24071864, -2.16047909,\n",
       "       -2.16047909, -1.08023955, -1.08023955,  0.        ,  0.        ,\n",
       "        0.        ,  0.        ,  0.        ,  0.        , -1.08023955,\n",
       "       -1.08023955, -1.08023955, -2.16047909, -2.16047909, -3.24071864,\n",
       "       -3.24071864, -4.32095818, -4.32095818, -4.32095818, -4.32095818,\n",
       "       -4.32095818, -4.32095818, -4.32095818, -4.32095818, -4.32095818,\n",
       "       -3.24071864, -2.16047909, -2.16047909, -1.08023955, -1.08023955,\n",
       "        0.        ,  0.        ,  0.        ,  0.        ,  0.        ,\n",
       "        0.        ,  0.        ,  0.        , -1.08023955, -1.08023955,\n",
       "       -2.16047909, -3.24071864, -3.24071864, -4.32095818, -4.32095818,\n",
       "       -5.40119773, -5.40119773, -5.40119773, -5.40119773, -5.40119773,\n",
       "       -5.40119773, -5.40119773, -4.32095818, -4.32095818, -3.24071864,\n",
       "       -3.24071864, -2.16047909, -2.16047909, -1.08023955, -1.08023955,\n",
       "        0.        ,  0.        ,  0.        ,  0.        ,  1.08023955,\n",
       "        1.08023955,  1.08023955,  1.08023955,  1.08023955,  1.08023955,\n",
       "        1.08023955,  1.08023955,  1.08023955,  1.08023955,  0.        ,\n",
       "        0.        ,  0.        ,  0.        ,  0.        ,  0.        ,\n",
       "        0.        ,  0.        ,  0.        ,  0.        ,  0.        ,\n",
       "        0.        ,  0.        ,  0.        ,  1.08023955,  1.08023955,\n",
       "        2.16047909,  3.24071864,  3.24071864,  4.32095818,  4.32095818,\n",
       "        5.40119773,  5.40119773,  6.48143727,  6.48143727,  6.48143727,\n",
       "        6.48143727,  6.48143727,  6.48143727,  6.48143727,  6.48143727,\n",
       "        5.40119773,  5.40119773,  4.32095818,  3.24071864,  3.24071864,\n",
       "        2.16047909,  1.08023955,  1.08023955,  1.08023955,  0.        ,\n",
       "        0.        ,  0.        ,  0.        ,  1.08023955,  1.08023955,\n",
       "        2.16047909,  2.16047909,  3.24071864,  3.24071864,  4.32095818,\n",
       "        4.32095818,  4.32095818,  4.32095818,  4.32095818,  4.32095818,\n",
       "        4.32095818,  3.24071864,  3.24071864,  2.16047909,  1.08023955,\n",
       "        1.08023955,  1.08023955,  0.        ,  0.        ,  0.        ,\n",
       "        0.        ,  0.        ,  1.08023955,  1.08023955,  2.16047909,\n",
       "        2.16047909,  3.24071864,  3.24071864,  4.32095818,  4.32095818,\n",
       "        4.32095818,  4.32095818,  4.32095818,  3.24071864,  2.16047909,\n",
       "        1.08023955])"
      ]
     },
     "execution_count": 620,
     "metadata": {},
     "output_type": "execute_result"
    }
   ],
   "source": [
    "sig"
   ]
  },
  {
   "cell_type": "code",
   "execution_count": 645,
   "metadata": {
    "ExecuteTime": {
     "end_time": "2020-11-09T03:48:44.772384Z",
     "start_time": "2020-11-09T03:48:44.707356Z"
    },
    "scrolled": false
   },
   "outputs": [
    {
     "name": "stdout",
     "output_type": "stream",
     "text": [
      "2469.08934745 468.8239626513659 95.94999983164598 2673.149999736779 544.8985155804419 702 14149\n"
     ]
    }
   ],
   "source": [
    "# Features\n",
    "# Time, Chan, Thr, SampleRate, Samples, TR_mV, Data, TRAI\n",
    "i = result_tra[14148]\n",
    "sig = np.multiply(array.array('h', bytes(i[-2])), i[-3] * 1000)\n",
    "time = np.linspace(i[0], i[0] + pow(i[-5], -1) * (i[-4] - 1), i[-4])\n",
    "\n",
    "thr = i[2]\n",
    "valid_wave_idx = np.where(abs(sig) >= thr)[0]\n",
    "start = time[valid_wave_idx[0]]\n",
    "end = time[valid_wave_idx[-1]]\n",
    "duration = (end - start) * pow(10, 6)\n",
    "max_idx = np.argmax(abs(sig))\n",
    "amplitude = max(abs(sig))\n",
    "rise_time = (time[max_idx] - start) * pow(10, 6)\n",
    "valid_data = sig[valid_wave_idx[0]:(valid_wave_idx[-1] + 1)]\n",
    "energy = np.sum(np.multiply(pow(valid_data, 2), pow(10, 6) / i[3]))\n",
    "RMS = math.sqrt(energy / duration)\n",
    "count, idx = 0, 1\n",
    "N = len(valid_data)\n",
    "for idx in range(1, N):\n",
    "    if valid_data[idx - 1] <= thr < valid_data[idx]:\n",
    "        count += 1\n",
    "# while idx < N:\n",
    "#     if min(valid_data[idx - 1], valid_data[idx]) <= thr < max((valid_data[idx - 1], valid_data[idx])):\n",
    "#         count += 1\n",
    "#         idx += 2\n",
    "#         continue\n",
    "#     idx += 1\n",
    "print(i[0], amplitude, rise_time, duration, energy / pow(10, 4), count, i[-1])"
   ]
  },
  {
   "cell_type": "code",
   "execution_count": 536,
   "metadata": {
    "ExecuteTime": {
     "end_time": "2020-11-09T01:33:09.022226Z",
     "start_time": "2020-11-09T01:33:09.001197Z"
    }
   },
   "outputs": [
    {
     "data": {
      "text/plain": [
       "(479, 677966.1016949152)"
      ]
     },
     "execution_count": 536,
     "metadata": {},
     "output_type": "execute_result"
    }
   ],
   "source": [
    "# Frquency\n",
    "i = result_tra[478]\n",
    "sig = np.multiply(array.array('h',bytes(i[-2])), i[-3] * 1000)\n",
    "thr = i[2]\n",
    "Fs = i[3]\n",
    "Ts = 1 / Fs\n",
    "# if valid__pri[idx][-2] > 1:\n",
    "valid_wave_idx = np.where(abs(sig) >= thr)[0]\n",
    "valid_data = sig[valid_wave_idx[0]:(valid_wave_idx[-1] + 1)]\n",
    "N = valid_data.shape[0]\n",
    "fft_y = fft(valid_data)\n",
    "abs_y = np.abs(fft_y)\n",
    "normalization = abs_y / N\n",
    "normalization_half = normalization[range(int(N / 2))]\n",
    "frq = (np.arange(N) / N) * Fs\n",
    "half_frq = frq[range(int(N / 2))]\n",
    "# freq_max.append(half_frq[np.argmax(normalization_half)])\n",
    "i[-1], half_frq[np.argmax(normalization_half)]"
   ]
  },
  {
   "cell_type": "markdown",
   "metadata": {},
   "source": [
    "## Read"
   ]
  },
  {
   "cell_type": "code",
   "execution_count": 5,
   "metadata": {
    "ExecuteTime": {
     "end_time": "2020-11-07T09:25:12.389497Z",
     "start_time": "2020-11-07T09:25:12.378499Z"
    }
   },
   "outputs": [],
   "source": [
    "def sqlite_read(path):\n",
    "    \"\"\"\n",
    "    python读取sqlite数据库文件\n",
    "    \"\"\"\n",
    "    mydb = sqlite3.connect(path)                # 链接数据库\n",
    "    mydb.text_factory = lambda x: str(x, 'gbk', 'ignore')\n",
    "    cur = mydb.cursor()                         # 创建游标cur来执行SQL语句\n",
    "\n",
    "    # 获取表名\n",
    "    cur.execute(\"SELECT name FROM sqlite_master WHERE type='table'\")\n",
    "    Tables = cur.fetchall()                     # Tables 为元组列表\n",
    "    print(Tables)\n",
    "    \n",
    "    i = 0\n",
    "    while True:\n",
    "        try:\n",
    "            tbl_name = Tables[i][0]                     # 获取第一个表名\n",
    "        except:\n",
    "            break\n",
    "        # 获取表的列名\n",
    "        cur.execute(\"SELECT * FROM {}\".format(tbl_name))\n",
    "        col_name_list = [tuple[0] for tuple in cur.description]\n",
    "        pprint.pprint(col_name_list)\n",
    "        i += 1\n",
    "\n",
    "#     # 获取表结构的所有信息\n",
    "#     cur.execute(\"PRAGMA table_info({})\".format(tbl_name))\n",
    "#     pprint.pprint(cur.fetchall())"
   ]
  },
  {
   "cell_type": "code",
   "execution_count": null,
   "metadata": {
    "ExecuteTime": {
     "end_time": "2020-11-07T08:29:21.427515Z",
     "start_time": "2020-11-07T08:29:21.405518Z"
    },
    "scrolled": true
   },
   "outputs": [],
   "source": [
    "sqlite_read(path_tra)"
   ]
  },
  {
   "cell_type": "code",
   "execution_count": null,
   "metadata": {
    "ExecuteTime": {
     "end_time": "2020-11-07T08:52:55.664521Z",
     "start_time": "2020-11-07T08:52:55.642521Z"
    }
   },
   "outputs": [],
   "source": [
    "# tradb\n",
    "[('tr_data', ), ('tr_globalinfo', ), ('tr_fieldinfo', ), ('tr_params', )]\n",
    "\n",
    "['SetID', 'Time', 'TRAI', 'Status', 'ParamID', 'Chan', 'Pretrigger', 'Thr', 'MinVal', 'MaxVal', 'SampleRate', 'Samples', 'DataFormat', 'Data']\n",
    "['Key', 'Value']\n",
    "['field', 'Unit', 'Parameter']\n",
    "['ID', 'SetupID', 'Chan', 'ADC_µV', 'TR_mV']\n",
    "\n",
    "[('view_tr_data', )]\n",
    "['SetID', 'Time', 'TRAI', 'Status', 'Chan', 'Pretrigger', 'Thr', 'MinVal', 'MaxVal', 'SampleRate', 'Samples', 'DataFormat', 'TR_mV', 'Data']"
   ]
  },
  {
   "cell_type": "code",
   "execution_count": null,
   "metadata": {
    "code_folding": []
   },
   "outputs": [],
   "source": [
    "# pridb\n",
    "[('ae_data', ), ('acq_setup', ), ('ae_markers', ), ('ae_globalinfo', ), ('ae_fieldinfo', ), ('ae_params', ), ('data_integrity', )]\n",
    "\n",
    "['SetID', 'SetType', 'Time', 'Chan', 'Status', 'ParamID', 'Thr', 'Amp', 'RiseT', 'Dur', 'Eny', 'RMS', 'Counts', 'TRAI', 'CHits', 'PA0', 'PA1']\n",
    "['ID', 'Data']\n",
    "['SetID', 'Number', 'Data']\n",
    "['Key', 'Value']\n",
    "['field', 'Unit', 'SetTypes', 'Parameter', 'Factor']\n",
    "['ID', 'SetupID', 'Chan', 'ADC_µV', 'ADC_TE', 'ADC_SS', 'PA0_mV', 'PA1_mV']\n",
    "['TableName', 'HashV1', 'LastRow']\n",
    "\n",
    "[('view_ae_data', )]\n",
    "['SetID', 'SetType', 'Time', 'Chan', 'Status', 'Thr', 'Amp', 'RiseT', 'Dur', 'Eny', 'RMS', 'Counts', 'TRAI', 'CHits', 'PA0', 'PA1']"
   ]
  },
  {
   "cell_type": "code",
   "execution_count": null,
   "metadata": {
    "ExecuteTime": {
     "end_time": "2020-11-07T08:49:08.692644Z",
     "start_time": "2020-11-07T08:49:08.670635Z"
    },
    "scrolled": true
   },
   "outputs": [],
   "source": [
    "conn.execute(\"PRAGMA table_info(view_tr_data)\").fetchall()"
   ]
  }
 ],
 "metadata": {
  "kernelspec": {
   "display_name": "Python 3",
   "language": "python",
   "name": "python3"
  },
  "language_info": {
   "codemirror_mode": {
    "name": "ipython",
    "version": 3
   },
   "file_extension": ".py",
   "mimetype": "text/x-python",
   "name": "python",
   "nbconvert_exporter": "python",
   "pygments_lexer": "ipython3",
   "version": "3.8.5"
  }
 },
 "nbformat": 4,
 "nbformat_minor": 4
}
