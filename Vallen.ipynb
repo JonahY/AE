{
 "cells": [
  {
   "cell_type": "code",
   "execution_count": 2,
   "metadata": {
    "ExecuteTime": {
     "end_time": "2020-12-23T09:30:18.989970Z",
     "start_time": "2020-12-23T09:30:18.970013Z"
    }
   },
   "outputs": [],
   "source": [
    "# -*- coding: UTF-8 -*-\n",
    "import os\n",
    "import pandas as pd\n",
    "import numpy as np\n",
    "import matplotlib.pyplot as plt\n",
    "import math\n",
    "import time\n",
    "from tqdm import tqdm\n",
    "from scipy.fftpack import fft\n",
    "from matplotlib.pylab import mpl\n",
    "import csv\n",
    "import array\n",
    "import sqlite3\n",
    "import pprint\n",
    "from matplotlib.ticker import FuncFormatter\n",
    "from matplotlib import ticker, cm\n",
    "import matplotlib\n",
    "from collections import Counter\n",
    "from mpl_toolkits.mplot3d import Axes3D\n",
    "from sklearn.base import BaseEstimator, ClusterMixin\n",
    "from sklearn.metrics.pairwise import pairwise_kernels\n",
    "from sklearn.utils import check_random_state\n",
    "from sklearn.decomposition import PCA, FastICA\n",
    "from sklearn.cluster import KMeans\n",
    "from scipy.optimize import curve_fit\n",
    "from scipy.interpolate import make_interp_spline\n",
    "from scipy.signal import savgol_filter\n",
    "import warnings\n",
    "import pywt\n",
    "\n",
    "\n",
    "%matplotlib qt\n",
    "warnings.filterwarnings(\"ignore\")\n",
    "plt.rcParams['xtick.direction'] = 'in'\n",
    "plt.rcParams['ytick.direction'] = 'in'\n",
    "mpl.rcParams['axes.unicode_minus'] = False  #显示负号"
   ]
  },
  {
   "cell_type": "code",
   "execution_count": 288,
   "metadata": {
    "ExecuteTime": {
     "end_time": "2020-12-24T08:52:49.987972Z",
     "start_time": "2020-12-24T08:52:49.943972Z"
    }
   },
   "outputs": [],
   "source": [
    "path = r'E:\\Data\\vallen'\n",
    "# E:\\data\\vallen\n",
    "# /home/Yuanbincheng/data\n",
    "fold = '6016_CR_1'\n",
    "os.chdir('/'.join([path, fold]))\n",
    "path_pri = fold + '.pridb'\n",
    "path_tra = fold + '.tradb'\n",
    "features_path = fold + '.txt'\n",
    "# 2020.11.10-PM-self\n",
    "# 6016_CR_1\n",
    "# 316L-1.5-z3-AE-3 sensor-20200530\n",
    "# Ni-tension test-electrolysis-1-0.01-AE-20201031\n",
    "# Ni-tension test-pure-1-0.01-AE-20201030\n",
    "# 2020.11.10-PM-self"
   ]
  },
  {
   "cell_type": "markdown",
   "metadata": {},
   "source": [
    "### Convert"
   ]
  },
  {
   "cell_type": "code",
   "execution_count": 289,
   "metadata": {
    "ExecuteTime": {
     "end_time": "2020-12-24T08:52:52.537299Z",
     "start_time": "2020-12-24T08:52:52.508334Z"
    },
    "code_folding": [
     0,
     21
    ]
   },
   "outputs": [],
   "source": [
    "def sqlite_read(path):\n",
    "    \"\"\"\n",
    "    python读取sqlite数据库文件\n",
    "    \"\"\"\n",
    "    mydb = sqlite3.connect(path)  # 链接数据库\n",
    "    mydb.text_factory = lambda x: str(x, 'gbk', 'ignore')\n",
    "    cur = mydb.cursor()  # 创建游标cur来执行SQL语句\n",
    "\n",
    "    # 获取表名\n",
    "    cur.execute(\"SELECT name FROM sqlite_master WHERE type='table'\")\n",
    "    Tables = cur.fetchall()  # Tables 为元组列表\n",
    "\n",
    "    # 获取表结构的所有信息\n",
    "    if path[-5:] == 'pridb':\n",
    "        cur.execute(\"SELECT * FROM {}\".format(Tables[3][0]))\n",
    "        res = cur.fetchall()[-2][1]\n",
    "    elif path[-5:] == 'tradb':\n",
    "        cur.execute(\"SELECT * FROM {}\".format(Tables[1][0]))\n",
    "        res = cur.fetchall()[-3][1]\n",
    "    return int(res)\n",
    "\n",
    "def read_vallen_data(path_pri, path_tra, min_cnts=2):\n",
    "    conn_tra = sqlite3.connect(path_tra)\n",
    "    conn_pri = sqlite3.connect(path_pri)\n",
    "    result_tra = conn_tra.execute(\"Select Time, Chan, Thr, SampleRate, Samples, TR_mV, Data, TRAI FROM view_tr_data\")\n",
    "    result_pri = conn_pri.execute(\"Select SetID, Time, Chan, Thr, Amp, RiseT, Dur, Eny, RMS, Counts, TRAI FROM view_ae_data\")\n",
    "    data_tra, data_pri, chan_1, chan_2, chan_3, chan_4 = [], [], [], [], [], []\n",
    "    N_pri = sqlite_read(path_pri)\n",
    "    N_tra = sqlite_read(path_tra)\n",
    "    for _ in tqdm(range(N_tra), ncols=80):\n",
    "        i = result_tra.fetchone()\n",
    "        data_tra.append(i)\n",
    "    for _ in tqdm(range(N_pri), ncols=80):\n",
    "        i = result_pri.fetchone()\n",
    "        if i[-2] is not None and i[-2] > min_cnts and i[-1] > 0:\n",
    "            data_pri.append(i)\n",
    "            if i[2] == 1:\n",
    "                chan_1.append(i)\n",
    "            elif i[2] == 2:\n",
    "                chan_2.append(i)\n",
    "            elif i[2] == 3:\n",
    "                chan_3.append(i)\n",
    "            elif i[2] == 4:\n",
    "                chan_4.append(i)\n",
    "    data_tra = sorted(data_tra, key=lambda x: x[-1])\n",
    "    data_pri = np.array(data_pri)\n",
    "    chan_1 = np.array(chan_1)\n",
    "    chan_2 = np.array(chan_2)\n",
    "    chan_3 = np.array(chan_3)\n",
    "    chan_4 = np.array(chan_4)\n",
    "    return data_tra, data_pri, chan_1, chan_2, chan_3, chan_4"
   ]
  },
  {
   "cell_type": "code",
   "execution_count": 293,
   "metadata": {
    "ExecuteTime": {
     "end_time": "2020-12-24T08:53:04.657293Z",
     "start_time": "2020-12-24T08:53:01.569904Z"
    }
   },
   "outputs": [
    {
     "name": "stderr",
     "output_type": "stream",
     "text": [
      "100%|███████████████████████████████| 141033/141033 [00:01<00:00, 111005.76it/s]\n",
      "100%|███████████████████████████████| 357771/357771 [00:01<00:00, 215150.20it/s]\n"
     ]
    }
   ],
   "source": [
    "data_tra, data_pri, chan_1, chan_2, chan_3, chan_4 = read_vallen_data(path_pri, path_tra)"
   ]
  },
  {
   "cell_type": "markdown",
   "metadata": {},
   "source": [
    "### Decomposition-FastICA"
   ]
  },
  {
   "cell_type": "code",
   "execution_count": 290,
   "metadata": {
    "ExecuteTime": {
     "end_time": "2020-12-24T08:52:54.729299Z",
     "start_time": "2020-12-24T08:52:54.701299Z"
    },
    "code_folding": [
     0
    ]
   },
   "outputs": [],
   "source": [
    "def ICA(dim, method, *args):\n",
    "    n = len(args)\n",
    "    x = np.zeros([args[0].shape[0], n])\n",
    "    for i in range(n):\n",
    "        x[:, i] = args[i]\n",
    "\n",
    "    x_mean = np.mean(x, axis=0)\n",
    "    x_std = np.std(x, axis=0)\n",
    "    x_nor = (x - x_mean) / x_std\n",
    "    if method == 'pca':\n",
    "        pca = PCA(n_components=dim)\n",
    "        S_ = pca.fit_transform(x_nor)\n",
    "        A_ = pca.components_  \n",
    "    elif  method == 'ica':\n",
    "        ica = FastICA(n_components=dim)\n",
    "        S_ = ica.fit_transform(x_nor)  # 重构信号\n",
    "        A_ = ica.mixing_  # 获得估计混合后的矩阵\n",
    "    return S_, A_"
   ]
  },
  {
   "cell_type": "markdown",
   "metadata": {},
   "source": [
    "### Clustering"
   ]
  },
  {
   "cell_type": "markdown",
   "metadata": {},
   "source": [
    "#### Cluster-Kmeans"
   ]
  },
  {
   "cell_type": "code",
   "execution_count": null,
   "metadata": {
    "ExecuteTime": {
     "end_time": "2020-11-28T10:24:44.710989Z",
     "start_time": "2020-11-28T10:24:44.589424Z"
    },
    "code_folding": []
   },
   "outputs": [],
   "source": [
    "kmeans = KMeans(n_clusters=2, random_state=69)\n",
    "kmeans.fit(S_)\n",
    "y_pre = kmeans.labels_\n",
    "cls_KKM = []\n",
    "for i in range(2):\n",
    "    cls_KKM .append(pred == i)"
   ]
  },
  {
   "cell_type": "markdown",
   "metadata": {},
   "source": [
    "#### Cluster-Kernel Kmeans"
   ]
  },
  {
   "cell_type": "code",
   "execution_count": 291,
   "metadata": {
    "ExecuteTime": {
     "end_time": "2020-12-24T08:52:56.934297Z",
     "start_time": "2020-12-24T08:52:56.906303Z"
    },
    "code_folding": [
     0
    ]
   },
   "outputs": [],
   "source": [
    "class KernelKMeans(BaseEstimator, ClusterMixin):\n",
    "    \"\"\"\n",
    "    Kernel K-means\n",
    "    \n",
    "    Reference\n",
    "    ---------\n",
    "    Kernel k-means, Spectral Clustering and Normalized Cuts.\n",
    "    Inderjit S. Dhillon, Yuqiang Guan, Brian Kulis.\n",
    "    KDD 2004.\n",
    "    \"\"\"\n",
    "\n",
    "    def __init__(self, n_clusters=3, max_iter=50, tol=1e-3, random_state=None,\n",
    "                 kernel=\"rbf\", gamma=None, degree=3, coef0=1,\n",
    "                 kernel_params=None, verbose=0):\n",
    "        self.n_clusters = n_clusters\n",
    "        self.max_iter = max_iter\n",
    "        self.tol = tol\n",
    "        self.random_state = random_state\n",
    "        self.kernel = kernel\n",
    "        self.gamma = gamma\n",
    "        self.degree = degree\n",
    "        self.coef0 = coef0\n",
    "        self.kernel_params = kernel_params\n",
    "        self.verbose = verbose\n",
    "        \n",
    "    @property\n",
    "    def _pairwise(self):\n",
    "        return self.kernel == \"precomputed\"\n",
    "\n",
    "    def _get_kernel(self, X, Y=None):\n",
    "        if callable(self.kernel):\n",
    "            params = self.kernel_params or {}\n",
    "        else:\n",
    "            params = {\"gamma\": self.gamma,\n",
    "                      \"degree\": self.degree,\n",
    "                      \"coef0\": self.coef0}\n",
    "        return pairwise_kernels(X, Y, metric=self.kernel,\n",
    "                                filter_params=True, **params)\n",
    "\n",
    "    def fit(self, X, y=None, sample_weight=None):\n",
    "        n_samples = X.shape[0]\n",
    "\n",
    "        K = self._get_kernel(X)\n",
    "\n",
    "        sw = sample_weight if sample_weight else np.ones(n_samples)\n",
    "        self.sample_weight_ = sw\n",
    "\n",
    "        rs = check_random_state(self.random_state)\n",
    "        self.labels_ = rs.randint(self.n_clusters, size=n_samples)\n",
    "\n",
    "        dist = np.zeros((n_samples, self.n_clusters))\n",
    "        self.within_distances_ = np.zeros(self.n_clusters)\n",
    "\n",
    "        for it in range(self.max_iter):\n",
    "            dist.fill(0)\n",
    "            self._compute_dist(K, dist, self.within_distances_,\n",
    "                               update_within=True)\n",
    "            labels_old = self.labels_\n",
    "            self.labels_ = dist.argmin(axis=1)\n",
    "\n",
    "            # Compute the number of samples whose cluster did not change \n",
    "            # since last iteration.\n",
    "            n_same = np.sum((self.labels_ - labels_old) == 0)\n",
    "            if 1 - float(n_same) / n_samples < self.tol:\n",
    "                if self.verbose:\n",
    "                    print(\"Converged at iteration\", it + 1)\n",
    "                break\n",
    "\n",
    "        self.X_fit_ = X\n",
    "\n",
    "        return self\n",
    "\n",
    "    def _compute_dist(self, K, dist, within_distances, update_within):\n",
    "        \"\"\"Compute a n_samples x n_clusters distance matrix using the \n",
    "        kernel trick.\"\"\"\n",
    "        sw = self.sample_weight_\n",
    "\n",
    "        for j in range(self.n_clusters):\n",
    "            mask = self.labels_ == j\n",
    "\n",
    "            if np.sum(mask) == 0:\n",
    "                raise ValueError(\"Empty cluster found, try smaller n_cluster.\")\n",
    "\n",
    "            denom = sw[mask].sum()\n",
    "            denomsq = denom * denom\n",
    "\n",
    "            if update_within:\n",
    "                KK = K[mask][:, mask]  # K[mask, mask] does not work.\n",
    "                dist_j = np.sum(np.outer(sw[mask], sw[mask]) * KK / denomsq)\n",
    "                within_distances[j] = dist_j\n",
    "                dist[:, j] += dist_j\n",
    "            else:\n",
    "                dist[:, j] += within_distances[j]\n",
    "\n",
    "            dist[:, j] -= 2 * np.sum(sw[mask] * K[:, mask], axis=1) / denom\n",
    "\n",
    "    def predict(self, X):\n",
    "        K = self._get_kernel(X, self.X_fit_)\n",
    "        n_samples = X.shape[0]\n",
    "        dist = np.zeros((n_samples, self.n_clusters))\n",
    "        self._compute_dist(K, dist, self.within_distances_,\n",
    "                           update_within=False)\n",
    "        return dist.argmin(axis=1)"
   ]
  },
  {
   "cell_type": "code",
   "execution_count": null,
   "metadata": {
    "ExecuteTime": {
     "end_time": "2020-12-02T07:37:54.715417Z",
     "start_time": "2020-12-02T07:37:54.657428Z"
    }
   },
   "outputs": [],
   "source": [
    "km = KernelKMeans(n_clusters=8, max_iter=100, random_state=100, verbose=1, kernel=\"rbf\")\n",
    "# print(km.fit_predict(x)[:10])\n",
    "# print(km.predict(x[:10]))"
   ]
  },
  {
   "cell_type": "markdown",
   "metadata": {},
   "source": [
    "### Plot format"
   ]
  },
  {
   "cell_type": "code",
   "execution_count": 292,
   "metadata": {
    "ExecuteTime": {
     "end_time": "2020-12-24T08:52:59.052526Z",
     "start_time": "2020-12-24T08:52:59.040525Z"
    },
    "code_folding": [
     3
    ]
   },
   "outputs": [],
   "source": [
    "color_1 = [255/255, 0/255, 102/255] # red\n",
    "color_2 = [0/255, 136/255, 204/255] # blue\n",
    "\n",
    "def plot_norm(ax, xlabel=None, ylabel=None, zlabel=None, title=None, x_lim=[], y_lim=[], z_lim=[], legend=True, grid=False, \n",
    "              legend_loc='upper left', font_color='black', legendsize=11, labelsize=14, titlesize=15, ticksize=13, linewidth=2):\n",
    "    ax.spines['bottom'].set_linewidth(linewidth)\n",
    "    ax.spines['left'].set_linewidth(linewidth)\n",
    "    ax.spines['right'].set_linewidth(linewidth)\n",
    "    ax.spines['top'].set_linewidth(linewidth)\n",
    "\n",
    "    # 设置坐标刻度值的大小以及刻度值的字体 Arial\n",
    "    ax.tick_params(which='both', width=linewidth, labelsize=ticksize, colors=font_color)\n",
    "    labels = ax.get_xticklabels() + ax.get_yticklabels()\n",
    "    [label.set_fontname('Arial') for label in labels]\n",
    "\n",
    "    font_legend = {'family': 'Arial', 'weight': 'normal', 'size': legendsize}\n",
    "    font_label = {'family': 'Arial', 'weight': 'bold', 'size': labelsize, 'color':font_color}\n",
    "    font_title = {'family': 'Arial', 'weight': 'bold', 'size': titlesize, 'color':font_color}\n",
    "\n",
    "    if x_lim:\n",
    "        ax.set_xlim(x_lim[0], x_lim[1])\n",
    "    if y_lim:\n",
    "        ax.set_ylim(y_lim[0], y_lim[1])\n",
    "    if z_lim:\n",
    "        ax.set_zlim(z_lim[0], z_lim[1])\n",
    "    if legend:\n",
    "        plt.legend(loc=legend_loc, prop=font_legend)\n",
    "    if grid:\n",
    "        ax.grid(ls='-.')\n",
    "    if xlabel:\n",
    "        ax.set_xlabel(xlabel, font_label)\n",
    "    if ylabel:\n",
    "        ax.set_ylabel(ylabel, font_label)\n",
    "    if zlabel:\n",
    "        ax.set_zlabel(zlabel, font_label)\n",
    "    if title:\n",
    "        ax.set_title(title, font_title)\n",
    "    plt.tight_layout()"
   ]
  },
  {
   "cell_type": "markdown",
   "metadata": {},
   "source": [
    "### Features extract"
   ]
  },
  {
   "cell_type": "code",
   "execution_count": 298,
   "metadata": {
    "ExecuteTime": {
     "end_time": "2020-12-24T08:53:25.978496Z",
     "start_time": "2020-12-24T08:53:25.966405Z"
    }
   },
   "outputs": [
    {
     "data": {
      "text/plain": [
       "((591, 11), (0,), (0,), (591, 11), (0,))"
      ]
     },
     "execution_count": 298,
     "metadata": {},
     "output_type": "execute_result"
    }
   ],
   "source": [
    "data_pri.shape, chan_1.shape, chan_2.shape, chan_3.shape, chan_4.shape"
   ]
  },
  {
   "cell_type": "code",
   "execution_count": 12,
   "metadata": {
    "ExecuteTime": {
     "end_time": "2020-12-21T07:11:41.582852Z",
     "start_time": "2020-12-21T07:11:41.570851Z"
    }
   },
   "outputs": [
    {
     "data": {
      "text/plain": [
       "(0.204163881458538,\n",
       " 9907.101731723107,\n",
       " 5.5,\n",
       " 6543.700000000001,\n",
       " 16.203593179194673,\n",
       " 3460.007263530703)"
      ]
     },
     "execution_count": 12,
     "metadata": {},
     "output_type": "execute_result"
    }
   ],
   "source": [
    "min(Eny), max(Eny), min(Dur), max(Dur), min(Amp), max(Amp)"
   ]
  },
  {
   "cell_type": "code",
   "execution_count": 299,
   "metadata": {
    "ExecuteTime": {
     "end_time": "2020-12-24T08:53:31.611897Z",
     "start_time": "2020-12-24T08:53:31.601920Z"
    },
    "code_folding": [],
    "scrolled": true
   },
   "outputs": [],
   "source": [
    "# SetID, Time, Chan, Thr, Amp, RiseT, Dur, Eny, RMS, Counts, TRAI\n",
    "abnormal_idx = np.argsort(Eny)[::-1][0]\n",
    "chan = np.delete(chan_3, abnormal_idx, axis=0)\n",
    "# chan = chan_3\n",
    "Time = chan[:, 1]\n",
    "Amp = chan[:, 4]\n",
    "RiseT = chan[:, 5]\n",
    "Dur = chan[:, 6]\n",
    "Eny = chan[:, 7]\n",
    "RMS = chan[:, 8]\n",
    "Counts = chan[:, 9]"
   ]
  },
  {
   "cell_type": "markdown",
   "metadata": {},
   "source": [
    "### Energy-Time Curve"
   ]
  },
  {
   "cell_type": "code",
   "execution_count": 344,
   "metadata": {
    "ExecuteTime": {
     "end_time": "2020-12-23T07:42:30.995982Z",
     "start_time": "2020-12-23T07:42:30.984979Z"
    }
   },
   "outputs": [
    {
     "data": {
      "text/plain": [
       "'E:\\\\Data\\\\vallen\\\\Ni-tension test-electrolysis-1-0.01-AE-20201031'"
      ]
     },
     "execution_count": 344,
     "metadata": {},
     "output_type": "execute_result"
    }
   ],
   "source": [
    "os.getcwd()"
   ]
  },
  {
   "cell_type": "code",
   "execution_count": 362,
   "metadata": {
    "ExecuteTime": {
     "end_time": "2020-12-23T08:01:04.127467Z",
     "start_time": "2020-12-23T08:01:03.863890Z"
    },
    "scrolled": true
   },
   "outputs": [],
   "source": [
    "df_1 = pd.DataFrame({'time_pop1':Time[cls_KKM[0]], 'energy_pop1':Eny[cls_KKM[0]]})\n",
    "df_2 = pd.DataFrame({'time_pop2':Time[cls_KKM[1]], 'energy_pop2':Eny[cls_KKM[1]]})\n",
    "df_3 = pd.DataFrame({'time':time, 'displace':displace, 'load':smooth_load, 'strain':strain, 'stress':smooth_stress})\n",
    "df_1.to_csv('E-T_electrolysis_pop1.csv')\n",
    "df_2.to_csv('E-T_electrolysis_pop2.csv')\n",
    "df_3.to_csv('E-T_electrolysis_RawData.csv')"
   ]
  },
  {
   "cell_type": "markdown",
   "metadata": {},
   "source": [
    "#### Convert to GIF"
   ]
  },
  {
   "cell_type": "code",
   "execution_count": 436,
   "metadata": {
    "ExecuteTime": {
     "end_time": "2020-12-13T12:35:42.605681Z",
     "start_time": "2020-12-13T12:33:33.342517Z"
    },
    "code_folding": [
     0
    ],
    "scrolled": true
   },
   "outputs": [
    {
     "name": "stderr",
     "output_type": "stream",
     "text": [
      "100%|████████████████████████████████████████████████████████████████████████████████| 599/599 [02:09<00:00,  4.63it/s]\n"
     ]
    }
   ],
   "source": [
    "# Convert E-A-D gif\n",
    "azim = -45\n",
    "elev = 15\n",
    "plt.ion()\n",
    "for t in tqdm(range(50, 30000, 50)):\n",
    "    plt.clf()\n",
    "    fig = plt.gcf()\n",
    "    ax = fig.gca(projection='3d')\n",
    "    ax.view_init(elev, azim)\n",
    "    \n",
    "    Time_1_idx = np.where(Time[cls_KKM[0]] <= t)[0]\n",
    "    Time_2_idx = np.where(Time[cls_KKM[1]] <= t)[0]\n",
    "\n",
    "    if list(Time_1_idx):\n",
    "        ax.scatter3D(np.log10(Amp)[cls_KKM[0]][:Time_1_idx[-1]+1], np.log10(Eny)[cls_KKM[0]][:Time_1_idx[-1]+1], np.log10(Dur)[cls_KKM[0]][:Time_1_idx[-1]+1], s=15, color=color_1)\n",
    "    if list(Time_2_idx):\n",
    "        ax.scatter3D(np.log10(Amp)[cls_KKM[1]][:Time_2_idx[-1]+1], np.log10(Eny)[cls_KKM[1]][:Time_2_idx[-1]+1], np.log10(Dur)[cls_KKM[1]][:Time_2_idx[-1]+1], s=15, color=color_2)\n",
    "    plot_norm(ax, xlabelz[0], xlabelz[2], xlabelz[1], x_lim=[1, 4], y_lim=[-1, 4.5], z_lim=[0.5, 4], legend=False)\n",
    "    \n",
    "#     plt.pause(0.001)\n",
    "    try:\n",
    "        plt.savefig('./gif/E-A-D_3dim/' + str(t))\n",
    "    except FileNotFoundError:\n",
    "        os.mkdir('./gif/E-A-D_3dim/')\n",
    "        plt.savefig('./gif/E-A-D_3dim/' + str(t))\n",
    "    plt.ioff()"
   ]
  },
  {
   "cell_type": "code",
   "execution_count": null,
   "metadata": {
    "code_folding": [
     0
    ]
   },
   "outputs": [],
   "source": [
    "# Convert E-T gif\n",
    "plt.ion()\n",
    "for t in tqdm(range(100, 30000, 50)):\n",
    "    plt.clf()\n",
    "    fig = plt.gcf()\n",
    "    ax = fig.gca(projection='3d')\n",
    "    \n",
    "    Time_1_idx = np.where(Time[cls_KKM[0]] <= t)[0]\n",
    "    Time_2_idx = np.where(Time[cls_KKM[1]] <= t)[0]\n",
    "    time_idx = np.where(time <= t)[0]\n",
    "    \n",
    "    fig = plt.figure(figsize=[6, 3.9])\n",
    "    ax = plt.subplot()\n",
    "    if list(Time_1_idx):\n",
    "        ax.bar(Time[cls_KKM[0]][:Time_1_idx[-1]+1], Eny[cls_KKM[0]][:Time_1_idx[-1]+1], color=color_1, width=55, log=True, label='Population 1')\n",
    "    if list(Time_2_idx):\n",
    "        ax.bar(Time[cls_KKM[1]][:Time_2_idx[-1]+1], Eny[cls_KKM[1]][:Time_2_idx[-1]+1], color=color_2, width=55, log=True, label='Population 2')\n",
    "    plot_norm(ax, xlabelz[0], xlabelz[2], x_lim=[0, 29000], y_lim=[0, 15000], legend_loc='upper right')\n",
    "\n",
    "    ax2 = ax.twinx()\n",
    "    ax2.plot(time[:time_idx[-1]], res[:time_idx[-1]], 'r', lw=3)\n",
    "    plot_norm(ax2, 'Time (s)', 'Stress (MPa)', x_lim=[0, 29000], y_lim=[0, 700], legend=False, font_color='r')\n",
    "\n",
    "    ax3 = ax.twiny()\n",
    "    for key in ['right', 'top']:\n",
    "        ax3.spines[key].set_color('r')\n",
    "    plot_norm(ax3, 'Strain (%)', x_lim=[0, strain_max], y_lim=[0, 15000], legend=False, font_color='r')\n",
    "    \n",
    "#     plt.pause(0.001)\n",
    "    try:\n",
    "        plt.savefig('./gif/E-T/' + str(t))\n",
    "    except FileNotFoundError:\n",
    "        os.mkdir('./gif/E-T/')\n",
    "        plt.savefig('./gif/E-T/' + str(t))\n",
    "    plt.ioff()"
   ]
  },
  {
   "cell_type": "markdown",
   "metadata": {},
   "source": [
    "#### E-T curve"
   ]
  },
  {
   "cell_type": "code",
   "execution_count": 338,
   "metadata": {
    "ExecuteTime": {
     "end_time": "2020-12-23T07:30:05.171214Z",
     "start_time": "2020-12-23T07:30:05.144183Z"
    },
    "code_folding": [
     0,
     13
    ]
   },
   "outputs": [],
   "source": [
    "def load_stress(path_curve):\n",
    "    data = pd.read_csv(path_curve, encoding='gbk').drop(index=[0]).astype('float32')\n",
    "    data_drop = data.drop_duplicates(['拉伸应变 (应变 1)'])\n",
    "    time = np.array(data_drop.iloc[:, 0])\n",
    "    displace = np.array(data_drop.iloc[:, 1])\n",
    "    load = np.array(data_drop.iloc[:, 2])\n",
    "    strain = np.array(data_drop.iloc[:, 3])\n",
    "    stress = np.array(data_drop.iloc[:, 4])\n",
    "    sort_idx = np.argsort(strain)\n",
    "    strain = strain[sort_idx]\n",
    "    stress = stress[sort_idx]\n",
    "    return time, displace, load, strain, stress\n",
    "\n",
    "def smooth_curve(time, stress, window_length=99, polyorder=1, epoch=200, curoff=[2500, 25000]):\n",
    "    y_smooth = savgol_filter(stress, window_length, polyorder, mode= 'nearest')\n",
    "    for i in range(epoch):\n",
    "        if i == 5:\n",
    "            front = y_smooth\n",
    "        y_smooth = savgol_filter(y_smooth, window_length, polyorder, mode= 'nearest')\n",
    "\n",
    "    front_idx = np.where(time < curoff[0])[0][-1]\n",
    "    rest_idx = np.where(time > curoff[1])[0][0]\n",
    "    res = np.concatenate((stress[:40], front[40:front_idx], y_smooth[front_idx:rest_idx], stress[rest_idx:]))\n",
    "    return res"
   ]
  },
  {
   "cell_type": "code",
   "execution_count": 352,
   "metadata": {
    "ExecuteTime": {
     "end_time": "2020-12-23T07:47:12.093400Z",
     "start_time": "2020-12-23T07:47:11.228406Z"
    }
   },
   "outputs": [
    {
     "data": {
      "text/plain": [
       "[<matplotlib.lines.Line2D at 0x1f884ef1d00>]"
      ]
     },
     "execution_count": 352,
     "metadata": {},
     "output_type": "execute_result"
    }
   ],
   "source": [
    "path_curve = r'E:\\data\\vallen\\Ni-tension test-electrolysis-1-0.01-AE-20201031\\Ni-tension test-electrolysis-1-0.01-20201031.is_tens_RawData\\Specimen_RawData_1.csv'\n",
    "time, displace, load, strain, stress = load_stress(path_curve)\n",
    "smooth_stress = smooth_curve(time, stress)\n",
    "smooth_load = smooth_curve(time, load)\n",
    "strain_max = strain[-1] * 29000 / Time[-1]\n",
    "\n",
    "# fig = plt.figure(figsize=[6, 3.9])\n",
    "# ax = plt.subplot()\n",
    "# # ax.plot(strain, stress, 'black')\n",
    "# # ax.plot(strain, smooth_stress, 'y')\n",
    "# ax.plot(displace, smooth_load, 'g')"
   ]
  },
  {
   "cell_type": "code",
   "execution_count": 343,
   "metadata": {
    "ExecuteTime": {
     "end_time": "2020-12-23T07:33:13.048106Z",
     "start_time": "2020-12-23T07:33:12.309110Z"
    },
    "scrolled": false
   },
   "outputs": [],
   "source": [
    "t = 29900\n",
    "Time_1_idx = np.where(Time[cls_KKM[0]] <= t)[0]\n",
    "Time_2_idx = np.where(Time[cls_KKM[1]] <= t)[0]\n",
    "time_idx = np.where(time <= t)[0]\n",
    "\n",
    "fig = plt.figure(figsize=[6, 3.9])\n",
    "ax = plt.subplot()\n",
    "# ax.bar(Time[cls_KKM[0]][:Time_1_idx[-1]+1], Eny[cls_KKM[0]][:Time_1_idx[-1]+1], color=color_1, width=55, log=True, label='Population 1')\n",
    "# ax.bar(Time[cls_KKM[1]][:Time_2_idx[-1]+1], Eny[cls_KKM[1]][:Time_2_idx[-1]+1], color=color_2, width=55, log=True, label='Population 2')\n",
    "ax.semilogy(Time[cls_KKM[0]][:Time_1_idx[-1]+1], Eny[cls_KKM[0]][:Time_1_idx[-1]+1], '.', Marker='.', color=color_1, label='Population 1')\n",
    "ax.semilogy(Time[cls_KKM[1]][:Time_2_idx[-1]+1], Eny[cls_KKM[1]][:Time_2_idx[-1]+1], '.', Marker='.', color=color_2, label='Population 2')\n",
    "plot_norm(ax, 'Time (s)', 'Energy (aJ)', x_lim=[0, 29000], y_lim=[0, 15000], legend_loc='upper right')\n",
    "\n",
    "ax2 = ax.twinx()\n",
    "ax2.plot(time[:time_idx[-1]], smooth_stress[:time_idx[-1]], 'r', lw=3)\n",
    "plot_norm(ax2, 'Time (s)', 'Stress (MPa)', x_lim=[0, 29000], y_lim=[0, 700], legend=False, font_color='r')\n",
    "\n",
    "ax3 = ax.twiny()\n",
    "for key in ['right', 'top']:\n",
    "    ax3.spines[key].set_color('r')\n",
    "plot_norm(ax3, 'Strain (%)', x_lim=[0, strain_max], y_lim=[0, 15000], legend=False, font_color='r')"
   ]
  },
  {
   "cell_type": "markdown",
   "metadata": {},
   "source": [
    "### Feature selection"
   ]
  },
  {
   "cell_type": "markdown",
   "metadata": {},
   "source": [
    "#### Convert to GIF"
   ]
  },
  {
   "cell_type": "code",
   "execution_count": null,
   "metadata": {
    "ExecuteTime": {
     "end_time": "2020-11-27T03:31:11.361395Z",
     "start_time": "2020-11-27T03:29:50.136283Z"
    },
    "code_folding": [
     3
    ]
   },
   "outputs": [],
   "source": [
    "azim = -135\n",
    "elev = 20\n",
    "plt.ion()\n",
    "for i in range(360):\n",
    "    plt.clf()\n",
    "    fig = plt.gcf()\n",
    "    ax = fig.gca(projection='3d')\n",
    "    ax.view_init(elev, azim)\n",
    "#     ax.scatter3D(S_[:, 0], S_[:, 1], S_[:, 2], cmap='Blues')\n",
    "#     ax.scatter3D(S_[cls_1_KKM, 0], S_[cls_1_KKM, 1], S_[cls_1_KKM, 2], s=15, c='blue', label='Class 2')\n",
    "#     ax.scatter3D(S_[cls_2_KKM, 0], S_[cls_2_KKM, 1], S_[cls_2_KKM, 2], s=15, c='red', label='Class 1')\n",
    "    ax.scatter3D(np.log10(Amp)[cls_2_KKM], np.log10(Eny)[cls_2_KKM], np.log10(Dur)[cls_2_KKM], s=15, c='blue', label='Class 2')\n",
    "    ax.scatter3D(np.log10(Amp)[cls_1_KKM], np.log10(Eny)[cls_1_KKM], np.log10(Dur)[cls_1_KKM], s=15, c='red', label='Class 1')\n",
    "    plot_norm(ax, 'Amplitude(μV)', 'Energy(aJ)', 'Duration(μs)', 'Chan 2', legend=False)\n",
    "    # 'Amplitude(μV)', 'Energy(aJ)', 'Duration(μs)'\n",
    "    # 'Component 1', 'Component 2', 'Component 3'\n",
    "#     plt.pause(0.001)\n",
    "    elev, azim = ax.elev, ax.azim - 1\n",
    "    try:\n",
    "        plt.savefig('./gif/res_E-A-D-C_2dim/' + str(i))\n",
    "    except FileNotFoundError:\n",
    "        os.mkdir('./gif/res_E-A-D-C_2dim/')\n",
    "        plt.savefig('./gif/res_E-A-D-C_2dim/' + str(i))\n",
    "    plt.ioff()"
   ]
  },
  {
   "cell_type": "markdown",
   "metadata": {},
   "source": [
    "#### Classify with features"
   ]
  },
  {
   "cell_type": "code",
   "execution_count": 247,
   "metadata": {
    "ExecuteTime": {
     "end_time": "2020-12-23T13:34:13.901437Z",
     "start_time": "2020-12-23T13:34:13.792437Z"
    }
   },
   "outputs": [
    {
     "name": "stdout",
     "output_type": "stream",
     "text": [
      "Converged at iteration 15\n"
     ]
    }
   ],
   "source": [
    "'''\n",
    "Ni-electrolysis-2-100\n",
    "Ni-pure-2-100\n",
    "Al-3-55\n",
    "'''\n",
    "S_, A_ = ICA(3, 'ica', np.log10(Amp), np.log10(Eny), np.log10(Dur))\n",
    "km = KernelKMeans(n_clusters=2, max_iter=100, random_state=55, verbose=1, kernel=\"rbf\")\n",
    "pred = km.fit_predict(S_)\n",
    "cls_KKM = []\n",
    "for i in range(2):\n",
    "    cls_KKM .append(pred == i)\n",
    "# cls_KKM[0], cls_KKM[1] = pred == 1, pred == 0"
   ]
  },
  {
   "cell_type": "code",
   "execution_count": 15,
   "metadata": {
    "ExecuteTime": {
     "end_time": "2020-12-23T09:31:46.012293Z",
     "start_time": "2020-12-23T09:31:45.873295Z"
    }
   },
   "outputs": [],
   "source": [
    "# 3D\n",
    "fig = plt.figure(figsize=[6, 4.5])\n",
    "ax = plt.subplot(projection='3d')\n",
    "\n",
    "# ax.scatter3D(S_[:, 0], S_[:, 1], S_[:, 2], cmap='Blues')\n",
    "# ax.scatter3D(np.log10(Amp), np.log10(Eny), np.log10(Dur), cmap='Blues')\n",
    "for i, color in enumerate([color_1, color_2]):\n",
    "    ax.scatter3D(np.log10(Amp)[cls_KKM[i]], np.log10(Eny)[cls_KKM[i]], np.log10(Dur)[cls_KKM[i]], s=15, color=color)\n",
    "    \n",
    "# ax.scatter3D(np.log10(Amp)[cls_KKM[0]][points_2_3], np.log10(Eny)[cls_KKM[0]][points_2_3], np.log10(Dur)[cls_KKM[0]][points_2_3], s=75, c='green', label='Class 2')\n",
    "# ax.scatter3D(np.log10(Amp)[cls_KKM[1]][points_1_3], np.log10(Eny)[cls_KKM[1]][points_1_3], np.log10(Dur)[cls_KKM[1]][points_1_3], s=75, c='black', label='Class 1')\n",
    "\n",
    "plot_norm(ax, 'Component 1', 'Component 2', 'Component 3', 'Chan 2', legend=False)"
   ]
  },
  {
   "cell_type": "code",
   "execution_count": 36,
   "metadata": {
    "ExecuteTime": {
     "end_time": "2020-12-22T02:11:01.464961Z",
     "start_time": "2020-12-22T02:11:01.332967Z"
    },
    "scrolled": false
   },
   "outputs": [
    {
     "name": "stderr",
     "output_type": "stream",
     "text": [
      "No handles with labels found to put in legend.\n"
     ]
    }
   ],
   "source": [
    "# 2D\n",
    "fig = plt.figure(figsize=[6, 3.9])\n",
    "ax2 = plt.subplot()\n",
    "\n",
    "# ax2.scatter(S_[:, 0], S_[:, 1], s=15, c=color_2)\n",
    "# ax2.loglog(Amp, Eny, '.', Marker='.', color=color_2)\n",
    "for i, color in enumerate([color_1, color_2]):\n",
    "    ax2.scatter(S_[cls_KKM[i], 0], S_[cls_KKM[i], 1], s=15, color=color)\n",
    "#     ax2.loglog(Dur[cls_KKM[i]], Eny[cls_KKM[i]], '.', markersize=8, marker='.', color=color, label='Population %d'%(i+1))\n",
    "\n",
    "# ax2.loglog(Amp[cls_KKM[0]][idx_same_amp_1], Eny[cls_KKM[0]][idx_same_amp_1], '.', markersize=8, marker='.', color='black')\n",
    "# ax2.loglog(Amp[cls_KKM[1]][idx_same_amp_2], Eny[cls_KKM[1]][idx_same_amp_2], '.', markersize=8, marker='.', color='black')\n",
    "# ax2.loglog(Amp[cls_KKM[1]], Eny[cls_KKM[1]], '.', markersize=8, Marker='.', color='black')\n",
    "\n",
    "plot_norm(ax2, 'Duration (μs)', 'Energy (aJ)')\n",
    "# 'Duration (μs)', 'Amplitude (μV)', 'Energy (aJ)', 'Component 1', 'Component 2'"
   ]
  },
  {
   "cell_type": "markdown",
   "metadata": {},
   "source": [
    "#### Classify with frequency"
   ]
  },
  {
   "cell_type": "code",
   "execution_count": 92,
   "metadata": {
    "ExecuteTime": {
     "end_time": "2020-12-22T03:26:34.820806Z",
     "start_time": "2020-12-22T03:26:34.789822Z"
    },
    "code_folding": [
     0
    ]
   },
   "outputs": [],
   "source": [
    "def plot_signal_decomp(data, w, n, title):\n",
    "    \"\"\"Decompose and plot a signal S.\n",
    "    S = An + Dn + Dn-1 + ... + D1\n",
    "    \"\"\"\n",
    "    w = pywt.Wavelet(w) #选取小波函数\n",
    "    a = data\n",
    "    ca = [] #近似分量\n",
    "    cd = [] #细节分量\n",
    "    for i in range(n):\n",
    "        (a, d) = pywt.dwt(a, w, pywt.Modes.smooth) #进行5阶离散小波变换\n",
    "        ca.append(a)\n",
    "        cd.append(d)\n",
    "\n",
    "    rec_a = []\n",
    "    rec_d = []\n",
    "\n",
    "    for i, coeff in enumerate(ca):\n",
    "        \"\"\"\n",
    "        waverec()返回list，[cAn, cDn, cDn-1, …, cD2, cD1]，\n",
    "        n为分解阶次，cAn是逼近系数数组，后面的依次是细节系数数组\n",
    "        [coeff, None] + [None] * i 是重构低频\n",
    "        \"\"\"\n",
    "        coeff_list = [coeff, None] + [None] * i\n",
    "        rec_a.append(pywt.waverec(coeff_list, w)) #重构\n",
    "\n",
    "    for i, coeff in enumerate(cd):\n",
    "        \"\"\"\n",
    "        [coeff, None] + [None] * i 是重构对角线高频\n",
    "        \"\"\"\n",
    "        coeff_list = [None, coeff] + [None] * i\n",
    "        rec_d.append(pywt.waverec(coeff_list, w))\n",
    "\n",
    "    maxlev = pywt.dwt_max_level(data.shape[0], w.dec_len)\n",
    "    threshold = 0.04\n",
    "    coeffs = pywt.wavedec(data, 'db8', level=maxlev)\n",
    "    for i in range(1, len(coeffs)):\n",
    "        coeffs[i] = pywt.threshold(coeffs[i], threshold * max(coeffs[i]))\n",
    "    datarec = pywt.waverec(coeffs, 'db8')\n",
    "        \n",
    "    fig = plt.figure()\n",
    "    title = ['Raw signal', 'De-noised signal using wavelet techniques']\n",
    "    y = [data, datarec]\n",
    "    for idx, [i, j] in enumerate(zip(title, y)):\n",
    "        ax_main = fig.add_subplot(len(rec_a) + 2, 1, idx + 1)\n",
    "        ax_main.set_title(i)\n",
    "        ax_main.plot(j)\n",
    "        ax_main.set_xlim(0, len(data) - 1)\n",
    "\n",
    "    for i, y in enumerate(rec_a):\n",
    "        ax = fig.add_subplot(len(rec_a) + 2, 2, 5 + i * 2)\n",
    "        ax.plot(y, 'r')\n",
    "        ax.set_xlim(0, len(y) - 1)\n",
    "        ax.set_ylabel(\"A%d\" % (i + 1))\n",
    "\n",
    "    for i, y in enumerate(rec_d):\n",
    "        ax = fig.add_subplot(len(rec_d) + 2, 2, 6 + i * 2)\n",
    "        ax.plot(y, 'g')\n",
    "        ax.set_xlim(0, len(y) - 1)\n",
    "        ax.set_ylabel(\"D%d\" % (i + 1))\n",
    "    plt.tight_layout()"
   ]
  },
  {
   "cell_type": "code",
   "execution_count": null,
   "metadata": {
    "ExecuteTime": {
     "end_time": "2020-12-22T08:45:33.323683Z",
     "start_time": "2020-12-22T08:45:33.311653Z"
    }
   },
   "outputs": [],
   "source": [
    "waveform = Waveform(color_1, color_2, data_tra, path, path_pri, 'Ni-electrolysis', 'vallen')\n",
    "frequency = Frequency(color_1, color_2, data_tra, path, path_pri, 'Ni-electrolysis', 'vallen')"
   ]
  },
  {
   "cell_type": "code",
   "execution_count": null,
   "metadata": {
    "ExecuteTime": {
     "end_time": "2020-12-22T09:00:31.390477Z",
     "start_time": "2020-12-22T09:00:31.344477Z"
    }
   },
   "outputs": [],
   "source": [
    "time, sig = waveform.cal_wave(data_tra[323 - 1])\n",
    "# plot_signal_decomp(sig, 'db8', 5, \"DWT: Sample - db8\")\n",
    "frequency.cla_wtpacket(sig, 'db8', 3, False)"
   ]
  },
  {
   "cell_type": "code",
   "execution_count": 95,
   "metadata": {
    "ExecuteTime": {
     "end_time": "2020-12-22T03:28:44.958641Z",
     "start_time": "2020-12-22T03:28:44.421646Z"
    }
   },
   "outputs": [
    {
     "name": "stderr",
     "output_type": "stream",
     "text": [
      "100%|██████████████████████████████████████████████████████████████████████████████| 515/515 [00:00<00:00, 1001.95it/s]\n"
     ]
    }
   ],
   "source": [
    "# Wavelet Packet\n",
    "wpd = []\n",
    "for trai in tqdm(chan[:, -1].astype(int)):\n",
    "    _, sig = waveform.cal_wave(data_tra[trai - 1])\n",
    "    energy = wpd_plt(sig, 'db8', 3, False)\n",
    "    wpd.append(energy)\n",
    "wpd = np.array(wpd)"
   ]
  },
  {
   "cell_type": "markdown",
   "metadata": {},
   "source": [
    "##### Show all waveforms"
   ]
  },
  {
   "cell_type": "code",
   "execution_count": 330,
   "metadata": {
    "ExecuteTime": {
     "end_time": "2020-12-22T09:25:37.962485Z",
     "start_time": "2020-12-22T09:25:36.900662Z"
    }
   },
   "outputs": [
    {
     "name": "stderr",
     "output_type": "stream",
     "text": [
      "100%|███████████████████████████████████████████████████████████████████████████████| 515/515 [00:01<00:00, 496.22it/s]\n"
     ]
    }
   ],
   "source": [
    "freq, stage_idx = frequency.cal_freq_max(chan[:, -1].astype(int), status='peak')"
   ]
  },
  {
   "cell_type": "code",
   "execution_count": 162,
   "metadata": {
    "ExecuteTime": {
     "end_time": "2020-12-22T06:47:44.693937Z",
     "start_time": "2020-12-22T06:47:42.973942Z"
    }
   },
   "outputs": [],
   "source": [
    "all_trai = chan[:, -1].astype('int')\n",
    "cls_1_idx = np.where(np.array(stage_idx) == 1)[0]\n",
    "cls_2_idx = np.where(np.array(stage_idx) == 2)[0]\n",
    "cls_3_idx = np.where(np.array(stage_idx) == 3)[0]\n",
    "for idx, i in enumerate([cls_1_idx, cls_2_idx, cls_3_idx]):\n",
    "    Res = frequency.cal_ave_freq(all_trai[i])\n",
    "    frequency.plot_ave_freq(Res, i.shape[0], str(idx+1))"
   ]
  },
  {
   "cell_type": "code",
   "execution_count": 317,
   "metadata": {
    "ExecuteTime": {
     "end_time": "2020-12-22T08:47:49.057516Z",
     "start_time": "2020-12-22T08:47:48.912550Z"
    }
   },
   "outputs": [],
   "source": [
    "for i in cls_1_idx[:1]:\n",
    "    waveform.plot_wave_TRAI(all_trai[i])"
   ]
  },
  {
   "cell_type": "code",
   "execution_count": 336,
   "metadata": {
    "ExecuteTime": {
     "end_time": "2020-12-23T07:59:54.913305Z",
     "start_time": "2020-12-23T07:59:54.872339Z"
    },
    "scrolled": true
   },
   "outputs": [],
   "source": [
    "frequency.plot_wave_frequency(57961, True, 3, True, True)"
   ]
  },
  {
   "cell_type": "code",
   "execution_count": 326,
   "metadata": {
    "ExecuteTime": {
     "end_time": "2020-12-22T08:59:15.201689Z",
     "start_time": "2020-12-22T08:59:15.041688Z"
    }
   },
   "outputs": [
    {
     "data": {
      "text/plain": [
       "<matplotlib.collections.PathCollection at 0x1f884feb4f0>"
      ]
     },
     "execution_count": 326,
     "metadata": {},
     "output_type": "execute_result"
    }
   ],
   "source": [
    "fig = plt.figure(figsize=[6, 4.5])\n",
    "ax = plt.subplot()\n",
    "ax.scatter(freq, [1 for _ in range(freq.shape[0])])"
   ]
  },
  {
   "cell_type": "code",
   "execution_count": null,
   "metadata": {
    "ExecuteTime": {
     "end_time": "2020-12-02T09:31:39.450770Z",
     "start_time": "2020-12-02T09:31:39.436773Z"
    },
    "scrolled": true
   },
   "outputs": [],
   "source": [
    "np.random.seed(10)\n",
    "b = np.random.permutation(chan[:, -1].astype(int))"
   ]
  },
  {
   "cell_type": "markdown",
   "metadata": {},
   "source": [
    "##### Main"
   ]
  },
  {
   "cell_type": "code",
   "execution_count": 277,
   "metadata": {
    "ExecuteTime": {
     "end_time": "2020-12-22T07:57:06.893464Z",
     "start_time": "2020-12-22T07:57:06.828468Z"
    },
    "scrolled": true
   },
   "outputs": [
    {
     "name": "stdout",
     "output_type": "stream",
     "text": [
      "Converged at iteration 13\n"
     ]
    }
   ],
   "source": [
    "S_, A_ = ICA(3, 'ica', np.log10(Amp), np.log10(Eny), np.log10(Dur), freq)\n",
    "# S_, A_ = ICA(3, 'ica', np.log10(Amp), np.log10(Eny), np.log10(Dur), freq, wpd[:, 0], wpd[:, 1], wpd[:, 2], wpd[:, 3], wpd[:, 4], wpd[:, 5], wpd[:, 6], wpd[:, 7])\n",
    "km = KernelKMeans(n_clusters=8, max_iter=100, random_state=100, verbose=1, kernel=\"rbf\")\n",
    "pred = km.fit_predict(S_)\n",
    "cls_KKM = []\n",
    "for i in range(8):\n",
    "    cls_KKM.append(pred == i)"
   ]
  },
  {
   "cell_type": "code",
   "execution_count": 281,
   "metadata": {
    "ExecuteTime": {
     "end_time": "2020-12-22T07:59:10.852314Z",
     "start_time": "2020-12-22T07:59:10.718316Z"
    }
   },
   "outputs": [],
   "source": [
    "# 3D\n",
    "fig = plt.figure(figsize=[6, 4.5])\n",
    "ax = plt.subplot(projection='3d')\n",
    "\n",
    "ax.scatter3D(S_[:, 0], S_[:, 1], S_[:, 2], cmap='Blues')\n",
    "\n",
    "plot_norm(ax, 'First peak', 'Second peak', 'Third peak', 'Chan 2', legend=False)"
   ]
  },
  {
   "cell_type": "code",
   "execution_count": 307,
   "metadata": {
    "ExecuteTime": {
     "end_time": "2020-12-22T08:11:35.257533Z",
     "start_time": "2020-12-22T08:11:35.117509Z"
    },
    "scrolled": false
   },
   "outputs": [],
   "source": [
    "fig = plt.figure(figsize=[6, 3.9])\n",
    "ax = plt.subplot(projection='3d')\n",
    "\n",
    "# ax.scatter3D(S_[:, 0], S_[:, 1], S_[:, 2], cmap='Blues')\n",
    "color_all = [[1, 0, 1], [0, 0, 1], [0, 1, 0], [1, 0, 0], [0.5, 0.5, 0.5], [1, 0.3, 0], [0, 0, 0], [0, 1, 1]]\n",
    "for i, color in enumerate(color_all[:4]):\n",
    "#     ax.scatter3D(np.log10(Amp)[cls_KKM[i]], np.log10(Eny)[cls_KKM[i]], np.log10(Dur)[cls_KKM[i]], s=15, color=color)\n",
    "    ax.scatter3D(S_[cls_KKM[i], 0], S_[cls_KKM[i], 1], S_[cls_KKM[i], 2], s=15, color=color)\n",
    "plot_norm(ax, 'Component 1', 'Component 2', 'Component 3', 'Chan 2', legend=False)\n",
    "\n",
    "# fig = plt.figure(figsize=[6, 3.9], num='The first three frequency')\n",
    "# ax2 = plt.subplot(projection='3d')\n",
    "\n",
    "# for i, color in enumerate([[1, 0, 1], [0, 0, 1], [0, 1, 0], [1, 0, 0], [0.5, 0.5, 0.5], [1, 0.3, 0], [0, 0, 0], [0, 1, 1]]):\n",
    "#     ax2.scatter3D(freq[cls_KKM[i], 0], freq[cls_KKM[i], 1], freq[cls_KKM[i], 2], s=15, color=color)\n",
    "# plot_norm(ax2, 'First peak', 'Second peak', 'Third peak', 'Chan 2', legend=False)"
   ]
  },
  {
   "cell_type": "code",
   "execution_count": null,
   "metadata": {
    "ExecuteTime": {
     "end_time": "2020-12-02T09:38:58.938057Z",
     "start_time": "2020-12-02T09:38:58.924093Z"
    },
    "code_folding": []
   },
   "outputs": [],
   "source": [
    "TRAI = []\n",
    "for i in range(len(cls_KKM)):\n",
    "    TRAI.append(chan[cls_KKM[i]][:, -1].astype(int))"
   ]
  },
  {
   "cell_type": "code",
   "execution_count": null,
   "metadata": {
    "ExecuteTime": {
     "end_time": "2020-12-22T07:41:29.421600Z",
     "start_time": "2020-12-22T07:41:29.404592Z"
    }
   },
   "outputs": [],
   "source": [
    "frequency = Frequency(color_1, color_2, data_tra, path, path_pri)\n",
    "for i, title in enumerate(['POP ' + str(i+1) for i in range(8)]):\n",
    "    Res = frequency.cal_ave_freq(TRAI[i])\n",
    "    frequency.plot_ave_freq(Res, TRAI[i].shape[0], title)"
   ]
  },
  {
   "cell_type": "markdown",
   "metadata": {},
   "source": [
    "### Find Wave"
   ]
  },
  {
   "cell_type": "code",
   "execution_count": null,
   "metadata": {
    "ExecuteTime": {
     "end_time": "2020-11-28T08:29:50.887573Z",
     "start_time": "2020-11-28T08:29:50.875572Z"
    },
    "scrolled": true
   },
   "outputs": [],
   "source": [
    "min(np.log10(Amp)[cls_1_KKM]), max(np.log10(Amp)[cls_1_KKM])"
   ]
  },
  {
   "cell_type": "code",
   "execution_count": null,
   "metadata": {},
   "outputs": [],
   "source": [
    "# A-D electrolysis\n",
    "a = [16, 91, 94, 129, 104, 128, 176]\n",
    "b = [11, 103, 12, 113, 276, 146, 140]"
   ]
  },
  {
   "cell_type": "code",
   "execution_count": null,
   "metadata": {
    "ExecuteTime": {
     "end_time": "2020-12-03T07:15:09.219455Z",
     "start_time": "2020-12-03T07:15:09.215867Z"
    }
   },
   "outputs": [],
   "source": [
    "# E-A pure\n",
    "a = [82, 56, 127, 45]\n",
    "b = [32, 47, 57, 46]"
   ]
  },
  {
   "cell_type": "code",
   "execution_count": null,
   "metadata": {},
   "outputs": [],
   "source": [
    "tmp = 0\n",
    "for i, j in zip(a, b):\n",
    "    tmp += Eny[cls_KKM[1]][j] / Eny[cls_KKM[0]][i]\n",
    "tmp = tmp / len(a)\n",
    "tmp"
   ]
  },
  {
   "cell_type": "code",
   "execution_count": 234,
   "metadata": {
    "ExecuteTime": {
     "end_time": "2020-12-09T07:32:40.766196Z",
     "start_time": "2020-12-09T07:32:40.750201Z"
    },
    "code_folding": [],
    "scrolled": true
   },
   "outputs": [
    {
     "name": "stdout",
     "output_type": "stream",
     "text": [
      "22 299.22635404246165 236.85586802975618 6300\n",
      "128 282.48264109062717 238.8925824525963 22112\n",
      "--------------------------------------------------\n",
      "29 299.22635404246165 80.87650632504395 2345\n",
      "146 286.8035992717457 50.799943560134835 11266\n",
      "184 288.4239585896652 65.76574186361822 18224\n"
     ]
    }
   ],
   "source": [
    "for i in np.where((Amp[cls_KKM[0]] > 280) & (Amp[cls_KKM[0]] < 300) & (Eny[cls_KKM[0]] > 100))[0]:\n",
    "    # Idx, Dur, Eny, TRAI\n",
    "    print(i, Amp[cls_KKM[0]][i], Eny[cls_KKM[0]][i], '{:.0f}'.format(chan[cls_KKM[0]][i][-1]))\n",
    "print('-'*50)\n",
    "for i in np.where((Amp[cls_KKM[1]] > 280) & (Amp[cls_KKM[1]] < 300) & (Eny[cls_KKM[1]] < 100))[0]:\n",
    "    # Idx, Dur, Eny, TRAI\n",
    "#     if i == 12:\n",
    "#         print(np.log10(Dur)[cls_KKM[1]][i], np.log10(Amp)[cls_KKM[1]][i])\n",
    "    print(i, Amp[cls_KKM[1]][i], Eny[cls_KKM[1]][i], '{:.0f}'.format(chan[cls_KKM[1]][i][-1]))"
   ]
  },
  {
   "cell_type": "markdown",
   "metadata": {},
   "source": [
    "### PDF & CCDF & ML Curve"
   ]
  },
  {
   "cell_type": "code",
   "execution_count": 281,
   "metadata": {
    "ExecuteTime": {
     "end_time": "2020-12-23T14:21:08.676106Z",
     "start_time": "2020-12-23T14:21:08.231108Z"
    },
    "code_folding": [
     1,
     9,
     22,
     29,
     82,
     99,
     117,
     150,
     179,
     204,
     245,
     262,
     305,
     315,
     347,
     371
    ]
   },
   "outputs": [],
   "source": [
    "class Features:\n",
    "    def __init__(self, color_1, color_2, time, feature_idx, status):\n",
    "        self.color_1 = color_1\n",
    "        self.color_2 = color_2\n",
    "        self.time = time\n",
    "        self.feature_idx = feature_idx\n",
    "        self.convert = lambda x, a, b: pow(x, a) * pow(10, b)\n",
    "        self.status = status\n",
    "\n",
    "    def cal_interval(self, tmp, interval):\n",
    "        tmp_max = int(max(tmp))\n",
    "        tmp_min = int(min(tmp))\n",
    "        if tmp_min <= 0:\n",
    "            inter = [0] + [pow(10, i) for i in range(len(str(tmp_max)))]\n",
    "            mid = [interval * pow(10, i) for i in range(len(str(tmp_max)) + 1)]\n",
    "        else:\n",
    "            inter = [pow(10, i) for i in range(len(str(tmp_min)) - 1,\n",
    "                                               len(str(tmp_max)))]\n",
    "            mid = [interval * pow(10, i) for i in range(len(str(tmp_min)), \n",
    "                                                        len(str(tmp_max)) + 1)]\n",
    "        return inter, mid\n",
    "\n",
    "    def cal_negtive_interval(self, res, interval):\n",
    "        tmp = sorted(np.array(res))\n",
    "        tmp_min, tmp_max = math.floor(np.log10(min(tmp))), math.ceil(np.log10(max(tmp)))\n",
    "        inter = [pow(10, i) for i in range(tmp_min, tmp_max+1)]\n",
    "        mid = [interval * pow(10, i) for i in range(tmp_min+1, tmp_max+2)]\n",
    "        return inter, mid\n",
    "\n",
    "    def cal_linear(self, tmp, inter, mid, interval_num, idx=0):\n",
    "        # 初始化横坐标\n",
    "        x = np.array([])\n",
    "        for i in inter:\n",
    "            if i != 0:\n",
    "                x = np.append(x, np.linspace(i, i * 10, interval_num, endpoint=False))\n",
    "            else:\n",
    "                x = np.append(x, np.linspace(i, 1, interval_num, endpoint=False))\n",
    "\n",
    "        # 初始化纵坐标\n",
    "        y = np.zeros(x.shape[0])\n",
    "        for i, n in Counter(tmp).items():\n",
    "            while True:\n",
    "                try:\n",
    "                    if x[idx] <= i < x[idx + 1]:\n",
    "                        y[idx] += n\n",
    "                        break\n",
    "                except IndexError:\n",
    "                    if x[idx] <= i:\n",
    "                        y[idx] += n\n",
    "                        break\n",
    "                idx += 1\n",
    "        \n",
    "        # 对横坐标作进一步筛选，计算概率分布值\n",
    "        x, y = x[y != 0], y[y != 0]\n",
    "        xx = np.zeros(x.shape[0])\n",
    "        yy = y / sum(y)\n",
    "\n",
    "        # 取区间终点作为该段的横坐标\n",
    "        for idx in range(len(x) - 1):\n",
    "            xx[idx] = (x[idx] + x[idx + 1]) / 2\n",
    "        xx[-1] = x[-1] + pow(10, len(str(int(x[-1]))))*(0.9/interval_num) / 2\n",
    "\n",
    "        # 计算分段区间长度，从而求得概率密度值\n",
    "        interval = []\n",
    "        for i, j in enumerate(mid):\n",
    "            try:\n",
    "                num = len(np.intersect1d(np.where(inter[i] <= xx)[0],\n",
    "                                         np.where(xx < inter[i + 1])[0]))\n",
    "                interval.extend([j] * num)\n",
    "            except IndexError:\n",
    "                num = len(np.where(inter[i] <= xx)[0])\n",
    "                interval.extend([j] * num)\n",
    "        yy = yy / np.array(interval)\n",
    "        #     # 取对数变换为线性关系\n",
    "        #     log_xx = np.log10(xx)\n",
    "        #     log_yy = np.log10(yy)\n",
    "        #     fit = np.polyfit(log_xx, log_yy, 1)\n",
    "        #     alpha = abs(fit[0])\n",
    "        #     fit_x = np.linspace(min(log_xx), max(log_xx), 100)\n",
    "        #     fit_y = np.polyval(fit, fit_x)\n",
    "        return xx, yy\n",
    "\n",
    "    def cal_N_Naft(self, tmp, eny_lim):\n",
    "        N_ms, N_as = 0, 0\n",
    "        main_peak = np.where(eny_lim[0] < tmp)[0]    \n",
    "        if len(main_peak):\n",
    "            for i in range(main_peak.shape[0] - 1):\n",
    "                if main_peak[i] >= eny_lim[1]:\n",
    "                    continue\n",
    "                elif main_peak[i+1] - main_peak[i] == 1:\n",
    "                    N_ms += tmp[main_peak[i]]\n",
    "                    continue\n",
    "                N_ms += tmp[main_peak[i]]\n",
    "                N_as += np.max(tmp[main_peak[i]+1:main_peak[i+1]])\n",
    "            if main_peak[-1] < tmp.shape[0] - 1:\n",
    "                N_as += np.max(tmp[main_peak[-1]+1:])\n",
    "            N_ms += tmp[main_peak[-1]]\n",
    "        return N_ms + N_as, N_as\n",
    "\n",
    "    def cal_OmiroLaw_helper(self, tmp, eny_lim):\n",
    "        res = [[] for _ in range(len(eny_lim))]\n",
    "        for idx in tqdm(range(len(eny_lim))):\n",
    "            main_peak = np.where((eny_lim[idx][0] < tmp) & (tmp < eny_lim[idx][1]))[0]\n",
    "            if len(main_peak):\n",
    "                for i in range(main_peak.shape[0] - 1):\n",
    "                    for j in range(main_peak[i]+1, main_peak[i+1]+1):\n",
    "                        if tmp[j] < eny_lim[idx][1]:\n",
    "                            k = self.time[j] - self.time[main_peak[i]]\n",
    "                            res[idx].append(k)\n",
    "                        else:\n",
    "                            break\n",
    "                if main_peak[-1] < tmp.shape[0] - 1:\n",
    "                    for j in range(main_peak[-1] + 1, tmp.shape[0]):\n",
    "                        k = self.time[j] - self.time[main_peak[-1]]\n",
    "                        res[idx].append(k)\n",
    "        return res\n",
    "\n",
    "    def cal_PDF(self, tmp_origin, tmp_1, tmp_2, xlabel, ylabel, features_path, LIM=[[0, None]]*3, INTERVAL_NUM=[6]*3, select=[0, 3], FIT=False):\n",
    "        fig = plt.figure(figsize=[6, 3.9], num='PDF--%s'%xlabel)\n",
    "#         fig = plt.figure(figsize=[6, 3.9])\n",
    "        fig.text(0.15, 0.2, self.status, fontdict={'family':'Arial', 'fontweight':'bold', 'fontsize':12})\n",
    "        ax = plt.subplot()\n",
    "        TMP, COLOR, LABEL = [tmp_origin, tmp_1, tmp_2], ['black', self.color_1, self.color_2], ['Whole', 'Population 1', 'Population 2']\n",
    "        if LIM[0][1] == None:\n",
    "            method = 'index'\n",
    "        elif LIM[0][1] == float('inf'):\n",
    "            method = 'value'\n",
    "        for tmp, color, label, num, lim in zip(TMP[select[0]:select[1]], COLOR[select[0]:select[1]], LABEL[select[0]:select[1]],\n",
    "                                               INTERVAL_NUM[select[0]:select[1]], LIM[select[0]:select[1]]):\n",
    "            inter, mid = self.cal_interval(tmp, num)\n",
    "            xx, yy = self.cal_linear(tmp, inter, mid, num)\n",
    "            if FIT:\n",
    "                if method == 'value':\n",
    "                    lim = np.where((xx > lim[0]) & (xx < lim[1]))[0]\n",
    "                    fit = np.polyfit(np.log10(xx[lim[0]:lim[-1]]), np.log10(yy[lim[0]:lim[-1]]), 1)\n",
    "                elif method == 'index':\n",
    "                    fit = np.polyfit(np.log10(xx[lim[0]:lim[1]]), np.log10(yy[lim[0]:lim[1]]), 1)\n",
    "                alpha, b = fit[0], fit[1]\n",
    "                fit_x = np.linspace(xx[lim[0]], xx[-1], 100)\n",
    "                fit_y = self.convert(fit_x, alpha, b)\n",
    "                ax.plot(fit_x, fit_y, '-.', lw=1, color=color)\n",
    "                ax.loglog(xx, yy, '.', marker='.', markersize=8, color=color, label='{}--{:.2f}'.format(label, abs(alpha)))\n",
    "            else:\n",
    "                ax.loglog(xx, yy, '.', marker='.', markersize=8, color=color, label=label)\n",
    "            with open(features_path[:-4] + '_{}_'.format(label) + ylabel + '.txt', 'w') as f:\n",
    "                f.write('{}, {}\\n'.format(xlabel, ylabel))\n",
    "                for j in range(len(xx)):\n",
    "                    f.write('{}, {}\\n'.format(xx[j], yy[j]))\n",
    "        plot_norm(ax, xlabel, ylabel, legend_loc='upper right')            \n",
    "\n",
    "    def cal_CCDF(self, tmp_origin, tmp_1, tmp_2, xlabel, ylabel, features_path, LIM=[[0, float('inf')]]*3, select=[0, 3], FIT=False):\n",
    "        N_origin, N1, N2 = len(tmp_origin), len(tmp_1), len(tmp_2)\n",
    "        fig = plt.figure(figsize=[6, 3.9], num='CCDF--%s' % xlabel)\n",
    "        fig.text(0.15, 0.2, self.status, fontdict={'family':'Arial', 'fontweight':'bold', 'fontsize':12})\n",
    "        ax = plt.subplot()\n",
    "        TMP, N, COLOR, LABEL = [tmp_origin, tmp_1, tmp_2], [N_origin, N1, N2], ['black', self.color_1, self.color_2], ['Whole', 'Population 1', 'Population 2']\n",
    "        for tmp, N, color, label, lim in zip(TMP[select[0]:select[1]], N[select[0]:select[1]], COLOR[select[0]:select[1]], \n",
    "                                             LABEL[select[0]:select[1]], LIM[select[0]:select[1]]):\n",
    "            xx, yy = [], []\n",
    "            for i in range(N - 1):\n",
    "                xx.append(np.mean([tmp[i], tmp[i + 1]]))\n",
    "                yy.append((N - i + 1) / N)\n",
    "            if FIT:\n",
    "                xx, yy = np.array(xx), np.array(yy)\n",
    "                fit_lim = np.where((xx > lim[0]) & (xx < lim[1]))[0]\n",
    "                fit = np.polyfit(np.log10(xx[fit_lim[0]:fit_lim[-1]]), np.log10(yy[fit_lim[0]:fit_lim[-1]]), 1)\n",
    "                alpha, b = fit[0], fit[1]\n",
    "                fit_x = np.linspace(xx[fit_lim[0]], xx[fit_lim[-1]], 100)\n",
    "                fit_y = self.convert(fit_x, alpha, b)\n",
    "                ax.plot(fit_x, fit_y, '-.', lw=1, color=color)\n",
    "                ax.loglog(xx, yy, color=color, label='{}--{:.2f}'.format(label, abs(alpha)))\n",
    "            else:\n",
    "                ax.loglog(xx, yy, color=color, label=label)\n",
    "            with open(features_path[:-4] + '_{}_'.format(label) + 'CCDF(%s).txt' % xlabel[0], 'w') as f:\n",
    "                f.write('{}, {}\\n'.format(xlabel, ylabel))\n",
    "                for j in range(len(xx)):\n",
    "                    f.write('{}, {}\\n'.format(xx[j], yy[j]))\n",
    "        plot_norm(ax, xlabel, ylabel, legend_loc='upper right')      \n",
    "\n",
    "    def cal_ML(self, tmp_origin, tmp_1, tmp_2, xlabel, ylabel, features_path, select=[0, 3]):\n",
    "        N_origin, N1, N2 = len(tmp_origin), len(tmp_1), len(tmp_2)\n",
    "        fig = plt.figure(figsize=[6, 3.9], num='ML--%s' % xlabel)\n",
    "        fig.text(0.96, 0.2, self.status, fontdict={'family':'Arial', 'fontweight':'bold', 'fontsize':12}, horizontalalignment=\"right\")\n",
    "        ax = plt.subplot()\n",
    "        ax.set_xscale(\"log\", nonposx='clip')\n",
    "        TMP, N, LAYER, COLOR, LABEL = [tmp_origin, tmp_1, tmp_2], [N_origin, N1, N2], [1, 2, 3], ['black', self.color_1, self.color_2], ['Whole', 'Population 1', 'Population 2']\n",
    "        for tmp, N, layer, color, label in zip(TMP[select[0]:select[1]], N[select[0]:select[1]], LAYER[select[0]:select[1]], COLOR[select[0]:select[1]], LABEL[select[0]:select[1]]):\n",
    "            ML_y, Error_bar = [], []\n",
    "            for j in tqdm(range(N)):\n",
    "                valid_x = sorted(tmp)[j:]\n",
    "                E0 = valid_x[0]\n",
    "                Sum = np.sum(np.log(valid_x / E0))\n",
    "                N_prime = N - j\n",
    "                alpha = 1 + N_prime / Sum\n",
    "                error_bar = (alpha - 1) / pow(N_prime, 0.5)\n",
    "                ML_y.append(alpha)\n",
    "                Error_bar.append(error_bar)\n",
    "            ax.errorbar(sorted(tmp), ML_y, yerr=Error_bar, fmt='o', ecolor=color, color=color, elinewidth=1, capsize=2, ms=3, label=label, zorder=layer)\n",
    "            with open(features_path[:-4] + '_{}_'.format(label) + 'ML(%s).txt' % xlabel[0], 'w') as f:\n",
    "                f.write('{}, {}, Error bar\\n'.format(xlabel, ylabel))\n",
    "                for j in range(len(ML_y)):\n",
    "                    f.write('{}, {}, {}\\n'.format(sorted(tmp)[j], ML_y[j], Error_bar[j]))\n",
    "        plot_norm(ax, xlabel, ylabel, y_lim=[1.25, 3])\n",
    "\n",
    "    def cal_contour(self, tmp_1, tmp_2, xlabel, ylabel, title, x_lim, y_lim, size_x=40, size_y=40, \n",
    "                    method='linear_bin', padding=False, clabel=False):\n",
    "        tmp_1, tmp_2 = 20 * np.log10(tmp_1), 20 * np.log10(tmp_2)\n",
    "        if method == 'log_bin':\n",
    "            sum_x, sum_y = x_lim[1] - x_lim[0], y_lim[1] - y_lim[0]\n",
    "            arry_x = np.logspace(np.log10(sum_x + 10), 1, size_x) / (sum(np.logspace(np.log10(sum_x + 10), 1, size_x)) / sum_x)\n",
    "            arry_y = np.logspace(np.log10(sum_y + 10), 1, size_y) / (sum(np.logspace(np.log10(sum_y + 10), 1, size_y)) / sum_y)\n",
    "            x, y = [], []\n",
    "            for tmp, res, arry in zip([x_lim[0], y_lim[0]], [x, y], [arry_x, arry_y]):\n",
    "                for i in arry:\n",
    "                    res.append(tmp)\n",
    "                    tmp += i\n",
    "            x, y = np.array(x), np.array(y)\n",
    "        elif method == 'linear_bin':\n",
    "            x, y = np.linspace(x_lim[0], x_lim[1], size_x), np.linspace(y_lim[0], y_lim[1], size_y)\n",
    "        X, Y = np.meshgrid(x, y)\n",
    "        height = np.zeros([X.shape[0], Y.shape[1]])\n",
    "        linestyles = ['solid'] * 8 + ['--'] * 4\n",
    "        levels = [1, 2, 3, 6, 12, 24, 48, 96, 192, 384, 768, 1536]\n",
    "        colors = [[1, 0, 1], [0, 0, 1], [0, 1, 0], [1, 0, 0], [0.5, 0.5, 0.5],\n",
    "                  [1, 0.3, 0], [0, 0, 0], [0, 1, 1], [1, 0, 1], [0, 0, 1], [0, 1, 0], [1, 0, 0]]\n",
    "\n",
    "        for i in range(X.shape[1] - 1):\n",
    "            valid_x = np.where((tmp_1 < X[0, i + 1]) & (tmp_1 >= X[0, i]))[0]\n",
    "            for j in range(Y.shape[0] - 1):\n",
    "                valid_y = np.where((tmp_2 < Y[j + 1, 0]) & (tmp_2 >= Y[j, 0]))[0]\n",
    "                height[j, i] = np.intersect1d(valid_x, valid_y).shape[0]\n",
    "\n",
    "        fig = plt.figure(figsize=[6, 3.9], num='Contour--%s & %s' % (ylabel.split(' ')[-1][0], xlabel.split(' ')[-1][0]))\n",
    "        fig.text(0.96, 0.2, self.status, fontdict={'family':'Arial', 'fontweight':'bold', 'fontsize':12}, horizontalalignment=\"right\")\n",
    "        ax = plt.subplot()\n",
    "        if padding:\n",
    "            ct = ax.contourf(X, Y, height, levels, colors=colors, extend='max')\n",
    "#             cbar = plt.colorbar(ct)\n",
    "        else:\n",
    "            ct = ax.contour(X, Y, height, levels, colors=colors, linewidths=1, linestyles=linestyles)\n",
    "#             cbar = plt.colorbar(ct)\n",
    "        if clabel:\n",
    "            ax.clabel(ct, inline=True, colors='k', fmt='%.1f')\n",
    "        plot_norm(ax, xlabel, ylabel, title=title, legend=False)\n",
    "\n",
    "    def plot_correlation(self, tmp_1, tmp_2, xlabel, ylabel, cls_1=None, cls_2=None, idx_1=None, idx_2=None,\n",
    "                         fit=False, status='A-D', x1_lim=None, x2_lim=None, plot_lim=None, title=''):\n",
    "        fig = plt.figure(figsize=[6, 3.9], num='Correlation--%s & %s %s' % (ylabel, xlabel, title))\n",
    "        fig.text(0.96, 0.2, self.status, fontdict={'family':'Arial', 'fontweight':'bold', 'fontsize':12}, horizontalalignment=\"right\")\n",
    "        ax = plt.subplot()\n",
    "        if cls_1 is not None and cls_2 is not None:\n",
    "            ax.loglog(tmp_1[cls_2], tmp_2[cls_2], '.', marker='.', markersize=8, color=self.color_2, label='Population 2')\n",
    "            ax.loglog(tmp_1[cls_1], tmp_2[cls_1], '.', marker='.', markersize=8, color=self.color_1, label='Population 1')\n",
    "            if idx_1:\n",
    "                ax.loglog(tmp_1[cls_1][idx_1], tmp_2[cls_1][idx_1], '.', marker='.', markersize=8, color='black')\n",
    "            if idx_2:\n",
    "                ax.loglog(tmp_1[cls_2][idx_2], tmp_2[cls_2][idx_2], '.', marker='.', markersize=8, color='black')\n",
    "            plot_norm(ax, xlabel, ylabel)\n",
    "        else:\n",
    "            ax.loglog(tmp_1, tmp_2, '.', Marker='.', markersize=8, color='g')\n",
    "            plot_norm(ax, xlabel, ylabel, legend=False)\n",
    "\n",
    "        if fit:\n",
    "            cor_x1, cor_x2 = tmp_1[cls_1], tmp_1[cls_2]\n",
    "            cor_y1, cor_y2 = tmp_2[cls_1], tmp_2[cls_2]\n",
    "            if status == 'A-D':\n",
    "                A = np.where((cor_x1 > x1_lim[0]) & (cor_x1 < x1_lim[1]))\n",
    "                B = np.where((cor_x2 > x2_lim[0]) & (cor_x2 < x2_lim[1]))\n",
    "            elif status == 'E-A':\n",
    "                A = fit_with_x1\n",
    "                B = fit_with_x2\n",
    "            linear_x1 = cor_x1[A]\n",
    "            linear_y1 = cor_y1[A]\n",
    "            linear_x2 = cor_x2[B]\n",
    "            linear_y2 = cor_y2[B]\n",
    "            ave = 0\n",
    "            alpha, b, fit_x, fit_y = [], [], [], []\n",
    "            mix_cor_x = [min(cor_x1), min(cor_x2)] if status == 'E-A' else plot_lim\n",
    "            for linear_x, linear_y, min_x, max_x in zip([linear_x1, linear_x2], [linear_y1, linear_y2],\n",
    "                                                        mix_cor_x, [max(cor_x1), max(cor_x2)]):\n",
    "                fit = np.polyfit(np.log10(linear_x), np.log10(linear_y), 1)\n",
    "                alpha.append(fit[0])\n",
    "                b.append(fit[1])\n",
    "                fit_x.append(np.linspace(min_x, max_x, 100))\n",
    "                fit_y.append(self.convert(np.linspace(min_x, max_x, 100), fit[0], fit[1]))\n",
    "            ax.plot(fit_x[0], fit_y[0], ls='--', lw=2, color='black')\n",
    "            ax.plot(fit_x[1], fit_y[1], ls='--', lw=2, color='black')\n",
    "            if status == 'A-D':\n",
    "                min_y = max(min(fit_y[0]), min(fit_y[1]))\n",
    "                max_y = min(max(fit_y[0]), max(fit_y[1]))\n",
    "                cal_y = np.linspace(np.log10(min_y), np.log10(max_y), 100)\n",
    "                for i in cal_y:\n",
    "                    tmp1 = (i - b[0]) / alpha[0]\n",
    "                    tmp2 = (i - b[1]) / alpha[1]\n",
    "                    ave += max(pow(10, tmp1), pow(10, tmp2)) / min(pow(10, tmp1), pow(10, tmp2))\n",
    "            elif status == 'E-A':\n",
    "                min_x = max(min(fit_x[0]), min(fit_x[1]))\n",
    "                max_x = min(max(fit_x[0]), max(fit_x[1]))\n",
    "                cal_x = np.linspace(np.log10(min_x), np.log10(max_x), 100)\n",
    "                for i in cal_x:\n",
    "                    tmp1 = alpha[0] * i + b[0]\n",
    "                    tmp2 = alpha[1] * i + b[1]\n",
    "                    ave += max(pow(10, tmp1), pow(10, tmp2)) / min(pow(10, tmp1), pow(10, tmp2))\n",
    "            return ave / 100, alpha, b, A, B\n",
    "\n",
    "    def plot_feature_time(self, tmp, ylabel):\n",
    "        fig = plt.figure(figsize=[6, 3.9], num='Time domain curve')\n",
    "        fig.text(0.96, 0.2, self.status, fontdict={'family':'Arial', 'fontweight':'bold', 'fontsize':12}, horizontalalignment=\"right\")\n",
    "        ax = plt.subplot()\n",
    "        ax.set_yscale(\"log\", nonposy='clip')\n",
    "        ax.scatter(self.time, tmp)\n",
    "        ax.set_xticks(np.linspace(0, 40000, 9))\n",
    "        ax.set_yticks([-1, 0, 1, 2, 3])\n",
    "        plot_norm(ax, 'Time(s)', ylabel, legend=False)\n",
    "\n",
    "    def cal_BathLaw(self, tmp_origin, tmp_1, tmp_2, xlabel, ylabel, interval_num, select=[0, 3]):\n",
    "#         fig = plt.figure(figsize=[6, 3.9], num='Bath law')\n",
    "        fig = plt.figure(figsize=[6, 3.9])\n",
    "        fig.text(0.12, 0.2, self.status, fontdict={'family':'Arial', 'fontweight':'bold', 'fontsize':12})\n",
    "        ax = plt.subplot()\n",
    "        TMP, MARKER, COLOR, LABEL = [tmp_origin, tmp_1, tmp_2], ['o', 'p', 'h'], ['black', self.color_1, self.color_2], ['Whole', 'Population 1', 'Population 2']\n",
    "        for tmp, marker, color, label in zip(TMP[select[0]:select[1]], MARKER[select[0]:select[1]], COLOR[select[0]:select[1]], LABEL[select[0]:select[1]]):\n",
    "            tmp_max = int(max(tmp))\n",
    "            inter = [pow(10, i) for i in range(0, len(str(tmp_max)))]\n",
    "            x = np.array([])\n",
    "            y = []\n",
    "            for i in inter:\n",
    "                x = np.append(x, np.linspace(i, i * 10, interval_num, endpoint=False))\n",
    "            for k in range(x.shape[0]):\n",
    "                if k != x.shape[0] - 1:\n",
    "                    N, Naft = self.cal_N_Naft(tmp, [x[k], x[k+1]])\n",
    "                else:\n",
    "                    N, Naft = self.cal_N_Naft(tmp, [x[k], float('inf')])\n",
    "                if Naft != 0 and N != 0:\n",
    "                    y.append(np.log10(N / Naft))\n",
    "                else:\n",
    "                    y.append(float('inf'))\n",
    "            y = np.array(y)\n",
    "            x, y = x[y != float('inf')], y[y != float('inf')]\n",
    "            x_eny = np.zeros(x.shape[0])\n",
    "            for idx in range(len(x) - 1):\n",
    "                x_eny[idx] = (x[idx] + x[idx + 1]) / 2\n",
    "            x_eny[-1] = x[-1] + pow(10, len(str(int(x[-1]))))*(0.9/interval_num) / 2\n",
    "            ax.semilogx(x_eny, y, color=color, marker=marker, markersize=8, mec=color, mfc='none', label=label)\n",
    "        ax.axhline(1.2, ls='-.', linewidth=1, color=\"black\")\n",
    "        plot_norm(ax, xlabel, ylabel, y_lim=[-1, 4], legend_loc='upper right')\n",
    "\n",
    "    def cal_WaitingTime(self, time_origin, time_1, time_2, xlabel, ylabel, interval, interval_num, select=[0, 3], FIT=False):\n",
    "#         fig = plt.figure(figsize=[6, 3.9], num='Distribution of waiting time')\n",
    "        fig = plt.figure(figsize=[6, 3.9])\n",
    "        fig.text(0.16, 0.22, self.status, fontdict={'family':'Arial', 'fontweight':'bold', 'fontsize':12})\n",
    "        ax = plt.subplot()\n",
    "        TIME, MARKER, COLOR, LABEL = [time_origin, time_1, time_2], ['o', 'p', 'h'], ['black', self.color_1, self.color_2], ['Whole', 'Population 1', 'Population 2']\n",
    "        for [time, marker, color, label] in zip(TIME[select[0]:select[1]], MARKER[select[0]:select[1]], COLOR[select[0]:select[1]], LABEL[select[0]:select[1]]):\n",
    "            res = []\n",
    "            for i in range(time.shape[0] - 1):\n",
    "                res.append(time[i+1] - time[i])\n",
    "            inter, mid = self.cal_negtive_interval(res, interval)\n",
    "            xx, yy = self.cal_linear(sorted(np.array(res)), inter, mid, interval_num)\n",
    "            if FIT:\n",
    "                xx, yy = np.array(xx), np.array(yy)\n",
    "                fit = np.polyfit(np.log10(xx), np.log10(yy), 1)\n",
    "                alpha, b = fit[0], fit[1]\n",
    "                fit_x = np.linspace(xx[0], xx[-1], 100)\n",
    "                fit_y = self.convert(fit_x, alpha, b)\n",
    "                ax.plot(fit_x, fit_y, '-.', lw=1, color=color)\n",
    "                ax.loglog(xx, yy, markersize=8, marker=marker, mec=color, mfc='none', color=color, label='{}--{:.2f}'.format(label, abs(alpha)))\n",
    "            else:\n",
    "                ax.loglog(xx, yy, markersize=8, marker=marker, mec=color, mfc='none', color=color, label=label)\n",
    "        plot_norm(ax, xlabel, ylabel, legend_loc='upper right')\n",
    "\n",
    "    def cal_OmoriLaw(self, tmp_origin, tmp_1, tmp_2, xlabel, ylabel, interval, interval_num, select=[0, 3], FIT=False):\n",
    "        eny_lim = [[0.01, 0.1], [0.1, 1], [1, 10], [10, 100], [100, 1000]]\n",
    "#         eny_lim = [[0.001, 0.01], [0.01, 0.1], [0.1, 10], [10, 1000], [1000, 10000]]\n",
    "        tmp_origin, tmp_1, tmp_2 = self.cal_OmiroLaw_helper(tmp_origin, eny_lim), self.cal_OmiroLaw_helper(tmp_1, eny_lim), self.cal_OmiroLaw_helper(tmp_2, eny_lim)\n",
    "        TMP, TITLE = [tmp_origin, tmp_1, tmp_2], ['Omori law_Whole', 'Omori law_Population 1', 'Omori law_Population 2']\n",
    "        for idx, [tmp, title] in enumerate(zip(TMP[select[0]:select[1]], TITLE[select[0]:select[1]])):\n",
    "#             fig = plt.figure(figsize=[6, 3.9], num=title)\n",
    "            fig = plt.figure(figsize=[6, 3.9])\n",
    "            fig.text(0.16, 0.21, self.status, fontdict={'family':'Arial', 'fontweight':'bold', 'fontsize':12})\n",
    "            ax = plt.subplot()\n",
    "            for i, [marker, color, label] in enumerate(zip(['>', 'o', 'p', 'h', 'H'], \n",
    "                                                           [[1, 0, 1], [0, 0, 1], [0, 1, 0], [1, 0, 0], [0.5, 0.5, 0.5]], \n",
    "                                                           ['$10^{-2}aJ<E_{MS}<10^{-1}aJ$', '$10^{-1}aJ<E_{MS}<10^{0}aJ$', \n",
    "                                                            '$10^{0}aJ<E_{MS}<10^{1}aJ$', '$10^{1}aJ<E_{MS}<10^{2}aJ$', \n",
    "                                                            '$10^{2}aJ<E_{MS}<10^{3}aJ$'])):\n",
    "                if len(tmp[i]):\n",
    "                    inter, mid = self.cal_negtive_interval(tmp[i], interval)\n",
    "                    xx, yy = self.cal_linear(sorted(np.array(tmp[i])), inter, mid, interval_num)\n",
    "                    if FIT:\n",
    "                        xx, yy = np.array(xx), np.array(yy)\n",
    "#                         fit_lim = np.where((xx > lim[0]) & (xx < lim[1]))[0]\n",
    "                        fit = np.polyfit(np.log10(xx), np.log10(yy), 1)\n",
    "                        alpha, b = fit[0], fit[1]\n",
    "                        fit_x = np.linspace(xx[0], xx[-1], 100)\n",
    "                        fit_y = self.convert(fit_x, alpha, b)\n",
    "                        ax.plot(fit_x, fit_y, '-.', lw=1, color=color)\n",
    "                        ax.loglog(xx, yy, markersize=8, marker=marker, mec=color, mfc='none', color=color, label='{}--{:.2f}'.format(label, abs(alpha)))\n",
    "                    else:\n",
    "                        ax.loglog(xx, yy, markersize=8, marker=marker, mec=color, mfc='none', color=color, label=label)\n",
    "            plot_norm(ax, xlabel, ylabel, legend_loc='upper right')"
   ]
  },
  {
   "cell_type": "code",
   "execution_count": 214,
   "metadata": {
    "ExecuteTime": {
     "end_time": "2020-12-23T13:12:06.036763Z",
     "start_time": "2020-12-23T13:12:06.029794Z"
    }
   },
   "outputs": [
    {
     "data": {
      "text/plain": [
       "(1000, array([100., 200., 300., 400., 500., 600., 700., 800., 900.]))"
      ]
     },
     "execution_count": 214,
     "metadata": {},
     "output_type": "execute_result"
    }
   ],
   "source": [
    "pow(10, len(str(int(498.52)))), np.linspace(100, 1000, 9, endpoint=False)"
   ]
  },
  {
   "cell_type": "code",
   "execution_count": 282,
   "metadata": {
    "ExecuteTime": {
     "end_time": "2020-12-23T14:21:12.278018Z",
     "start_time": "2020-12-23T14:21:12.272049Z"
    },
    "code_folding": [],
    "scrolled": false
   },
   "outputs": [],
   "source": [
    "if __name__ == '__main__':\n",
    "    feature_idx = [Amp, Dur, Eny]\n",
    "    features = Features(color_1, color_2, Time, feature_idx, 'Al alloy')\n",
    "    xlabelz = ['Amplitude (μV)', 'Duration (μs)', 'Energy (aJ)']\n",
    "    \n",
    "    # Al-alloy\n",
    "    LIM_PDF = [[[0, None], [1, -4], [2, -6]], [[0, float('inf')], [100, 900], [36, 500]], [[0, None], [4, -3], [2, -4]]]\n",
    "    LIM_CCDF = [[[0, float('inf')], [15, 100], [20, 300]], [[0, float('inf')], [100, 2500], [30, 250]], [[0, float('inf')], [0.5, 10], [0.2, 10]]]\n",
    "    INTERVAL_NUM = [[8, 16, 16], [8, 15, 20], [8, 8, 10]]\n",
    "    \n",
    "#     # Ni-electrolysis: 8, 10, 7\n",
    "#     LIM_PDF = [[[0, None], [1, None], [1, -2]], [[0, None], [11, -2], [10, -1]], [[0, None], [2, -2], [1, -2]]]\n",
    "#     LIM_CCDF = [[[0, float('inf')], [0, 1000], [0, 3000]], [[0, float('inf')], [100, 3600], [80, 600]], [[0, float('inf')], [1, 3000], [0.5, 1500]]]\n",
    "#     INTERVAL_NUM = [[8, 16, 16], [8, 16, 8], [8, 5, 6]]\n",
    "    \n",
    "#     # Ni-pure\n",
    "#     LIM_PDF = [[[0, None], [2, -1], [1, -1]], [[0, None], [6, None], [9, -1]], [[0, None], [2, -2], [2, -4]]]\n",
    "#     LIM_CCDF = [[[0, float('inf')], [20, 250], [25, 150]], [[0, float('inf')], [150, 2000], [30, 200]], [[0, float('inf')], [0.6, 400], [0.3, 6]]]\n",
    "#     INTERVAL_NUM = [[8, 11, 8], [8, 10, 9], [8, 5, 9]]\n",
    "\n",
    "#     for idx, lim_pdf, lim_ccdf, inerval_num in zip([0, 1, 2], LIM_PDF, LIM_CCDF, INTERVAL_NUM):\n",
    "#         tmp, tmp_1, tmp_2 = sorted(feature_idx[idx]), sorted(feature_idx[idx][cls_KKM[0]]), sorted(feature_idx[idx][cls_KKM[1]])\n",
    "#         features.cal_PDF(tmp, tmp_1, tmp_2, xlabelz[idx], 'PDF (%s)' % xlabelz[idx][0], features_path, lim_pdf, inerval_num, select=[1, None], FIT=True)\n",
    "#         features.cal_ML(tmp, tmp_1, tmp_2, xlabelz[idx], 'ML (%s)' % xlabelz[idx][0], features_path, select=[1, None])\n",
    "#         features.cal_CCDF(tmp, tmp_1, tmp_2, xlabelz[idx], 'CCD C(s)', features_path, lim_ccdf, select=[1, None], FIT=True)\n",
    "\n",
    "#     features.cal_contour(Amp, Eny, '$20 \\log_{10} A(\\mu V)$', '$20 \\log_{10} E(aJ)$', 'Contour', [20, 55], [-20, 40], 50, 50, method='log_bin')\n",
    "#     features.cal_BathLaw(Eny, Eny[cls_KKM[0]], Eny[cls_KKM[1]], 'Mainshock Energy (aJ)', r'$\\mathbf{\\Delta}$M', 9, select=[1, None])\n",
    "#     features.cal_WaitingTime(Time, Time[cls_KKM[0]], Time[cls_KKM[1]], r'$\\mathbf{\\Delta}$t (s)', r'P($\\mathbf{\\Delta}$t)', 0.9/23, 23, select=[1, None])\n",
    "#     features.cal_OmoriLaw(Eny, Eny[cls_KKM[0]], Eny[cls_KKM[1]], r'$\\mathbf{t-t_{MS}\\;(s)}$', r'$\\mathbf{r_{AS}(t-t_{MS})\\;(s^{-1})}$', 0.9/7, 7, select=[1, None])\n",
    "#     ave, alpha, b, A, B = features.plot_correlation(Dur, Amp, xlabelz[0], xlabelz[2], cls_1=cls_KKM[0], cls_2=cls_KKM[1], status='A-D', x1_lim=[pow(10, 2.75), float('inf')],\n",
    "#                                                     x2_lim=[pow(10, 1.7), pow(10, 2.0)], plot_lim=[150, 30], fit=True)\n",
    "#     features.plot_correlation(Dur, Amp, xlabelz[1], xlabelz[0], cls_KKM[0], cls_KKM[1])\n",
    "#     features.plot_correlation(Dur, Eny, xlabelz[1], xlabelz[2], cls_KKM[0], cls_KKM[1])\n",
    "#     features.plot_correlation(Amp, Eny, xlabelz[0], xlabelz[2], cls_KKM[0], cls_KKM[1])"
   ]
  },
  {
   "cell_type": "code",
   "execution_count": null,
   "metadata": {
    "ExecuteTime": {
     "end_time": "2020-12-23T14:24:39.068918Z",
     "start_time": "2020-12-23T14:24:35.522919Z"
    },
    "scrolled": true
   },
   "outputs": [],
   "source": [
    "# pop1:5, 2, -2   pop2:6, 1, -2\n",
    "idx = 2\n",
    "lim_pdf = [[0, None], [4, -3], [2, -4]]\n",
    "lim_ccdf = [[0, float('inf')], [0.5, 10], [0.2, 10]]\n",
    "tmp, tmp_1, tmp_2 = sorted(feature_idx[idx]), sorted(feature_idx[idx][cls_KKM[0]]), sorted(feature_idx[idx][cls_KKM[1]])\n",
    "\n",
    "# features.cal_PDF(tmp, tmp_1, tmp_2, xlabelz[idx], 'PDF (%s)' % xlabelz[idx][0], features_path, lim_pdf, [8, 8, 10], select=[2, None], FIT=True)\n",
    "# features.cal_CCDF(tmp, tmp_1, tmp_2, xlabelz[idx], 'CCD C(s)', features_path, lim_ccdf, select=[1, None], FIT=True)\n",
    "\n",
    "for num in range(25, 30):\n",
    "#     features.cal_PDF(tmp, tmp_1, tmp_2, xlabelz[idx], 'PDF (%s)' % xlabelz[idx][0], features_path, lim_pdf, [num]*3, select=[2, None], FIT=True)\n",
    "#     features.cal_BathLaw(Eny, Eny[cls_KKM[0]], Eny[cls_KKM[1]], 'Mainshock Energy (aJ)', r'$\\mathbf{\\Delta}$M', num, select=[1, None])\n",
    "#     features.cal_WaitingTime(Time, Time[cls_KKM[0]], Time[cls_KKM[1]], r'$\\mathbf{\\Delta}$t (s)', r'P($\\mathbf{\\Delta}$t)', 0.9/num, num, select=[1, None], FIT=True)\n",
    "    features.cal_OmoriLaw(Eny, Eny[cls_KKM[0]], Eny[cls_KKM[1]], r'$\\mathbf{t-t_{MS}\\;(s)}$', r'$\\mathbf{r_{AS}(t-t_{MS})\\;(s^{-1})}$', 1/num, num, select=[2, None], FIT=True)"
   ]
  },
  {
   "cell_type": "code",
   "execution_count": null,
   "metadata": {
    "ExecuteTime": {
     "end_time": "2020-12-07T03:37:48.404841Z",
     "start_time": "2020-12-07T03:37:48.192653Z"
    },
    "scrolled": true
   },
   "outputs": [],
   "source": [
    "ave, alpha, b, A, B"
   ]
  },
  {
   "cell_type": "code",
   "execution_count": null,
   "metadata": {
    "ExecuteTime": {
     "end_time": "2020-12-16T12:25:39.340703Z",
     "start_time": "2020-12-16T12:25:39.156709Z"
    },
    "code_folding": []
   },
   "outputs": [],
   "source": [
    "feature_idx = [Amp, Dur, Eny]\n",
    "features = Features(color_1, color_2, Time, feature_idx, 'Ni-electrolysis')\n",
    "height = features.cal_contour(Amp, Eny, '$20 \\log_{10} A(\\mu V)$', '$20 \\log_{10} E(aJ)$', \n",
    "            'Time', [-20, 90], [10, 80], 50, 50, method='linear_bin')"
   ]
  },
  {
   "cell_type": "code",
   "execution_count": null,
   "metadata": {
    "ExecuteTime": {
     "end_time": "2020-12-01T12:08:41.737463Z",
     "start_time": "2020-12-01T12:08:16.134032Z"
    },
    "scrolled": true
   },
   "outputs": [],
   "source": [
    "fig = plt.figure(figsize=[16, 6], num='Energy-Amplitude')\n",
    "for i in range(8):\n",
    "    ax = plt.subplot(2, 4, i+1)\n",
    "    cal_contour(np.array(t[i])[:, 4], np.array(t[i])[:, 7], '$20 \\log_{10} A(\\mu V)$', '$20 \\log_{10} E(aJ)$', \n",
    "                'Time:{}-{}'.format(time[i], time[i+1]), [20, 55], [-20, 40], 50, 50, method='linear_bin')\n",
    "fig.savefig('Energy-Amplitude.png',dpi=600,format='png')\n",
    "\n",
    "fig = plt.figure(figsize=[16, 6], num='Duration-Energy')\n",
    "for i in range(8):\n",
    "    ax = plt.subplot(2, 4, i+1)\n",
    "    cal_contour(np.array(t[i])[:, 7], np.array(t[i])[:, 6], '$20 \\log_{10} E(aJ)$', '$20 \\log_{10} D(\\mu s)$', \n",
    "                'Time:{}-{}'.format(time[i], time[i+1]), [-20, 40], [15, 60], 50, 50, method='linear_bin')\n",
    "fig.savefig('Duration-Energy.png',dpi=600,format='png')"
   ]
  },
  {
   "cell_type": "markdown",
   "metadata": {},
   "source": [
    "###  Validate features"
   ]
  },
  {
   "cell_type": "code",
   "execution_count": 210,
   "metadata": {
    "ExecuteTime": {
     "end_time": "2020-12-09T07:08:46.294662Z",
     "start_time": "2020-12-09T07:08:46.281662Z"
    },
    "code_folding": [
     1
    ],
    "scrolled": false
   },
   "outputs": [],
   "source": [
    "# Time, Amp, RiseTime, Dur, Eny, Counts, TRAI\n",
    "def validation(k):\n",
    "    i = data_tra[k]\n",
    "    sig = np.multiply(array.array('h', bytes(i[-2])), i[-3] * 1000)\n",
    "    time = np.linspace(i[0], i[0] + pow(i[-5], -1) * (i[-4] - 1), i[-4])\n",
    "\n",
    "    thr = i[2]\n",
    "    valid_wave_idx = np.where(abs(sig) >= thr)[0]\n",
    "    valid_time = time[valid_wave_idx[0]:(valid_wave_idx[-1] + 1)]\n",
    "    start = time[valid_wave_idx[0]]\n",
    "    end = time[valid_wave_idx[-1]]\n",
    "    duration = (end - start) * pow(10, 6)\n",
    "    max_idx = np.argmax(abs(sig))\n",
    "    amplitude = max(abs(sig))\n",
    "    rise_time = (time[max_idx] - start) * pow(10, 6)\n",
    "    valid_data = sig[valid_wave_idx[0]:(valid_wave_idx[-1] + 1)]\n",
    "    energy = np.sum(np.multiply(pow(valid_data, 2), pow(10, 6) / i[3]))\n",
    "    RMS = math.sqrt(energy / duration)\n",
    "    count, idx = 0, 1\n",
    "    N = len(valid_data)\n",
    "    for idx in range(1, N):\n",
    "        if valid_data[idx - 1] >= thr > valid_data[idx]:\n",
    "            count += 1\n",
    "    # while idx < N:\n",
    "    #     if min(valid_data[idx - 1], valid_data[idx]) <= thr < max((valid_data[idx - 1], valid_data[idx])):\n",
    "    #         count += 1\n",
    "    #         idx += 2\n",
    "    #         continue\n",
    "    #     idx += 1\n",
    "    print(i[0], amplitude, rise_time, duration, energy / pow(10, 4), count, i[-1])"
   ]
  },
  {
   "cell_type": "markdown",
   "metadata": {},
   "source": [
    "### Waveform & Frequency"
   ]
  },
  {
   "cell_type": "code",
   "execution_count": 332,
   "metadata": {
    "ExecuteTime": {
     "end_time": "2020-12-22T12:39:20.391555Z",
     "start_time": "2020-12-22T12:39:20.309553Z"
    },
    "code_folding": [
     0,
     1,
     11,
     36,
     42,
     71,
     91,
     103,
     112,
     137,
     154,
     172,
     194,
     210,
     229,
     235,
     244,
     257
    ]
   },
   "outputs": [],
   "source": [
    "class Waveform:\n",
    "    def __init__(self, color_1, color_2, data_tra, path, path_pri, status, device, thr_dB=25):\n",
    "        self.data_tra = data_tra\n",
    "        self.path = path\n",
    "        self.path_pri = path_pri\n",
    "        self.color_1 = color_1\n",
    "        self.color_2 = color_2\n",
    "        self.status = status\n",
    "        self.device = device\n",
    "        self.thr = pow(10, thr_dB / 20)\n",
    "\n",
    "    def cal_wave(self, i, valid=True):\n",
    "        if self.device == 'vallen':\n",
    "            # Time, Chan, Thr, SampleRate, Samples, TR_mV, Data, TRAI\n",
    "            sig = np.multiply(array.array('h', bytes(i[-2])), i[-3] * 1000)\n",
    "            time = np.linspace(0, pow(i[-5], -1) * (i[-4] - 1) * pow(10, 6), i[-4])\n",
    "            thr = i[2]\n",
    "            if valid:\n",
    "                valid_wave_idx = np.where(abs(sig) >= thr)[0]\n",
    "                start = time[valid_wave_idx[0]]\n",
    "                end = time[valid_wave_idx[-1]]\n",
    "                duration = end - start\n",
    "                sig = sig[valid_wave_idx[0]:(valid_wave_idx[-1] + 1)]\n",
    "                time = np.linspace(0, duration, sig.shape[0])\n",
    "        elif self.device == 'pac':\n",
    "            sig = i[-2]\n",
    "            time = np.linspace(0, i[2] * (i[-3] - 1) * pow(10, 6), i[-3])\n",
    "            if valid:\n",
    "                valid_wave_idx = np.where(abs(sig) >= self.thr)[0]\n",
    "                start = time[valid_wave_idx[0]]\n",
    "                end = time[valid_wave_idx[-1]]\n",
    "                duration = end - start\n",
    "                sig = sig[valid_wave_idx[0]:(valid_wave_idx[-1] + 1)]\n",
    "                time = np.linspace(0, duration, sig.shape[0])\n",
    "        return time, sig\n",
    "\n",
    "    def find_wave(self, Dur, Eny, cls_KKM, chan, dur_lim, eny_lim):\n",
    "        for i in np.where((np.log10(Dur)[cls_KKM] > dur_lim[0]) & (np.log10(Dur)[cls_KKM] < dur_lim[1]) &\n",
    "                          (np.log10(Eny)[cls_KKM] > eny_lim[0]) & (np.log10(Eny)[cls_KKM] < eny_lim[1]))[0]:\n",
    "            # Idx, Dur, Eny, TRAI\n",
    "            print(i, np.log10(Dur)[cls_KKM][i], np.log10(Eny)[cls_KKM][i], '{:.0f}'.format(chan[cls_KKM][i][-1]))\n",
    "\n",
    "    def plot_2cls_wave(self, TRAI_select_1, TRAI_select_2, same, value, valid=False):\n",
    "        fig = plt.figure(figsize=(9.2, 3), num='Waveforms with same %s--%d μV' % (same, value))\n",
    "        fig.text(0.48, 0.24, self.status, fontdict={'family': 'Arial', 'fontweight': 'bold', 'fontsize': 12},\n",
    "                 horizontalalignment=\"right\")\n",
    "        fig.text(0.975, 0.24, self.status, fontdict={'family': 'Arial', 'fontweight': 'bold', 'fontsize': 12},\n",
    "                 horizontalalignment=\"right\")\n",
    "        i = self.data_tra[TRAI_select_1 - 1]\n",
    "        if i[-1] != TRAI_select_1:\n",
    "            print('Error: TRAI %d in data_tra is inconsistent with %d by input!' % (i[-1], TRAI_select_1))\n",
    "            return\n",
    "        valid_time, valid_data = self.cal_wave(i, valid=valid)\n",
    "\n",
    "        ax = fig.add_subplot(1, 2, 1)\n",
    "        ax.plot(valid_time, valid_data, lw=0.5, color=self.color_1)\n",
    "        ax.axhline(abs(i[2]), 0, valid_data.shape[0], linewidth=1, color=\"black\")\n",
    "        ax.axhline(-abs(i[2]), 0, valid_data.shape[0], linewidth=1, color=\"black\")\n",
    "        plot_norm(ax, xlabel='Time (μs)', ylabel='Amplitude (μV)', legend=False, grid=True)\n",
    "\n",
    "        ax2 = fig.add_subplot(1, 2, 2)\n",
    "        i = self.data_tra[TRAI_select_2 - 1]\n",
    "        if i[-1] != TRAI_select_2:\n",
    "            print('Error: TRAI %d in data_tra is inconsistent with %d by input!' % (i[-1], TRAI_select_2))\n",
    "            return\n",
    "        valid_time, valid_data = self.cal_wave(i, valid=valid)\n",
    "        ax2.plot(valid_time, valid_data, lw=0.5, color=self.color_2)\n",
    "        ax2.axhline(abs(i[2]), 0, valid_data.shape[0], linewidth=1, color=\"black\")\n",
    "        ax2.axhline(-abs(i[2]), 0, valid_data.shape[0], linewidth=1, color=\"black\")\n",
    "        plot_norm(ax2, xlabel='Time (μs)', ylabel='Amplitude (μV)', legend=False, grid=True)\n",
    "\n",
    "    def plot_wave_TRAI(self, k, valid=True):\n",
    "        # Waveform with specific TRAI\n",
    "        i = self.data_tra[k - 1]\n",
    "        if i[-1] != k:\n",
    "            return str('Error: TRAI %d in data_tra is inconsistent with %d by input!' % (i[-1], k))\n",
    "        time, sig = self.cal_wave(i, valid=valid)\n",
    "\n",
    "        fig = plt.figure(figsize=(6, 4.1), num='Waveform--TRAI %d (%s)' % (k, valid))\n",
    "        fig.text(0.95, 0.17, self.status, fontdict={'family': 'Arial', 'fontweight': 'bold', 'fontsize': 12},\n",
    "                 horizontalalignment=\"right\")\n",
    "        ax = fig.add_subplot(1, 1, 1)\n",
    "        ax.plot(time, sig, lw=1)\n",
    "        if self.device == 'vallen':\n",
    "            plt.axhline(abs(i[2]), 0, sig.shape[0], linewidth=1, color=\"black\")\n",
    "            plt.axhline(-abs(i[2]), 0, sig.shape[0], linewidth=1, color=\"black\")\n",
    "        elif self.device == 'pac':\n",
    "            plt.axhline(abs(self.thr), 0, sig.shape[0], linewidth=1, color=\"black\")\n",
    "            plt.axhline(-abs(self.thr), 0, sig.shape[0], linewidth=1, color=\"black\")\n",
    "        plot_norm(ax, 'Time (μs)', 'Amplitude (μV)', title='TRAI:%d' % k, legend=False, grid=True)\n",
    "\n",
    "    def save_wave(self, TRAI, pop):\n",
    "        # Save waveform\n",
    "        os.chdir(self.path)\n",
    "        for idx, j in enumerate(tqdm(TRAI)):\n",
    "            i = self.data_tra[j - 1]\n",
    "            valid_time, valid_data = self.cal_wave(i)\n",
    "            with open(self.path_pri[:-6] + '_pop%s-%d' % (pop, idx + 1) + '.txt', 'w') as f:\n",
    "                f.write('Time, Signal\\n')\n",
    "                for k in range(valid_data.shape[0]):\n",
    "                    f.write(\"{}, {}\\n\".format(valid_time[k], valid_data[k]))\n",
    "\n",
    "class Frequency:\n",
    "    def __init__(self, color_1, color_2, data_tra, path, path_pri, status, device, thr_dB=25, size=500):\n",
    "        self.data_tra = data_tra\n",
    "        self.waveform = Waveform(color_1, color_2, data_tra, path, path_pri, status, device, thr_dB)\n",
    "        self.size = size\n",
    "        self.grid = np.linspace(0, pow(10, 6), self.size)\n",
    "        self.status = status\n",
    "        self.device = device\n",
    "        self.thr = pow(10, thr_dB / 20)\n",
    "\n",
    "    def cal_frequency(self, k, valid=True):\n",
    "        if self.device == 'vallen':\n",
    "            i = self.data_tra[k]\n",
    "            sig = np.multiply(array.array('h', bytes(i[-2])), i[-3] * 1000)\n",
    "            thr, Fs = i[2], i[3]\n",
    "            # Ts = 1 / Fs\n",
    "            if valid:\n",
    "                valid_wave_idx = np.where(abs(sig) >= thr)[0]\n",
    "                sig = sig[valid_wave_idx[0]:(valid_wave_idx[-1] + 1)]\n",
    "        elif self.device == 'pac':\n",
    "            i = self.data_tra[k]\n",
    "            Fs = 1 / i[2]\n",
    "            sig = i[-2]\n",
    "            if valid:\n",
    "                valid_wave_idx = np.where(abs(sig) >= self.thr)[0]\n",
    "                sig = sig[valid_wave_idx[0]:(valid_wave_idx[-1] + 1)]\n",
    "        N = sig.shape[0]\n",
    "        fft_y = fft(sig)\n",
    "        abs_y = np.abs(fft_y)\n",
    "        normalization = abs_y / N\n",
    "        normalization_half = normalization[range(int(N / 2))]\n",
    "        frq = (np.arange(N) / N) * Fs\n",
    "        half_frq = frq[range(int(N / 2))]\n",
    "        return half_frq, normalization_half\n",
    "\n",
    "    def cal_ave_freq(self, TRAI):\n",
    "        Res = np.array([0 for _ in range(self.size)]).astype('float64')\n",
    "\n",
    "        for j in TRAI:\n",
    "            half_frq, normalization_half = self.cal_frequency(j - 1, valid=False)\n",
    "            valid_idx = int((pow(10, 6) / max(half_frq)) * half_frq.shape[0])\n",
    "            tmp = [0 for _ in range(self.size)]\n",
    "            i = 1\n",
    "            for j, k in zip(half_frq[:valid_idx], normalization_half[:valid_idx]):\n",
    "                while True:\n",
    "                    if self.grid[i - 1] <= j < self.grid[i]:\n",
    "                        tmp[i - 1] += k\n",
    "                        break\n",
    "                    i += 1\n",
    "            Res += np.array(tmp)\n",
    "        return Res\n",
    "\n",
    "    def cla_wtpacket(self, signal, w, n, plot=False):\n",
    "        w = pywt.Wavelet(w)\n",
    "        wp = pywt.WaveletPacket(data=signal, wavelet=w, mode='symmetric',maxlevel=n)\n",
    "\n",
    "        map = {}\n",
    "        map[1] = signal\n",
    "        for row in range(1,n+1):\n",
    "            lev = []\n",
    "            for i in [node.path for node in wp.get_level(row, 'freq')]:\n",
    "                map[i] = wp[i].data\n",
    "\n",
    "        re = []\n",
    "        for i in [node.path for node in wp.get_level(n, 'freq')]:\n",
    "            re.append(wp[i].data)\n",
    "        energy = []\n",
    "        for i in re:\n",
    "            energy.append(pow(np.linalg.norm(i,ord=None),2))\n",
    "\n",
    "        if plot:\n",
    "            plt.figure(dpi=100)\n",
    "            plt.subplot(n+1,1,1)\n",
    "            plt.plot(map[1])\n",
    "            for i in range(2,n+2):\n",
    "                level_num = pow(2,i-1)\n",
    "                # ['aaa', 'aad', 'add', 'ada', 'dda', 'ddd', 'dad', 'daa']\n",
    "                re = [node.path for node in wp.get_level(i-1, 'freq')]\n",
    "                for j in range(1,level_num+1):\n",
    "                    plt.subplot(n+1,level_num,level_num*(i-1)+j)\n",
    "                    plt.plot(map[re[j-1]])\n",
    "            plt.figure(dpi=100)\n",
    "            values = [i/sum(energy) for i in energy]\n",
    "            index = np.arange(pow(2,n))\n",
    "            p2 = plt.bar(index, values, 0.45, label=\"num\", color=\"#87CEFA\")\n",
    "            plt.xlabel('clusters')\n",
    "            plt.ylabel('number of reviews')\n",
    "            plt.title('Cluster Distribution')\n",
    "            plt.xticks(index, ('7', '8', '9', '10', '11', '12', '13', '14'))\n",
    "            plt.legend(loc=\"upper right\")\n",
    "        return map, wp, energy\n",
    "    \n",
    "    def plot_wave_frequency(self, TRAI, valid=False, n=3, wtpacket=False, wtpacket_eng=False):\n",
    "        fig = plt.figure(figsize=(9.2, 3), num='Waveform & Frequency--TRAI %d' % TRAI)\n",
    "        i = self.data_tra[TRAI - 1]\n",
    "        valid_time, valid_data = self.waveform.cal_wave(i, valid=valid)\n",
    "        half_frq, normalization_half = self.cal_frequency(TRAI - 1, valid=valid)\n",
    "\n",
    "        ax = fig.add_subplot(1, 2, 1)\n",
    "        ax.plot(valid_time, valid_data)\n",
    "        ax.axhline(abs(i[2]), 0, valid_data.shape[0], linewidth=1, color=\"black\")\n",
    "        ax.axhline(-abs(i[2]), 0, valid_data.shape[0], linewidth=1, color=\"black\")\n",
    "        plot_norm(ax, 'Time (μs)', 'Amplitude (μV)', legend=False, grid=True)\n",
    "\n",
    "        ax = fig.add_subplot(1, 2, 2)\n",
    "        ax.plot(half_frq, normalization_half)\n",
    "        plot_norm(ax, 'Freq (Hz)', '|Y(freq)|', x_lim=[0, pow(10, 6)], legend=False)\n",
    "        \n",
    "        if wtpacket:\n",
    "            fig = plt.figure(figsize=(15, 7), num='WaveletPacket--TRAI %d' % TRAI)\n",
    "            map, wp, energy = self.cla_wtpacket(valid_data, 'db8', n)\n",
    "            for i in range(2, n+2):\n",
    "                level_num = pow(2, i-1)\n",
    "                # ['aaa', 'aad', 'add', 'ada', 'dda', 'ddd', 'dad', 'daa']\n",
    "                re = [node.path for node in wp.get_level(i-1, 'freq')]\n",
    "                for j in range(1,level_num+1):\n",
    "                    ax = fig.add_subplot(n, level_num, level_num*(i-2)+j)\n",
    "                    ax.plot(map[re[j-1]])\n",
    "                    plot_norm(ax, '', '', legend=False)\n",
    "            if wtpacket_eng:\n",
    "                fig = plt.figure(figsize=(4.6, 3), num='WaveletPacket Energy--TRAI %d' % TRAI)\n",
    "                ax = fig.add_subplot()\n",
    "                values = [i/sum(energy) for i in energy]\n",
    "                index = np.arange(pow(2,n))\n",
    "                ax.bar(index, values, 0.45, color=\"#87CEFA\")\n",
    "                plot_norm(ax, 'Clusters', 'Reviews (%)', legend=False)\n",
    "\n",
    "    def plot_ave_freq(self, Res, N, title):\n",
    "        fig = plt.figure(figsize=(6, 4.1), num='Average Frequency--%s' % title)\n",
    "        ax = fig.add_subplot()\n",
    "        ax.plot(self.grid, Res / N)\n",
    "        plot_norm(ax, xlabel='Freq (Hz)', ylabel='|Y(freq)|', title='Average Frequency', legend=False)\n",
    "\n",
    "    def plot_freq_TRAI(self, k, valid=False):\n",
    "        # Frequency with specific TRAI\n",
    "        half_frq, normalization_half = self.cal_frequency(k-1, valid=valid)\n",
    "\n",
    "        fig = plt.figure(figsize=(6, 4.1), num='Frequency--TRAI:%d (%s)' % (k, valid))\n",
    "        ax = plt.subplot()\n",
    "        ax.plot(half_frq, normalization_half)\n",
    "        plot_norm(ax, 'Freq (Hz)', '|Y(freq)|', x_lim=[0, pow(10, 6)], title='TRAI:%d' % k, legend=False)\n",
    "\n",
    "    def plot_2cls_freq(self, TRAI_1, TRAI_2, same):\n",
    "        fig = plt.figure(figsize=(6.5, 10), num='Frequency with same %s' % same)\n",
    "        for idx, k in enumerate(TRAI_1):\n",
    "            half_frq, normalization_half = self.cal_frequency(k - 1)\n",
    "            ax = fig.add_subplot(5, 2, 1 + idx * 2)\n",
    "            ax.plot(half_frq, normalization_half)\n",
    "            plot_norm(ax, 'Freq (Hz)', '|Y(freq)|', x_lim=[0, pow(10, 6)], legend=False)\n",
    "\n",
    "            half_frq, normalization_half = self.cal_frequency(TRAI_2[idx] - 1)\n",
    "            ax2 = fig.add_subplot(5, 2, 2 + idx * 2)\n",
    "            ax2.plot(half_frq, normalization_half)\n",
    "            plot_norm(ax2, 'Freq (Hz)', '|Y(freq)|', x_lim=[0, pow(10, 6)], legend=False)\n",
    "    \n",
    "    def cal_freq_max(self, ALL_TRAI, status='peak'):\n",
    "        freq, stage_idx = [], []\n",
    "        for trai in tqdm(ALL_TRAI):\n",
    "            half_frq, normalization_half = self.cal_frequency(trai - 1)\n",
    "            if status == 'peak':\n",
    "                freq.append(half_frq[np.argmax(normalization_half)])\n",
    "            elif status == 'three peaks':\n",
    "                freq_max = []\n",
    "                idx_1 = np.where(half_frq < 300000)\n",
    "                idx_2 = np.where((half_frq >= 300000) & (half_frq < 500000))\n",
    "                idx_3 = np.where(half_frq >= 500000)\n",
    "                normalization_max = 0\n",
    "                if idx_1.shape[0] != 0 and idx_2.shape[0] != 0 and idx_3.shape[0] != 0:\n",
    "                    for i, idx in enumerate([idx_1, idx_2, idx_3]):\n",
    "                        if max(normalization_half[idx]) > normalization_max:\n",
    "                            idx_max = idx\n",
    "                            tmp = i + 1\n",
    "                            normalization_max = max(normalization_half[idx])\n",
    "                            freq_max = half_frq[idx_max][np.argmax(normalization_half[idx_max])]\n",
    "                freq.append(freq_max)\n",
    "                stage_idx.append(tmp)\n",
    "        freq = np.array(freq)\n",
    "        stage_idx = np.array(stage_idx)\n",
    "        return freq, stage_idx"
   ]
  },
  {
   "cell_type": "markdown",
   "metadata": {},
   "source": [
    "#### Validate features"
   ]
  },
  {
   "cell_type": "code",
   "execution_count": null,
   "metadata": {
    "ExecuteTime": {
     "end_time": "2020-11-17T03:40:04.800098Z",
     "start_time": "2020-11-17T03:40:04.794097Z"
    },
    "code_folding": [],
    "scrolled": true
   },
   "outputs": [],
   "source": [
    "# Time, Amp, RiseTime, Dur, Eny, Counts, TRAI\n",
    "for i in TRAI_2:\n",
    "    vallen = data_pri[i-1]\n",
    "    print('{:.8f} {} {} {} {} {:.0f} {:.0f}'.format(vallen[1], vallen[4], vallen[5], vallen[6], vallen[-4], vallen[-2], vallen[-1]))"
   ]
  },
  {
   "cell_type": "code",
   "execution_count": null,
   "metadata": {
    "code_folding": []
   },
   "outputs": [],
   "source": [
    "for i in TRAI_2:\n",
    "    validation(i-1)"
   ]
  },
  {
   "cell_type": "markdown",
   "metadata": {},
   "source": [
    "#### Plot waveform"
   ]
  },
  {
   "cell_type": "code",
   "execution_count": 322,
   "metadata": {
    "ExecuteTime": {
     "end_time": "2020-12-22T08:48:25.998676Z",
     "start_time": "2020-12-22T08:48:25.982646Z"
    }
   },
   "outputs": [],
   "source": [
    "waveform = Waveform(color_1, color_2, data_tra, path, path_pri, 'Ni-electrolysis', 'vallen')"
   ]
  },
  {
   "cell_type": "code",
   "execution_count": 323,
   "metadata": {
    "ExecuteTime": {
     "end_time": "2020-12-22T08:48:27.283706Z",
     "start_time": "2020-12-22T08:48:27.114643Z"
    }
   },
   "outputs": [],
   "source": [
    "waveform.plot_wave_TRAI(2345, valid=True)"
   ]
  },
  {
   "cell_type": "code",
   "execution_count": 526,
   "metadata": {
    "ExecuteTime": {
     "end_time": "2020-12-11T06:51:38.835294Z",
     "start_time": "2020-12-11T06:51:37.925184Z"
    }
   },
   "outputs": [],
   "source": [
    "for idx, value in zip([i for i in range(5)], [32, 56, 105, 185, 285]):\n",
    "    waveform.plot_2cls_wave(TRAI_same_amp_1[idx], TRAI_same_amp_2[idx], 'amplitude', value)\n",
    "\n",
    "# waveform.plot_2cls_wave(TRAI_same_eny_1, TRAI_same_eny_2, 'energy')"
   ]
  },
  {
   "cell_type": "markdown",
   "metadata": {},
   "source": [
    "#### Plot frequency & average frequency"
   ]
  },
  {
   "cell_type": "code",
   "execution_count": 333,
   "metadata": {
    "ExecuteTime": {
     "end_time": "2020-12-22T12:39:24.818992Z",
     "start_time": "2020-12-22T12:39:24.811959Z"
    }
   },
   "outputs": [],
   "source": [
    "frequency = Frequency(color_1, color_2, data_tra, path, path_pri, 'Ni-electrolysis', 'vallen')"
   ]
  },
  {
   "cell_type": "code",
   "execution_count": 24,
   "metadata": {
    "ExecuteTime": {
     "end_time": "2020-12-09T12:27:41.089250Z",
     "start_time": "2020-12-09T12:27:41.070840Z"
    },
    "code_folding": []
   },
   "outputs": [],
   "source": [
    "TRAI_1_all = chan[cls_KKM[0]][:, -1].astype(int)\n",
    "TRAI_2_all = chan[cls_KKM[1]][:, -1].astype(int)\n",
    "TRAI_all = np.append(TRAI_1_all, TRAI_2_all)"
   ]
  },
  {
   "cell_type": "code",
   "execution_count": null,
   "metadata": {
    "ExecuteTime": {
     "end_time": "2020-12-02T09:03:15.580685Z",
     "start_time": "2020-12-02T09:03:10.360663Z"
    },
    "scrolled": true
   },
   "outputs": [],
   "source": [
    "for trai, title in zip([TRAI_all, TRAI_1_all, TRAI_2_all], ['Whole', 'Population 1', 'Population 2']):\n",
    "    Res = frequency.cal_ave_freq(trai)\n",
    "    frequency.plot_ave_freq(Res, trai.shape[0], title)\n",
    "frequency.plot_wave_frequency(TRAI_same_amp_1, '1')\n",
    "frequency.plot_wave_frequency(TRAI_same_amp_2, '2')"
   ]
  },
  {
   "cell_type": "code",
   "execution_count": null,
   "metadata": {
    "ExecuteTime": {
     "end_time": "2020-12-22T12:39:27.481948Z",
     "start_time": "2020-12-22T12:39:27.447915Z"
    }
   },
   "outputs": [],
   "source": [
    "frequency.plot_wave_frequency(trai_2_1, 2)"
   ]
  },
  {
   "cell_type": "code",
   "execution_count": 216,
   "metadata": {
    "ExecuteTime": {
     "end_time": "2020-12-09T07:11:05.493216Z",
     "start_time": "2020-12-09T07:11:04.348181Z"
    }
   },
   "outputs": [],
   "source": [
    "frequency.plot_2cls_freq(TRAI_same_amp_1, TRAI_same_amp_2, 'amplitude')"
   ]
  },
  {
   "cell_type": "markdown",
   "metadata": {},
   "source": [
    "### Export data through time selection"
   ]
  },
  {
   "cell_type": "code",
   "execution_count": null,
   "metadata": {
    "ExecuteTime": {
     "end_time": "2020-12-02T06:29:07.638919Z",
     "start_time": "2020-12-02T06:29:07.624472Z"
    },
    "code_folding": [
     0,
     1,
     6
    ]
   },
   "outputs": [],
   "source": [
    "class Read_with_time:\n",
    "    def __init__(self, path_pri, time, fold):\n",
    "        self.time = time\n",
    "        self.path_pri = path_pri\n",
    "        self.fold = fold\n",
    "        \n",
    "    def select_time(self):\n",
    "        conn_pri = sqlite3.connect(self.path_pri)\n",
    "        result_pri = conn_pri.execute(\"Select SetID, Time, Chan, Thr, Amp, RiseT, Dur, Eny, RMS, Counts, TRAI FROM view_ae_data\")\n",
    "        chan_1, chan_2, chan_3, chan_4 = [], [], [], []\n",
    "        t = [[] for _ in range(len(self.time)-1)]\n",
    "        N_pri = sqlite_read(self.path_pri)\n",
    "        for _ in tqdm(range(N_pri)):\n",
    "            i = result_pri.fetchone()\n",
    "            if i[-2] is not None and i[-2] >= 6 and i[-1] > 0:\n",
    "                for idx, chan in zip(np.arange(1, 5), [chan_1, chan_2, chan_3, chan_4]):\n",
    "                   if i[2] == idx:\n",
    "                        chan.append(i)\n",
    "                        for j in range(len(t)):\n",
    "                            if time[j] <= i[1] < time[j+1]:\n",
    "                                t[j].append(i)\n",
    "                                break\n",
    "                        break\n",
    "        return t, chan_1, chan_2, chan_3, chan_4\n",
    "    \n",
    "    def export_feature(self, t):\n",
    "        for i in range(len(self.time)-1):\n",
    "            with open(self.fold + '-%d-%d.txt' % (self.time[i], self.time[i+1]), 'w') as f:\n",
    "                f.write('SetID, TRAI, Time, Chan, Thr, Amp, RiseT, Dur, Eny, RMS, Counts\\n')\n",
    "                # ID, Time(s), Chan, Thr(μV), Thr(dB), Amp(μV), Amp(dB), RiseT(s), Dur(s), Eny(aJ), RMS(μV), Counts, Frequency(Hz)\n",
    "                for i in t[i]:\n",
    "                    f.write('{}, {}, {:.8f}, {}, {:.7f}, {:.7f}, {:.2f}, {:.2f}, {:.7f}, {:.7f}, {}\\n'.format(\n",
    "                        i[0], i[-1], i[1], i[2], i[3], i[4], i[5], i[6], i[7], i[8], i[9]))"
   ]
  },
  {
   "cell_type": "code",
   "execution_count": null,
   "metadata": {
    "ExecuteTime": {
     "end_time": "2020-12-02T03:24:05.211497Z",
     "start_time": "2020-12-02T03:17:48.320337Z"
    }
   },
   "outputs": [],
   "source": [
    "time = [0, 1600, 3044, 4177, 5997, 8285, 11592, 16240, 18000]\n",
    "read_with_time = Read_with_time(path_pri, time)\n",
    "t, chan_1, chan_2, chan_3, chan_4 = read_with_time.select_time()"
   ]
  },
  {
   "cell_type": "markdown",
   "metadata": {},
   "source": [
    "### Waveform-Find with TRAI"
   ]
  },
  {
   "cell_type": "markdown",
   "metadata": {},
   "source": [
    "#### 316L"
   ]
  },
  {
   "cell_type": "markdown",
   "metadata": {},
   "source": [
    "##### Random select 10 waves for each pop"
   ]
  },
  {
   "cell_type": "code",
   "execution_count": null,
   "metadata": {
    "ExecuteTime": {
     "end_time": "2020-11-18T11:33:50.788276Z",
     "start_time": "2020-11-18T11:33:50.770770Z"
    }
   },
   "outputs": [],
   "source": [
    "TRAI_1 = [2939, 33400, 3391, 1720, 1882, 12861, 21555, 85898, 65567, 42415]\n",
    "TRAI_2 = [39553, 22378, 88770, 1808, 102212, 225509, 26146, 55467, 81744, 134964]"
   ]
  },
  {
   "cell_type": "markdown",
   "metadata": {},
   "source": [
    "#### Ni-electrolysis"
   ]
  },
  {
   "cell_type": "code",
   "execution_count": null,
   "metadata": {
    "ExecuteTime": {
     "end_time": "2020-12-07T02:19:29.281913Z",
     "start_time": "2020-12-07T02:19:29.261913Z"
    },
    "code_folding": [
     2,
     5,
     9,
     12
    ]
   },
   "outputs": [],
   "source": [
    "'''Ni-electrolysis\n",
    "x1_lim=[pow(10, 3), float('inf')], x2_lim=[pow(10, 2.25), float('inf')], plot_lim=[300, 35]\n",
    "(8.714970845731935,\n",
    " [1.2903438545965467, 1.253999359428133],\n",
    " [-1.9635628529617444, -0.6698164866272941],\n",
    "(4.186621867300563,\n",
    " [2.1170568158769116, 2.0237536458394985],\n",
    " [-2.8455989788969775, -3.2314155452663345])\n",
    "'''\n",
    "fit_with_x1 = np.array([ 20,  22,  34,  42,  43,  55,  63,  70,  71,  73,  78,  87,  99,\n",
    "         104, 105, 111, 112, 119, 128, 130, 137, 149, 157, 159, 161, 164,\n",
    "         166, 168, 176, 180, 187, 190, 206, 209, 210])\n",
    "fit_with_x2 = np.array([  2,   5,   7,  25,  29,  45,  50,  59,  75,  82,  86, 112, 123,\n",
    "         135, 137, 139, 140, 144, 146, 148, 154, 180, 184, 187, 203, 234,\n",
    "         261, 265, 275, 277])"
   ]
  },
  {
   "cell_type": "markdown",
   "metadata": {},
   "source": [
    "##### Random select 10 waves for each pop"
   ]
  },
  {
   "cell_type": "code",
   "execution_count": null,
   "metadata": {
    "ExecuteTime": {
     "end_time": "2020-12-02T01:31:12.904508Z",
     "start_time": "2020-12-02T01:31:12.893511Z"
    },
    "code_folding": [
     0
    ]
   },
   "outputs": [],
   "source": [
    "# 1.263, 1.395, 1.538, 1.728, 1.832, 2.233, 2.450, 2.573, 2.702, 3.079\n",
    "idx_1 = [5, 70, 3, 9, 0, 20, 136, 42, 54, 108]\n",
    "TRAI_1 = [735, 3218, 593, 1138, 323, 2001, 6585, 2614, 2832, 4619]\n",
    "\n",
    "# 1.365, 1.495, 1.773, 1.839, 1.95, 2.258, 2.390, 2.507, 2.680, 2.875\n",
    "idx_2 = [0, 172, 1, 3, 5, 112, 7, 144, 2, 137]\n",
    "TRAI_2 = [323, 9776, 383, 593, 735, 4694, 909, 7445, 405, 6695]"
   ]
  },
  {
   "cell_type": "markdown",
   "metadata": {},
   "source": [
    "##### Random select 5 waves for each pop"
   ]
  },
  {
   "cell_type": "code",
   "execution_count": null,
   "metadata": {
    "ExecuteTime": {
     "end_time": "2020-12-02T01:32:52.977481Z",
     "start_time": "2020-12-02T01:32:52.971481Z"
    },
    "code_folding": [
     0
    ]
   },
   "outputs": [],
   "source": [
    "# 0.115, 0.275, 0.297, 0.601, 1.024\n",
    "idx_select_2 = [50, 148, 51, 252, 10]\n",
    "TRAI_select_2 = [3067, 11644, 3079, 28583, 1501]\n",
    "\n",
    "# 0.303, 0.409, 0.534, 0.759, 1.026\n",
    "idx_select_1 = [13, 75, 79, 72, 71]\n",
    "TRAI_select_1 = [2949, 14166, 14815, 14140, 14090]"
   ]
  },
  {
   "cell_type": "markdown",
   "metadata": {},
   "source": [
    "##### Misclassified 6 waves for pop 1"
   ]
  },
  {
   "cell_type": "code",
   "execution_count": null,
   "metadata": {
    "ExecuteTime": {
     "end_time": "2020-12-02T08:10:32.227303Z",
     "start_time": "2020-12-02T08:10:32.223666Z"
    },
    "code_folding": [
     0
    ]
   },
   "outputs": [],
   "source": [
    "# Misclassified point\n",
    "idx_Miscls_1 = [18, 69, 5, 12, 53, 202]\n",
    "TRAI_Miscls_1 = [4816, 13486, 2226, 3067, 11644, 37244]"
   ]
  },
  {
   "cell_type": "markdown",
   "metadata": {},
   "source": [
    "##### Select 5 waves for each pop with same energy"
   ]
  },
  {
   "cell_type": "code",
   "execution_count": null,
   "metadata": {
    "ExecuteTime": {
     "end_time": "2020-12-02T09:03:07.010688Z",
     "start_time": "2020-12-02T09:03:06.998612Z"
    },
    "code_folding": [
     0
    ]
   },
   "outputs": [],
   "source": [
    "# Comparied with same energy\n",
    "idx_same_eny_2 = [79, 229, 117, 285, 59]\n",
    "TRAI_same_eny_2 = [4012, 22499, 7445, 34436, 3282]\n",
    "\n",
    "idx_same_eny_1 = [160, 141, 57, 37, 70]\n",
    "TRAI_same_eny_1 = [26465, 23930, 11974, 9379, 13667]"
   ]
  },
  {
   "cell_type": "markdown",
   "metadata": {},
   "source": [
    "##### Select 5 waves for each pop with same amplitude"
   ]
  },
  {
   "cell_type": "code",
   "execution_count": 492,
   "metadata": {
    "ExecuteTime": {
     "end_time": "2020-12-11T06:21:04.116143Z",
     "start_time": "2020-12-11T06:21:04.101143Z"
    },
    "code_folding": []
   },
   "outputs": [],
   "source": [
    "# Comparied with same amplitude\n",
    "idx_same_amp_2 = [90, 23, 48, 50, 184]\n",
    "TRAI_same_amp_2 = [4619, 2229, 2977, 3014, 18224]\n",
    "\n",
    "idx_same_amp_1 = [16, 26, 87, 34, 128]\n",
    "TRAI_same_amp_1 = [3932, 7412, 16349, 9001, 22112]"
   ]
  },
  {
   "cell_type": "markdown",
   "metadata": {},
   "source": [
    "##### Select frequency for each pop"
   ]
  },
  {
   "cell_type": "code",
   "execution_count": 91,
   "metadata": {
    "ExecuteTime": {
     "end_time": "2020-12-09T13:02:49.251104Z",
     "start_time": "2020-12-09T13:02:49.231122Z"
    },
    "code_folding": []
   },
   "outputs": [],
   "source": [
    "# Types of spectrum in each category\n",
    "trai_1 = chan[cls_KKM[0]][:, -1].astype(int) # 306\n",
    "trai_2 = chan[cls_KKM[1]][:, -1].astype(int) # 209\n",
    "\n",
    "trai_1_1 = [4307, 3079, 42489, 4816, 2949]\n",
    "trai_1_2 = [37064, 21233, 32494, 11974, 12805]\n",
    "trai_1_3 = [17364, 13460, 12614, 23930, 14220]\n",
    "\n",
    "trai_2_1 = [3282, 2756, 2001, 5365, 3738]\n",
    "trai_2_2 = [34351, 2773, 5110, 2300, 27364]\n",
    "trai_2_3 = [18450, 18924, 19347, 6343, 14815]\n",
    "trai_2_4 = [3686, 3527, 2684, 3218, 1869]"
   ]
  },
  {
   "cell_type": "markdown",
   "metadata": {},
   "source": [
    "#### Ni-pure"
   ]
  },
  {
   "cell_type": "code",
   "execution_count": null,
   "metadata": {
    "ExecuteTime": {
     "end_time": "2020-12-07T03:21:57.651363Z",
     "start_time": "2020-12-07T03:21:57.633366Z"
    },
    "code_folding": [
     2,
     5,
     9,
     11
    ]
   },
   "outputs": [],
   "source": [
    "'''Ni-pure\n",
    "x1_lim=[pow(10, 2.75), float('inf')], x2_lim=[pow(10, 1.7), pow(10, 2.0)], plot_lim=[150, 30]\n",
    "(9.408311638695471,\n",
    " [0.9126500470268016, 1.456145928319286],\n",
    " [-0.7280740406031267, -0.9006654973796809],\n",
    "(5.766350749078614,\n",
    " [1.875719534565335, 1.2106043595263152],\n",
    " [-2.4122140513381365, -1.8502129064842026])\n",
    "'''\n",
    "fit_with_x1 = np.array([ 2,  3, 14, 26, 27, 29, 42, 45, 46, 48, 49, 50, 58, 60, 62, 64, 71,\n",
    "         74, 75, 79, 80, 84, 85, 86, 88, 90, 92])\n",
    "fit_with_x2 = np.array([ 25,  35,  36,  41,  45,  50,  60,  64,  74,  77,  84,  86,  87,\n",
    "          90,  91,  99, 101, 102, 107, 108, 111, 113, 115, 118, 119, 139])"
   ]
  },
  {
   "cell_type": "markdown",
   "metadata": {},
   "source": [
    "##### Random select 10 waves for each pop"
   ]
  },
  {
   "cell_type": "code",
   "execution_count": null,
   "metadata": {
    "code_folding": [
     0
    ]
   },
   "outputs": [],
   "source": [
    "# 1.263, 1.365, 1.422, 1.552, 1.601, 1.749, 1.875, 1.965, 2.339, 2.522\n",
    "idx_1 = [23, 2, 77, 3, 19 ,0 , 24, 22, 59, 101]\n",
    "TRAI_1 = [13345, 2751, 63678, 2876, 8716, 425, 13697, 12594, 49370, 81608]\n",
    "\n",
    "# 1.288, 1.365, 1.413, 1.552, 1.676, 1.785, 1.899, 1.975, 2.149, 2.341\n",
    "idx_2 = [60, 5, 9, 21, 8, 38, 0, 109, 3, 44]\n",
    "TRAI_2 = [52208, 3851, 4720, 11113, 4701, 22311, 425, 86575, 2876, 26988]"
   ]
  },
  {
   "cell_type": "markdown",
   "metadata": {},
   "source": [
    "##### Select 5 waves for each pop with same amplitude"
   ]
  },
  {
   "cell_type": "code",
   "execution_count": 488,
   "metadata": {
    "ExecuteTime": {
     "end_time": "2020-12-11T03:29:46.207065Z",
     "start_time": "2020-12-11T03:29:46.033611Z"
    },
    "code_folding": [
     0
    ]
   },
   "outputs": [],
   "source": [
    "# Comparied with same amplitude\n",
    "idx_same_amp_1 = [56, 41, 39, 62, 45]\n",
    "TRAI_same_amp_1 = [104771, 84019, 82239, 114468, 88835]\n",
    "idx_same_amp_2 = [136, 91, 139, 118, 61]\n",
    "TRAI_same_amp_2 = [4078227, 121368, 4114923, 168997, 74951]"
   ]
  },
  {
   "cell_type": "markdown",
   "metadata": {},
   "source": [
    "#### Al alloy"
   ]
  },
  {
   "cell_type": "code",
   "execution_count": null,
   "metadata": {
    "ExecuteTime": {
     "end_time": "2020-12-07T03:08:33.786952Z",
     "start_time": "2020-12-07T03:08:33.765984Z"
    },
    "code_folding": [
     2,
     5,
     9,
     13
    ]
   },
   "outputs": [],
   "source": [
    "'''Al alloy\n",
    "x1_lim=[pow(10, 2.6), pow(10, 3.6)], x2_lim=[pow(10, 1.6), float('inf')], plot_lim=[350, 20]\n",
    "(9.799479289991396,\n",
    " [1.4643657514207225, 1.038643211760153],\n",
    " [-2.622637801482029, -0.29024759045676185],\n",
    "(5.659182491899722,\n",
    " [1.7385373218375684, 1.537111255283656],\n",
    " [-2.101862723802673, -2.4298374025456746])\n",
    "'''\n",
    "fit_with_x1 = np.array([  0,   1,   3,   4,   9,  20,  27,  31,  32,  37,  41,  43,  44,\n",
    "              46,  55,  56,  58,  63,  65,  68,  72,  76,  79,  81,  85,  86,\n",
    "              87,  88,  90,  92,  93,  96,  97,  98, 101, 106, 108, 113, 114,\n",
    "              115, 119, 128, 130])\n",
    "fit_with_x2 = np.array([  1,  11,  21,  23,  25,  28,  30,  31,  34,  36,  38,  41,  43,\n",
    "          44,  45,  46,  47,  48,  49,  51,  53,  54,  55,  56,  57,  59,\n",
    "          63,  65,  67,  69,  70,  71,  72,  73,  75,  78,  79,  80,  81,\n",
    "          84,  85,  86,  87,  88,  89,  90,  92,  94,  95,  97,  98,  99,\n",
    "         101, 102, 103, 105, 106, 109, 110, 111, 112, 113, 114, 115, 116,\n",
    "         117, 118, 119, 120, 121, 124, 125, 127, 129, 131, 132, 134, 135,\n",
    "         139, 141, 147, 149, 150, 151, 152, 154, 157, 160, 161, 162, 163,\n",
    "         165, 166, 167, 168, 169, 170, 171, 172, 176, 177, 181, 187, 188,\n",
    "         190, 191, 195, 196, 197, 198, 201, 203, 204, 205, 207, 208, 210,\n",
    "         212, 213, 214, 215, 216, 218, 219, 220, 224, 225, 227, 228, 229,\n",
    "         231, 233, 236, 237, 238, 240, 241, 242, 244, 248, 250, 252, 255,\n",
    "         258, 259, 261, 262, 263, 266, 270, 271, 273, 274, 276, 277, 278,\n",
    "         279, 282, 285, 286, 287, 294, 296, 298, 299, 300, 301, 303, 304,\n",
    "         305, 307, 308, 312, 315, 318, 319, 321, 322, 327, 330, 332, 335,\n",
    "         336, 337, 338, 340, 341, 342, 343, 348, 350, 352, 354, 355, 356,\n",
    "         357, 360, 361, 362, 372, 373, 382, 383, 384, 391, 393, 399, 400,\n",
    "         401, 402, 405, 408, 410, 411, 412, 415, 418, 419, 422, 424, 429,\n",
    "         431, 433, 434, 437, 439, 440, 442, 445, 447, 449, 451, 455])"
   ]
  },
  {
   "cell_type": "markdown",
   "metadata": {},
   "source": [
    "##### Select 5 waves for each pop with same amplitude"
   ]
  },
  {
   "cell_type": "code",
   "execution_count": null,
   "metadata": {
    "ExecuteTime": {
     "end_time": "2020-11-28T10:26:47.770900Z",
     "start_time": "2020-11-28T10:26:47.756867Z"
    },
    "code_folding": [
     0
    ]
   },
   "outputs": [],
   "source": [
    "# 6016_CR_1\n",
    "# Comparied with same amplitude\n",
    "idx_select_2 = [32, 39, 156, 17, 20]\n",
    "TRAI_select_2 = [8381, 8961, 15592, 7295, 7402]\n",
    "\n",
    "idx_select_1 = [51, 72, 71, 9, 66]\n",
    "TRAI_select_1 = [5350, 7987, 7963, 785, 7819]"
   ]
  },
  {
   "cell_type": "markdown",
   "metadata": {},
   "source": [
    "### Read"
   ]
  },
  {
   "cell_type": "code",
   "execution_count": null,
   "metadata": {
    "ExecuteTime": {
     "end_time": "2020-11-18T11:29:58.886898Z",
     "start_time": "2020-11-18T11:29:58.875233Z"
    },
    "code_folding": [
     0
    ]
   },
   "outputs": [],
   "source": [
    "def sqlite_read(path):\n",
    "    \"\"\"\n",
    "    python读取sqlite数据库文件\n",
    "    \"\"\"\n",
    "    mydb = sqlite3.connect(path)                # 链接数据库\n",
    "    mydb.text_factory = lambda x: str(x, 'gbk', 'ignore')\n",
    "    cur = mydb.cursor()                         # 创建游标cur来执行SQL语句\n",
    "\n",
    "    # 获取表名\n",
    "    cur.execute(\"SELECT name FROM sqlite_master WHERE type='table'\")\n",
    "    Tables = cur.fetchall()                     # Tables 为元组列表\n",
    "#     print(Tables)\n",
    "\n",
    "#     i = 0\n",
    "#     while True:\n",
    "#         try:\n",
    "#             tbl_name = Tables[i][0]                     # 获取第一个表名\n",
    "#             print(tbl_name)\n",
    "#         except:\n",
    "#             break\n",
    "#         # 获取表的列名\n",
    "#         cur.execute(\"SELECT * FROM {}\".format(tbl_name))\n",
    "#         col_name_list = [tuple[0] for tuple in cur.description]\n",
    "#         pprint.pprint(col_name_list)\n",
    "#         i += 1\n",
    "\n",
    "    # 获取表结构的所有信息\n",
    "    cur.execute(\"SELECT * FROM {}\".format(Tables[3][0]))\n",
    "    res = cur.fetchall()\n",
    "#     pprint.pprint(cur.fetchall()[-1][1])\n",
    "    return int(res[-2][1]), int(res[-1][1])"
   ]
  },
  {
   "cell_type": "code",
   "execution_count": null,
   "metadata": {
    "ExecuteTime": {
     "end_time": "2020-11-18T11:05:44.133018Z",
     "start_time": "2020-11-18T11:05:44.121680Z"
    },
    "scrolled": true
   },
   "outputs": [],
   "source": [
    "sqlite_read(path_pri)"
   ]
  },
  {
   "cell_type": "code",
   "execution_count": null,
   "metadata": {
    "ExecuteTime": {
     "end_time": "2020-11-07T08:49:08.692644Z",
     "start_time": "2020-11-07T08:49:08.670635Z"
    },
    "scrolled": true
   },
   "outputs": [],
   "source": [
    "conn.execute(\"PRAGMA table_info(view_tr_data)\").fetchall()"
   ]
  }
 ],
 "metadata": {
  "kernelspec": {
   "display_name": "Python 3",
   "language": "python",
   "name": "python3"
  },
  "language_info": {
   "codemirror_mode": {
    "name": "ipython",
    "version": 3
   },
   "file_extension": ".py",
   "mimetype": "text/x-python",
   "name": "python",
   "nbconvert_exporter": "python",
   "pygments_lexer": "ipython3",
   "version": "3.8.5"
  },
  "toc": {
   "base_numbering": 1,
   "nav_menu": {
    "height": "392px",
    "width": "222px"
   },
   "number_sections": true,
   "sideBar": true,
   "skip_h1_title": false,
   "title_cell": "Table of Contents",
   "title_sidebar": "Contents",
   "toc_cell": false,
   "toc_position": {
    "height": "766.997px",
    "left": "47px",
    "top": "322.733px",
    "width": "400.955px"
   },
   "toc_section_display": true,
   "toc_window_display": true
  },
  "varInspector": {
   "cols": {
    "lenName": 16,
    "lenType": 16,
    "lenVar": 40
   },
   "kernels_config": {
    "python": {
     "delete_cmd_postfix": "",
     "delete_cmd_prefix": "del ",
     "library": "var_list.py",
     "varRefreshCmd": "print(var_dic_list())"
    },
    "r": {
     "delete_cmd_postfix": ") ",
     "delete_cmd_prefix": "rm(",
     "library": "var_list.r",
     "varRefreshCmd": "cat(var_dic_list()) "
    }
   },
   "oldHeight": 122,
   "position": {
    "height": "574px",
    "left": "1152px",
    "right": "20px",
    "top": "128px",
    "width": "661px"
   },
   "types_to_exclude": [
    "module",
    "function",
    "builtin_function_or_method",
    "instance",
    "_Feature"
   ],
   "varInspector_section_display": "block",
   "window_display": false
  }
 },
 "nbformat": 4,
 "nbformat_minor": 4
}
