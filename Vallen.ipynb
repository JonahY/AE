{
 "cells": [
  {
   "cell_type": "code",
   "execution_count": 646,
   "metadata": {
    "ExecuteTime": {
     "end_time": "2020-11-09T08:34:04.525167Z",
     "start_time": "2020-11-09T08:34:04.393897Z"
    }
   },
   "outputs": [],
   "source": [
    "# -*- coding: UTF-8 -*-\n",
    "import os\n",
    "import pandas as pd\n",
    "import numpy as np\n",
    "import matplotlib.pyplot as plt\n",
    "import math\n",
    "import time\n",
    "from sklearn.decomposition import PCA\n",
    "from sklearn.cluster import KMeans\n",
    "from tqdm import tqdm\n",
    "from scipy.fftpack import fft\n",
    "from matplotlib.pylab import mpl\n",
    "import csv\n",
    "import sqlite3 \n",
    "import array\n",
    "import sqlite3\n",
    "import pprint\n",
    "\n",
    "\n",
    "%matplotlib qt5\n",
    "plt.rcParams['xtick.direction'] = 'in'\n",
    "plt.rcParams['ytick.direction'] = 'in'\n",
    "mpl.rcParams['axes.unicode_minus'] = False  #显示负号"
   ]
  },
  {
   "cell_type": "code",
   "execution_count": 647,
   "metadata": {
    "ExecuteTime": {
     "end_time": "2020-11-09T08:34:23.954638Z",
     "start_time": "2020-11-09T08:34:23.938608Z"
    }
   },
   "outputs": [],
   "source": [
    "os.chdir(r'E:\\data\\vallen')\n",
    "path_pri = r'E:\\data\\vallen\\Ni-tension test-electrolysis-1-0.01-AE-20201031.pridb'\n",
    "path_tra = r'E:\\data\\vallen\\Ni-tension test-electrolysis-1-0.01-AE-20201031.tradb'\n",
    "# Ni-tension test-electrolysis-1-0.01-AE-20201031\n",
    "# Ni-tension test-pure-1-0.01-AE-20201030"
   ]
  },
  {
   "cell_type": "code",
   "execution_count": 648,
   "metadata": {
    "ExecuteTime": {
     "end_time": "2020-11-09T08:34:32.886599Z",
     "start_time": "2020-11-09T08:34:31.157397Z"
    }
   },
   "outputs": [],
   "source": [
    "conn_tra = sqlite3.connect(path_tra)\n",
    "conn_pri = sqlite3.connect(path_pri)\n",
    "result_tra = conn_tra.execute(\"Select Time, Chan, Thr, SampleRate, Samples, TR_mV, Data, TRAI FROM view_tr_data\").fetchall()\n",
    "result_pri = conn_pri.execute(\"Select SetID, Time, Chan, Thr, Amp, RiseT, Dur, Eny, RMS, Counts, TRAI FROM view_ae_data\").fetchall()"
   ]
  },
  {
   "cell_type": "code",
   "execution_count": 518,
   "metadata": {
    "ExecuteTime": {
     "end_time": "2020-11-09T01:11:55.508881Z",
     "start_time": "2020-11-09T01:11:52.951386Z"
    },
    "scrolled": true
   },
   "outputs": [
    {
     "name": "stderr",
     "output_type": "stream",
     "text": [
      "100%|█████████████████████████████████████████████████████████████████████████| 64482/64482 [00:02<00:00, 25604.03it/s]\n"
     ]
    }
   ],
   "source": [
    "valid_idx = []\n",
    "for idx, i in enumerate(result_pri):\n",
    "    if i[-1] not in [None, 0]:\n",
    "        valid_idx.append(idx)\n",
    "valid_pri = np.array(result_pri)[valid_idx]\n",
    "\n",
    "freq_max = []\n",
    "result_tra = sorted(result_tra, key=lambda x: x[-1])\n",
    "for idx, i in enumerate(tqdm(result_tra)):\n",
    "    sig = np.multiply(array.array('h', bytes(i[-2])), i[-3] * 1000)\n",
    "    thr = i[2]\n",
    "    Fs = i[3]\n",
    "    Ts = 1 / Fs\n",
    "    if valid_pri[idx][-2] > 1:\n",
    "        valid_wave_idx = np.where(abs(sig) >= thr)[0]\n",
    "        valid_data = sig[valid_wave_idx[0]:(valid_wave_idx[-1] + 1)]\n",
    "        N = valid_data.shape[0]\n",
    "        fft_y = fft(valid_data)\n",
    "        abs_y = np.abs(fft_y)\n",
    "        normalization = abs_y / N\n",
    "        normalization_half = normalization[range(int(N / 2))]\n",
    "        frq = (np.arange(N) / N) * Fs\n",
    "        half_frq = frq[range(int(N / 2))]\n",
    "        try:\n",
    "            freq_max.append(half_frq[np.argmax(normalization_half)])\n",
    "        except:\n",
    "            freq_max.append(frq[0])"
   ]
  },
  {
   "cell_type": "code",
   "execution_count": 521,
   "metadata": {
    "ExecuteTime": {
     "end_time": "2020-11-09T01:14:31.352187Z",
     "start_time": "2020-11-09T01:14:31.128217Z"
    }
   },
   "outputs": [],
   "source": [
    "# save features to file\n",
    "with open('Ni-tension test-electrolysis-1-0.01-AE-20201031.txt', 'w') as f:\n",
    "    f.write(\n",
    "        'SetID, TRAI, Time, Chan, Thr, Amp, RiseT, Dur, Eny, RMS, Counts, Frequency(Hz)\\n')\n",
    "    # ID, Time(s), Chan, Thr(μV), Thr(dB), Amp(μV), Amp(dB), RiseT(s), Dur(s), Eny(aJ), RMS(μV), Counts, Frequency(Hz)\n",
    "    j = 0\n",
    "    for i in valid_pri:\n",
    "        if i[-2] > 1:\n",
    "            f.write('{}, {}, {:.8f}, {}, {:.7f}, {:.7f}, {:.2f}, {:.2f}, {:.7f}, {:.7f}, {}, {:.7f}\\n'.format(\n",
    "                i[0], i[-1], i[1], i[2], i[3], i[4], i[5], i[6], i[7], i[8], i[9], freq_max[j]))\n",
    "            j += 1"
   ]
  },
  {
   "cell_type": "markdown",
   "metadata": {},
   "source": [
    "## Plot"
   ]
  },
  {
   "cell_type": "code",
   "execution_count": null,
   "metadata": {
    "ExecuteTime": {
     "end_time": "2020-11-08T10:21:14.989695Z",
     "start_time": "2020-11-08T10:21:14.816731Z"
    }
   },
   "outputs": [],
   "source": [
    "titles = ['Original Waveform',\n",
    "          'Bilateral amplitude spectrum (normalized)', \n",
    "          'Unilateral amplitude spectrum (normalized)']\n",
    "colors = ['purple', 'green', 'blue']\n",
    "x_label = ['Time (s)', 'Freq (Hz)', 'Freq (Hz)']\n",
    "y_label = ['Amplitude (μV)', '|Y(freq)|', '|Y(freq)|']\n",
    "xs = [time_label, frq, half_frq]\n",
    "ys = [valid_data, normalization, normalization_half]\n",
    "\n",
    "for i, [x, y, title, color, xlabel, ylabel] in enumerate(zip(xs, ys, titles, colors, x_label, y_label)):\n",
    "    plt.subplot(311 + i)\n",
    "    plt.plot(x, y, color)\n",
    "    plt.xlabel(xlabel)\n",
    "    plt.ylabel(ylabel)\n",
    "    plt.title(title, color=color)\n",
    "plt.tight_layout()"
   ]
  },
  {
   "cell_type": "markdown",
   "metadata": {},
   "source": [
    "## Validation"
   ]
  },
  {
   "cell_type": "code",
   "execution_count": null,
   "metadata": {
    "ExecuteTime": {
     "end_time": "2020-11-09T02:43:49.383094Z",
     "start_time": "2020-11-09T02:43:49.365124Z"
    },
    "scrolled": true
   },
   "outputs": [],
   "source": [
    "valid_data, thr, valid_data.shape[0]"
   ]
  },
  {
   "cell_type": "code",
   "execution_count": 645,
   "metadata": {
    "ExecuteTime": {
     "end_time": "2020-11-09T03:48:44.772384Z",
     "start_time": "2020-11-09T03:48:44.707356Z"
    },
    "scrolled": false
   },
   "outputs": [
    {
     "name": "stdout",
     "output_type": "stream",
     "text": [
      "2469.08934745 468.8239626513659 95.94999983164598 2673.149999736779 544.8985155804419 702 14149\n"
     ]
    }
   ],
   "source": [
    "# Features\n",
    "# Time, Chan, Thr, SampleRate, Samples, TR_mV, Data, TRAI\n",
    "i = result_tra[14148]\n",
    "sig = np.multiply(array.array('h', bytes(i[-2])), i[-3] * 1000)\n",
    "time = np.linspace(i[0], i[0] + pow(i[-5], -1) * (i[-4] - 1), i[-4])\n",
    "\n",
    "thr = i[2]\n",
    "valid_wave_idx = np.where(abs(sig) >= thr)[0]\n",
    "start = time[valid_wave_idx[0]]\n",
    "end = time[valid_wave_idx[-1]]\n",
    "duration = (end - start) * pow(10, 6)\n",
    "max_idx = np.argmax(abs(sig))\n",
    "amplitude = max(abs(sig))\n",
    "rise_time = (time[max_idx] - start) * pow(10, 6)\n",
    "valid_data = sig[valid_wave_idx[0]:(valid_wave_idx[-1] + 1)]\n",
    "energy = np.sum(np.multiply(pow(valid_data, 2), pow(10, 6) / i[3]))\n",
    "RMS = math.sqrt(energy / duration)\n",
    "count, idx = 0, 1\n",
    "N = len(valid_data)\n",
    "for idx in range(1, N):\n",
    "    if valid_data[idx - 1] <= thr < valid_data[idx]:\n",
    "        count += 1\n",
    "# while idx < N:\n",
    "#     if min(valid_data[idx - 1], valid_data[idx]) <= thr < max((valid_data[idx - 1], valid_data[idx])):\n",
    "#         count += 1\n",
    "#         idx += 2\n",
    "#         continue\n",
    "#     idx += 1\n",
    "print(i[0], amplitude, rise_time, duration, energy / pow(10, 4), count, i[-1])"
   ]
  },
  {
   "cell_type": "code",
   "execution_count": 536,
   "metadata": {
    "ExecuteTime": {
     "end_time": "2020-11-09T01:33:09.022226Z",
     "start_time": "2020-11-09T01:33:09.001197Z"
    }
   },
   "outputs": [
    {
     "data": {
      "text/plain": [
       "(479, 677966.1016949152)"
      ]
     },
     "execution_count": 536,
     "metadata": {},
     "output_type": "execute_result"
    }
   ],
   "source": [
    "# Frquency\n",
    "i = result_tra[478]\n",
    "sig = np.multiply(array.array('h', bytes(i[-2])), i[-3] * 1000)\n",
    "thr = i[2]\n",
    "Fs = i[3]\n",
    "Ts = 1 / Fs\n",
    "# if valid__pri[idx][-2] > 1:\n",
    "valid_wave_idx = np.where(abs(sig) >= thr)[0]\n",
    "valid_data = sig[valid_wave_idx[0]:(valid_wave_idx[-1] + 1)]\n",
    "N = valid_data.shape[0]\n",
    "fft_y = fft(valid_data)\n",
    "abs_y = np.abs(fft_y)\n",
    "normalization = abs_y / N\n",
    "normalization_half = normalization[range(int(N / 2))]\n",
    "frq = (np.arange(N) / N) * Fs\n",
    "half_frq = frq[range(int(N / 2))]\n",
    "# freq_max.append(half_frq[np.argmax(normalization_half)])\n",
    "i[-1], half_frq[np.argmax(normalization_half)]"
   ]
  },
  {
   "cell_type": "markdown",
   "metadata": {},
   "source": [
    "## Read"
   ]
  },
  {
   "cell_type": "code",
   "execution_count": 5,
   "metadata": {
    "ExecuteTime": {
     "end_time": "2020-11-07T09:25:12.389497Z",
     "start_time": "2020-11-07T09:25:12.378499Z"
    }
   },
   "outputs": [],
   "source": [
    "def sqlite_read(path):\n",
    "    \"\"\"\n",
    "    python读取sqlite数据库文件\n",
    "    \"\"\"\n",
    "    mydb = sqlite3.connect(path)                # 链接数据库\n",
    "    mydb.text_factory = lambda x: str(x, 'gbk', 'ignore')\n",
    "    cur = mydb.cursor()                         # 创建游标cur来执行SQL语句\n",
    "\n",
    "    # 获取表名\n",
    "    cur.execute(\"SELECT name FROM sqlite_master WHERE type='table'\")\n",
    "    Tables = cur.fetchall()                     # Tables 为元组列表\n",
    "    print(Tables)\n",
    "\n",
    "    i = 0\n",
    "    while True:\n",
    "        try:\n",
    "            tbl_name = Tables[i][0]                     # 获取第一个表名\n",
    "        except:\n",
    "            break\n",
    "        # 获取表的列名\n",
    "        cur.execute(\"SELECT * FROM {}\".format(tbl_name))\n",
    "        col_name_list = [tuple[0] for tuple in cur.description]\n",
    "        pprint.pprint(col_name_list)\n",
    "        i += 1\n",
    "\n",
    "#     # 获取表结构的所有信息\n",
    "#     cur.execute(\"PRAGMA table_info({})\".format(tbl_name))\n",
    "#     pprint.pprint(cur.fetchall())"
   ]
  },
  {
   "cell_type": "code",
   "execution_count": null,
   "metadata": {
    "ExecuteTime": {
     "end_time": "2020-11-07T08:29:21.427515Z",
     "start_time": "2020-11-07T08:29:21.405518Z"
    },
    "scrolled": true
   },
   "outputs": [],
   "source": [
    "sqlite_read(path_tra)"
   ]
  },
  {
   "cell_type": "code",
   "execution_count": null,
   "metadata": {
    "ExecuteTime": {
     "end_time": "2020-11-07T08:49:08.692644Z",
     "start_time": "2020-11-07T08:49:08.670635Z"
    },
    "scrolled": true
   },
   "outputs": [],
   "source": [
    "conn.execute(\"PRAGMA table_info(view_tr_data)\").fetchall()"
   ]
  }
 ],
 "metadata": {
  "kernelspec": {
   "display_name": "Python 3",
   "language": "python",
   "name": "python3"
  },
  "language_info": {
   "codemirror_mode": {
    "name": "ipython",
    "version": 3
   },
   "file_extension": ".py",
   "mimetype": "text/x-python",
   "name": "python",
   "nbconvert_exporter": "python",
   "pygments_lexer": "ipython3",
   "version": "3.8.5"
  },
  "varInspector": {
   "cols": {
    "lenName": 16,
    "lenType": 16,
    "lenVar": 40
   },
   "kernels_config": {
    "python": {
     "delete_cmd_postfix": "",
     "delete_cmd_prefix": "del ",
     "library": "var_list.py",
     "varRefreshCmd": "print(var_dic_list())"
    },
    "r": {
     "delete_cmd_postfix": ") ",
     "delete_cmd_prefix": "rm(",
     "library": "var_list.r",
     "varRefreshCmd": "cat(var_dic_list()) "
    }
   },
   "oldHeight": 122,
   "position": {
    "height": "574px",
    "left": "1152px",
    "right": "20px",
    "top": "128px",
    "width": "661px"
   },
   "types_to_exclude": [
    "module",
    "function",
    "builtin_function_or_method",
    "instance",
    "_Feature"
   ],
   "varInspector_section_display": "block",
   "window_display": false
  }
 },
 "nbformat": 4,
 "nbformat_minor": 4
}
